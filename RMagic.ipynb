{
 "cells": [
  {
   "cell_type": "code",
   "execution_count": null,
   "metadata": {
    "collapsed": false
   },
   "outputs": [],
   "source": [
    "%reload_ext rpy2.ipython\n",
    "%R install.packages(\"tm\",dependencies=TRUE)\n",
    "%R library(shiny)\n",
    "%R runApp(\"shiny\")"
   ]
  },
  {
   "cell_type": "code",
   "execution_count": 2,
   "metadata": {
    "collapsed": false
   },
   "outputs": [
    {
     "name": "stdout",
     "output_type": "stream",
     "text": [
      "Git_commands.txt                       Toggle_Code_Jupyter.ipynb\r\n",
      "Linux_Screen.txt                       Toggle_Code_Jupyter.py\r\n",
      "Logistic_Regression_using_PySpark.txt  Untitled.ipynb\r\n",
      "Pandas.ipynb                           Untitled1.ipynb\r\n",
      "Plot.ipynb                             ViewTime_BrandMatrix_Dev.ipynb\r\n",
      "Python_Code.txt                        ViewTime_BrandMatrix_Dev1-Copy1.ipynb\r\n",
      "Python_Reference.py                    ViewTime_BrandMatrix_Dev1.ipynb\r\n",
      "Python_SQL.ipynb                       ViewTime_ViewableImp_Pro.ipynb\r\n",
      "Python_SQL.py                          pivottablejs.html\r\n",
      "R_Code.txt\r\n"
     ]
    }
   ],
   "source": []
  },
  {
   "cell_type": "code",
   "execution_count": null,
   "metadata": {
    "collapsed": true
   },
   "outputs": [],
   "source": []
  },
  {
   "cell_type": "code",
   "execution_count": null,
   "metadata": {
    "collapsed": true
   },
   "outputs": [],
   "source": []
  }
 ],
 "metadata": {
  "kernelspec": {
   "display_name": "Python 2",
   "language": "python",
   "name": "python2"
  },
  "language_info": {
   "codemirror_mode": {
    "name": "ipython",
    "version": 2
   },
   "file_extension": ".py",
   "mimetype": "text/x-python",
   "name": "python",
   "nbconvert_exporter": "python",
   "pygments_lexer": "ipython2",
   "version": "2.7.11"
  }
 },
 "nbformat": 4,
 "nbformat_minor": 0
}
