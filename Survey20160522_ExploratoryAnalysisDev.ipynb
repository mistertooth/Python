{
 "cells": [
  {
   "cell_type": "code",
   "execution_count": 2,
   "metadata": {
    "collapsed": false
   },
   "outputs": [
    {
     "data": {
      "text/html": [
       "<script>\n",
       "code_show=true;\n",
       "function code_toggle() {\n",
       " if (code_show){\n",
       " $('div.input').hide();\n",
       " } else {\n",
       " $('div.input').show();\n",
       " }\n",
       " code_show = !code_show\n",
       "}\n",
       "$( document ).ready(code_toggle);\n",
       "</script>\n",
       "<form action=\"javascript:code_toggle()\"><input type=\"submit\" \n",
       "value=\"Click here to toggle on/off the code.\"></form>"
      ],
      "text/plain": [
       "<IPython.core.display.HTML object>"
      ]
     },
     "execution_count": 2,
     "metadata": {},
     "output_type": "execute_result"
    }
   ],
   "source": [
    "from IPython.display import HTML\n",
    "\n",
    "HTML('''<script>\n",
    "code_show=true;\n",
    "function code_toggle() {\n",
    " if (code_show){\n",
    " $('div.input').hide();\n",
    " } else {\n",
    " $('div.input').show();\n",
    " }\n",
    " code_show = !code_show\n",
    "}\n",
    "$( document ).ready(code_toggle);\n",
    "</script>\n",
    "<form action=\"javascript:code_toggle()\"><input type=\"submit\" \n",
    "value=\"Click here to toggle on/off the code.\"></form>''')"
   ]
  },
  {
   "cell_type": "markdown",
   "metadata": {},
   "source": [
    "# Exploratory Analysis on Brand Impact Survey"
   ]
  },
  {
   "cell_type": "code",
   "execution_count": 3,
   "metadata": {
    "collapsed": true
   },
   "outputs": [],
   "source": [
    "import pandas as pd\n",
    "import numpy as np\n",
    "import matplotlib.pyplot as plt\n",
    "import seaborn as sns\n",
    "# this allows plots to appear directly in the notebook\n",
    "%matplotlib inline\n",
    "plt.rcParams['figure.figsize'] = (8, 6)\n",
    "plt.rcParams['font.size'] = 14\n",
    "# pip install patsy\n",
    "# pip install statsmodels\n",
    "import statsmodels.formula.api as smf\n",
    "# Set ipython's max row display\n",
    "pd.set_option('display.max_row', 1000)\n",
    "\n",
    "# Set iPython's max column width to 50\n",
    "pd.set_option('display.max_columns', 50)\n",
    "\n",
    "from IPython.core.display import display, HTML"
   ]
  },
  {
   "cell_type": "markdown",
   "metadata": {},
   "source": [
    "## - Transaction Data \n",
    "### How data looks like"
   ]
  },
  {
   "cell_type": "code",
   "execution_count": 4,
   "metadata": {
    "collapsed": false
   },
   "outputs": [
    {
     "data": {
      "text/html": [
       "<div>\n",
       "<table border=\"1\" class=\"dataframe\">\n",
       "  <thead>\n",
       "    <tr style=\"text-align: right;\">\n",
       "      <th></th>\n",
       "      <th>surveyid</th>\n",
       "      <th>answersetid</th>\n",
       "      <th>uid</th>\n",
       "      <th>deliveryid</th>\n",
       "      <th>adspaceid</th>\n",
       "      <th>apptype</th>\n",
       "      <th>apptypegroupid</th>\n",
       "      <th>iab_adspace_category</th>\n",
       "      <th>originaladid</th>\n",
       "      <th>iab_ad_category</th>\n",
       "      <th>adname</th>\n",
       "      <th>templatetype</th>\n",
       "      <th>size</th>\n",
       "      <th>video</th>\n",
       "      <th>streamview</th>\n",
       "      <th>storelocator</th>\n",
       "      <th>swipe</th>\n",
       "      <th>iosversion</th>\n",
       "      <th>androidversion</th>\n",
       "      <th>platform</th>\n",
       "      <th>modelid</th>\n",
       "      <th>screensize</th>\n",
       "      <th>screenwidth</th>\n",
       "      <th>browserid</th>\n",
       "      <th>browser</th>\n",
       "      <th>sdkclientid</th>\n",
       "      <th>sdkclientname</th>\n",
       "      <th>ipcity</th>\n",
       "      <th>contype</th>\n",
       "      <th>con</th>\n",
       "      <th>rss</th>\n",
       "      <th>click</th>\n",
       "      <th>firstinteraction</th>\n",
       "      <th>close</th>\n",
       "      <th>click_adjusted</th>\n",
       "      <th>close_adjusted</th>\n",
       "      <th>vtabove0pct</th>\n",
       "      <th>vtabove10pct</th>\n",
       "      <th>vtabove20pct</th>\n",
       "      <th>vtabove30pct</th>\n",
       "      <th>vtabove40pct</th>\n",
       "      <th>vtabove50pct</th>\n",
       "      <th>vtabove60pct</th>\n",
       "      <th>vtabove70pct</th>\n",
       "      <th>vtabove80pct</th>\n",
       "      <th>vtabove90pct</th>\n",
       "      <th>vtabove100pct</th>\n",
       "    </tr>\n",
       "  </thead>\n",
       "  <tbody>\n",
       "    <tr>\n",
       "      <th>38126</th>\n",
       "      <td>447</td>\n",
       "      <td>347127</td>\n",
       "      <td>2372328936987073210</td>\n",
       "      <td>93907940568</td>\n",
       "      <td>3631</td>\n",
       "      <td>IPHONE_APP</td>\n",
       "      <td>MOBILE_APP</td>\n",
       "      <td>Arts &amp; Entertainment</td>\n",
       "      <td>38658</td>\n",
       "      <td>Gambling/Casino</td>\n",
       "      <td>OSE002897 Casumo Januari Adsync Takeover - AdS...</td>\n",
       "      <td>swipe</td>\n",
       "      <td>takeover</td>\n",
       "      <td>0</td>\n",
       "      <td>0</td>\n",
       "      <td>0</td>\n",
       "      <td>1</td>\n",
       "      <td>19000</td>\n",
       "      <td>(null)</td>\n",
       "      <td>ios</td>\n",
       "      <td>104772</td>\n",
       "      <td>4.7</td>\n",
       "      <td>750</td>\n",
       "      <td>7</td>\n",
       "      <td>Mobile Safari</td>\n",
       "      <td>1</td>\n",
       "      <td>iossdk</td>\n",
       "      <td>(null)</td>\n",
       "      <td>lte</td>\n",
       "      <td>3</td>\n",
       "      <td>(null)</td>\n",
       "      <td>0</td>\n",
       "      <td>0</td>\n",
       "      <td>1</td>\n",
       "      <td>0</td>\n",
       "      <td>1</td>\n",
       "      <td>1798</td>\n",
       "      <td>1798</td>\n",
       "      <td>1798</td>\n",
       "      <td>1798</td>\n",
       "      <td>1798</td>\n",
       "      <td>1798</td>\n",
       "      <td>1798</td>\n",
       "      <td>1798</td>\n",
       "      <td>1798</td>\n",
       "      <td>1798</td>\n",
       "      <td>1798</td>\n",
       "    </tr>\n",
       "    <tr>\n",
       "      <th>8060</th>\n",
       "      <td>498</td>\n",
       "      <td>394389</td>\n",
       "      <td>413866027122445885</td>\n",
       "      <td>97261102528</td>\n",
       "      <td>7526</td>\n",
       "      <td>MOBILE_WEB</td>\n",
       "      <td>MOBILE_WEB</td>\n",
       "      <td>Style &amp; Fashion</td>\n",
       "      <td>39435</td>\n",
       "      <td>Food &amp; Drink</td>\n",
       "      <td>OFI001807 Bunge Finland Oy Bunge, Älva Ruotsi ...</td>\n",
       "      <td>takeover</td>\n",
       "      <td>takeover</td>\n",
       "      <td>0</td>\n",
       "      <td>0</td>\n",
       "      <td>0</td>\n",
       "      <td>0</td>\n",
       "      <td>19100</td>\n",
       "      <td>(null)</td>\n",
       "      <td>ios</td>\n",
       "      <td>110834</td>\n",
       "      <td>4.7</td>\n",
       "      <td>750</td>\n",
       "      <td>7</td>\n",
       "      <td>Mobile Safari</td>\n",
       "      <td>5</td>\n",
       "      <td>dynamic</td>\n",
       "      <td>Eslöv</td>\n",
       "      <td>(null)</td>\n",
       "      <td>3</td>\n",
       "      <td>(null)</td>\n",
       "      <td>0</td>\n",
       "      <td>0</td>\n",
       "      <td>0</td>\n",
       "      <td>0</td>\n",
       "      <td>0</td>\n",
       "      <td>63</td>\n",
       "      <td>63</td>\n",
       "      <td>63</td>\n",
       "      <td>63</td>\n",
       "      <td>63</td>\n",
       "      <td>63</td>\n",
       "      <td>63</td>\n",
       "      <td>63</td>\n",
       "      <td>63</td>\n",
       "      <td>63</td>\n",
       "      <td>63</td>\n",
       "    </tr>\n",
       "    <tr>\n",
       "      <th>79930</th>\n",
       "      <td>316</td>\n",
       "      <td>235532</td>\n",
       "      <td>6834545996892502619</td>\n",
       "      <td>87254645084</td>\n",
       "      <td>1947</td>\n",
       "      <td>MOBILE_WEB</td>\n",
       "      <td>MOBILE_WEB</td>\n",
       "      <td>Sports</td>\n",
       "      <td>35772</td>\n",
       "      <td>U.S. Government Resources</td>\n",
       "      <td>OSE002723 Försvarsmakten Officer Takeover -Sta...</td>\n",
       "      <td>takeover</td>\n",
       "      <td>takeover</td>\n",
       "      <td>0</td>\n",
       "      <td>0</td>\n",
       "      <td>0</td>\n",
       "      <td>0</td>\n",
       "      <td>(null)</td>\n",
       "      <td>25100</td>\n",
       "      <td>android</td>\n",
       "      <td>106563</td>\n",
       "      <td>5.0</td>\n",
       "      <td>1080</td>\n",
       "      <td>2</td>\n",
       "      <td>Chrome Mobile</td>\n",
       "      <td>5</td>\n",
       "      <td>dynamic</td>\n",
       "      <td>Stockholm</td>\n",
       "      <td>(null)</td>\n",
       "      <td>0</td>\n",
       "      <td>(null)</td>\n",
       "      <td>0</td>\n",
       "      <td>0</td>\n",
       "      <td>0</td>\n",
       "      <td>0</td>\n",
       "      <td>0</td>\n",
       "      <td>23571</td>\n",
       "      <td>23571</td>\n",
       "      <td>23571</td>\n",
       "      <td>23571</td>\n",
       "      <td>23571</td>\n",
       "      <td>23571</td>\n",
       "      <td>23571</td>\n",
       "      <td>23571</td>\n",
       "      <td>23571</td>\n",
       "      <td>23571</td>\n",
       "      <td>0</td>\n",
       "    </tr>\n",
       "  </tbody>\n",
       "</table>\n",
       "</div>"
      ],
      "text/plain": [
       "       surveyid  answersetid                  uid   deliveryid  adspaceid  \\\n",
       "38126       447       347127  2372328936987073210  93907940568       3631   \n",
       "8060        498       394389   413866027122445885  97261102528       7526   \n",
       "79930       316       235532  6834545996892502619  87254645084       1947   \n",
       "\n",
       "          apptype apptypegroupid  iab_adspace_category  originaladid  \\\n",
       "38126  IPHONE_APP     MOBILE_APP  Arts & Entertainment         38658   \n",
       "8060   MOBILE_WEB     MOBILE_WEB       Style & Fashion         39435   \n",
       "79930  MOBILE_WEB     MOBILE_WEB                Sports         35772   \n",
       "\n",
       "                 iab_ad_category  \\\n",
       "38126            Gambling/Casino   \n",
       "8060                Food & Drink   \n",
       "79930  U.S. Government Resources   \n",
       "\n",
       "                                                  adname templatetype  \\\n",
       "38126  OSE002897 Casumo Januari Adsync Takeover - AdS...        swipe   \n",
       "8060   OFI001807 Bunge Finland Oy Bunge, Älva Ruotsi ...     takeover   \n",
       "79930  OSE002723 Försvarsmakten Officer Takeover -Sta...     takeover   \n",
       "\n",
       "           size  video  streamview  storelocator  swipe iosversion  \\\n",
       "38126  takeover      0           0             0      1      19000   \n",
       "8060   takeover      0           0             0      0      19100   \n",
       "79930  takeover      0           0             0      0     (null)   \n",
       "\n",
       "      androidversion platform modelid screensize screenwidth  browserid  \\\n",
       "38126         (null)      ios  104772        4.7         750          7   \n",
       "8060          (null)      ios  110834        4.7         750          7   \n",
       "79930          25100  android  106563        5.0        1080          2   \n",
       "\n",
       "             browser  sdkclientid sdkclientname     ipcity contype  con  \\\n",
       "38126  Mobile Safari            1        iossdk     (null)     lte    3   \n",
       "8060   Mobile Safari            5       dynamic      Eslöv  (null)    3   \n",
       "79930  Chrome Mobile            5       dynamic  Stockholm  (null)    0   \n",
       "\n",
       "          rss  click  firstinteraction  close  click_adjusted  close_adjusted  \\\n",
       "38126  (null)      0                 0      1               0               1   \n",
       "8060   (null)      0                 0      0               0               0   \n",
       "79930  (null)      0                 0      0               0               0   \n",
       "\n",
       "       vtabove0pct  vtabove10pct  vtabove20pct  vtabove30pct  vtabove40pct  \\\n",
       "38126         1798          1798          1798          1798          1798   \n",
       "8060            63            63            63            63            63   \n",
       "79930        23571         23571         23571         23571         23571   \n",
       "\n",
       "       vtabove50pct  vtabove60pct  vtabove70pct  vtabove80pct  vtabove90pct  \\\n",
       "38126          1798          1798          1798          1798          1798   \n",
       "8060             63            63            63            63            63   \n",
       "79930         23571         23571         23571         23571         23571   \n",
       "\n",
       "       vtabove100pct  \n",
       "38126           1798  \n",
       "8060              63  \n",
       "79930              0  "
      ]
     },
     "execution_count": 4,
     "metadata": {},
     "output_type": "execute_result"
    }
   ],
   "source": [
    "# read data file\n",
    "url_transaction = '/Users/shaokuixing/Desktop/whatever/survey_delivery_event_inscreen20160522.csv'\n",
    "trans = pd.read_csv(url_transaction, sep='\\t', thousands = '.', decimal =',')\n",
    "trans.sample(n=3,random_state=23)"
   ]
  },
  {
   "cell_type": "markdown",
   "metadata": {},
   "source": [
    "### Scope "
   ]
  },
  {
   "cell_type": "code",
   "execution_count": 5,
   "metadata": {
    "collapsed": false
   },
   "outputs": [
    {
     "name": "stdout",
     "output_type": "stream",
     "text": [
      "number of surveys: 195\n",
      "number of interviews: 23269\n",
      "number of unique interviewees: 21259\n",
      "number of unique impressions: 115916\n",
      "number of unique publisher ad spaces: 1240\n",
      "unique ad template: ['swipe' 'takeover' 'split_video_ad' 'adbuilder' 'interstitial']\n"
     ]
    }
   ],
   "source": [
    "# unique values\n",
    "print 'number of surveys:', trans.surveyid.nunique()\n",
    "print 'number of interviews:', trans.answersetid.nunique()\n",
    "print 'number of unique interviewees:', trans.uid.nunique()\n",
    "print 'number of unique impressions:', trans.deliveryid.nunique()\n",
    "print 'number of unique publisher ad spaces:', trans.adspaceid.nunique()\n",
    "#print 'number of unique publisher category by IAB Def:', trans.iab_adspace_category.nunique()\n",
    "#print 'number of unique advertiser category by IAB Def:', trans.iab_ad_category.nunique()\n",
    "print 'unique ad template:', trans.templatetype.unique()\n",
    "#print 'unique ad size:', trans['size'].unique()"
   ]
  },
  {
   "cell_type": "code",
   "execution_count": 6,
   "metadata": {
    "collapsed": false
   },
   "outputs": [],
   "source": [
    "#trans.dtypes\n",
    "trans1=trans.copy()\n",
    "#replace (null) to NAN\n",
    "trans1 = trans1.replace('(null)', np.nan)\n",
    "#convert categorical variables\n",
    "trans1['apptype']=trans1['apptype'].astype('category', ordered=False)\n",
    "trans1['apptypegroupid']=trans1['apptypegroupid'].astype('category', ordered=False)\n",
    "trans1['iab_adspace_category']=trans1['iab_adspace_category'].astype('category', ordered=False)\n",
    "trans1['iab_ad_category']=trans1['iab_ad_category'].astype('category', ordered=False)\n",
    "trans1['templatetype']=trans1['templatetype'].astype('category', ordered=False)\n",
    "trans1['size']=trans1['size'].astype('category', ordered=False)\n",
    "trans1['iosversion']=trans1['iosversion'].astype('float')\n",
    "trans1['androidversion']=trans1['androidversion'].astype('float')\n",
    "trans1['platform']=trans1['platform'].astype('category',ordered=False)\n",
    "trans1['modelid']=trans1['modelid'].astype('float')\n",
    "trans1['screensize']=trans1['screensize'].astype('float')\n",
    "trans1['screenwidth']=trans1['screenwidth'].astype('float')\n",
    "trans1['browser']=trans1['browser'].astype('category',ordered=False)\n",
    "trans1['sdkclientname']=trans1['sdkclientname'].astype('category',ordered=False)\n",
    "trans1['contype']=trans1['contype'].astype('category',ordered=False)\n",
    "trans1['con']=trans1['con'].astype('int')\n",
    "trans1['rss']=trans1['rss'].astype('float')"
   ]
  },
  {
   "cell_type": "markdown",
   "metadata": {},
   "source": [
    "### Description of Metrics / Continous Variables\n"
   ]
  },
  {
   "cell_type": "code",
   "execution_count": 7,
   "metadata": {
    "collapsed": false
   },
   "outputs": [
    {
     "data": {
      "text/html": [
       "<div>\n",
       "<table border=\"1\" class=\"dataframe\">\n",
       "  <thead>\n",
       "    <tr style=\"text-align: right;\">\n",
       "      <th></th>\n",
       "      <th>con</th>\n",
       "      <th>rss</th>\n",
       "      <th>click</th>\n",
       "      <th>firstinteraction</th>\n",
       "      <th>close</th>\n",
       "      <th>click_adjusted</th>\n",
       "      <th>close_adjusted</th>\n",
       "      <th>vtabove0pct</th>\n",
       "      <th>vtabove10pct</th>\n",
       "      <th>vtabove20pct</th>\n",
       "      <th>vtabove30pct</th>\n",
       "      <th>vtabove40pct</th>\n",
       "      <th>vtabove50pct</th>\n",
       "      <th>vtabove60pct</th>\n",
       "      <th>vtabove70pct</th>\n",
       "      <th>vtabove80pct</th>\n",
       "      <th>vtabove90pct</th>\n",
       "      <th>vtabove100pct</th>\n",
       "    </tr>\n",
       "  </thead>\n",
       "  <tbody>\n",
       "    <tr>\n",
       "      <th>count</th>\n",
       "      <td>116718.000000</td>\n",
       "      <td>28236.000000</td>\n",
       "      <td>116718.000000</td>\n",
       "      <td>116718.000000</td>\n",
       "      <td>116718.000000</td>\n",
       "      <td>116718.000000</td>\n",
       "      <td>116718.000000</td>\n",
       "      <td>116718.000000</td>\n",
       "      <td>116718.000000</td>\n",
       "      <td>116718.000000</td>\n",
       "      <td>116718.000000</td>\n",
       "      <td>116718.000000</td>\n",
       "      <td>116718.000000</td>\n",
       "      <td>116718.000000</td>\n",
       "      <td>116718.000000</td>\n",
       "      <td>116718.000000</td>\n",
       "      <td>116718.000000</td>\n",
       "      <td>116718.000000</td>\n",
       "    </tr>\n",
       "    <tr>\n",
       "      <th>mean</th>\n",
       "      <td>2.007814</td>\n",
       "      <td>2.321316</td>\n",
       "      <td>0.013100</td>\n",
       "      <td>0.041305</td>\n",
       "      <td>0.260457</td>\n",
       "      <td>0.012012</td>\n",
       "      <td>0.254699</td>\n",
       "      <td>5570.779383</td>\n",
       "      <td>5570.779383</td>\n",
       "      <td>5063.135078</td>\n",
       "      <td>4745.624994</td>\n",
       "      <td>4472.007934</td>\n",
       "      <td>4233.969868</td>\n",
       "      <td>3982.898645</td>\n",
       "      <td>3779.025095</td>\n",
       "      <td>3572.781268</td>\n",
       "      <td>3399.746346</td>\n",
       "      <td>3239.672767</td>\n",
       "    </tr>\n",
       "    <tr>\n",
       "      <th>std</th>\n",
       "      <td>1.397450</td>\n",
       "      <td>1.557246</td>\n",
       "      <td>0.126812</td>\n",
       "      <td>0.201008</td>\n",
       "      <td>0.475107</td>\n",
       "      <td>0.108939</td>\n",
       "      <td>0.435694</td>\n",
       "      <td>19117.096633</td>\n",
       "      <td>19117.096633</td>\n",
       "      <td>18486.344103</td>\n",
       "      <td>17995.250163</td>\n",
       "      <td>17620.456896</td>\n",
       "      <td>17363.913182</td>\n",
       "      <td>17062.116840</td>\n",
       "      <td>16753.922301</td>\n",
       "      <td>16283.968553</td>\n",
       "      <td>16014.565639</td>\n",
       "      <td>15790.518169</td>\n",
       "    </tr>\n",
       "    <tr>\n",
       "      <th>min</th>\n",
       "      <td>0.000000</td>\n",
       "      <td>0.190340</td>\n",
       "      <td>0.000000</td>\n",
       "      <td>0.000000</td>\n",
       "      <td>0.000000</td>\n",
       "      <td>0.000000</td>\n",
       "      <td>0.000000</td>\n",
       "      <td>0.000000</td>\n",
       "      <td>0.000000</td>\n",
       "      <td>0.000000</td>\n",
       "      <td>0.000000</td>\n",
       "      <td>0.000000</td>\n",
       "      <td>0.000000</td>\n",
       "      <td>0.000000</td>\n",
       "      <td>0.000000</td>\n",
       "      <td>0.000000</td>\n",
       "      <td>0.000000</td>\n",
       "      <td>0.000000</td>\n",
       "    </tr>\n",
       "    <tr>\n",
       "      <th>25%</th>\n",
       "      <td>0.000000</td>\n",
       "      <td>0.981636</td>\n",
       "      <td>0.000000</td>\n",
       "      <td>0.000000</td>\n",
       "      <td>0.000000</td>\n",
       "      <td>0.000000</td>\n",
       "      <td>0.000000</td>\n",
       "      <td>0.000000</td>\n",
       "      <td>0.000000</td>\n",
       "      <td>0.000000</td>\n",
       "      <td>0.000000</td>\n",
       "      <td>0.000000</td>\n",
       "      <td>0.000000</td>\n",
       "      <td>0.000000</td>\n",
       "      <td>0.000000</td>\n",
       "      <td>0.000000</td>\n",
       "      <td>0.000000</td>\n",
       "      <td>0.000000</td>\n",
       "    </tr>\n",
       "    <tr>\n",
       "      <th>50%</th>\n",
       "      <td>3.000000</td>\n",
       "      <td>1.928929</td>\n",
       "      <td>0.000000</td>\n",
       "      <td>0.000000</td>\n",
       "      <td>0.000000</td>\n",
       "      <td>0.000000</td>\n",
       "      <td>0.000000</td>\n",
       "      <td>949.000000</td>\n",
       "      <td>949.000000</td>\n",
       "      <td>755.000000</td>\n",
       "      <td>583.000000</td>\n",
       "      <td>436.000000</td>\n",
       "      <td>313.500000</td>\n",
       "      <td>221.000000</td>\n",
       "      <td>167.000000</td>\n",
       "      <td>133.000000</td>\n",
       "      <td>113.000000</td>\n",
       "      <td>72.000000</td>\n",
       "    </tr>\n",
       "    <tr>\n",
       "      <th>75%</th>\n",
       "      <td>3.000000</td>\n",
       "      <td>3.521813</td>\n",
       "      <td>0.000000</td>\n",
       "      <td>0.000000</td>\n",
       "      <td>1.000000</td>\n",
       "      <td>0.000000</td>\n",
       "      <td>1.000000</td>\n",
       "      <td>4302.750000</td>\n",
       "      <td>4302.750000</td>\n",
       "      <td>3539.000000</td>\n",
       "      <td>3139.000000</td>\n",
       "      <td>2803.750000</td>\n",
       "      <td>2528.000000</td>\n",
       "      <td>2266.000000</td>\n",
       "      <td>2061.750000</td>\n",
       "      <td>1901.000000</td>\n",
       "      <td>1763.000000</td>\n",
       "      <td>1637.000000</td>\n",
       "    </tr>\n",
       "    <tr>\n",
       "      <th>max</th>\n",
       "      <td>3.000000</td>\n",
       "      <td>5.000000</td>\n",
       "      <td>8.000000</td>\n",
       "      <td>5.000000</td>\n",
       "      <td>32.000000</td>\n",
       "      <td>1.000000</td>\n",
       "      <td>1.000000</td>\n",
       "      <td>527479.000000</td>\n",
       "      <td>527479.000000</td>\n",
       "      <td>527479.000000</td>\n",
       "      <td>398852.000000</td>\n",
       "      <td>321423.000000</td>\n",
       "      <td>321270.000000</td>\n",
       "      <td>321244.000000</td>\n",
       "      <td>310958.000000</td>\n",
       "      <td>310722.000000</td>\n",
       "      <td>310635.000000</td>\n",
       "      <td>310593.000000</td>\n",
       "    </tr>\n",
       "  </tbody>\n",
       "</table>\n",
       "</div>"
      ],
      "text/plain": [
       "                 con           rss          click  firstinteraction  \\\n",
       "count  116718.000000  28236.000000  116718.000000     116718.000000   \n",
       "mean        2.007814      2.321316       0.013100          0.041305   \n",
       "std         1.397450      1.557246       0.126812          0.201008   \n",
       "min         0.000000      0.190340       0.000000          0.000000   \n",
       "25%         0.000000      0.981636       0.000000          0.000000   \n",
       "50%         3.000000      1.928929       0.000000          0.000000   \n",
       "75%         3.000000      3.521813       0.000000          0.000000   \n",
       "max         3.000000      5.000000       8.000000          5.000000   \n",
       "\n",
       "               close  click_adjusted  close_adjusted    vtabove0pct  \\\n",
       "count  116718.000000   116718.000000   116718.000000  116718.000000   \n",
       "mean        0.260457        0.012012        0.254699    5570.779383   \n",
       "std         0.475107        0.108939        0.435694   19117.096633   \n",
       "min         0.000000        0.000000        0.000000       0.000000   \n",
       "25%         0.000000        0.000000        0.000000       0.000000   \n",
       "50%         0.000000        0.000000        0.000000     949.000000   \n",
       "75%         1.000000        0.000000        1.000000    4302.750000   \n",
       "max        32.000000        1.000000        1.000000  527479.000000   \n",
       "\n",
       "        vtabove10pct   vtabove20pct   vtabove30pct   vtabove40pct  \\\n",
       "count  116718.000000  116718.000000  116718.000000  116718.000000   \n",
       "mean     5570.779383    5063.135078    4745.624994    4472.007934   \n",
       "std     19117.096633   18486.344103   17995.250163   17620.456896   \n",
       "min         0.000000       0.000000       0.000000       0.000000   \n",
       "25%         0.000000       0.000000       0.000000       0.000000   \n",
       "50%       949.000000     755.000000     583.000000     436.000000   \n",
       "75%      4302.750000    3539.000000    3139.000000    2803.750000   \n",
       "max    527479.000000  527479.000000  398852.000000  321423.000000   \n",
       "\n",
       "        vtabove50pct   vtabove60pct   vtabove70pct   vtabove80pct  \\\n",
       "count  116718.000000  116718.000000  116718.000000  116718.000000   \n",
       "mean     4233.969868    3982.898645    3779.025095    3572.781268   \n",
       "std     17363.913182   17062.116840   16753.922301   16283.968553   \n",
       "min         0.000000       0.000000       0.000000       0.000000   \n",
       "25%         0.000000       0.000000       0.000000       0.000000   \n",
       "50%       313.500000     221.000000     167.000000     133.000000   \n",
       "75%      2528.000000    2266.000000    2061.750000    1901.000000   \n",
       "max    321270.000000  321244.000000  310958.000000  310722.000000   \n",
       "\n",
       "        vtabove90pct  vtabove100pct  \n",
       "count  116718.000000  116718.000000  \n",
       "mean     3399.746346    3239.672767  \n",
       "std     16014.565639   15790.518169  \n",
       "min         0.000000       0.000000  \n",
       "25%         0.000000       0.000000  \n",
       "50%       113.000000      72.000000  \n",
       "75%      1763.000000    1637.000000  \n",
       "max    310635.000000  310593.000000  "
      ]
     },
     "execution_count": 7,
     "metadata": {},
     "output_type": "execute_result"
    }
   ],
   "source": [
    "#trans1[['con','rss','click','firstinteraction','close','click_adjusted]].describe()\n",
    "trans1.ix[:,26:].describe()"
   ]
  },
  {
   "cell_type": "raw",
   "metadata": {},
   "source": [
    "- 'con' means Connection Speed, over 50% is at high speed aka wifi, 4g and 3g etc. when ads were delivered, significant amount of null values might be present, will evaluate later\n",
    "- 'rss' means Recommender Strength Score, among available data (ballpark below 30%), median score 1.93, mean 2.32, significant amount of null values might be present, will evaluate later\n",
    "- click and close data has data quality issues, same delivery send multiple call-back events sometimes, this issue is taken care of in new feature, 'click_adjusted' and 'close_adjusted' that only allow 1 delivery to have max 1 event\n",
    "- 'vtaboveXXX' means Time Inscreen when above x percentage of ad pixel by milisecond"
   ]
  },
  {
   "cell_type": "markdown",
   "metadata": {},
   "source": [
    "## Explore by specific variable"
   ]
  },
  {
   "cell_type": "code",
   "execution_count": 8,
   "metadata": {
    "collapsed": false
   },
   "outputs": [],
   "source": [
    "apptype_del=pd.DataFrame(trans1.groupby('apptype').deliveryid.nunique()).reset_index()\n",
    "\n"
   ]
  },
  {
   "cell_type": "code",
   "execution_count": 164,
   "metadata": {
    "collapsed": true
   },
   "outputs": [],
   "source": [
    "import plotly.plotly as py\n",
    "import plotly.graph_objs as go\n",
    "# from plotly import __version__\n",
    "# from plotly.offline import download_plotlyjs, init_notebook_mode, iplot\n",
    "# init_notebook_mode() \n",
    "py.sign_in('mistertooth', '38103td8wi')\n",
    "\n",
    "#help(trans1.iplot)\n",
    "#https://github.com/santosjorge/cufflinks\n",
    "# https://plot.ly/pandas/pie-charts/\n",
    "# https://plot.ly/ipython-notebooks/cufflinks/"
   ]
  },
  {
   "cell_type": "markdown",
   "metadata": {},
   "source": [
    "### Apptype"
   ]
  },
  {
   "cell_type": "code",
   "execution_count": 93,
   "metadata": {
    "collapsed": false
   },
   "outputs": [
    {
     "data": {
      "text/html": [
       "<div id=\"b8c117d7-5a52-46e6-b049-4a46f4583fb4\" style=\"height: 500; width: 900px;\" class=\"plotly-graph-div\"></div><script type=\"text/javascript\">window.PLOTLYENV=window.PLOTLYENV || {};window.PLOTLYENV.BASE_URL=\"https://plot.ly\";Plotly.newPlot(\"b8c117d7-5a52-46e6-b049-4a46f4583fb4\", [{\"marker\": {\"colors\": [\"rgba(255, 153, 51, 1.0)\", \"rgba(55, 128, 191, 1.0)\", \"rgba(50, 171, 96, 1.0)\", \"rgba(128, 0, 128, 1.0)\"]}, \"type\": \"pie\", \"labels\": [\"ANDROID_APP\", \"IPAD_WEB\", \"IPHONE_APP\", \"MOBILE_WEB\"], \"values\": [8052, 1, 40841, 67022], \"name\": \"\"}], {\"title\": \"Impression Distribution by AppType\", \"paper_bgcolor\": \"#F5F6F9\", \"plot_bgcolor\": \"#F5F6F9\", \"height\": 500, \"width\": 900, \"titlefont\": {\"color\": \"#4D5663\"}, \"legend\": {\"bgcolor\": \"#F5F6F9\", \"font\": {\"color\": \"#4D5663\"}}}, {\"linkText\": \"Export to plot.ly\", \"showLink\": true})</script>"
      ],
      "text/plain": [
       "<IPython.core.display.HTML object>"
      ]
     },
     "metadata": {},
     "output_type": "display_data"
    }
   ],
   "source": [
    "import cufflinks as cf\n",
    "apptype_del.apptype=apptype_del.apptype.astype('object')\n",
    "cf.set_config_file(world_readable=True,offline=True)\n",
    "apptype_del.iplot(kind='pie',labels='apptype',values='deliveryid', dimensions=(900, 500),\n",
    "                  title='Impression Distribution by AppType')"
   ]
  },
  {
   "cell_type": "markdown",
   "metadata": {},
   "source": [
    "### Connection Speed"
   ]
  },
  {
   "cell_type": "code",
   "execution_count": 92,
   "metadata": {
    "collapsed": false
   },
   "outputs": [
    {
     "data": {
      "text/html": [
       "<div id=\"46b2427b-748f-49e2-96c2-92ff62060987\" style=\"height: 500; width: 900px;\" class=\"plotly-graph-div\"></div><script type=\"text/javascript\">window.PLOTLYENV=window.PLOTLYENV || {};window.PLOTLYENV.BASE_URL=\"https://plot.ly\";Plotly.newPlot(\"46b2427b-748f-49e2-96c2-92ff62060987\", [{\"marker\": {\"colors\": [\"rgba(255, 153, 51, 1.0)\", \"rgba(55, 128, 191, 1.0)\", \"rgba(50, 171, 96, 1.0)\", \"rgba(128, 0, 128, 1.0)\"]}, \"type\": \"pie\", \"labels\": [0, 1, 2, 3], \"values\": [37648, 12, 2278, 75978], \"name\": \"\"}], {\"title\": \"Impression Distribution by Connection Speed\", \"paper_bgcolor\": \"#F5F6F9\", \"plot_bgcolor\": \"#F5F6F9\", \"height\": 500, \"width\": 900, \"titlefont\": {\"color\": \"#4D5663\"}, \"legend\": {\"bgcolor\": \"#F5F6F9\", \"font\": {\"color\": \"#4D5663\"}}}, {\"linkText\": \"Export to plot.ly\", \"showLink\": true})</script>"
      ],
      "text/plain": [
       "<IPython.core.display.HTML object>"
      ]
     },
     "metadata": {},
     "output_type": "display_data"
    }
   ],
   "source": [
    "con_del=pd.DataFrame(trans1.groupby('con').deliveryid.nunique()).reset_index()\n",
    "cf.set_config_file(world_readable=True,offline=True)\n",
    "con_del.iplot(kind='pie',labels='con',values='deliveryid', dimensions=(900, 500),\n",
    "                  title='Impression Distribution by Connection Speed')"
   ]
  },
  {
   "cell_type": "markdown",
   "metadata": {},
   "source": [
    "### Recommender Strenghth Score"
   ]
  },
  {
   "cell_type": "code",
   "execution_count": 38,
   "metadata": {
    "collapsed": false
   },
   "outputs": [
    {
     "name": "stdout",
     "output_type": "stream",
     "text": [
      "number of deliveries with null RSS 87897\n",
      "number of deliveries with RSS 28019\n"
     ]
    }
   ],
   "source": [
    "#pd.DataFrame(trans1.groupby('rss').deliveryid.nunique()).reset_index()\n",
    "#print trans1.rss.isnull().values.sum()\n",
    "#print trans1.rss.notnull().values.sum()\n",
    "# trans1[pd.isnull(trans1).any(axis=1)].deliveryid.nunique()\n",
    "print 'number of deliveries with null RSS', trans1[trans1['rss'].isnull()].deliveryid.nunique()\n",
    "print 'number of deliveries with RSS', trans1[trans1['rss'].notnull()].deliveryid.nunique()"
   ]
  },
  {
   "cell_type": "code",
   "execution_count": 45,
   "metadata": {
    "collapsed": false
   },
   "outputs": [
    {
     "name": "stdout",
     "output_type": "stream",
     "text": [
      "% RSS among deliveries 24.17\n"
     ]
    }
   ],
   "source": [
    "from __future__ import division\n",
    "print '% RSS among deliveries', round(28019/(28019+87897)*100,2)"
   ]
  },
  {
   "cell_type": "markdown",
   "metadata": {},
   "source": [
    "### IAB Category"
   ]
  },
  {
   "cell_type": "code",
   "execution_count": 217,
   "metadata": {
    "collapsed": false,
    "scrolled": false
   },
   "outputs": [
    {
     "data": {
      "text/html": [
       "<div id=\"f528ded8-7e7b-4847-b733-78b917ab3967\" style=\"height: 450; width: 900px;\" class=\"plotly-graph-div\"></div><script type=\"text/javascript\">window.PLOTLYENV=window.PLOTLYENV || {};window.PLOTLYENV.BASE_URL=\"https://plot.ly\";Plotly.newPlot(\"f528ded8-7e7b-4847-b733-78b917ab3967\", [{\"name\": \"pct\", \"text\": \"\", \"y\": [\"Shopping\", \"Pets\", \"Education\", \"Law, Government, & Politics\", \"Health & Fitness\", \"Personal Finance\", \"Food & Drink\", \"Science\", \"Business\", \"Travel\", \"Home & Garden\", \"Society\", \"Family & Parenting\", \"Technology & Computing\", \"Automotive\", \"Uncategorized\", \"Hobbies & Interests\", \"Style & Fashion\", \"Sports\", \"News\", \"Arts & Entertainment\"], \"marker\": {\"color\": \"rgba(255, 153, 51, 0.6)\", \"line\": {\"color\": \"rgba(255, 153, 51, 1.0)\", \"width\": 1}}, \"x\": [0.003718232352339698, 0.00836602279276432, 0.014872929409358792, 0.11898343527487033, 0.36717544479354514, 0.3764710256743944, 0.4666381602186321, 0.5856215954935023, 0.7278439829704959, 1.6880774879622227, 1.8488910372009146, 2.228150737139564, 2.818420123073491, 3.1623566156649128, 3.613192288386101, 5.131160646228783, 6.987488148134377, 8.91167339047017, 11.714291026046219, 11.89183662087044, 37.3347710498429], \"type\": \"bar\", \"orientation\": \"h\"}], {\"title\": \"% Distribution of Publisher Category by IAB Standard\", \"paper_bgcolor\": \"#F5F6F9\", \"plot_bgcolor\": \"#F5F6F9\", \"xaxis1\": {\"tickfont\": {\"color\": \"#4D5663\"}, \"title\": \"\", \"showgrid\": true, \"zerolinecolor\": \"#E1E5ED\", \"gridcolor\": \"#E1E5ED\", \"titlefont\": {\"color\": \"#4D5663\"}}, \"height\": 450, \"yaxis1\": {\"tickfont\": {\"color\": \"#4D5663\"}, \"title\": \"\", \"showgrid\": true, \"zerolinecolor\": \"#E1E5ED\", \"gridcolor\": \"#E1E5ED\", \"titlefont\": {\"color\": \"#4D5663\"}}, \"width\": 900, \"titlefont\": {\"color\": \"#4D5663\"}, \"legend\": {\"bgcolor\": \"#F5F6F9\", \"font\": {\"color\": \"#4D5663\"}}}, {\"linkText\": \"Export to plot.ly\", \"showLink\": true})</script>"
      ],
      "text/plain": [
       "<IPython.core.display.HTML object>"
      ]
     },
     "metadata": {},
     "output_type": "display_data"
    },
    {
     "name": "stdout",
     "output_type": "stream",
     "text": [
      "Top 5\n"
     ]
    },
    {
     "data": {
      "text/html": [
       "<div>\n",
       "<table border=\"1\" class=\"dataframe\">\n",
       "  <thead>\n",
       "    <tr style=\"text-align: right;\">\n",
       "      <th></th>\n",
       "      <th>iab_adspace_category</th>\n",
       "      <th>deliveryid</th>\n",
       "      <th>pct</th>\n",
       "    </tr>\n",
       "  </thead>\n",
       "  <tbody>\n",
       "    <tr>\n",
       "      <th>0</th>\n",
       "      <td>Arts &amp; Entertainment</td>\n",
       "      <td>40164</td>\n",
       "      <td>37.334771</td>\n",
       "    </tr>\n",
       "    <tr>\n",
       "      <th>10</th>\n",
       "      <td>News</td>\n",
       "      <td>12793</td>\n",
       "      <td>11.891837</td>\n",
       "    </tr>\n",
       "    <tr>\n",
       "      <th>16</th>\n",
       "      <td>Sports</td>\n",
       "      <td>12602</td>\n",
       "      <td>11.714291</td>\n",
       "    </tr>\n",
       "    <tr>\n",
       "      <th>17</th>\n",
       "      <td>Style &amp; Fashion</td>\n",
       "      <td>9587</td>\n",
       "      <td>8.911673</td>\n",
       "    </tr>\n",
       "    <tr>\n",
       "      <th>7</th>\n",
       "      <td>Hobbies &amp; Interests</td>\n",
       "      <td>7517</td>\n",
       "      <td>6.987488</td>\n",
       "    </tr>\n",
       "  </tbody>\n",
       "</table>\n",
       "</div>"
      ],
      "text/plain": [
       "    iab_adspace_category  deliveryid        pct\n",
       "0   Arts & Entertainment       40164  37.334771\n",
       "10                  News       12793  11.891837\n",
       "16                Sports       12602  11.714291\n",
       "17       Style & Fashion        9587   8.911673\n",
       "7    Hobbies & Interests        7517   6.987488"
      ]
     },
     "execution_count": 217,
     "metadata": {},
     "output_type": "execute_result"
    }
   ],
   "source": [
    "\n",
    "as_cat = pd.DataFrame(pd.pivot_table(trans1, values='deliveryid', \n",
    "                    columns=['iab_adspace_category'], aggfunc=lambda x: len(x.unique()))).reset_index()\n",
    "as_cat.iab_adspace_category = as_cat.iab_adspace_category.astype(object)\n",
    "as_cat['pct']= as_cat['deliveryid']/as_cat['deliveryid'].sum()*100\n",
    "as_cat=as_cat.sort_values(by='pct', ascending=True)\n",
    "as_cat.iplot(kind='barh',x='iab_adspace_category',y='pct',  dimensions=(900, 450),\n",
    "             title='% Distribution of Publisher Category by IAB Standard')\n",
    "print 'Top 5'\n",
    "as_cat.tail().sort_values(by='pct', ascending=False)"
   ]
  },
  {
   "cell_type": "code",
   "execution_count": 182,
   "metadata": {
    "collapsed": true
   },
   "outputs": [],
   "source": [
    "import seaborn as sns\n",
    "import matplotlib.pyplot as plt\n",
    "sns.set(style=\"whitegrid\")\n",
    "\n",
    "ad_cat1=ad_cat.sort_values(by='pct', ascending=False)\n",
    "\n",
    "sns.set_color_codes(\"pastel\")\n",
    "#sns.barplot(x=\"pct\", y=\"iab_ad_category\", data=ad_cat1, label=\"Advertiser Category IAB\", color=\"b\")"
   ]
  },
  {
   "cell_type": "code",
   "execution_count": 219,
   "metadata": {
    "collapsed": false,
    "scrolled": false
   },
   "outputs": [
    {
     "data": {
      "text/html": [
       "<div id=\"f2be2441-7f2d-47ec-bdac-9a0f909b1da4\" style=\"height: 450; width: 800px;\" class=\"plotly-graph-div\"></div><script type=\"text/javascript\">window.PLOTLYENV=window.PLOTLYENV || {};window.PLOTLYENV.BASE_URL=\"https://plot.ly\";Plotly.newPlot(\"f2be2441-7f2d-47ec-bdac-9a0f909b1da4\", [{\"name\": \"pct\", \"text\": \"\", \"y\": [\"Video & Computer Games\", \"Celebrity Fan/Gossip\", \"Non Profit\", \"Web Search\", \"Television\", \"Dining Out\", \"Beverages (non-alcoholic)\", \"Home & Garden\", \"Education\", \"Personal Finance\", \"Cell Phones\", \"Beer (alcoholic, age appropriate)\", \"Health & Fitness\", \"Electronics (non-specific)\", \"U.S. Government Resources\", \"Style & Fashion\", \"Mobile Operators\", \"Gambling/Casino\", \"Food & Drink\", \"Appliances\", \"Automotive\", \"Travel\"], \"marker\": {\"color\": \"rgba(55, 128, 191, 0.6)\", \"line\": {\"color\": \"rgba(55, 128, 191, 1.0)\", \"width\": 1}}, \"x\": [0.07715332131104873, 0.23424863819740097, 0.2742196359850527, 0.2770083102493075, 0.2807265426016472, 1.008570525572143, 1.3961962483035564, 1.5096023350499173, 2.213277807730205, 2.934614884084106, 3.0777668296491845, 3.444012716354645, 3.985945081708156, 5.237130268270464, 5.956608228448196, 6.828533715071855, 6.9038279202067345, 10.530963579914108, 11.476324155496478, 12.001524475264459, 13.024038372157875, 15.078361746825559], \"type\": \"bar\", \"orientation\": \"h\"}], {\"title\": \"% Distribution of Advertiser Category by IAB Standard\", \"paper_bgcolor\": \"#F5F6F9\", \"plot_bgcolor\": \"#F5F6F9\", \"xaxis1\": {\"tickfont\": {\"color\": \"#4D5663\"}, \"title\": \"\", \"showgrid\": true, \"zerolinecolor\": \"#E1E5ED\", \"gridcolor\": \"#E1E5ED\", \"titlefont\": {\"color\": \"#4D5663\"}}, \"height\": 450, \"yaxis1\": {\"tickfont\": {\"color\": \"#4D5663\"}, \"title\": \"\", \"showgrid\": true, \"zerolinecolor\": \"#E1E5ED\", \"gridcolor\": \"#E1E5ED\", \"titlefont\": {\"color\": \"#4D5663\"}}, \"width\": 800, \"titlefont\": {\"color\": \"#4D5663\"}, \"legend\": {\"bgcolor\": \"#F5F6F9\", \"font\": {\"color\": \"#4D5663\"}}}, {\"linkText\": \"Export to plot.ly\", \"showLink\": true})</script>"
      ],
      "text/plain": [
       "<IPython.core.display.HTML object>"
      ]
     },
     "metadata": {},
     "output_type": "display_data"
    },
    {
     "name": "stdout",
     "output_type": "stream",
     "text": [
      "top 5\n"
     ]
    },
    {
     "data": {
      "text/html": [
       "<div>\n",
       "<table border=\"1\" class=\"dataframe\">\n",
       "  <thead>\n",
       "    <tr style=\"text-align: right;\">\n",
       "      <th></th>\n",
       "      <th>iab_ad_category</th>\n",
       "      <th>deliveryid</th>\n",
       "      <th>pct</th>\n",
       "    </tr>\n",
       "  </thead>\n",
       "  <tbody>\n",
       "    <tr>\n",
       "      <th>18</th>\n",
       "      <td>Travel</td>\n",
       "      <td>16221</td>\n",
       "      <td>15.078362</td>\n",
       "    </tr>\n",
       "    <tr>\n",
       "      <th>1</th>\n",
       "      <td>Automotive</td>\n",
       "      <td>14011</td>\n",
       "      <td>13.024038</td>\n",
       "    </tr>\n",
       "    <tr>\n",
       "      <th>0</th>\n",
       "      <td>Appliances</td>\n",
       "      <td>12911</td>\n",
       "      <td>12.001524</td>\n",
       "    </tr>\n",
       "    <tr>\n",
       "      <th>9</th>\n",
       "      <td>Food &amp; Drink</td>\n",
       "      <td>12346</td>\n",
       "      <td>11.476324</td>\n",
       "    </tr>\n",
       "    <tr>\n",
       "      <th>10</th>\n",
       "      <td>Gambling/Casino</td>\n",
       "      <td>11329</td>\n",
       "      <td>10.530964</td>\n",
       "    </tr>\n",
       "  </tbody>\n",
       "</table>\n",
       "</div>"
      ],
      "text/plain": [
       "    iab_ad_category  deliveryid        pct\n",
       "18           Travel       16221  15.078362\n",
       "1        Automotive       14011  13.024038\n",
       "0        Appliances       12911  12.001524\n",
       "9      Food & Drink       12346  11.476324\n",
       "10  Gambling/Casino       11329  10.530964"
      ]
     },
     "execution_count": 219,
     "metadata": {},
     "output_type": "execute_result"
    }
   ],
   "source": [
    "ad_cat = pd.DataFrame(pd.pivot_table(trans1, values='deliveryid', \n",
    "                    columns=['iab_ad_category'], aggfunc=lambda x: len(x.unique()))).reset_index()\n",
    "ad_cat.iab_ad_category = ad_cat.iab_ad_category.astype(object)\n",
    "ad_cat['pct']= ad_cat['deliveryid']/as_cat['deliveryid'].sum()*100\n",
    "ad_cat=ad_cat.sort_values(by='pct', ascending=True)\n",
    "ad_cat.iplot(kind='barh',x='iab_ad_category',y='pct',  dimensions=(800, 450), color='blue',\n",
    "#             barmode='stack',bargap=.5,\n",
    "             title='% Distribution of Advertiser Category by IAB Standard')\n",
    "print 'top 5'\n",
    "ad_cat.tail().sort_values(by='pct', ascending=False)"
   ]
  },
  {
   "cell_type": "code",
   "execution_count": 184,
   "metadata": {
    "collapsed": false
   },
   "outputs": [],
   "source": [
    "# trans1.dtypes"
   ]
  },
  {
   "cell_type": "markdown",
   "metadata": {},
   "source": [
    "### Events"
   ]
  },
  {
   "cell_type": "code",
   "execution_count": 115,
   "metadata": {
    "collapsed": false
   },
   "outputs": [
    {
     "name": "stdout",
     "output_type": "stream",
     "text": [
      "click 1295\n",
      "close 28967\n",
      "1st_Interaction 4693\n",
      "delivery 115916\n",
      "Click Rate % 1.12\n",
      "Close Rate % 24.99\n",
      "Interaction Rate % 4.05\n"
     ]
    }
   ],
   "source": [
    "#print trans1.click_adjusted.sum()\n",
    "#print trans1.firstinteraction.sum()\n",
    "#print trans1.close_adjusted.sum()\n",
    "print 'click', trans1[trans1['click']==1].deliveryid.nunique()\n",
    "print 'close', trans1[trans1['close']==1].deliveryid.nunique()\n",
    "print '1st_Interaction', trans1[trans1['firstinteraction']>=1].deliveryid.nunique()\n",
    "print 'delivery', trans1.deliveryid.nunique()\n",
    "print 'Click Rate %', round(1295/115916*100,2)\n",
    "print 'Close Rate %', round(28967/115916*100,2)\n",
    "print 'Interaction Rate %', round(4693/115916*100,2)"
   ]
  },
  {
   "cell_type": "markdown",
   "metadata": {},
   "source": [
    "### Time In Screen"
   ]
  },
  {
   "cell_type": "code",
   "execution_count": 183,
   "metadata": {
    "collapsed": false
   },
   "outputs": [
    {
     "data": {
      "text/html": [
       "<div id=\"76132323-594a-4c2f-9c6d-598b7d03e20e\" style=\"height: 450; width: 800px;\" class=\"plotly-graph-div\"></div><script type=\"text/javascript\">window.PLOTLYENV=window.PLOTLYENV || {};window.PLOTLYENV.BASE_URL=\"https://plot.ly\";Plotly.newPlot(\"76132323-594a-4c2f-9c6d-598b7d03e20e\", [{\"name\": \"deliveryid\", \"text\": \"\", \"y\": [64917, 17277, 7904, 4778, 4586, 2212, 1781, 1412, 1222, 1212, 745, 597, 553, 529, 525, 307, 358, 264, 245, 256], \"marker\": {\"color\": \"rgba(255, 255, 51, 0.6)\", \"line\": {\"color\": \"rgba(255, 255, 51, 1.0)\", \"width\": 1}}, \"x\": [0, 1, 2, 3, 4, 5, 6, 7, 8, 9, 10, 11, 12, 13, 14, 15, 16, 17, 18, 19], \"type\": \"bar\", \"orientation\": \"v\"}], {\"title\": \"Deliveries by Time Inscreen Per Second, above 50pct\", \"paper_bgcolor\": \"#F5F6F9\", \"plot_bgcolor\": \"#F5F6F9\", \"xaxis1\": {\"tickfont\": {\"color\": \"#4D5663\"}, \"title\": \"\", \"showgrid\": true, \"zerolinecolor\": \"#E1E5ED\", \"gridcolor\": \"#E1E5ED\", \"titlefont\": {\"color\": \"#4D5663\"}}, \"height\": 450, \"yaxis1\": {\"tickfont\": {\"color\": \"#4D5663\"}, \"title\": \"\", \"showgrid\": true, \"zerolinecolor\": \"#E1E5ED\", \"gridcolor\": \"#E1E5ED\", \"titlefont\": {\"color\": \"#4D5663\"}}, \"width\": 800, \"titlefont\": {\"color\": \"#4D5663\"}, \"legend\": {\"bgcolor\": \"#F5F6F9\", \"font\": {\"color\": \"#4D5663\"}}}, {\"linkText\": \"Export to plot.ly\", \"showLink\": true})</script>"
      ],
      "text/plain": [
       "<IPython.core.display.HTML object>"
      ]
     },
     "metadata": {},
     "output_type": "display_data"
    }
   ],
   "source": [
    "#data3['bins_spd'] = pd.qcut(data3['spd_pct'].values, 5).codes\n",
    "trans1['vt50sec']=trans1['vtabove50pct']/1000\n",
    "trans1.vt50sec=trans1.vt50sec.astype(int)\n",
    "\n",
    "ic50=pd.DataFrame(pd.pivot_table(trans1, values='deliveryid', \n",
    "                    columns=['vt50sec'], aggfunc=lambda x: len(x.unique()))).reset_index()\n",
    "\n",
    "ic50=ic50.sort_values(by='vt50sec', ascending=True)\n",
    "ic50.head(20).iplot(kind='bar',x='vt50sec', y='deliveryid',  color='yellow', dimensions=(800, 450),\n",
    "                    fill=True,\n",
    "                    title='Deliveries by Time Inscreen Per Second, above 50pct')\n"
   ]
  },
  {
   "cell_type": "markdown",
   "metadata": {},
   "source": [
    "### Browser"
   ]
  },
  {
   "cell_type": "code",
   "execution_count": 221,
   "metadata": {
    "collapsed": false
   },
   "outputs": [
    {
     "name": "stdout",
     "output_type": "stream",
     "text": [
      "Top 5\n"
     ]
    },
    {
     "data": {
      "text/html": [
       "<div>\n",
       "<table border=\"1\" class=\"dataframe\">\n",
       "  <thead>\n",
       "    <tr style=\"text-align: right;\">\n",
       "      <th></th>\n",
       "      <th>browser</th>\n",
       "      <th>deliveryid</th>\n",
       "    </tr>\n",
       "  </thead>\n",
       "  <tbody>\n",
       "    <tr>\n",
       "      <th>13</th>\n",
       "      <td>Mobile Safari</td>\n",
       "      <td>65343</td>\n",
       "    </tr>\n",
       "    <tr>\n",
       "      <th>3</th>\n",
       "      <td>Chrome Mobile</td>\n",
       "      <td>20507</td>\n",
       "    </tr>\n",
       "    <tr>\n",
       "      <th>5</th>\n",
       "      <td>Chromium</td>\n",
       "      <td>16196</td>\n",
       "    </tr>\n",
       "    <tr>\n",
       "      <th>17</th>\n",
       "      <td>Samsung Browser</td>\n",
       "      <td>6683</td>\n",
       "    </tr>\n",
       "    <tr>\n",
       "      <th>8</th>\n",
       "      <td>FaceBook on iOS</td>\n",
       "      <td>5627</td>\n",
       "    </tr>\n",
       "  </tbody>\n",
       "</table>\n",
       "</div>"
      ],
      "text/plain": [
       "            browser  deliveryid\n",
       "13    Mobile Safari       65343\n",
       "3     Chrome Mobile       20507\n",
       "5          Chromium       16196\n",
       "17  Samsung Browser        6683\n",
       "8   FaceBook on iOS        5627"
      ]
     },
     "execution_count": 221,
     "metadata": {},
     "output_type": "execute_result"
    },
    {
     "data": {
      "image/png": "[encoded data removed]",
      "text/plain": [
       "<matplotlib.figure.Figure at 0x109cdfd10>"
      ]
     },
     "metadata": {},
     "output_type": "display_data"
    }
   ],
   "source": [
    "import seaborn as sns\n",
    "import matplotlib.pyplot as plt\n",
    "sns.set(style=\"whitegrid\")\n",
    "brow = pd.DataFrame(pd.pivot_table(trans1, values='deliveryid', \n",
    "                    columns=['browser'], aggfunc=lambda x: len(x.unique()))).reset_index()\n",
    "# brow.browser = brow.browser.astype(object)\n",
    "# brow['pct']= brow['deliveryid']/brow['deliveryid'].sum()*100\n",
    "brow=brow.sort_values(by='deliveryid', ascending=False)\n",
    "sns.set_color_codes(\"pastel\")\n",
    "order = list(brow['browser'])\n",
    "sns.barplot(x=\"deliveryid\", y=\"browser\", data=brow, label=\"browser\", color=\"g\", order=order)\n",
    "plt.xlabel('number of deliveries')\n",
    "plt.title('Distribution of deliveries by Browser')\n",
    "print 'Top 5'\n",
    "brow.head(5)"
   ]
  },
  {
   "cell_type": "code",
   "execution_count": 220,
   "metadata": {
    "collapsed": false
   },
   "outputs": [
    {
     "data": {
      "text/plain": [
       "surveyid                   int64\n",
       "answersetid                int64\n",
       "uid                        int64\n",
       "deliveryid                 int64\n",
       "adspaceid                  int64\n",
       "apptype                 category\n",
       "apptypegroupid          category\n",
       "iab_adspace_category    category\n",
       "originaladid               int64\n",
       "iab_ad_category         category\n",
       "adname                    object\n",
       "templatetype            category\n",
       "size                    category\n",
       "video                      int64\n",
       "streamview                 int64\n",
       "storelocator               int64\n",
       "swipe                      int64\n",
       "iosversion               float64\n",
       "androidversion           float64\n",
       "platform                category\n",
       "modelid                  float64\n",
       "screensize               float64\n",
       "screenwidth              float64\n",
       "browserid                  int64\n",
       "browser                 category\n",
       "sdkclientid                int64\n",
       "sdkclientname           category\n",
       "ipcity                    object\n",
       "contype                 category\n",
       "con                        int64\n",
       "rss                      float64\n",
       "click                      int64\n",
       "firstinteraction           int64\n",
       "close                      int64\n",
       "click_adjusted             int64\n",
       "close_adjusted             int64\n",
       "vtabove0pct                int64\n",
       "vtabove10pct               int64\n",
       "vtabove20pct               int64\n",
       "vtabove30pct               int64\n",
       "vtabove40pct               int64\n",
       "vtabove50pct               int64\n",
       "vtabove60pct               int64\n",
       "vtabove70pct               int64\n",
       "vtabove80pct               int64\n",
       "vtabove90pct               int64\n",
       "vtabove100pct              int64\n",
       "vt50sec                    int64\n",
       "dtype: object"
      ]
     },
     "execution_count": 220,
     "metadata": {},
     "output_type": "execute_result"
    }
   ],
   "source": [
    "trans1.dtypes"
   ]
  },
  {
   "cell_type": "code",
   "execution_count": 246,
   "metadata": {
    "collapsed": false
   },
   "outputs": [
    {
     "data": {
      "text/html": [
       "\n",
       "    <div class=\"bk-banner\">\n",
       "        <a href=\"http://bokeh.pydata.org\" target=\"_blank\" class=\"bk-logo bk-logo-small bk-logo-notebook\"></a>\n",
       "        <span id=\"2cb6cda0-0a4f-43dd-b855-f1f271d65bad\">Loading BokehJS ...</span>\n",
       "    </div>"
      ]
     },
     "metadata": {},
     "output_type": "display_data"
    },
    {
     "data": {
      "application/javascript": [
       "\n",
       "(function(global) {\n",
       "  function now() {\n",
       "    return new Date();\n",
       "  }\n",
       "\n",
       "  if (typeof (window._bokeh_onload_callbacks) === \"undefined\") {\n",
       "    window._bokeh_onload_callbacks = [];\n",
       "  }\n",
       "\n",
       "  function run_callbacks() {\n",
       "    window._bokeh_onload_callbacks.forEach(function(callback) { callback() });\n",
       "    delete window._bokeh_onload_callbacks\n",
       "    console.info(\"Bokeh: all callbacks have finished\");\n",
       "  }\n",
       "\n",
       "  function load_libs(js_urls, callback) {\n",
       "    window._bokeh_onload_callbacks.push(callback);\n",
       "    if (window._bokeh_is_loading > 0) {\n",
       "      console.log(\"Bokeh: BokehJS is being loaded, scheduling callback at\", now());\n",
       "      return null;\n",
       "    }\n",
       "    if (js_urls == null || js_urls.length === 0) {\n",
       "      run_callbacks();\n",
       "      return null;\n",
       "    }\n",
       "    console.log(\"Bokeh: BokehJS not loaded, scheduling load and callback at\", now());\n",
       "    window._bokeh_is_loading = js_urls.length;\n",
       "    for (var i = 0; i < js_urls.length; i++) {\n",
       "      var url = js_urls[i];\n",
       "      var s = document.createElement('script');\n",
       "      s.src = url;\n",
       "      s.async = false;\n",
       "      s.onreadystatechange = s.onload = function() {\n",
       "        window._bokeh_is_loading--;\n",
       "        if (window._bokeh_is_loading === 0) {\n",
       "          console.log(\"Bokeh: all BokehJS libraries loaded\");\n",
       "          run_callbacks()\n",
       "        }\n",
       "      };\n",
       "      s.onerror = function() {\n",
       "        console.warn(\"failed to load library \" + url);\n",
       "      };\n",
       "      console.log(\"Bokeh: injecting script tag for BokehJS library: \", url);\n",
       "      document.getElementsByTagName(\"head\")[0].appendChild(s);\n",
       "    }\n",
       "  };\n",
       "\n",
       "  var js_urls = ['https://cdn.pydata.org/bokeh/release/bokeh-0.11.1.min.js', 'https://cdn.pydata.org/bokeh/release/bokeh-widgets-0.11.1.min.js', 'https://cdn.pydata.org/bokeh/release/bokeh-compiler-0.11.1.min.js'];\n",
       "\n",
       "  var inline_js = [\n",
       "    function(Bokeh) {\n",
       "      Bokeh.set_log_level(\"info\");\n",
       "    },\n",
       "    \n",
       "    function(Bokeh) {\n",
       "      Bokeh.$(\"#2cb6cda0-0a4f-43dd-b855-f1f271d65bad\").text(\"BokehJS successfully loaded\");\n",
       "    },\n",
       "    function(Bokeh) {\n",
       "      console.log(\"Bokeh: injecting CSS: https://cdn.pydata.org/bokeh/release/bokeh-0.11.1.min.css\");\n",
       "      Bokeh.embed.inject_css(\"https://cdn.pydata.org/bokeh/release/bokeh-0.11.1.min.css\");\n",
       "      console.log(\"Bokeh: injecting CSS: https://cdn.pydata.org/bokeh/release/bokeh-widgets-0.11.1.min.css\");\n",
       "      Bokeh.embed.inject_css(\"https://cdn.pydata.org/bokeh/release/bokeh-widgets-0.11.1.min.css\");\n",
       "    }\n",
       "  ];\n",
       "\n",
       "  function run_inline_js() {\n",
       "    for (var i = 0; i < inline_js.length; i++) {\n",
       "      inline_js[i](window.Bokeh);\n",
       "    }\n",
       "  }\n",
       "\n",
       "  if (window._bokeh_is_loading === 0) {\n",
       "    console.log(\"Bokeh: BokehJS loaded, going straight to plotting\");\n",
       "    run_inline_js();\n",
       "  } else {\n",
       "    load_libs(js_urls, function() {\n",
       "      console.log(\"Bokeh: BokehJS plotting callback run at\", now());\n",
       "      run_inline_js();\n",
       "    });\n",
       "  }\n",
       "}(this));"
      ]
     },
     "metadata": {},
     "output_type": "display_data"
    }
   ],
   "source": [
    "from bokeh.io import output_notebook, show\n",
    "output_notebook()\n"
   ]
  },
  {
   "cell_type": "code",
   "execution_count": 247,
   "metadata": {
    "collapsed": false
   },
   "outputs": [
    {
     "name": "stdout",
     "output_type": "stream",
     "text": [
      "1708\n",
      "3569\n"
     ]
    }
   ],
   "source": [
    "from bokeh.sampledata.world_cities import data\n",
    "# data.head()\n",
    "\n",
    "city = trans1[['deliveryid','ipcity']].reset_index()\n",
    "city.rename(columns={'ipcity':'name'}, inplace=True)\n",
    "\n",
    "newcity=pd.merge(data, city, how='inner', on='name', left_on=None, right_on=None,\n",
    "     left_index=False, right_index=False, sort=True,\n",
    "      copy=True, indicator=False)\n",
    "\n",
    "print newcity.name.nunique()\n",
    "print city.name.nunique()"
   ]
  },
  {
   "cell_type": "raw",
   "metadata": {},
   "source": [
    "from bokeh.models import (\n",
    "    GMapOptions, GMapPlot, ColumnDataSource, PanTool, WheelZoomTool, Circle, Range1d\n",
    ")\n",
    "\n",
    "p = GMapPlot(\n",
    "    x_range=Range1d(-160, 160), y_range=Range1d(-80, 80),\n",
    "    plot_width=1000,plot_height=500,\n",
    "    map_options=GMapOptions(lat=48.77, lng=9.18, zoom=4),\n",
    "    title=\"Cities with more than 5,000 people\",\n",
    "    webgl=True, responsive=True)\n",
    "\n",
    "circle = Circle(x=\"lng\", y=\"lat\", size=5, line_color=None, fill_color='firebrick', fill_alpha=0.3)\n",
    "p.add_glyph(ColumnDataSource(newcity), circle)\n",
    "p.add_tools(PanTool(), WheelZoomTool())\n",
    "show(p)"
   ]
  },
  {
   "cell_type": "code",
   "execution_count": null,
   "metadata": {
    "collapsed": true
   },
   "outputs": [],
   "source": []
  }
 ],
 "metadata": {
  "kernelspec": {
   "display_name": "Python 2",
   "language": "python",
   "name": "python2"
  },
  "language_info": {
   "codemirror_mode": {
    "name": "ipython",
    "version": 2
   },
   "file_extension": ".py",
   "mimetype": "text/x-python",
   "name": "python",
   "nbconvert_exporter": "python",
   "pygments_lexer": "ipython2",
   "version": "2.7.11"
  }
 },
 "nbformat": 4,
 "nbformat_minor": 0
}
