{
 "cells": [
  {
   "cell_type": "code",
   "execution_count": null,
   "metadata": {
    "collapsed": false
   },
   "outputs": [],
   "source": [
    "from IPython.display import HTML\n",
    "\n",
    "HTML('''<script>\n",
    "code_show=true;\n",
    "function code_toggle() {\n",
    " if (code_show){\n",
    " $('div.input').hide();\n",
    " } else {\n",
    " $('div.input').show();\n",
    " }\n",
    " code_show = !code_show\n",
    "}\n",
    "$( document ).ready(code_toggle);\n",
    "</script>\n",
    "<form action=\"javascript:code_toggle()\"><input type=\"submit\" value=\"Click here to toggle on/off the raw code.\"></form>''')"
   ]
  },
  {
   "cell_type": "code",
   "execution_count": null,
   "metadata": {
    "collapsed": true
   },
   "outputs": [],
   "source": [
    "import pandas as pd\n",
    "import numpy as np\n",
    "import matplotlib.pyplot as plt\n",
    "import seaborn as sns\n",
    "# this allows plots to appear directly in the notebook\n",
    "%matplotlib inline\n",
    "plt.rcParams['figure.figsize'] = (8, 6)\n",
    "plt.rcParams['font.size'] = 14\n",
    "# pip install patsy\n",
    "# pip install statsmodels\n",
    "import statsmodels.formula.api as smf\n",
    "# Set ipython's max row display\n",
    "pd.set_option('display.max_row', 1000)\n",
    "\n",
    "# Set iPython's max column width to 50\n",
    "pd.set_option('display.max_columns', 50)\n",
    "\n",
    "from IPython.core.display import display, HTML"
   ]
  },
  {
   "cell_type": "code",
   "execution_count": null,
   "metadata": {
    "collapsed": true
   },
   "outputs": [],
   "source": [
    "# define url\n",
    "url_0420 = '/Users/shaokuixing/Desktop/whatever/survey50%GenderAge20160420.csv'\n",
    "\n",
    "# read csv file\n",
    "rawData = pd.read_csv(url_0420, sep=';', thousands = '.', decimal =',')"
   ]
  },
  {
   "cell_type": "code",
   "execution_count": null,
   "metadata": {
    "collapsed": true
   },
   "outputs": [],
   "source": [
    "# subset recall\n",
    "recall = rawData[rawData['questionid']==84].reset_index()\n",
    "recall['recall'] = np.where(recall['ioptiontext']=='Yes',1,0).astype(int)\n",
    "recall['recall_category'] = np.where(recall['ioptiontext']=='Yes','Yes','No')\n",
    "\n",
    "# subset interest\n",
    "interest = rawData[rawData['questionid']==86].reset_index()\n",
    "interest['interest'] = pd.to_numeric(interest['ioptiontext'], errors='coerce')\n",
    "interest['interest_category']=np.where(interest['interest']>= 4,'High','Low')\n",
    "\n",
    "# subset intent\n",
    "intent = rawData[rawData['questionid']==83].reset_index()\n",
    "intent['intent'] = pd.to_numeric(intent['ioptiontext'], errors='coerce')\n",
    "intent['intent_category']=np.where(intent['intent'] >= 4 ,'High','Low')\n",
    "\n",
    "# subset age\n",
    "age = rawData[rawData['questionid']==90].reset_index()\n",
    "age=age.rename(columns = {'ioptiontext':'age_category'})\n",
    "\n",
    "# subset gender\n",
    "gender = rawData[rawData['questionid']==91].reset_index()\n",
    "gender=gender.rename(columns = {'ioptiontext':'gender_category'})"
   ]
  },
  {
   "cell_type": "code",
   "execution_count": null,
   "metadata": {
    "collapsed": false
   },
   "outputs": [],
   "source": [
    "#intent[intent['intent_category'] == 0]\n",
    "# df.sort(['c1','c2'], ascending=[False,True])\n",
    "#interest.sort(['answersetid'], ascending=True).head()\n",
    "#interest.sort_values(by=\"answersetid\").sample(n=5, random_state=1)"
   ]
  },
  {
   "cell_type": "code",
   "execution_count": null,
   "metadata": {
    "collapsed": false
   },
   "outputs": [],
   "source": [
    "# drop unnecessary columns\n",
    "recall.drop(recall[['ioptiontext','answerid','questionid','questiontext','optionid', \n",
    "                 'iscomplete','isrefgroup']],axis=1, inplace=True)\n",
    "interest.drop(interest[['ioptiontext','answerid','questionid','questiontext','optionid', \n",
    "                 'iscomplete','isrefgroup']],axis=1, inplace=True)\n",
    "intent.drop(intent[['ioptiontext','answerid','questionid','questiontext','optionid', \n",
    "              'iscomplete','isrefgroup']],axis=1, inplace=True)\n",
    "age.drop(age[['answerid','questionid','questiontext','optionid','iscomplete','isrefgroup']],axis=1, inplace=True)\n",
    "gender.drop(gender[['answerid','questionid','questiontext','optionid','iscomplete','isrefgroup']],axis=1, inplace=True)\n",
    "#recall.head(1)\n",
    "age.head()"
   ]
  },
  {
   "cell_type": "code",
   "execution_count": null,
   "metadata": {
    "collapsed": false
   },
   "outputs": [],
   "source": [
    "# merge data\n",
    "df = recall.merge(interest, \n",
    "on= ['surveyid','answersetid',  'click', \n",
    "     'firstinteraction', 'deliveredimp', 'viewableimp','viewableimp_ic','totalviewtime']).merge(intent, on= ['surveyid','answersetid',  'click', \n",
    "     'firstinteraction', 'deliveredimp', 'viewableimp','viewableimp_ic','totalviewtime']).merge(age, on= ['surveyid','answersetid',  'click', \n",
    "     'firstinteraction', 'deliveredimp', 'viewableimp','viewableimp_ic','totalviewtime']).merge(gender, on= ['surveyid','answersetid',  'click', \n",
    "     'firstinteraction', 'deliveredimp', 'viewableimp','viewableimp_ic','totalviewtime'])\n",
    "df.isnull().any()\n",
    "\n"
   ]
  },
  {
   "cell_type": "code",
   "execution_count": null,
   "metadata": {
    "collapsed": true
   },
   "outputs": [],
   "source": [
    "# create function to transform age column into numerical\n",
    "def age_trans(x):\n",
    "    if x['age_category'] == \"15-24\":\n",
    "        val = 1\n",
    "    elif x['age_category'] == \"25-34\":\n",
    "        val = 2\n",
    "    elif x['age_category'] == \"35-44\":\n",
    "        val = 3\n",
    "    elif x['age_category'] == \"45-54\":\n",
    "        val = 4\n",
    "    elif x['age_category'] == \"55-64\":\n",
    "        val = 5\n",
    "    else:\n",
    "        val=6\n",
    "    return val\n",
    "\n",
    "# apply function and create numerical representation for age categories\n",
    "df['age'] = df.apply(age_trans, axis=1)"
   ]
  },
  {
   "cell_type": "code",
   "execution_count": null,
   "metadata": {
    "collapsed": true
   },
   "outputs": [],
   "source": [
    "# transform gender into numerical column\n",
    "df['gender'] = np.where(df['gender_category']==\"Male\", 1, 0)"
   ]
  },
  {
   "cell_type": "code",
   "execution_count": null,
   "metadata": {
    "collapsed": false
   },
   "outputs": [],
   "source": [
    "# reorder columns\n",
    "df1= df[['answersetid', 'recall','interest','intent','age', 'gender','recall_category','interest_category', \n",
    "         'intent_category', 'age_category','gender_category',\n",
    "         'click','firstinteraction','deliveredimp', 'viewableimp', 'viewableimp_ic','totalviewtime']]\n",
    "df1.head()"
   ]
  },
  {
   "cell_type": "code",
   "execution_count": null,
   "metadata": {
    "collapsed": false
   },
   "outputs": [],
   "source": [
    "df1[df1['totalviewtime'] == 0].count()"
   ]
  },
  {
   "cell_type": "code",
   "execution_count": null,
   "metadata": {
    "collapsed": false
   },
   "outputs": [],
   "source": [
    "# calculate average view time\n",
    "#df1.is_copy = False\n",
    "#df1['avgviewtime'] = df1['totalviewtime'].div(df['viewableimp_ic'], axis=0)\n",
    "df1.isnull().any()\n"
   ]
  },
  {
   "cell_type": "code",
   "execution_count": null,
   "metadata": {
    "collapsed": false
   },
   "outputs": [],
   "source": [
    "df2=df1.copy()\n",
    "df2.is_copy = False\n",
    "df2['avgviewtime'] = df2['totalviewtime'].div(df2['viewableimp_ic'], axis=0)\n",
    "df2.isnull().any()\n"
   ]
  },
  {
   "cell_type": "code",
   "execution_count": null,
   "metadata": {
    "collapsed": false
   },
   "outputs": [],
   "source": [
    "# make sure no primary key is 0\n",
    "np.isinf(df2.answersetid).any()"
   ]
  },
  {
   "cell_type": "code",
   "execution_count": null,
   "metadata": {
    "collapsed": false
   },
   "outputs": [],
   "source": [
    "# count how many rows are 0\n",
    "df2[df2['totalviewtime']==0]['answersetid'].nunique()"
   ]
  },
  {
   "cell_type": "code",
   "execution_count": null,
   "metadata": {
    "collapsed": false
   },
   "outputs": [],
   "source": [
    "# count how many rows are null\n",
    "# df.isnull().any().any()\n",
    "df2.totalviewtime.isnull().values.sum()"
   ]
  },
  {
   "cell_type": "code",
   "execution_count": null,
   "metadata": {
    "collapsed": false
   },
   "outputs": [],
   "source": [
    "# let's look at all the null value rows\n",
    "# df2[df2.isnull().any(axis=1)]\n",
    "df2.head()"
   ]
  },
  {
   "cell_type": "code",
   "execution_count": null,
   "metadata": {
    "collapsed": false
   },
   "outputs": [],
   "source": [
    "df3 = df2.copy()\n",
    "df3.head()"
   ]
  },
  {
   "cell_type": "code",
   "execution_count": null,
   "metadata": {
    "collapsed": false
   },
   "outputs": [],
   "source": [
    "df3['totalviewtime'].fillna(0, inplace=True)\n",
    "df3['avgviewtime']=df3.avgviewtime.replace(np.inf, np.nan)\n",
    "df3['avgviewtime'].fillna(0, inplace=True)\n",
    "df3.head()"
   ]
  },
  {
   "cell_type": "code",
   "execution_count": null,
   "metadata": {
    "collapsed": false
   },
   "outputs": [],
   "source": [
    "df3[np.isinf(df3.avgviewtime)==True]"
   ]
  },
  {
   "cell_type": "code",
   "execution_count": null,
   "metadata": {
    "collapsed": false
   },
   "outputs": [],
   "source": [
    "\n"
   ]
  },
  {
   "cell_type": "code",
   "execution_count": null,
   "metadata": {
    "collapsed": false
   },
   "outputs": [],
   "source": [
    "# check how many inf value\n",
    "np.isinf(df3.avgviewtime).any()"
   ]
  },
  {
   "cell_type": "code",
   "execution_count": null,
   "metadata": {
    "collapsed": false
   },
   "outputs": [],
   "source": [
    "# count how many rows are 0\n",
    "df3[df3['avgviewtime']==0]['answersetid'].nunique()"
   ]
  },
  {
   "cell_type": "code",
   "execution_count": null,
   "metadata": {
    "collapsed": false
   },
   "outputs": [],
   "source": [
    "# check if any other value is converted to 0\n",
    "df3[df3['answersetid']==0]['answersetid'].nunique()"
   ]
  },
  {
   "cell_type": "code",
   "execution_count": null,
   "metadata": {
    "collapsed": false
   },
   "outputs": [],
   "source": [
    "# count how many rows are null\n",
    "# df.isnull().any().any()\n",
    "df3.avgviewtime.isnull().values.sum()"
   ]
  },
  {
   "cell_type": "code",
   "execution_count": null,
   "metadata": {
    "collapsed": false
   },
   "outputs": [],
   "source": [
    "sns.heatmap(df1[df1.columns[1:]].corr(method='spearman'))"
   ]
  },
  {
   "cell_type": "code",
   "execution_count": null,
   "metadata": {
    "collapsed": false
   },
   "outputs": [],
   "source": [
    "#df3['avgviewtime'] = df3['avgviewtime']/1000\n",
    "#df3['totalviewtime'] = df3['totalviewtime']/1000\n",
    "df3[df3.columns[1:]].describe()"
   ]
  },
  {
   "cell_type": "code",
   "execution_count": null,
   "metadata": {
    "collapsed": true
   },
   "outputs": [],
   "source": [
    "df4=df3.copy()"
   ]
  },
  {
   "cell_type": "code",
   "execution_count": null,
   "metadata": {
    "collapsed": false
   },
   "outputs": [],
   "source": [
    "#categorical cut on avgviewtime\n",
    "labels = [ \"{0} - {1}\".format(i, i + 2) for i in range(0, 120, 2) ]\n",
    "print labels\n",
    "df4['avgVTCategory'] = pd.cut(df4.avgviewtime, range(0, 121, 2), right=False, labels=labels)\n",
    "df4[['avgviewtime','avgVTCategory']].sample(n=20, random_state=0)"
   ]
  },
  {
   "cell_type": "code",
   "execution_count": null,
   "metadata": {
    "collapsed": false
   },
   "outputs": [],
   "source": [
    "df2.head()"
   ]
  },
  {
   "cell_type": "code",
   "execution_count": null,
   "metadata": {
    "collapsed": false
   },
   "outputs": [],
   "source": [
    "df5 = df1.copy()\n",
    "#df5['totalVT']=np.where(df5['viewableimp_ic']==0, 0, df5['totalviewtime'])\n",
    "#df5.totalVT.isnull().values.sum()\n",
    "df5.totalviewtime.head()"
   ]
  },
  {
   "cell_type": "code",
   "execution_count": null,
   "metadata": {
    "collapsed": true
   },
   "outputs": [],
   "source": [
    "import sqlite3\n",
    "from pandas.io import sql\n",
    "cnx = sqlite3.connect(':memory:', timeout=3000)\n",
    "cnx.text_factory = str\n"
   ]
  },
  {
   "cell_type": "code",
   "execution_count": null,
   "metadata": {
    "collapsed": true
   },
   "outputs": [],
   "source": [
    "# write to database\n",
    "sql.to_sql(df5, name = 'df5', con=cnx, if_exists='replace')"
   ]
  },
  {
   "cell_type": "code",
   "execution_count": null,
   "metadata": {
    "collapsed": false
   },
   "outputs": [],
   "source": [
    "# select data\n",
    "sql.read_sql(\"select * from df5 limit 1\",cnx)"
   ]
  },
  {
   "cell_type": "code",
   "execution_count": null,
   "metadata": {
    "collapsed": false
   },
   "outputs": [],
   "source": [
    "df5['totalVT']=sql.read_sql(\"select 1.00*(case when totalviewtime is null then 0 else totalviewtime end)/1000 as totalvt from df5\",cnx)"
   ]
  },
  {
   "cell_type": "code",
   "execution_count": null,
   "metadata": {
    "collapsed": true
   },
   "outputs": [],
   "source": [
    "df6=df5.copy()"
   ]
  },
  {
   "cell_type": "code",
   "execution_count": null,
   "metadata": {
    "collapsed": false
   },
   "outputs": [],
   "source": [
    "df6['avgVT']=sql.read_sql(\"select case when totalVT = 0 or viewableimp_ic=0 then 0 else totalVT/viewableimp_ic end as avgVT from df5\",cnx)"
   ]
  },
  {
   "cell_type": "code",
   "execution_count": null,
   "metadata": {
    "collapsed": false
   },
   "outputs": [],
   "source": [
    "df6.head(1)"
   ]
  },
  {
   "cell_type": "code",
   "execution_count": null,
   "metadata": {
    "collapsed": false
   },
   "outputs": [],
   "source": [
    "sql.to_sql(df6, name = 'df6', con=cnx, if_exists='replace')"
   ]
  },
  {
   "cell_type": "code",
   "execution_count": null,
   "metadata": {
    "collapsed": false
   },
   "outputs": [],
   "source": [
    "sql.read_sql(\"select sum(case when avgVT is null then 1 else 0 end) as numNUll from df6;\",cnx)"
   ]
  },
  {
   "cell_type": "code",
   "execution_count": null,
   "metadata": {
    "collapsed": false
   },
   "outputs": [],
   "source": [
    "sql.read_sql(\"select *  from df6 where avgVT is null;\",cnx)"
   ]
  },
  {
   "cell_type": "code",
   "execution_count": null,
   "metadata": {
    "collapsed": false
   },
   "outputs": [],
   "source": [
    "#categorical cut on avgviewtime\n",
    "labels = [ \"{0} - {1}\".format(i, i + 2) for i in range(0, 120, 2) ]\n",
    "print labels\n",
    "df6['avgVTCategory'] = pd.cut(df6.avgVT, range(0, 121, 2), right=False, labels=labels)\n",
    "df6[['avgVT','avgVTCategory']].sample(n=20, random_state=0)"
   ]
  },
  {
   "cell_type": "code",
   "execution_count": null,
   "metadata": {
    "collapsed": false
   },
   "outputs": [],
   "source": [
    "#categorical cut on totalviewtime\n",
    "labels = [ \"{0} - {1}\".format(i, i + 5) for i in range(0, 1000, 5) ]\n",
    "print labels\n",
    "df6['totalVTCategory'] = pd.cut(df6.totalVT, range(0, 1001, 5), right=False, labels=labels)\n",
    "df6[['totalVT','totalVTCategory']].sample(n=20, random_state=0)"
   ]
  },
  {
   "cell_type": "code",
   "execution_count": null,
   "metadata": {
    "collapsed": false
   },
   "outputs": [],
   "source": [
    "df6.head()"
   ]
  },
  {
   "cell_type": "code",
   "execution_count": null,
   "metadata": {
    "collapsed": false
   },
   "outputs": [],
   "source": [
    "from pivottablejs import pivot_ui\n",
    "#pivot_ui(df6)"
   ]
  },
  {
   "cell_type": "code",
   "execution_count": null,
   "metadata": {
    "collapsed": false
   },
   "outputs": [],
   "source": [
    "# l = range(10)\n",
    "# l[::2]         # even  - start at the beginning at take every second item\n",
    "#[0, 2, 4, 6, 8]\n",
    "# l[1::2]        # odd - start at second item and take every second item\n",
    "#[1, 3, 5, 7, 9]\n",
    "#categories = pd.cut(df['postTestScore'], bins, labels=group_names)\n",
    "#df['categories'] = pd.cut(df['postTestScore'], bins, labels=group_names)"
   ]
  },
  {
   "cell_type": "code",
   "execution_count": null,
   "metadata": {
    "collapsed": false
   },
   "outputs": [],
   "source": [
    "def FuncAvgVTScale (x):\n",
    "    if (x['avgVT'] >=0 ) & (x['avgVT']<=1) :  \n",
    "        return '0-1'\n",
    "    if (x['avgVT'] >1 ) & (x['avgVT']<=3) :  \n",
    "        return '1-3'\n",
    "    if (x['avgVT'] >3 ) & (x['avgVT']<=5) :  \n",
    "        return '3-5'\n",
    "    if (x['avgVT'] >5 ) & (x['avgVT']<=7) :  \n",
    "        return '5-7'\n",
    "    if (x['avgVT'] >7 ) & (x['avgVT']<=9) :  \n",
    "        return '7-9'\n",
    "    if (x['avgVT'] >9 ) & (x['avgVT']<=11) :  \n",
    "        return '9-11'\n",
    "    if (x['avgVT'] >11 ) & (x['avgVT']<=13) :  \n",
    "        return '11-13'\n",
    "    if (x['avgVT'] >13 ) & (x['avgVT']<=15) :  \n",
    "        return '13-15'\n",
    "    if (x['avgVT'] >15 ) & (x['avgVT']<=17) :  \n",
    "        return '15-17'\n",
    "    if (x['avgVT'] >17 ) & (x['avgVT']<=19) :  \n",
    "        return '17-19'\n",
    "    if (x['avgVT'] >19 ) & (x['avgVT']<=21) :  \n",
    "        return '19-21'\n",
    "    if (x['avgVT'] >21 ) & (x['avgVT']<=23) :  \n",
    "        return '21-23'\n",
    "    if (x['avgVT'] >23 ) & (x['avgVT']<=25) :  \n",
    "        return '23-25'\n",
    "    if (x['avgVT'] >25 ) & (x['avgVT']<=27) :  \n",
    "        return '25-27'\n",
    "    if (x['avgVT'] >27 ) & (x['avgVT']<=29) :  \n",
    "        return '27-29'\n",
    "    if (x['avgVT'] >29 ) & (x['avgVT']<=31) :  \n",
    "        return '29-31'\n",
    "    if (x['avgVT'] >31 ) & (x['avgVT']<=33) :  \n",
    "        return '31-33'\n",
    "    if (x['avgVT'] >33 ) & (x['avgVT']<=35) :  \n",
    "        return '33-35'\n",
    "    return 'above 35'"
   ]
  },
  {
   "cell_type": "code",
   "execution_count": null,
   "metadata": {
    "collapsed": false
   },
   "outputs": [],
   "source": [
    "df6['avgVTScale2']=df6.apply(lambda x: FuncAvgVTScale(x),axis=1)"
   ]
  },
  {
   "cell_type": "code",
   "execution_count": null,
   "metadata": {
    "collapsed": false
   },
   "outputs": [],
   "source": [
    "from pivottablejs import pivot_ui\n",
    "#pivot_ui(df6)"
   ]
  },
  {
   "cell_type": "code",
   "execution_count": null,
   "metadata": {
    "collapsed": false
   },
   "outputs": [],
   "source": [
    "# cut data by percentile \n",
    "#qcdf = pd.DataFrame(range(1000))\n",
    "#qcdf.columns = ['a1']\n",
    "#qcdf['percentile'] = pd.qcut(qcdf.a1,10, labels=False)\n",
    "\n",
    "df6['avgVTScale3'] = pd.qcut(df6.avgVT,10,labels=False)\n",
    "df6.sample(n=10)"
   ]
  },
  {
   "cell_type": "code",
   "execution_count": null,
   "metadata": {
    "collapsed": false
   },
   "outputs": [],
   "source": [
    "from pivottablejs import pivot_ui\n",
    "#pivot_ui(df6)\n",
    "#sns.heatmap(df6.corr())\n",
    "sns.heatmap(df6[df6.columns[1:]].corr(method='spearman'))"
   ]
  },
  {
   "cell_type": "code",
   "execution_count": null,
   "metadata": {
    "collapsed": false
   },
   "outputs": [],
   "source": [
    "df6[['avgVTScale3', 'answersetid']].corr(method='spearman')"
   ]
  },
  {
   "cell_type": "code",
   "execution_count": null,
   "metadata": {
    "collapsed": false
   },
   "outputs": [],
   "source": [
    "sns.lmplot(x='avgVTScale3', y='answersetid', data=df6, aspect=1.5,scatter_kws={'alpha':0.5} )\n",
    "# the higher of answersetid the more recent the survey has been answered\n",
    "# assumpiton 1: overall view time per impression has increased over the past 4 month period???\n",
    "# assumption 2: the later an interview answers the campaign the more probable the person has seen it longer each time??"
   ]
  },
  {
   "cell_type": "code",
   "execution_count": null,
   "metadata": {
    "collapsed": false
   },
   "outputs": [],
   "source": [
    "df6.avgVT.quantile(0.6)"
   ]
  },
  {
   "cell_type": "code",
   "execution_count": null,
   "metadata": {
    "collapsed": false
   },
   "outputs": [],
   "source": [
    "scale3max=df6.groupby(['avgVTScale3'])['avgVT'].max()\n",
    "scale3min=df6.groupby(['avgVTScale3'])['avgVT'].min()\n",
    "scale3_range = pd.concat([scale3min, scale3max], axis=1).round(0)\n",
    "scale3_range\n",
    "\n"
   ]
  },
  {
   "cell_type": "code",
   "execution_count": null,
   "metadata": {
    "collapsed": false
   },
   "outputs": [],
   "source": [
    "df6['interest_Category_Num']=sql.read_sql(\"select case when interest >= 4 then 10 else 0 end as interest_Category_Num from df5\",cnx)\n"
   ]
  },
  {
   "cell_type": "code",
   "execution_count": null,
   "metadata": {
    "collapsed": false
   },
   "outputs": [],
   "source": [
    "df6['intent_Category_Num']=sql.read_sql(\"select case when intent >= 4 then 10 else 0 end as intent_Category_Num from df5\",cnx)\n",
    "df6.head(10)"
   ]
  },
  {
   "cell_type": "code",
   "execution_count": null,
   "metadata": {
    "collapsed": false
   },
   "outputs": [],
   "source": [
    "df6['totalVTScale3'] = pd.qcut(df6.totalVT,10,labels=False)\n",
    "df6.sample(n=10)"
   ]
  },
  {
   "cell_type": "code",
   "execution_count": null,
   "metadata": {
    "collapsed": false
   },
   "outputs": [],
   "source": [
    "sns.heatmap(df6[['recall', 'interest_Category_Num', 'intent_Category_Num','age', 'gender','firstinteraction',\n",
    "                 'viewableimp_ic', 'totalVTScale3','avgVTScale3']].corr())"
   ]
  },
  {
   "cell_type": "code",
   "execution_count": null,
   "metadata": {
    "collapsed": false
   },
   "outputs": [],
   "source": [
    "from pivottablejs import pivot_ui\n",
    "pivot_ui(df6)"
   ]
  },
  {
   "cell_type": "code",
   "execution_count": null,
   "metadata": {
    "collapsed": false
   },
   "outputs": [],
   "source": [
    "\n",
    "df7 = df6[['recall', 'interest_Category_Num', 'intent_Category_Num','age', 'gender','firstinteraction','viewableimp_ic', 'totalVTScale3',\n",
    "'avgVTScale3']][(df6.totalVTScale3 < df6.totalVTScale3.quantile(1)) & (df6.totalVTScale3 > df6.totalVTScale3.quantile(.30))].copy()"
   ]
  },
  {
   "cell_type": "code",
   "execution_count": null,
   "metadata": {
    "collapsed": false
   },
   "outputs": [],
   "source": [
    "sns.heatmap(df7.corr())"
   ]
  },
  {
   "cell_type": "code",
   "execution_count": null,
   "metadata": {
    "collapsed": false
   },
   "outputs": [],
   "source": [
    "df6.head(1)"
   ]
  },
  {
   "cell_type": "code",
   "execution_count": null,
   "metadata": {
    "collapsed": false
   },
   "outputs": [],
   "source": [
    "%reload_ext rpy2.ipython\n",
    "%R help(package=\"MASS\")\n",
    "#%R install.packages(\"MESS\",dependencies=TRUE)\n",
    "#%R library(MESS)"
   ]
  },
  {
   "cell_type": "code",
   "execution_count": null,
   "metadata": {
    "collapsed": true
   },
   "outputs": [],
   "source": []
  }
 ],
 "metadata": {
  "kernelspec": {
   "display_name": "Python 2",
   "language": "python",
   "name": "python2"
  },
  "language_info": {
   "codemirror_mode": {
    "name": "ipython",
    "version": 2
   },
   "file_extension": ".py",
   "mimetype": "text/x-python",
   "name": "python",
   "nbconvert_exporter": "python",
   "pygments_lexer": "ipython2",
   "version": "2.7.11"
  }
 },
 "nbformat": 4,
 "nbformat_minor": 0
}
