{
 "cells": [
  {
   "cell_type": "code",
   "execution_count": 8,
   "metadata": {
    "collapsed": true
   },
   "outputs": [],
   "source": [
    "import pandas as pd\n",
    "import numpy as np\n",
    "from pandas import *\n",
    "import psycopg2 as pg\n",
    "import pandas.io.sql as psql\n"
   ]
  },
  {
   "cell_type": "code",
   "execution_count": 3,
   "metadata": {
    "collapsed": false
   },
   "outputs": [
    {
     "name": "stdout",
     "output_type": "stream",
     "text": [
      "connection successful\n"
     ]
    }
   ],
   "source": [
    "conn = pg.connect(database=\"logs\", user=\"supportanalysis\", password=\"B2Analysis\", \n",
    "                             host=\"ws-log-redshift.crwnzurbsrgj.eu-west-1.redshift.amazonaws.com\", port=\"5439\")\n",
    "print \"connection successful\""
   ]
  },
  {
   "cell_type": "code",
   "execution_count": 6,
   "metadata": {
    "collapsed": false
   },
   "outputs": [],
   "source": [
    "surveyQ = psql.read_sql(\"select * from public.surveydb_SurveyQuestions_Languages limit 10\",conn)"
   ]
  },
  {
   "cell_type": "code",
   "execution_count": 7,
   "metadata": {
    "collapsed": false
   },
   "outputs": [
    {
     "data": {
      "text/html": [
       "<div>\n",
       "<table border=\"1\" class=\"dataframe\">\n",
       "  <thead>\n",
       "    <tr style=\"text-align: right;\">\n",
       "      <th></th>\n",
       "      <th>questionid</th>\n",
       "      <th>languageid</th>\n",
       "      <th>text</th>\n",
       "    </tr>\n",
       "  </thead>\n",
       "  <tbody>\n",
       "    <tr>\n",
       "      <th>0</th>\n",
       "      <td>1</td>\n",
       "      <td>da-DK</td>\n",
       "      <td>Hjælp os med at donere §reward§ §reward_curren...</td>\n",
       "    </tr>\n",
       "    <tr>\n",
       "      <th>1</th>\n",
       "      <td>1</td>\n",
       "      <td>en-GB</td>\n",
       "      <td>Answer 6 questions about ads and we will donat...</td>\n",
       "    </tr>\n",
       "    <tr>\n",
       "      <th>2</th>\n",
       "      <td>1</td>\n",
       "      <td>fi-FI</td>\n",
       "      <td>Auta meitä lahjoittaa §reward§ §reward_currenc...</td>\n",
       "    </tr>\n",
       "    <tr>\n",
       "      <th>3</th>\n",
       "      <td>1</td>\n",
       "      <td>fr-FR</td>\n",
       "      <td>Faites un don de §reward§ §reward_currency§ à ...</td>\n",
       "    </tr>\n",
       "    <tr>\n",
       "      <th>4</th>\n",
       "      <td>1</td>\n",
       "      <td>nb-NO</td>\n",
       "      <td>Hjelp oss å donere §reward§ §reward_currency§ ...</td>\n",
       "    </tr>\n",
       "    <tr>\n",
       "      <th>5</th>\n",
       "      <td>1</td>\n",
       "      <td>nl-NL</td>\n",
       "      <td>Help ons §reward§ §reward_currency§ aan §rewar...</td>\n",
       "    </tr>\n",
       "  </tbody>\n",
       "</table>\n",
       "</div>"
      ],
      "text/plain": [
       "   questionid languageid                                               text\n",
       "0           1      da-DK  Hjælp os med at donere §reward§ §reward_curren...\n",
       "1           1      en-GB  Answer 6 questions about ads and we will donat...\n",
       "2           1      fi-FI  Auta meitä lahjoittaa §reward§ §reward_currenc...\n",
       "3           1      fr-FR  Faites un don de §reward§ §reward_currency§ à ...\n",
       "4           1      nb-NO  Hjelp oss å donere §reward§ §reward_currency§ ...\n",
       "5           1      nl-NL  Help ons §reward§ §reward_currency§ aan §rewar..."
      ]
     },
     "execution_count": 7,
     "metadata": {},
     "output_type": "execute_result"
    }
   ],
   "source": [
    "surveyQ.head(6)"
   ]
  },
  {
   "cell_type": "code",
   "execution_count": 38,
   "metadata": {
    "collapsed": false
   },
   "outputs": [],
   "source": [
    "import rpy2.interactive as r\n",
    "import rpy2.interactive.packages\n",
    "import rpy2.ipython\n",
    "v=r.IntVector((1,2,3))\n",
    "\n",
    "\n",
    "\n"
   ]
  },
  {
   "cell_type": "code",
   "execution_count": 23,
   "metadata": {
    "collapsed": false
   },
   "outputs": [
    {
     "data": {
      "text/plain": [
       "rpy2.robjects.packages.Package as a <module 'datasets' (built-in)>"
      ]
     },
     "execution_count": 23,
     "metadata": {},
     "output_type": "execute_result"
    }
   ],
   "source": [
    "r.packages.importr('datasets')"
   ]
  },
  {
   "cell_type": "code",
   "execution_count": 25,
   "metadata": {
    "collapsed": true
   },
   "outputs": [],
   "source": [
    "data = rpy2.interactive.packages.data"
   ]
  },
  {
   "cell_type": "code",
   "execution_count": 26,
   "metadata": {
    "collapsed": true
   },
   "outputs": [],
   "source": [
    "rpackages = r.packages.packages"
   ]
  },
  {
   "cell_type": "code",
   "execution_count": 31,
   "metadata": {
    "collapsed": false
   },
   "outputs": [],
   "source": [
    "#data(rpackages.datasets).names()"
   ]
  },
  {
   "cell_type": "code",
   "execution_count": 32,
   "metadata": {
    "collapsed": true
   },
   "outputs": [],
   "source": [
    "env = data(rpackages.datasets).fetch('trees')"
   ]
  },
  {
   "cell_type": "code",
   "execution_count": 33,
   "metadata": {
    "collapsed": false
   },
   "outputs": [
    {
     "data": {
      "text/plain": [
       "('Girth', 'Height', 'Volume')"
      ]
     },
     "execution_count": 33,
     "metadata": {},
     "output_type": "execute_result"
    }
   ],
   "source": [
    "tuple(env['trees'].names)"
   ]
  },
  {
   "cell_type": "code",
   "execution_count": 34,
   "metadata": {
    "collapsed": true
   },
   "outputs": [],
   "source": [
    "# rpy2 rmagic documentation\n",
    "# http://rpy.sourceforge.net/rpy2/doc-2.4/html/interactive.html\n"
   ]
  },
  {
   "cell_type": "code",
   "execution_count": 53,
   "metadata": {
    "collapsed": false
   },
   "outputs": [],
   "source": [
    "# LOAD Magic\n",
    "%load_ext rpy2.ipython\n"
   ]
  },
  {
   "cell_type": "code",
   "execution_count": 54,
   "metadata": {
    "collapsed": false
   },
   "outputs": [
    {
     "data": {
      "text/plain": [
       "array([ 4.25])"
      ]
     },
     "execution_count": 54,
     "metadata": {},
     "output_type": "execute_result"
    }
   ],
   "source": [
    "# run R CODE\n",
    "%R X=c(1,4,5,7); sd(X); mean(X)"
   ]
  },
  {
   "cell_type": "code",
   "execution_count": 56,
   "metadata": {
    "collapsed": false
   },
   "outputs": [],
   "source": [
    "# translating between R and Pandas\n",
    "#http://pandas.pydata.org/pandas-docs/stable/comparison_with_r.html"
   ]
  },
  {
   "cell_type": "code",
   "execution_count": 57,
   "metadata": {
    "collapsed": true
   },
   "outputs": [],
   "source": [
    "# multi regression\n",
    "# https://www.datarobot.com/blog/multiple-regression-using-statsmodels/\n",
    "# linear regression\n",
    "# https://github.com/justmarkham/DAT4/blob/master/notebooks/08_linear_regression.ipynb\n",
    "# https://github.com/mistertooth/DAT8/blob/master/notebooks/10_linear_regression.ipynb\n",
    "# adjust non-linear fitting\n",
    "# http://ipython-books.github.io/featured-04/\n",
    "# model testing\n",
    "# http://connor-johnson.com/2014/02/18/linear-regression-with-python/\n",
    "# ml general concept\n",
    "# http://www.astroml.org/sklearn_tutorial/general_concepts.html"
   ]
  },
  {
   "cell_type": "code",
   "execution_count": null,
   "metadata": {
    "collapsed": true
   },
   "outputs": [],
   "source": []
  }
 ],
 "metadata": {
  "kernelspec": {
   "display_name": "Python 2",
   "language": "python",
   "name": "python2"
  },
  "language_info": {
   "codemirror_mode": {
    "name": "ipython",
    "version": 2
   },
   "file_extension": ".py",
   "mimetype": "text/x-python",
   "name": "python",
   "nbconvert_exporter": "python",
   "pygments_lexer": "ipython2",
   "version": "2.7.11"
  }
 },
 "nbformat": 4,
 "nbformat_minor": 0
}
