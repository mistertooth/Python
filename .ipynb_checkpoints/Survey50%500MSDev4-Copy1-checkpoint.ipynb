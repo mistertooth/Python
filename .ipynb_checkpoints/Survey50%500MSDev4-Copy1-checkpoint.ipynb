{
 "cells": [
  {
   "cell_type": "code",
   "execution_count": 613,
   "metadata": {
    "collapsed": false
   },
   "outputs": [
    {
     "data": {
      "text/html": [
       "<script>\n",
       "code_show=true;\n",
       "function code_toggle() {\n",
       " if (code_show){\n",
       " $('div.input').hide();\n",
       " } else {\n",
       " $('div.input').show();\n",
       " }\n",
       " code_show = !code_show\n",
       "}\n",
       "$( document ).ready(code_toggle);\n",
       "</script>\n",
       "<form action=\"javascript:code_toggle()\"><input type=\"submit\" value=\"Click here to toggle on/off the raw code.\"></form>"
      ],
      "text/plain": [
       "<IPython.core.display.HTML object>"
      ]
     },
     "execution_count": 613,
     "metadata": {},
     "output_type": "execute_result"
    }
   ],
   "source": [
    "from IPython.display import HTML\n",
    "\n",
    "HTML('''<script>\n",
    "code_show=true;\n",
    "function code_toggle() {\n",
    " if (code_show){\n",
    " $('div.input').hide();\n",
    " } else {\n",
    " $('div.input').show();\n",
    " }\n",
    " code_show = !code_show\n",
    "}\n",
    "$( document ).ready(code_toggle);\n",
    "</script>\n",
    "<form action=\"javascript:code_toggle()\"><input type=\"submit\" value=\"Click here to toggle on/off the raw code.\"></form>''')"
   ]
  },
  {
   "cell_type": "code",
   "execution_count": 614,
   "metadata": {
    "collapsed": true
   },
   "outputs": [],
   "source": [
    "import pandas as pd\n",
    "import numpy as np\n",
    "import matplotlib.pyplot as plt\n",
    "import seaborn as sns\n",
    "# this allows plots to appear directly in the notebook\n",
    "%matplotlib inline\n",
    "plt.rcParams['figure.figsize'] = (8, 6)\n",
    "plt.rcParams['font.size'] = 14\n",
    "# pip install patsy\n",
    "# pip install statsmodels\n",
    "import statsmodels.formula.api as smf\n",
    "# Set ipython's max row display\n",
    "pd.set_option('display.max_row', 1000)\n",
    "\n",
    "# Set iPython's max column width to 50\n",
    "pd.set_option('display.max_columns', 50)\n",
    "\n",
    "from IPython.core.display import display, HTML"
   ]
  },
  {
   "cell_type": "code",
   "execution_count": 615,
   "metadata": {
    "collapsed": true
   },
   "outputs": [],
   "source": [
    "# define url\n",
    "url_0420 = '/Users/shaokuixing/Desktop/whatever/survey50%GenderAge20160420.csv'\n",
    "\n",
    "# read csv file\n",
    "rawData = pd.read_csv(url_0420, sep=';', thousands = '.', decimal =',')"
   ]
  },
  {
   "cell_type": "code",
   "execution_count": 616,
   "metadata": {
    "collapsed": true
   },
   "outputs": [],
   "source": [
    "# subset recall\n",
    "recall = rawData[rawData['questionid']==84].reset_index()\n",
    "recall['recall'] = np.where(recall['ioptiontext']=='Yes',1,0).astype(int)\n",
    "recall['recall_category'] = np.where(recall['ioptiontext']=='Yes','Yes','No')\n",
    "\n",
    "# subset interest\n",
    "interest = rawData[rawData['questionid']==86].reset_index()\n",
    "interest['interest'] = pd.to_numeric(interest['ioptiontext'], errors='coerce')\n",
    "interest['interest_category']=np.where(interest['interest']>= 4,'High','Low')\n",
    "\n",
    "# subset intent\n",
    "intent = rawData[rawData['questionid']==83].reset_index()\n",
    "intent['intent'] = pd.to_numeric(intent['ioptiontext'], errors='coerce')\n",
    "intent['intent_category']=np.where(intent['intent'] >= 4 ,'High','Low')\n",
    "\n",
    "# subset age\n",
    "age = rawData[rawData['questionid']==90].reset_index()\n",
    "age=age.rename(columns = {'ioptiontext':'age_category'})\n",
    "\n",
    "# subset gender\n",
    "gender = rawData[rawData['questionid']==91].reset_index()\n",
    "gender=gender.rename(columns = {'ioptiontext':'gender_category'})"
   ]
  },
  {
   "cell_type": "code",
   "execution_count": 617,
   "metadata": {
    "collapsed": false
   },
   "outputs": [],
   "source": [
    "#intent[intent['intent_category'] == 0]\n",
    "# df.sort(['c1','c2'], ascending=[False,True])\n",
    "#interest.sort(['answersetid'], ascending=True).head()\n",
    "#interest.sort_values(by=\"answersetid\").sample(n=5, random_state=1)"
   ]
  },
  {
   "cell_type": "code",
   "execution_count": 618,
   "metadata": {
    "collapsed": false
   },
   "outputs": [
    {
     "data": {
      "text/html": [
       "<div>\n",
       "<table border=\"1\" class=\"dataframe\">\n",
       "  <thead>\n",
       "    <tr style=\"text-align: right;\">\n",
       "      <th></th>\n",
       "      <th>index</th>\n",
       "      <th>surveyid</th>\n",
       "      <th>answersetid</th>\n",
       "      <th>age_category</th>\n",
       "      <th>click</th>\n",
       "      <th>firstinteraction</th>\n",
       "      <th>deliveredimp</th>\n",
       "      <th>viewableimp</th>\n",
       "      <th>viewableimp_ic</th>\n",
       "      <th>totalviewtime</th>\n",
       "    </tr>\n",
       "  </thead>\n",
       "  <tbody>\n",
       "    <tr>\n",
       "      <th>0</th>\n",
       "      <td>3</td>\n",
       "      <td>291</td>\n",
       "      <td>218047</td>\n",
       "      <td>15-24</td>\n",
       "      <td>0</td>\n",
       "      <td>0</td>\n",
       "      <td>4</td>\n",
       "      <td>3</td>\n",
       "      <td>2</td>\n",
       "      <td>9158</td>\n",
       "    </tr>\n",
       "    <tr>\n",
       "      <th>1</th>\n",
       "      <td>8</td>\n",
       "      <td>291</td>\n",
       "      <td>218979</td>\n",
       "      <td>35-44</td>\n",
       "      <td>0</td>\n",
       "      <td>0</td>\n",
       "      <td>2</td>\n",
       "      <td>1</td>\n",
       "      <td>1</td>\n",
       "      <td>1056</td>\n",
       "    </tr>\n",
       "    <tr>\n",
       "      <th>2</th>\n",
       "      <td>13</td>\n",
       "      <td>291</td>\n",
       "      <td>219322</td>\n",
       "      <td>25-34</td>\n",
       "      <td>0</td>\n",
       "      <td>0</td>\n",
       "      <td>1</td>\n",
       "      <td>0</td>\n",
       "      <td>0</td>\n",
       "      <td>NaN</td>\n",
       "    </tr>\n",
       "    <tr>\n",
       "      <th>3</th>\n",
       "      <td>18</td>\n",
       "      <td>291</td>\n",
       "      <td>219343</td>\n",
       "      <td>15-24</td>\n",
       "      <td>0</td>\n",
       "      <td>0</td>\n",
       "      <td>1</td>\n",
       "      <td>1</td>\n",
       "      <td>1</td>\n",
       "      <td>6220</td>\n",
       "    </tr>\n",
       "    <tr>\n",
       "      <th>4</th>\n",
       "      <td>23</td>\n",
       "      <td>291</td>\n",
       "      <td>219622</td>\n",
       "      <td>15-24</td>\n",
       "      <td>0</td>\n",
       "      <td>0</td>\n",
       "      <td>4</td>\n",
       "      <td>4</td>\n",
       "      <td>2</td>\n",
       "      <td>67354</td>\n",
       "    </tr>\n",
       "  </tbody>\n",
       "</table>\n",
       "</div>"
      ],
      "text/plain": [
       "   index  surveyid  answersetid age_category  click  firstinteraction  \\\n",
       "0      3       291       218047        15-24      0                 0   \n",
       "1      8       291       218979        35-44      0                 0   \n",
       "2     13       291       219322        25-34      0                 0   \n",
       "3     18       291       219343        15-24      0                 0   \n",
       "4     23       291       219622        15-24      0                 0   \n",
       "\n",
       "   deliveredimp  viewableimp  viewableimp_ic  totalviewtime  \n",
       "0             4            3               2           9158  \n",
       "1             2            1               1           1056  \n",
       "2             1            0               0            NaN  \n",
       "3             1            1               1           6220  \n",
       "4             4            4               2          67354  "
      ]
     },
     "execution_count": 618,
     "metadata": {},
     "output_type": "execute_result"
    }
   ],
   "source": [
    "# drop unnecessary columns\n",
    "recall.drop(recall[['ioptiontext','answerid','questionid','questiontext','optionid', \n",
    "                 'iscomplete','isrefgroup']],axis=1, inplace=True)\n",
    "interest.drop(interest[['ioptiontext','answerid','questionid','questiontext','optionid', \n",
    "                 'iscomplete','isrefgroup']],axis=1, inplace=True)\n",
    "intent.drop(intent[['ioptiontext','answerid','questionid','questiontext','optionid', \n",
    "              'iscomplete','isrefgroup']],axis=1, inplace=True)\n",
    "age.drop(age[['answerid','questionid','questiontext','optionid','iscomplete','isrefgroup']],axis=1, inplace=True)\n",
    "gender.drop(gender[['answerid','questionid','questiontext','optionid','iscomplete','isrefgroup']],axis=1, inplace=True)\n",
    "#recall.head(1)\n",
    "age.head()"
   ]
  },
  {
   "cell_type": "code",
   "execution_count": 619,
   "metadata": {
    "collapsed": false
   },
   "outputs": [
    {
     "data": {
      "text/plain": [
       "index_x              False\n",
       "surveyid             False\n",
       "answersetid          False\n",
       "click                False\n",
       "firstinteraction     False\n",
       "deliveredimp         False\n",
       "viewableimp          False\n",
       "viewableimp_ic       False\n",
       "totalviewtime         True\n",
       "recall               False\n",
       "recall_category      False\n",
       "index_y              False\n",
       "interest             False\n",
       "interest_category    False\n",
       "index_x              False\n",
       "intent               False\n",
       "intent_category      False\n",
       "index_y              False\n",
       "age_category         False\n",
       "index                False\n",
       "gender_category      False\n",
       "dtype: bool"
      ]
     },
     "execution_count": 619,
     "metadata": {},
     "output_type": "execute_result"
    }
   ],
   "source": [
    "# merge data\n",
    "df = recall.merge(interest, \n",
    "on= ['surveyid','answersetid',  'click', \n",
    "     'firstinteraction', 'deliveredimp', 'viewableimp','viewableimp_ic','totalviewtime']).merge(intent, on= ['surveyid','answersetid',  'click', \n",
    "     'firstinteraction', 'deliveredimp', 'viewableimp','viewableimp_ic','totalviewtime']).merge(age, on= ['surveyid','answersetid',  'click', \n",
    "     'firstinteraction', 'deliveredimp', 'viewableimp','viewableimp_ic','totalviewtime']).merge(gender, on= ['surveyid','answersetid',  'click', \n",
    "     'firstinteraction', 'deliveredimp', 'viewableimp','viewableimp_ic','totalviewtime'])\n",
    "df.isnull().any()\n",
    "\n"
   ]
  },
  {
   "cell_type": "code",
   "execution_count": 620,
   "metadata": {
    "collapsed": true
   },
   "outputs": [],
   "source": [
    "# create function to transform age column into numerical\n",
    "def age_trans(x):\n",
    "    if x['age_category'] == \"15-24\":\n",
    "        val = 1\n",
    "    elif x['age_category'] == \"25-34\":\n",
    "        val = 2\n",
    "    elif x['age_category'] == \"35-44\":\n",
    "        val = 3\n",
    "    elif x['age_category'] == \"45-54\":\n",
    "        val = 4\n",
    "    elif x['age_category'] == \"55-64\":\n",
    "        val = 5\n",
    "    else:\n",
    "        val=6\n",
    "    return val\n",
    "\n",
    "# apply function and create numerical representation for age categories\n",
    "df['age'] = df.apply(age_trans, axis=1)"
   ]
  },
  {
   "cell_type": "code",
   "execution_count": 621,
   "metadata": {
    "collapsed": true
   },
   "outputs": [],
   "source": [
    "# transform gender into numerical column\n",
    "df['gender'] = np.where(df['gender_category']==\"Male\", 1, 0)"
   ]
  },
  {
   "cell_type": "code",
   "execution_count": 622,
   "metadata": {
    "collapsed": false
   },
   "outputs": [
    {
     "data": {
      "text/html": [
       "<div>\n",
       "<table border=\"1\" class=\"dataframe\">\n",
       "  <thead>\n",
       "    <tr style=\"text-align: right;\">\n",
       "      <th></th>\n",
       "      <th>answersetid</th>\n",
       "      <th>recall</th>\n",
       "      <th>interest</th>\n",
       "      <th>intent</th>\n",
       "      <th>age</th>\n",
       "      <th>gender</th>\n",
       "      <th>recall_category</th>\n",
       "      <th>interest_category</th>\n",
       "      <th>intent_category</th>\n",
       "      <th>age_category</th>\n",
       "      <th>gender_category</th>\n",
       "      <th>click</th>\n",
       "      <th>firstinteraction</th>\n",
       "      <th>deliveredimp</th>\n",
       "      <th>viewableimp</th>\n",
       "      <th>viewableimp_ic</th>\n",
       "      <th>totalviewtime</th>\n",
       "    </tr>\n",
       "  </thead>\n",
       "  <tbody>\n",
       "    <tr>\n",
       "      <th>0</th>\n",
       "      <td>218047</td>\n",
       "      <td>1</td>\n",
       "      <td>2</td>\n",
       "      <td>5</td>\n",
       "      <td>1</td>\n",
       "      <td>0</td>\n",
       "      <td>Yes</td>\n",
       "      <td>Low</td>\n",
       "      <td>High</td>\n",
       "      <td>15-24</td>\n",
       "      <td>Female</td>\n",
       "      <td>0</td>\n",
       "      <td>0</td>\n",
       "      <td>4</td>\n",
       "      <td>3</td>\n",
       "      <td>2</td>\n",
       "      <td>9158</td>\n",
       "    </tr>\n",
       "    <tr>\n",
       "      <th>1</th>\n",
       "      <td>218979</td>\n",
       "      <td>1</td>\n",
       "      <td>2</td>\n",
       "      <td>2</td>\n",
       "      <td>3</td>\n",
       "      <td>0</td>\n",
       "      <td>Yes</td>\n",
       "      <td>Low</td>\n",
       "      <td>Low</td>\n",
       "      <td>35-44</td>\n",
       "      <td>Female</td>\n",
       "      <td>0</td>\n",
       "      <td>0</td>\n",
       "      <td>2</td>\n",
       "      <td>1</td>\n",
       "      <td>1</td>\n",
       "      <td>1056</td>\n",
       "    </tr>\n",
       "    <tr>\n",
       "      <th>2</th>\n",
       "      <td>219322</td>\n",
       "      <td>0</td>\n",
       "      <td>2</td>\n",
       "      <td>2</td>\n",
       "      <td>2</td>\n",
       "      <td>0</td>\n",
       "      <td>No</td>\n",
       "      <td>Low</td>\n",
       "      <td>Low</td>\n",
       "      <td>25-34</td>\n",
       "      <td>Female</td>\n",
       "      <td>0</td>\n",
       "      <td>0</td>\n",
       "      <td>1</td>\n",
       "      <td>0</td>\n",
       "      <td>0</td>\n",
       "      <td>NaN</td>\n",
       "    </tr>\n",
       "    <tr>\n",
       "      <th>3</th>\n",
       "      <td>219343</td>\n",
       "      <td>1</td>\n",
       "      <td>3</td>\n",
       "      <td>4</td>\n",
       "      <td>1</td>\n",
       "      <td>0</td>\n",
       "      <td>Yes</td>\n",
       "      <td>Low</td>\n",
       "      <td>High</td>\n",
       "      <td>15-24</td>\n",
       "      <td>Female</td>\n",
       "      <td>0</td>\n",
       "      <td>0</td>\n",
       "      <td>1</td>\n",
       "      <td>1</td>\n",
       "      <td>1</td>\n",
       "      <td>6220</td>\n",
       "    </tr>\n",
       "    <tr>\n",
       "      <th>4</th>\n",
       "      <td>219622</td>\n",
       "      <td>1</td>\n",
       "      <td>1</td>\n",
       "      <td>3</td>\n",
       "      <td>1</td>\n",
       "      <td>0</td>\n",
       "      <td>Yes</td>\n",
       "      <td>Low</td>\n",
       "      <td>Low</td>\n",
       "      <td>15-24</td>\n",
       "      <td>Female</td>\n",
       "      <td>0</td>\n",
       "      <td>0</td>\n",
       "      <td>4</td>\n",
       "      <td>4</td>\n",
       "      <td>2</td>\n",
       "      <td>67354</td>\n",
       "    </tr>\n",
       "  </tbody>\n",
       "</table>\n",
       "</div>"
      ],
      "text/plain": [
       "   answersetid  recall  interest  intent  age  gender recall_category  \\\n",
       "0       218047       1         2       5    1       0             Yes   \n",
       "1       218979       1         2       2    3       0             Yes   \n",
       "2       219322       0         2       2    2       0              No   \n",
       "3       219343       1         3       4    1       0             Yes   \n",
       "4       219622       1         1       3    1       0             Yes   \n",
       "\n",
       "  interest_category intent_category age_category gender_category  click  \\\n",
       "0               Low            High        15-24          Female      0   \n",
       "1               Low             Low        35-44          Female      0   \n",
       "2               Low             Low        25-34          Female      0   \n",
       "3               Low            High        15-24          Female      0   \n",
       "4               Low             Low        15-24          Female      0   \n",
       "\n",
       "   firstinteraction  deliveredimp  viewableimp  viewableimp_ic  totalviewtime  \n",
       "0                 0             4            3               2           9158  \n",
       "1                 0             2            1               1           1056  \n",
       "2                 0             1            0               0            NaN  \n",
       "3                 0             1            1               1           6220  \n",
       "4                 0             4            4               2          67354  "
      ]
     },
     "execution_count": 622,
     "metadata": {},
     "output_type": "execute_result"
    }
   ],
   "source": [
    "# reorder columns\n",
    "df1= df[['answersetid', 'recall','interest','intent','age', 'gender','recall_category','interest_category', \n",
    "         'intent_category', 'age_category','gender_category',\n",
    "         'click','firstinteraction','deliveredimp', 'viewableimp', 'viewableimp_ic','totalviewtime']]\n",
    "df1.head()"
   ]
  },
  {
   "cell_type": "code",
   "execution_count": 623,
   "metadata": {
    "collapsed": false
   },
   "outputs": [
    {
     "data": {
      "text/plain": [
       "answersetid          16\n",
       "recall               16\n",
       "interest             16\n",
       "intent               16\n",
       "age                  16\n",
       "gender               16\n",
       "recall_category      16\n",
       "interest_category    16\n",
       "intent_category      16\n",
       "age_category         16\n",
       "gender_category      16\n",
       "click                16\n",
       "firstinteraction     16\n",
       "deliveredimp         16\n",
       "viewableimp          16\n",
       "viewableimp_ic       16\n",
       "totalviewtime        16\n",
       "dtype: int64"
      ]
     },
     "execution_count": 623,
     "metadata": {},
     "output_type": "execute_result"
    }
   ],
   "source": [
    "df1[df1['totalviewtime'] == 0].count()"
   ]
  },
  {
   "cell_type": "code",
   "execution_count": 624,
   "metadata": {
    "collapsed": false
   },
   "outputs": [
    {
     "data": {
      "text/plain": [
       "answersetid          False\n",
       "recall               False\n",
       "interest             False\n",
       "intent               False\n",
       "age                  False\n",
       "gender               False\n",
       "recall_category      False\n",
       "interest_category    False\n",
       "intent_category      False\n",
       "age_category         False\n",
       "gender_category      False\n",
       "click                False\n",
       "firstinteraction     False\n",
       "deliveredimp         False\n",
       "viewableimp          False\n",
       "viewableimp_ic       False\n",
       "totalviewtime         True\n",
       "dtype: bool"
      ]
     },
     "execution_count": 624,
     "metadata": {},
     "output_type": "execute_result"
    }
   ],
   "source": [
    "# calculate average view time\n",
    "#df1.is_copy = False\n",
    "#df1['avgviewtime'] = df1['totalviewtime'].div(df['viewableimp_ic'], axis=0)\n",
    "df1.isnull().any()\n"
   ]
  },
  {
   "cell_type": "code",
   "execution_count": 625,
   "metadata": {
    "collapsed": false
   },
   "outputs": [
    {
     "data": {
      "text/plain": [
       "answersetid          False\n",
       "recall               False\n",
       "interest             False\n",
       "intent               False\n",
       "age                  False\n",
       "gender               False\n",
       "recall_category      False\n",
       "interest_category    False\n",
       "intent_category      False\n",
       "age_category         False\n",
       "gender_category      False\n",
       "click                False\n",
       "firstinteraction     False\n",
       "deliveredimp         False\n",
       "viewableimp          False\n",
       "viewableimp_ic       False\n",
       "totalviewtime         True\n",
       "avgviewtime           True\n",
       "dtype: bool"
      ]
     },
     "execution_count": 625,
     "metadata": {},
     "output_type": "execute_result"
    }
   ],
   "source": [
    "df2=df1.copy()\n",
    "df2.is_copy = False\n",
    "df2['avgviewtime'] = df2['totalviewtime'].div(df2['viewableimp_ic'], axis=0)\n",
    "df2.isnull().any()\n"
   ]
  },
  {
   "cell_type": "code",
   "execution_count": 626,
   "metadata": {
    "collapsed": false
   },
   "outputs": [
    {
     "data": {
      "text/plain": [
       "False"
      ]
     },
     "execution_count": 626,
     "metadata": {},
     "output_type": "execute_result"
    }
   ],
   "source": [
    "# make sure no primary key is 0\n",
    "np.isinf(df2.answersetid).any()"
   ]
  },
  {
   "cell_type": "code",
   "execution_count": 627,
   "metadata": {
    "collapsed": false
   },
   "outputs": [
    {
     "data": {
      "text/plain": [
       "16"
      ]
     },
     "execution_count": 627,
     "metadata": {},
     "output_type": "execute_result"
    }
   ],
   "source": [
    "# count how many rows are 0\n",
    "df2[df2['totalviewtime']==0]['answersetid'].nunique()"
   ]
  },
  {
   "cell_type": "code",
   "execution_count": 628,
   "metadata": {
    "collapsed": false
   },
   "outputs": [
    {
     "data": {
      "text/plain": [
       "427"
      ]
     },
     "execution_count": 628,
     "metadata": {},
     "output_type": "execute_result"
    }
   ],
   "source": [
    "# count how many rows are null\n",
    "# df.isnull().any().any()\n",
    "df2.totalviewtime.isnull().values.sum()"
   ]
  },
  {
   "cell_type": "code",
   "execution_count": 629,
   "metadata": {
    "collapsed": false
   },
   "outputs": [
    {
     "data": {
      "text/html": [
       "<div>\n",
       "<table border=\"1\" class=\"dataframe\">\n",
       "  <thead>\n",
       "    <tr style=\"text-align: right;\">\n",
       "      <th></th>\n",
       "      <th>answersetid</th>\n",
       "      <th>recall</th>\n",
       "      <th>interest</th>\n",
       "      <th>intent</th>\n",
       "      <th>age</th>\n",
       "      <th>gender</th>\n",
       "      <th>recall_category</th>\n",
       "      <th>interest_category</th>\n",
       "      <th>intent_category</th>\n",
       "      <th>age_category</th>\n",
       "      <th>gender_category</th>\n",
       "      <th>click</th>\n",
       "      <th>firstinteraction</th>\n",
       "      <th>deliveredimp</th>\n",
       "      <th>viewableimp</th>\n",
       "      <th>viewableimp_ic</th>\n",
       "      <th>totalviewtime</th>\n",
       "      <th>avgviewtime</th>\n",
       "    </tr>\n",
       "  </thead>\n",
       "  <tbody>\n",
       "    <tr>\n",
       "      <th>0</th>\n",
       "      <td>218047</td>\n",
       "      <td>1</td>\n",
       "      <td>2</td>\n",
       "      <td>5</td>\n",
       "      <td>1</td>\n",
       "      <td>0</td>\n",
       "      <td>Yes</td>\n",
       "      <td>Low</td>\n",
       "      <td>High</td>\n",
       "      <td>15-24</td>\n",
       "      <td>Female</td>\n",
       "      <td>0</td>\n",
       "      <td>0</td>\n",
       "      <td>4</td>\n",
       "      <td>3</td>\n",
       "      <td>2</td>\n",
       "      <td>9158</td>\n",
       "      <td>4579</td>\n",
       "    </tr>\n",
       "    <tr>\n",
       "      <th>1</th>\n",
       "      <td>218979</td>\n",
       "      <td>1</td>\n",
       "      <td>2</td>\n",
       "      <td>2</td>\n",
       "      <td>3</td>\n",
       "      <td>0</td>\n",
       "      <td>Yes</td>\n",
       "      <td>Low</td>\n",
       "      <td>Low</td>\n",
       "      <td>35-44</td>\n",
       "      <td>Female</td>\n",
       "      <td>0</td>\n",
       "      <td>0</td>\n",
       "      <td>2</td>\n",
       "      <td>1</td>\n",
       "      <td>1</td>\n",
       "      <td>1056</td>\n",
       "      <td>1056</td>\n",
       "    </tr>\n",
       "    <tr>\n",
       "      <th>2</th>\n",
       "      <td>219322</td>\n",
       "      <td>0</td>\n",
       "      <td>2</td>\n",
       "      <td>2</td>\n",
       "      <td>2</td>\n",
       "      <td>0</td>\n",
       "      <td>No</td>\n",
       "      <td>Low</td>\n",
       "      <td>Low</td>\n",
       "      <td>25-34</td>\n",
       "      <td>Female</td>\n",
       "      <td>0</td>\n",
       "      <td>0</td>\n",
       "      <td>1</td>\n",
       "      <td>0</td>\n",
       "      <td>0</td>\n",
       "      <td>NaN</td>\n",
       "      <td>NaN</td>\n",
       "    </tr>\n",
       "    <tr>\n",
       "      <th>3</th>\n",
       "      <td>219343</td>\n",
       "      <td>1</td>\n",
       "      <td>3</td>\n",
       "      <td>4</td>\n",
       "      <td>1</td>\n",
       "      <td>0</td>\n",
       "      <td>Yes</td>\n",
       "      <td>Low</td>\n",
       "      <td>High</td>\n",
       "      <td>15-24</td>\n",
       "      <td>Female</td>\n",
       "      <td>0</td>\n",
       "      <td>0</td>\n",
       "      <td>1</td>\n",
       "      <td>1</td>\n",
       "      <td>1</td>\n",
       "      <td>6220</td>\n",
       "      <td>6220</td>\n",
       "    </tr>\n",
       "    <tr>\n",
       "      <th>4</th>\n",
       "      <td>219622</td>\n",
       "      <td>1</td>\n",
       "      <td>1</td>\n",
       "      <td>3</td>\n",
       "      <td>1</td>\n",
       "      <td>0</td>\n",
       "      <td>Yes</td>\n",
       "      <td>Low</td>\n",
       "      <td>Low</td>\n",
       "      <td>15-24</td>\n",
       "      <td>Female</td>\n",
       "      <td>0</td>\n",
       "      <td>0</td>\n",
       "      <td>4</td>\n",
       "      <td>4</td>\n",
       "      <td>2</td>\n",
       "      <td>67354</td>\n",
       "      <td>33677</td>\n",
       "    </tr>\n",
       "  </tbody>\n",
       "</table>\n",
       "</div>"
      ],
      "text/plain": [
       "   answersetid  recall  interest  intent  age  gender recall_category  \\\n",
       "0       218047       1         2       5    1       0             Yes   \n",
       "1       218979       1         2       2    3       0             Yes   \n",
       "2       219322       0         2       2    2       0              No   \n",
       "3       219343       1         3       4    1       0             Yes   \n",
       "4       219622       1         1       3    1       0             Yes   \n",
       "\n",
       "  interest_category intent_category age_category gender_category  click  \\\n",
       "0               Low            High        15-24          Female      0   \n",
       "1               Low             Low        35-44          Female      0   \n",
       "2               Low             Low        25-34          Female      0   \n",
       "3               Low            High        15-24          Female      0   \n",
       "4               Low             Low        15-24          Female      0   \n",
       "\n",
       "   firstinteraction  deliveredimp  viewableimp  viewableimp_ic  totalviewtime  \\\n",
       "0                 0             4            3               2           9158   \n",
       "1                 0             2            1               1           1056   \n",
       "2                 0             1            0               0            NaN   \n",
       "3                 0             1            1               1           6220   \n",
       "4                 0             4            4               2          67354   \n",
       "\n",
       "   avgviewtime  \n",
       "0         4579  \n",
       "1         1056  \n",
       "2          NaN  \n",
       "3         6220  \n",
       "4        33677  "
      ]
     },
     "execution_count": 629,
     "metadata": {},
     "output_type": "execute_result"
    }
   ],
   "source": [
    "# let's look at all the null value rows\n",
    "# df2[df2.isnull().any(axis=1)]\n",
    "df2.head()"
   ]
  },
  {
   "cell_type": "code",
   "execution_count": 630,
   "metadata": {
    "collapsed": false
   },
   "outputs": [
    {
     "data": {
      "text/html": [
       "<div>\n",
       "<table border=\"1\" class=\"dataframe\">\n",
       "  <thead>\n",
       "    <tr style=\"text-align: right;\">\n",
       "      <th></th>\n",
       "      <th>answersetid</th>\n",
       "      <th>recall</th>\n",
       "      <th>interest</th>\n",
       "      <th>intent</th>\n",
       "      <th>age</th>\n",
       "      <th>gender</th>\n",
       "      <th>recall_category</th>\n",
       "      <th>interest_category</th>\n",
       "      <th>intent_category</th>\n",
       "      <th>age_category</th>\n",
       "      <th>gender_category</th>\n",
       "      <th>click</th>\n",
       "      <th>firstinteraction</th>\n",
       "      <th>deliveredimp</th>\n",
       "      <th>viewableimp</th>\n",
       "      <th>viewableimp_ic</th>\n",
       "      <th>totalviewtime</th>\n",
       "      <th>avgviewtime</th>\n",
       "    </tr>\n",
       "  </thead>\n",
       "  <tbody>\n",
       "    <tr>\n",
       "      <th>0</th>\n",
       "      <td>218047</td>\n",
       "      <td>1</td>\n",
       "      <td>2</td>\n",
       "      <td>5</td>\n",
       "      <td>1</td>\n",
       "      <td>0</td>\n",
       "      <td>Yes</td>\n",
       "      <td>Low</td>\n",
       "      <td>High</td>\n",
       "      <td>15-24</td>\n",
       "      <td>Female</td>\n",
       "      <td>0</td>\n",
       "      <td>0</td>\n",
       "      <td>4</td>\n",
       "      <td>3</td>\n",
       "      <td>2</td>\n",
       "      <td>9158</td>\n",
       "      <td>4579</td>\n",
       "    </tr>\n",
       "    <tr>\n",
       "      <th>1</th>\n",
       "      <td>218979</td>\n",
       "      <td>1</td>\n",
       "      <td>2</td>\n",
       "      <td>2</td>\n",
       "      <td>3</td>\n",
       "      <td>0</td>\n",
       "      <td>Yes</td>\n",
       "      <td>Low</td>\n",
       "      <td>Low</td>\n",
       "      <td>35-44</td>\n",
       "      <td>Female</td>\n",
       "      <td>0</td>\n",
       "      <td>0</td>\n",
       "      <td>2</td>\n",
       "      <td>1</td>\n",
       "      <td>1</td>\n",
       "      <td>1056</td>\n",
       "      <td>1056</td>\n",
       "    </tr>\n",
       "    <tr>\n",
       "      <th>2</th>\n",
       "      <td>219322</td>\n",
       "      <td>0</td>\n",
       "      <td>2</td>\n",
       "      <td>2</td>\n",
       "      <td>2</td>\n",
       "      <td>0</td>\n",
       "      <td>No</td>\n",
       "      <td>Low</td>\n",
       "      <td>Low</td>\n",
       "      <td>25-34</td>\n",
       "      <td>Female</td>\n",
       "      <td>0</td>\n",
       "      <td>0</td>\n",
       "      <td>1</td>\n",
       "      <td>0</td>\n",
       "      <td>0</td>\n",
       "      <td>NaN</td>\n",
       "      <td>NaN</td>\n",
       "    </tr>\n",
       "    <tr>\n",
       "      <th>3</th>\n",
       "      <td>219343</td>\n",
       "      <td>1</td>\n",
       "      <td>3</td>\n",
       "      <td>4</td>\n",
       "      <td>1</td>\n",
       "      <td>0</td>\n",
       "      <td>Yes</td>\n",
       "      <td>Low</td>\n",
       "      <td>High</td>\n",
       "      <td>15-24</td>\n",
       "      <td>Female</td>\n",
       "      <td>0</td>\n",
       "      <td>0</td>\n",
       "      <td>1</td>\n",
       "      <td>1</td>\n",
       "      <td>1</td>\n",
       "      <td>6220</td>\n",
       "      <td>6220</td>\n",
       "    </tr>\n",
       "    <tr>\n",
       "      <th>4</th>\n",
       "      <td>219622</td>\n",
       "      <td>1</td>\n",
       "      <td>1</td>\n",
       "      <td>3</td>\n",
       "      <td>1</td>\n",
       "      <td>0</td>\n",
       "      <td>Yes</td>\n",
       "      <td>Low</td>\n",
       "      <td>Low</td>\n",
       "      <td>15-24</td>\n",
       "      <td>Female</td>\n",
       "      <td>0</td>\n",
       "      <td>0</td>\n",
       "      <td>4</td>\n",
       "      <td>4</td>\n",
       "      <td>2</td>\n",
       "      <td>67354</td>\n",
       "      <td>33677</td>\n",
       "    </tr>\n",
       "  </tbody>\n",
       "</table>\n",
       "</div>"
      ],
      "text/plain": [
       "   answersetid  recall  interest  intent  age  gender recall_category  \\\n",
       "0       218047       1         2       5    1       0             Yes   \n",
       "1       218979       1         2       2    3       0             Yes   \n",
       "2       219322       0         2       2    2       0              No   \n",
       "3       219343       1         3       4    1       0             Yes   \n",
       "4       219622       1         1       3    1       0             Yes   \n",
       "\n",
       "  interest_category intent_category age_category gender_category  click  \\\n",
       "0               Low            High        15-24          Female      0   \n",
       "1               Low             Low        35-44          Female      0   \n",
       "2               Low             Low        25-34          Female      0   \n",
       "3               Low            High        15-24          Female      0   \n",
       "4               Low             Low        15-24          Female      0   \n",
       "\n",
       "   firstinteraction  deliveredimp  viewableimp  viewableimp_ic  totalviewtime  \\\n",
       "0                 0             4            3               2           9158   \n",
       "1                 0             2            1               1           1056   \n",
       "2                 0             1            0               0            NaN   \n",
       "3                 0             1            1               1           6220   \n",
       "4                 0             4            4               2          67354   \n",
       "\n",
       "   avgviewtime  \n",
       "0         4579  \n",
       "1         1056  \n",
       "2          NaN  \n",
       "3         6220  \n",
       "4        33677  "
      ]
     },
     "execution_count": 630,
     "metadata": {},
     "output_type": "execute_result"
    }
   ],
   "source": [
    "df3 = df2.copy()\n",
    "df3.head()"
   ]
  },
  {
   "cell_type": "code",
   "execution_count": 631,
   "metadata": {
    "collapsed": false
   },
   "outputs": [
    {
     "data": {
      "text/html": [
       "<div>\n",
       "<table border=\"1\" class=\"dataframe\">\n",
       "  <thead>\n",
       "    <tr style=\"text-align: right;\">\n",
       "      <th></th>\n",
       "      <th>answersetid</th>\n",
       "      <th>recall</th>\n",
       "      <th>interest</th>\n",
       "      <th>intent</th>\n",
       "      <th>age</th>\n",
       "      <th>gender</th>\n",
       "      <th>recall_category</th>\n",
       "      <th>interest_category</th>\n",
       "      <th>intent_category</th>\n",
       "      <th>age_category</th>\n",
       "      <th>gender_category</th>\n",
       "      <th>click</th>\n",
       "      <th>firstinteraction</th>\n",
       "      <th>deliveredimp</th>\n",
       "      <th>viewableimp</th>\n",
       "      <th>viewableimp_ic</th>\n",
       "      <th>totalviewtime</th>\n",
       "      <th>avgviewtime</th>\n",
       "    </tr>\n",
       "  </thead>\n",
       "  <tbody>\n",
       "    <tr>\n",
       "      <th>0</th>\n",
       "      <td>218047</td>\n",
       "      <td>1</td>\n",
       "      <td>2</td>\n",
       "      <td>5</td>\n",
       "      <td>1</td>\n",
       "      <td>0</td>\n",
       "      <td>Yes</td>\n",
       "      <td>Low</td>\n",
       "      <td>High</td>\n",
       "      <td>15-24</td>\n",
       "      <td>Female</td>\n",
       "      <td>0</td>\n",
       "      <td>0</td>\n",
       "      <td>4</td>\n",
       "      <td>3</td>\n",
       "      <td>2</td>\n",
       "      <td>9158</td>\n",
       "      <td>4579</td>\n",
       "    </tr>\n",
       "    <tr>\n",
       "      <th>1</th>\n",
       "      <td>218979</td>\n",
       "      <td>1</td>\n",
       "      <td>2</td>\n",
       "      <td>2</td>\n",
       "      <td>3</td>\n",
       "      <td>0</td>\n",
       "      <td>Yes</td>\n",
       "      <td>Low</td>\n",
       "      <td>Low</td>\n",
       "      <td>35-44</td>\n",
       "      <td>Female</td>\n",
       "      <td>0</td>\n",
       "      <td>0</td>\n",
       "      <td>2</td>\n",
       "      <td>1</td>\n",
       "      <td>1</td>\n",
       "      <td>1056</td>\n",
       "      <td>1056</td>\n",
       "    </tr>\n",
       "    <tr>\n",
       "      <th>2</th>\n",
       "      <td>219322</td>\n",
       "      <td>0</td>\n",
       "      <td>2</td>\n",
       "      <td>2</td>\n",
       "      <td>2</td>\n",
       "      <td>0</td>\n",
       "      <td>No</td>\n",
       "      <td>Low</td>\n",
       "      <td>Low</td>\n",
       "      <td>25-34</td>\n",
       "      <td>Female</td>\n",
       "      <td>0</td>\n",
       "      <td>0</td>\n",
       "      <td>1</td>\n",
       "      <td>0</td>\n",
       "      <td>0</td>\n",
       "      <td>0</td>\n",
       "      <td>0</td>\n",
       "    </tr>\n",
       "    <tr>\n",
       "      <th>3</th>\n",
       "      <td>219343</td>\n",
       "      <td>1</td>\n",
       "      <td>3</td>\n",
       "      <td>4</td>\n",
       "      <td>1</td>\n",
       "      <td>0</td>\n",
       "      <td>Yes</td>\n",
       "      <td>Low</td>\n",
       "      <td>High</td>\n",
       "      <td>15-24</td>\n",
       "      <td>Female</td>\n",
       "      <td>0</td>\n",
       "      <td>0</td>\n",
       "      <td>1</td>\n",
       "      <td>1</td>\n",
       "      <td>1</td>\n",
       "      <td>6220</td>\n",
       "      <td>6220</td>\n",
       "    </tr>\n",
       "    <tr>\n",
       "      <th>4</th>\n",
       "      <td>219622</td>\n",
       "      <td>1</td>\n",
       "      <td>1</td>\n",
       "      <td>3</td>\n",
       "      <td>1</td>\n",
       "      <td>0</td>\n",
       "      <td>Yes</td>\n",
       "      <td>Low</td>\n",
       "      <td>Low</td>\n",
       "      <td>15-24</td>\n",
       "      <td>Female</td>\n",
       "      <td>0</td>\n",
       "      <td>0</td>\n",
       "      <td>4</td>\n",
       "      <td>4</td>\n",
       "      <td>2</td>\n",
       "      <td>67354</td>\n",
       "      <td>33677</td>\n",
       "    </tr>\n",
       "  </tbody>\n",
       "</table>\n",
       "</div>"
      ],
      "text/plain": [
       "   answersetid  recall  interest  intent  age  gender recall_category  \\\n",
       "0       218047       1         2       5    1       0             Yes   \n",
       "1       218979       1         2       2    3       0             Yes   \n",
       "2       219322       0         2       2    2       0              No   \n",
       "3       219343       1         3       4    1       0             Yes   \n",
       "4       219622       1         1       3    1       0             Yes   \n",
       "\n",
       "  interest_category intent_category age_category gender_category  click  \\\n",
       "0               Low            High        15-24          Female      0   \n",
       "1               Low             Low        35-44          Female      0   \n",
       "2               Low             Low        25-34          Female      0   \n",
       "3               Low            High        15-24          Female      0   \n",
       "4               Low             Low        15-24          Female      0   \n",
       "\n",
       "   firstinteraction  deliveredimp  viewableimp  viewableimp_ic  totalviewtime  \\\n",
       "0                 0             4            3               2           9158   \n",
       "1                 0             2            1               1           1056   \n",
       "2                 0             1            0               0              0   \n",
       "3                 0             1            1               1           6220   \n",
       "4                 0             4            4               2          67354   \n",
       "\n",
       "   avgviewtime  \n",
       "0         4579  \n",
       "1         1056  \n",
       "2            0  \n",
       "3         6220  \n",
       "4        33677  "
      ]
     },
     "execution_count": 631,
     "metadata": {},
     "output_type": "execute_result"
    }
   ],
   "source": [
    "df3['totalviewtime'].fillna(0, inplace=True)\n",
    "df3['avgviewtime']=df3.avgviewtime.replace(np.inf, np.nan)\n",
    "df3['avgviewtime'].fillna(0, inplace=True)\n",
    "df3.head()"
   ]
  },
  {
   "cell_type": "code",
   "execution_count": 632,
   "metadata": {
    "collapsed": false
   },
   "outputs": [
    {
     "data": {
      "text/html": [
       "<div>\n",
       "<table border=\"1\" class=\"dataframe\">\n",
       "  <thead>\n",
       "    <tr style=\"text-align: right;\">\n",
       "      <th></th>\n",
       "      <th>answersetid</th>\n",
       "      <th>recall</th>\n",
       "      <th>interest</th>\n",
       "      <th>intent</th>\n",
       "      <th>age</th>\n",
       "      <th>gender</th>\n",
       "      <th>recall_category</th>\n",
       "      <th>interest_category</th>\n",
       "      <th>intent_category</th>\n",
       "      <th>age_category</th>\n",
       "      <th>gender_category</th>\n",
       "      <th>click</th>\n",
       "      <th>firstinteraction</th>\n",
       "      <th>deliveredimp</th>\n",
       "      <th>viewableimp</th>\n",
       "      <th>viewableimp_ic</th>\n",
       "      <th>totalviewtime</th>\n",
       "      <th>avgviewtime</th>\n",
       "    </tr>\n",
       "  </thead>\n",
       "  <tbody>\n",
       "  </tbody>\n",
       "</table>\n",
       "</div>"
      ],
      "text/plain": [
       "Empty DataFrame\n",
       "Columns: [answersetid, recall, interest, intent, age, gender, recall_category, interest_category, intent_category, age_category, gender_category, click, firstinteraction, deliveredimp, viewableimp, viewableimp_ic, totalviewtime, avgviewtime]\n",
       "Index: []"
      ]
     },
     "execution_count": 632,
     "metadata": {},
     "output_type": "execute_result"
    }
   ],
   "source": [
    "df3[np.isinf(df3.avgviewtime)==True]"
   ]
  },
  {
   "cell_type": "code",
   "execution_count": null,
   "metadata": {
    "collapsed": false
   },
   "outputs": [],
   "source": [
    "\n"
   ]
  },
  {
   "cell_type": "code",
   "execution_count": 633,
   "metadata": {
    "collapsed": false
   },
   "outputs": [
    {
     "data": {
      "text/plain": [
       "False"
      ]
     },
     "execution_count": 633,
     "metadata": {},
     "output_type": "execute_result"
    }
   ],
   "source": [
    "# check how many inf value\n",
    "np.isinf(df3.avgviewtime).any()"
   ]
  },
  {
   "cell_type": "code",
   "execution_count": 634,
   "metadata": {
    "collapsed": false
   },
   "outputs": [
    {
     "data": {
      "text/plain": [
       "567"
      ]
     },
     "execution_count": 634,
     "metadata": {},
     "output_type": "execute_result"
    }
   ],
   "source": [
    "# count how many rows are 0\n",
    "df3[df3['avgviewtime']==0]['answersetid'].nunique()"
   ]
  },
  {
   "cell_type": "code",
   "execution_count": 635,
   "metadata": {
    "collapsed": false
   },
   "outputs": [
    {
     "data": {
      "text/plain": [
       "0"
      ]
     },
     "execution_count": 635,
     "metadata": {},
     "output_type": "execute_result"
    }
   ],
   "source": [
    "# check if any other value is converted to 0\n",
    "df3[df3['answersetid']==0]['answersetid'].nunique()"
   ]
  },
  {
   "cell_type": "code",
   "execution_count": 636,
   "metadata": {
    "collapsed": false
   },
   "outputs": [
    {
     "data": {
      "text/plain": [
       "0"
      ]
     },
     "execution_count": 636,
     "metadata": {},
     "output_type": "execute_result"
    }
   ],
   "source": [
    "# count how many rows are null\n",
    "# df.isnull().any().any()\n",
    "df3.avgviewtime.isnull().values.sum()"
   ]
  },
  {
   "cell_type": "code",
   "execution_count": 637,
   "metadata": {
    "collapsed": false
   },
   "outputs": [
    {
     "data": {
      "text/plain": [
       "<matplotlib.axes._subplots.AxesSubplot at 0x123403810>"
      ]
     },
     "execution_count": 637,
     "metadata": {},
     "output_type": "execute_result"
    },
    {
     "data": {
      "image/png": "[encoded data removed]",
      "text/plain": [
       "<matplotlib.figure.Figure at 0x1224bd390>"
      ]
     },
     "metadata": {},
     "output_type": "display_data"
    }
   ],
   "source": [
    "sns.heatmap(df1[df1.columns[1:]].corr(method='spearman'))"
   ]
  },
  {
   "cell_type": "code",
   "execution_count": 638,
   "metadata": {
    "collapsed": false
   },
   "outputs": [
    {
     "data": {
      "text/html": [
       "<div>\n",
       "<table border=\"1\" class=\"dataframe\">\n",
       "  <thead>\n",
       "    <tr style=\"text-align: right;\">\n",
       "      <th></th>\n",
       "      <th>recall</th>\n",
       "      <th>interest</th>\n",
       "      <th>intent</th>\n",
       "      <th>age</th>\n",
       "      <th>gender</th>\n",
       "      <th>click</th>\n",
       "      <th>firstinteraction</th>\n",
       "      <th>deliveredimp</th>\n",
       "      <th>viewableimp</th>\n",
       "      <th>viewableimp_ic</th>\n",
       "      <th>totalviewtime</th>\n",
       "      <th>avgviewtime</th>\n",
       "    </tr>\n",
       "  </thead>\n",
       "  <tbody>\n",
       "    <tr>\n",
       "      <th>count</th>\n",
       "      <td>8004.000000</td>\n",
       "      <td>8004.000000</td>\n",
       "      <td>8004.000000</td>\n",
       "      <td>8004.000000</td>\n",
       "      <td>8004.000000</td>\n",
       "      <td>8004.000000</td>\n",
       "      <td>8004.000000</td>\n",
       "      <td>8004.000000</td>\n",
       "      <td>8004.000000</td>\n",
       "      <td>8004.000000</td>\n",
       "      <td>8.004000e+03</td>\n",
       "      <td>8004.000000</td>\n",
       "    </tr>\n",
       "    <tr>\n",
       "      <th>mean</th>\n",
       "      <td>0.387306</td>\n",
       "      <td>2.342954</td>\n",
       "      <td>2.517366</td>\n",
       "      <td>2.642804</td>\n",
       "      <td>0.432784</td>\n",
       "      <td>0.274113</td>\n",
       "      <td>0.790855</td>\n",
       "      <td>30.411169</td>\n",
       "      <td>21.035357</td>\n",
       "      <td>18.542854</td>\n",
       "      <td>1.184217e+06</td>\n",
       "      <td>81155.705736</td>\n",
       "    </tr>\n",
       "    <tr>\n",
       "      <th>std</th>\n",
       "      <td>0.487165</td>\n",
       "      <td>1.248545</td>\n",
       "      <td>1.393860</td>\n",
       "      <td>1.564386</td>\n",
       "      <td>0.495492</td>\n",
       "      <td>0.932737</td>\n",
       "      <td>4.858306</td>\n",
       "      <td>56.383385</td>\n",
       "      <td>39.026577</td>\n",
       "      <td>33.238753</td>\n",
       "      <td>9.269530e+06</td>\n",
       "      <td>549079.473805</td>\n",
       "    </tr>\n",
       "    <tr>\n",
       "      <th>min</th>\n",
       "      <td>0.000000</td>\n",
       "      <td>1.000000</td>\n",
       "      <td>1.000000</td>\n",
       "      <td>1.000000</td>\n",
       "      <td>0.000000</td>\n",
       "      <td>0.000000</td>\n",
       "      <td>0.000000</td>\n",
       "      <td>1.000000</td>\n",
       "      <td>0.000000</td>\n",
       "      <td>0.000000</td>\n",
       "      <td>0.000000e+00</td>\n",
       "      <td>0.000000</td>\n",
       "    </tr>\n",
       "    <tr>\n",
       "      <th>25%</th>\n",
       "      <td>0.000000</td>\n",
       "      <td>1.000000</td>\n",
       "      <td>1.000000</td>\n",
       "      <td>1.000000</td>\n",
       "      <td>0.000000</td>\n",
       "      <td>0.000000</td>\n",
       "      <td>0.000000</td>\n",
       "      <td>4.000000</td>\n",
       "      <td>2.000000</td>\n",
       "      <td>2.000000</td>\n",
       "      <td>2.682750e+04</td>\n",
       "      <td>6044.416667</td>\n",
       "    </tr>\n",
       "    <tr>\n",
       "      <th>50%</th>\n",
       "      <td>0.000000</td>\n",
       "      <td>2.000000</td>\n",
       "      <td>3.000000</td>\n",
       "      <td>2.000000</td>\n",
       "      <td>0.000000</td>\n",
       "      <td>0.000000</td>\n",
       "      <td>0.000000</td>\n",
       "      <td>12.000000</td>\n",
       "      <td>8.000000</td>\n",
       "      <td>8.000000</td>\n",
       "      <td>1.243460e+05</td>\n",
       "      <td>11248.093750</td>\n",
       "    </tr>\n",
       "    <tr>\n",
       "      <th>75%</th>\n",
       "      <td>1.000000</td>\n",
       "      <td>3.000000</td>\n",
       "      <td>3.000000</td>\n",
       "      <td>4.000000</td>\n",
       "      <td>1.000000</td>\n",
       "      <td>0.000000</td>\n",
       "      <td>1.000000</td>\n",
       "      <td>33.000000</td>\n",
       "      <td>23.000000</td>\n",
       "      <td>21.000000</td>\n",
       "      <td>4.815480e+05</td>\n",
       "      <td>30811.250000</td>\n",
       "    </tr>\n",
       "    <tr>\n",
       "      <th>max</th>\n",
       "      <td>1.000000</td>\n",
       "      <td>5.000000</td>\n",
       "      <td>5.000000</td>\n",
       "      <td>6.000000</td>\n",
       "      <td>1.000000</td>\n",
       "      <td>27.000000</td>\n",
       "      <td>393.000000</td>\n",
       "      <td>1026.000000</td>\n",
       "      <td>760.000000</td>\n",
       "      <td>680.000000</td>\n",
       "      <td>6.911309e+08</td>\n",
       "      <td>36375309.368421</td>\n",
       "    </tr>\n",
       "  </tbody>\n",
       "</table>\n",
       "</div>"
      ],
      "text/plain": [
       "            recall     interest       intent          age       gender  \\\n",
       "count  8004.000000  8004.000000  8004.000000  8004.000000  8004.000000   \n",
       "mean      0.387306     2.342954     2.517366     2.642804     0.432784   \n",
       "std       0.487165     1.248545     1.393860     1.564386     0.495492   \n",
       "min       0.000000     1.000000     1.000000     1.000000     0.000000   \n",
       "25%       0.000000     1.000000     1.000000     1.000000     0.000000   \n",
       "50%       0.000000     2.000000     3.000000     2.000000     0.000000   \n",
       "75%       1.000000     3.000000     3.000000     4.000000     1.000000   \n",
       "max       1.000000     5.000000     5.000000     6.000000     1.000000   \n",
       "\n",
       "             click  firstinteraction  deliveredimp  viewableimp  \\\n",
       "count  8004.000000       8004.000000   8004.000000  8004.000000   \n",
       "mean      0.274113          0.790855     30.411169    21.035357   \n",
       "std       0.932737          4.858306     56.383385    39.026577   \n",
       "min       0.000000          0.000000      1.000000     0.000000   \n",
       "25%       0.000000          0.000000      4.000000     2.000000   \n",
       "50%       0.000000          0.000000     12.000000     8.000000   \n",
       "75%       0.000000          1.000000     33.000000    23.000000   \n",
       "max      27.000000        393.000000   1026.000000   760.000000   \n",
       "\n",
       "       viewableimp_ic  totalviewtime      avgviewtime  \n",
       "count     8004.000000   8.004000e+03      8004.000000  \n",
       "mean        18.542854   1.184217e+06     81155.705736  \n",
       "std         33.238753   9.269530e+06    549079.473805  \n",
       "min          0.000000   0.000000e+00         0.000000  \n",
       "25%          2.000000   2.682750e+04      6044.416667  \n",
       "50%          8.000000   1.243460e+05     11248.093750  \n",
       "75%         21.000000   4.815480e+05     30811.250000  \n",
       "max        680.000000   6.911309e+08  36375309.368421  "
      ]
     },
     "execution_count": 638,
     "metadata": {},
     "output_type": "execute_result"
    }
   ],
   "source": [
    "#df3['avgviewtime'] = df3['avgviewtime']/1000\n",
    "#df3['totalviewtime'] = df3['totalviewtime']/1000\n",
    "df3[df3.columns[1:]].describe()"
   ]
  },
  {
   "cell_type": "code",
   "execution_count": 639,
   "metadata": {
    "collapsed": true
   },
   "outputs": [],
   "source": [
    "df4=df3.copy()"
   ]
  },
  {
   "cell_type": "code",
   "execution_count": 640,
   "metadata": {
    "collapsed": false
   },
   "outputs": [
    {
     "name": "stdout",
     "output_type": "stream",
     "text": [
      "['0 - 2', '2 - 4', '4 - 6', '6 - 8', '8 - 10', '10 - 12', '12 - 14', '14 - 16', '16 - 18', '18 - 20', '20 - 22', '22 - 24', '24 - 26', '26 - 28', '28 - 30', '30 - 32', '32 - 34', '34 - 36', '36 - 38', '38 - 40', '40 - 42', '42 - 44', '44 - 46', '46 - 48', '48 - 50', '50 - 52', '52 - 54', '54 - 56', '56 - 58', '58 - 60', '60 - 62', '62 - 64', '64 - 66', '66 - 68', '68 - 70', '70 - 72', '72 - 74', '74 - 76', '76 - 78', '78 - 80', '80 - 82', '82 - 84', '84 - 86', '86 - 88', '88 - 90', '90 - 92', '92 - 94', '94 - 96', '96 - 98', '98 - 100', '100 - 102', '102 - 104', '104 - 106', '106 - 108', '108 - 110', '110 - 112', '112 - 114', '114 - 116', '116 - 118', '118 - 120']\n"
     ]
    },
    {
     "data": {
      "text/html": [
       "<div>\n",
       "<table border=\"1\" class=\"dataframe\">\n",
       "  <thead>\n",
       "    <tr style=\"text-align: right;\">\n",
       "      <th></th>\n",
       "      <th>avgviewtime</th>\n",
       "      <th>avgVTCategory</th>\n",
       "    </tr>\n",
       "  </thead>\n",
       "  <tbody>\n",
       "    <tr>\n",
       "      <th>4976</th>\n",
       "      <td>12072.000000</td>\n",
       "      <td>NaN</td>\n",
       "    </tr>\n",
       "    <tr>\n",
       "      <th>3710</th>\n",
       "      <td>36984.000000</td>\n",
       "      <td>NaN</td>\n",
       "    </tr>\n",
       "    <tr>\n",
       "      <th>3954</th>\n",
       "      <td>10216.461538</td>\n",
       "      <td>NaN</td>\n",
       "    </tr>\n",
       "    <tr>\n",
       "      <th>5367</th>\n",
       "      <td>6172.000000</td>\n",
       "      <td>NaN</td>\n",
       "    </tr>\n",
       "    <tr>\n",
       "      <th>4021</th>\n",
       "      <td>11929.600000</td>\n",
       "      <td>NaN</td>\n",
       "    </tr>\n",
       "    <tr>\n",
       "      <th>4276</th>\n",
       "      <td>6645.000000</td>\n",
       "      <td>NaN</td>\n",
       "    </tr>\n",
       "    <tr>\n",
       "      <th>7318</th>\n",
       "      <td>44400.315789</td>\n",
       "      <td>NaN</td>\n",
       "    </tr>\n",
       "    <tr>\n",
       "      <th>700</th>\n",
       "      <td>13207.500000</td>\n",
       "      <td>NaN</td>\n",
       "    </tr>\n",
       "    <tr>\n",
       "      <th>3081</th>\n",
       "      <td>0.000000</td>\n",
       "      <td>0 - 2</td>\n",
       "    </tr>\n",
       "    <tr>\n",
       "      <th>380</th>\n",
       "      <td>13928.555556</td>\n",
       "      <td>NaN</td>\n",
       "    </tr>\n",
       "    <tr>\n",
       "      <th>558</th>\n",
       "      <td>28951.500000</td>\n",
       "      <td>NaN</td>\n",
       "    </tr>\n",
       "    <tr>\n",
       "      <th>244</th>\n",
       "      <td>3426.000000</td>\n",
       "      <td>NaN</td>\n",
       "    </tr>\n",
       "    <tr>\n",
       "      <th>5891</th>\n",
       "      <td>68741.157895</td>\n",
       "      <td>NaN</td>\n",
       "    </tr>\n",
       "    <tr>\n",
       "      <th>5225</th>\n",
       "      <td>1406168.200000</td>\n",
       "      <td>NaN</td>\n",
       "    </tr>\n",
       "    <tr>\n",
       "      <th>3010</th>\n",
       "      <td>6379.000000</td>\n",
       "      <td>NaN</td>\n",
       "    </tr>\n",
       "    <tr>\n",
       "      <th>6861</th>\n",
       "      <td>27224.000000</td>\n",
       "      <td>NaN</td>\n",
       "    </tr>\n",
       "    <tr>\n",
       "      <th>39</th>\n",
       "      <td>2936.000000</td>\n",
       "      <td>NaN</td>\n",
       "    </tr>\n",
       "    <tr>\n",
       "      <th>6307</th>\n",
       "      <td>8395.000000</td>\n",
       "      <td>NaN</td>\n",
       "    </tr>\n",
       "    <tr>\n",
       "      <th>978</th>\n",
       "      <td>9973.636364</td>\n",
       "      <td>NaN</td>\n",
       "    </tr>\n",
       "    <tr>\n",
       "      <th>865</th>\n",
       "      <td>12941.980392</td>\n",
       "      <td>NaN</td>\n",
       "    </tr>\n",
       "  </tbody>\n",
       "</table>\n",
       "</div>"
      ],
      "text/plain": [
       "         avgviewtime avgVTCategory\n",
       "4976    12072.000000           NaN\n",
       "3710    36984.000000           NaN\n",
       "3954    10216.461538           NaN\n",
       "5367     6172.000000           NaN\n",
       "4021    11929.600000           NaN\n",
       "4276     6645.000000           NaN\n",
       "7318    44400.315789           NaN\n",
       "700     13207.500000           NaN\n",
       "3081        0.000000         0 - 2\n",
       "380     13928.555556           NaN\n",
       "558     28951.500000           NaN\n",
       "244      3426.000000           NaN\n",
       "5891    68741.157895           NaN\n",
       "5225  1406168.200000           NaN\n",
       "3010     6379.000000           NaN\n",
       "6861    27224.000000           NaN\n",
       "39       2936.000000           NaN\n",
       "6307     8395.000000           NaN\n",
       "978      9973.636364           NaN\n",
       "865     12941.980392           NaN"
      ]
     },
     "execution_count": 640,
     "metadata": {},
     "output_type": "execute_result"
    }
   ],
   "source": [
    "#categorical cut on avgviewtime\n",
    "labels = [ \"{0} - {1}\".format(i, i + 2) for i in range(0, 120, 2) ]\n",
    "print labels\n",
    "df4['avgVTCategory'] = pd.cut(df4.avgviewtime, range(0, 121, 2), right=False, labels=labels)\n",
    "df4[['avgviewtime','avgVTCategory']].sample(n=20, random_state=0)"
   ]
  },
  {
   "cell_type": "code",
   "execution_count": 641,
   "metadata": {
    "collapsed": false
   },
   "outputs": [
    {
     "data": {
      "text/html": [
       "<div>\n",
       "<table border=\"1\" class=\"dataframe\">\n",
       "  <thead>\n",
       "    <tr style=\"text-align: right;\">\n",
       "      <th></th>\n",
       "      <th>answersetid</th>\n",
       "      <th>recall</th>\n",
       "      <th>interest</th>\n",
       "      <th>intent</th>\n",
       "      <th>age</th>\n",
       "      <th>gender</th>\n",
       "      <th>recall_category</th>\n",
       "      <th>interest_category</th>\n",
       "      <th>intent_category</th>\n",
       "      <th>age_category</th>\n",
       "      <th>gender_category</th>\n",
       "      <th>click</th>\n",
       "      <th>firstinteraction</th>\n",
       "      <th>deliveredimp</th>\n",
       "      <th>viewableimp</th>\n",
       "      <th>viewableimp_ic</th>\n",
       "      <th>totalviewtime</th>\n",
       "      <th>avgviewtime</th>\n",
       "    </tr>\n",
       "  </thead>\n",
       "  <tbody>\n",
       "    <tr>\n",
       "      <th>0</th>\n",
       "      <td>218047</td>\n",
       "      <td>1</td>\n",
       "      <td>2</td>\n",
       "      <td>5</td>\n",
       "      <td>1</td>\n",
       "      <td>0</td>\n",
       "      <td>Yes</td>\n",
       "      <td>Low</td>\n",
       "      <td>High</td>\n",
       "      <td>15-24</td>\n",
       "      <td>Female</td>\n",
       "      <td>0</td>\n",
       "      <td>0</td>\n",
       "      <td>4</td>\n",
       "      <td>3</td>\n",
       "      <td>2</td>\n",
       "      <td>9158</td>\n",
       "      <td>4579</td>\n",
       "    </tr>\n",
       "    <tr>\n",
       "      <th>1</th>\n",
       "      <td>218979</td>\n",
       "      <td>1</td>\n",
       "      <td>2</td>\n",
       "      <td>2</td>\n",
       "      <td>3</td>\n",
       "      <td>0</td>\n",
       "      <td>Yes</td>\n",
       "      <td>Low</td>\n",
       "      <td>Low</td>\n",
       "      <td>35-44</td>\n",
       "      <td>Female</td>\n",
       "      <td>0</td>\n",
       "      <td>0</td>\n",
       "      <td>2</td>\n",
       "      <td>1</td>\n",
       "      <td>1</td>\n",
       "      <td>1056</td>\n",
       "      <td>1056</td>\n",
       "    </tr>\n",
       "    <tr>\n",
       "      <th>2</th>\n",
       "      <td>219322</td>\n",
       "      <td>0</td>\n",
       "      <td>2</td>\n",
       "      <td>2</td>\n",
       "      <td>2</td>\n",
       "      <td>0</td>\n",
       "      <td>No</td>\n",
       "      <td>Low</td>\n",
       "      <td>Low</td>\n",
       "      <td>25-34</td>\n",
       "      <td>Female</td>\n",
       "      <td>0</td>\n",
       "      <td>0</td>\n",
       "      <td>1</td>\n",
       "      <td>0</td>\n",
       "      <td>0</td>\n",
       "      <td>NaN</td>\n",
       "      <td>NaN</td>\n",
       "    </tr>\n",
       "    <tr>\n",
       "      <th>3</th>\n",
       "      <td>219343</td>\n",
       "      <td>1</td>\n",
       "      <td>3</td>\n",
       "      <td>4</td>\n",
       "      <td>1</td>\n",
       "      <td>0</td>\n",
       "      <td>Yes</td>\n",
       "      <td>Low</td>\n",
       "      <td>High</td>\n",
       "      <td>15-24</td>\n",
       "      <td>Female</td>\n",
       "      <td>0</td>\n",
       "      <td>0</td>\n",
       "      <td>1</td>\n",
       "      <td>1</td>\n",
       "      <td>1</td>\n",
       "      <td>6220</td>\n",
       "      <td>6220</td>\n",
       "    </tr>\n",
       "    <tr>\n",
       "      <th>4</th>\n",
       "      <td>219622</td>\n",
       "      <td>1</td>\n",
       "      <td>1</td>\n",
       "      <td>3</td>\n",
       "      <td>1</td>\n",
       "      <td>0</td>\n",
       "      <td>Yes</td>\n",
       "      <td>Low</td>\n",
       "      <td>Low</td>\n",
       "      <td>15-24</td>\n",
       "      <td>Female</td>\n",
       "      <td>0</td>\n",
       "      <td>0</td>\n",
       "      <td>4</td>\n",
       "      <td>4</td>\n",
       "      <td>2</td>\n",
       "      <td>67354</td>\n",
       "      <td>33677</td>\n",
       "    </tr>\n",
       "  </tbody>\n",
       "</table>\n",
       "</div>"
      ],
      "text/plain": [
       "   answersetid  recall  interest  intent  age  gender recall_category  \\\n",
       "0       218047       1         2       5    1       0             Yes   \n",
       "1       218979       1         2       2    3       0             Yes   \n",
       "2       219322       0         2       2    2       0              No   \n",
       "3       219343       1         3       4    1       0             Yes   \n",
       "4       219622       1         1       3    1       0             Yes   \n",
       "\n",
       "  interest_category intent_category age_category gender_category  click  \\\n",
       "0               Low            High        15-24          Female      0   \n",
       "1               Low             Low        35-44          Female      0   \n",
       "2               Low             Low        25-34          Female      0   \n",
       "3               Low            High        15-24          Female      0   \n",
       "4               Low             Low        15-24          Female      0   \n",
       "\n",
       "   firstinteraction  deliveredimp  viewableimp  viewableimp_ic  totalviewtime  \\\n",
       "0                 0             4            3               2           9158   \n",
       "1                 0             2            1               1           1056   \n",
       "2                 0             1            0               0            NaN   \n",
       "3                 0             1            1               1           6220   \n",
       "4                 0             4            4               2          67354   \n",
       "\n",
       "   avgviewtime  \n",
       "0         4579  \n",
       "1         1056  \n",
       "2          NaN  \n",
       "3         6220  \n",
       "4        33677  "
      ]
     },
     "execution_count": 641,
     "metadata": {},
     "output_type": "execute_result"
    }
   ],
   "source": [
    "df2.head()"
   ]
  },
  {
   "cell_type": "code",
   "execution_count": 642,
   "metadata": {
    "collapsed": false
   },
   "outputs": [
    {
     "data": {
      "text/plain": [
       "0     9158\n",
       "1     1056\n",
       "2      NaN\n",
       "3     6220\n",
       "4    67354\n",
       "Name: totalviewtime, dtype: float64"
      ]
     },
     "execution_count": 642,
     "metadata": {},
     "output_type": "execute_result"
    }
   ],
   "source": [
    "df5 = df1.copy()\n",
    "#df5['totalVT']=np.where(df5['viewableimp_ic']==0, 0, df5['totalviewtime'])\n",
    "#df5.totalVT.isnull().values.sum()\n",
    "df5.totalviewtime.head()"
   ]
  },
  {
   "cell_type": "code",
   "execution_count": 643,
   "metadata": {
    "collapsed": true
   },
   "outputs": [],
   "source": [
    "import sqlite3\n",
    "from pandas.io import sql\n",
    "cnx = sqlite3.connect(':memory:', timeout=3000)\n",
    "cnx.text_factory = str\n"
   ]
  },
  {
   "cell_type": "code",
   "execution_count": 644,
   "metadata": {
    "collapsed": true
   },
   "outputs": [],
   "source": [
    "# write to database\n",
    "sql.to_sql(df5, name = 'df5', con=cnx, if_exists='replace')"
   ]
  },
  {
   "cell_type": "code",
   "execution_count": 645,
   "metadata": {
    "collapsed": false
   },
   "outputs": [
    {
     "data": {
      "text/html": [
       "<div>\n",
       "<table border=\"1\" class=\"dataframe\">\n",
       "  <thead>\n",
       "    <tr style=\"text-align: right;\">\n",
       "      <th></th>\n",
       "      <th>index</th>\n",
       "      <th>answersetid</th>\n",
       "      <th>recall</th>\n",
       "      <th>interest</th>\n",
       "      <th>intent</th>\n",
       "      <th>age</th>\n",
       "      <th>gender</th>\n",
       "      <th>recall_category</th>\n",
       "      <th>interest_category</th>\n",
       "      <th>intent_category</th>\n",
       "      <th>age_category</th>\n",
       "      <th>gender_category</th>\n",
       "      <th>click</th>\n",
       "      <th>firstinteraction</th>\n",
       "      <th>deliveredimp</th>\n",
       "      <th>viewableimp</th>\n",
       "      <th>viewableimp_ic</th>\n",
       "      <th>totalviewtime</th>\n",
       "    </tr>\n",
       "  </thead>\n",
       "  <tbody>\n",
       "    <tr>\n",
       "      <th>0</th>\n",
       "      <td>0</td>\n",
       "      <td>218047</td>\n",
       "      <td>1</td>\n",
       "      <td>2</td>\n",
       "      <td>5</td>\n",
       "      <td>1</td>\n",
       "      <td>0</td>\n",
       "      <td>Yes</td>\n",
       "      <td>Low</td>\n",
       "      <td>High</td>\n",
       "      <td>15-24</td>\n",
       "      <td>Female</td>\n",
       "      <td>0</td>\n",
       "      <td>0</td>\n",
       "      <td>4</td>\n",
       "      <td>3</td>\n",
       "      <td>2</td>\n",
       "      <td>9158</td>\n",
       "    </tr>\n",
       "  </tbody>\n",
       "</table>\n",
       "</div>"
      ],
      "text/plain": [
       "   index  answersetid  recall  interest  intent  age  gender recall_category  \\\n",
       "0      0       218047       1         2       5    1       0             Yes   \n",
       "\n",
       "  interest_category intent_category age_category gender_category  click  \\\n",
       "0               Low            High        15-24          Female      0   \n",
       "\n",
       "   firstinteraction  deliveredimp  viewableimp  viewableimp_ic  totalviewtime  \n",
       "0                 0             4            3               2           9158  "
      ]
     },
     "execution_count": 645,
     "metadata": {},
     "output_type": "execute_result"
    }
   ],
   "source": [
    "# select data\n",
    "sql.read_sql(\"select * from df5 limit 1\",cnx)"
   ]
  },
  {
   "cell_type": "code",
   "execution_count": 646,
   "metadata": {
    "collapsed": false
   },
   "outputs": [],
   "source": [
    "df5['totalVT']=sql.read_sql(\"select 1.00*(case when totalviewtime is null then 0 else totalviewtime end)/1000 as totalvt from df5\",cnx)"
   ]
  },
  {
   "cell_type": "code",
   "execution_count": 647,
   "metadata": {
    "collapsed": true
   },
   "outputs": [],
   "source": [
    "df6=df5.copy()"
   ]
  },
  {
   "cell_type": "code",
   "execution_count": 648,
   "metadata": {
    "collapsed": false
   },
   "outputs": [
    {
     "ename": "DatabaseError",
     "evalue": "Execution failed on sql 'select case when totalVT = 0 or viewableimp_ic=0 then 0 else totalVT/viewableimp_ic end as avgVT from df5': no such column: totalVT",
     "output_type": "error",
     "traceback": [
      "\u001b[0;31m---------------------------------------------------------------------------\u001b[0m",
      "\u001b[0;31mDatabaseError\u001b[0m                             Traceback (most recent call last)",
      "\u001b[0;32m<ipython-input-648-eb24abfd3595>\u001b[0m in \u001b[0;36m<module>\u001b[0;34m()\u001b[0m\n\u001b[0;32m----> 1\u001b[0;31m \u001b[0mdf6\u001b[0m\u001b[0;34m[\u001b[0m\u001b[0;34m'avgVT'\u001b[0m\u001b[0;34m]\u001b[0m\u001b[0;34m=\u001b[0m\u001b[0msql\u001b[0m\u001b[0;34m.\u001b[0m\u001b[0mread_sql\u001b[0m\u001b[0;34m(\u001b[0m\u001b[0;34m\"select case when totalVT = 0 or viewableimp_ic=0 then 0 else totalVT/viewableimp_ic end as avgVT from df5\"\u001b[0m\u001b[0;34m,\u001b[0m\u001b[0mcnx\u001b[0m\u001b[0;34m)\u001b[0m\u001b[0;34m\u001b[0m\u001b[0m\n\u001b[0m",
      "\u001b[0;32m/usr/local/lib/python2.7/site-packages/pandas/io/sql.pyc\u001b[0m in \u001b[0;36mread_sql\u001b[0;34m(sql, con, index_col, coerce_float, params, parse_dates, columns, chunksize)\u001b[0m\n\u001b[1;32m    495\u001b[0m             \u001b[0msql\u001b[0m\u001b[0;34m,\u001b[0m \u001b[0mindex_col\u001b[0m\u001b[0;34m=\u001b[0m\u001b[0mindex_col\u001b[0m\u001b[0;34m,\u001b[0m \u001b[0mparams\u001b[0m\u001b[0;34m=\u001b[0m\u001b[0mparams\u001b[0m\u001b[0;34m,\u001b[0m\u001b[0;34m\u001b[0m\u001b[0m\n\u001b[1;32m    496\u001b[0m             \u001b[0mcoerce_float\u001b[0m\u001b[0;34m=\u001b[0m\u001b[0mcoerce_float\u001b[0m\u001b[0;34m,\u001b[0m \u001b[0mparse_dates\u001b[0m\u001b[0;34m=\u001b[0m\u001b[0mparse_dates\u001b[0m\u001b[0;34m,\u001b[0m\u001b[0;34m\u001b[0m\u001b[0m\n\u001b[0;32m--> 497\u001b[0;31m             chunksize=chunksize)\n\u001b[0m\u001b[1;32m    498\u001b[0m \u001b[0;34m\u001b[0m\u001b[0m\n\u001b[1;32m    499\u001b[0m     \u001b[0;32mtry\u001b[0m\u001b[0;34m:\u001b[0m\u001b[0;34m\u001b[0m\u001b[0m\n",
      "\u001b[0;32m/usr/local/lib/python2.7/site-packages/pandas/io/sql.pyc\u001b[0m in \u001b[0;36mread_query\u001b[0;34m(self, sql, index_col, coerce_float, params, parse_dates, chunksize)\u001b[0m\n\u001b[1;32m   1569\u001b[0m \u001b[0;34m\u001b[0m\u001b[0m\n\u001b[1;32m   1570\u001b[0m         \u001b[0margs\u001b[0m \u001b[0;34m=\u001b[0m \u001b[0m_convert_params\u001b[0m\u001b[0;34m(\u001b[0m\u001b[0msql\u001b[0m\u001b[0;34m,\u001b[0m \u001b[0mparams\u001b[0m\u001b[0;34m)\u001b[0m\u001b[0;34m\u001b[0m\u001b[0m\n\u001b[0;32m-> 1571\u001b[0;31m         \u001b[0mcursor\u001b[0m \u001b[0;34m=\u001b[0m \u001b[0mself\u001b[0m\u001b[0;34m.\u001b[0m\u001b[0mexecute\u001b[0m\u001b[0;34m(\u001b[0m\u001b[0;34m*\u001b[0m\u001b[0margs\u001b[0m\u001b[0;34m)\u001b[0m\u001b[0;34m\u001b[0m\u001b[0m\n\u001b[0m\u001b[1;32m   1572\u001b[0m         \u001b[0mcolumns\u001b[0m \u001b[0;34m=\u001b[0m \u001b[0;34m[\u001b[0m\u001b[0mcol_desc\u001b[0m\u001b[0;34m[\u001b[0m\u001b[0;36m0\u001b[0m\u001b[0;34m]\u001b[0m \u001b[0;32mfor\u001b[0m \u001b[0mcol_desc\u001b[0m \u001b[0;32min\u001b[0m \u001b[0mcursor\u001b[0m\u001b[0;34m.\u001b[0m\u001b[0mdescription\u001b[0m\u001b[0;34m]\u001b[0m\u001b[0;34m\u001b[0m\u001b[0m\n\u001b[1;32m   1573\u001b[0m \u001b[0;34m\u001b[0m\u001b[0m\n",
      "\u001b[0;32m/usr/local/lib/python2.7/site-packages/pandas/io/sql.pyc\u001b[0m in \u001b[0;36mexecute\u001b[0;34m(self, *args, **kwargs)\u001b[0m\n\u001b[1;32m   1548\u001b[0m \u001b[0;34m\u001b[0m\u001b[0m\n\u001b[1;32m   1549\u001b[0m             \u001b[0mex\u001b[0m \u001b[0;34m=\u001b[0m \u001b[0mDatabaseError\u001b[0m\u001b[0;34m(\u001b[0m\u001b[0;34m\"Execution failed on sql '%s': %s\"\u001b[0m \u001b[0;34m%\u001b[0m \u001b[0;34m(\u001b[0m\u001b[0margs\u001b[0m\u001b[0;34m[\u001b[0m\u001b[0;36m0\u001b[0m\u001b[0;34m]\u001b[0m\u001b[0;34m,\u001b[0m \u001b[0mexc\u001b[0m\u001b[0;34m)\u001b[0m\u001b[0;34m)\u001b[0m\u001b[0;34m\u001b[0m\u001b[0m\n\u001b[0;32m-> 1550\u001b[0;31m             \u001b[0mraise_with_traceback\u001b[0m\u001b[0;34m(\u001b[0m\u001b[0mex\u001b[0m\u001b[0;34m)\u001b[0m\u001b[0;34m\u001b[0m\u001b[0m\n\u001b[0m\u001b[1;32m   1551\u001b[0m \u001b[0;34m\u001b[0m\u001b[0m\n\u001b[1;32m   1552\u001b[0m     \u001b[0;34m@\u001b[0m\u001b[0mstaticmethod\u001b[0m\u001b[0;34m\u001b[0m\u001b[0m\n",
      "\u001b[0;32m/usr/local/lib/python2.7/site-packages/pandas/io/sql.pyc\u001b[0m in \u001b[0;36mexecute\u001b[0;34m(self, *args, **kwargs)\u001b[0m\n\u001b[1;32m   1537\u001b[0m                 \u001b[0mcur\u001b[0m\u001b[0;34m.\u001b[0m\u001b[0mexecute\u001b[0m\u001b[0;34m(\u001b[0m\u001b[0;34m*\u001b[0m\u001b[0margs\u001b[0m\u001b[0;34m,\u001b[0m \u001b[0;34m**\u001b[0m\u001b[0mkwargs\u001b[0m\u001b[0;34m)\u001b[0m\u001b[0;34m\u001b[0m\u001b[0m\n\u001b[1;32m   1538\u001b[0m             \u001b[0;32melse\u001b[0m\u001b[0;34m:\u001b[0m\u001b[0;34m\u001b[0m\u001b[0m\n\u001b[0;32m-> 1539\u001b[0;31m                 \u001b[0mcur\u001b[0m\u001b[0;34m.\u001b[0m\u001b[0mexecute\u001b[0m\u001b[0;34m(\u001b[0m\u001b[0;34m*\u001b[0m\u001b[0margs\u001b[0m\u001b[0;34m)\u001b[0m\u001b[0;34m\u001b[0m\u001b[0m\n\u001b[0m\u001b[1;32m   1540\u001b[0m             \u001b[0;32mreturn\u001b[0m \u001b[0mcur\u001b[0m\u001b[0;34m\u001b[0m\u001b[0m\n\u001b[1;32m   1541\u001b[0m         \u001b[0;32mexcept\u001b[0m \u001b[0mException\u001b[0m \u001b[0;32mas\u001b[0m \u001b[0mexc\u001b[0m\u001b[0;34m:\u001b[0m\u001b[0;34m\u001b[0m\u001b[0m\n",
      "\u001b[0;31mDatabaseError\u001b[0m: Execution failed on sql 'select case when totalVT = 0 or viewableimp_ic=0 then 0 else totalVT/viewableimp_ic end as avgVT from df5': no such column: totalVT"
     ]
    }
   ],
   "source": [
    "df6['avgVT']=sql.read_sql(\"select case when totalVT = 0 or viewableimp_ic=0 then 0 else totalVT/viewableimp_ic end as avgVT from df5\",cnx)"
   ]
  },
  {
   "cell_type": "code",
   "execution_count": null,
   "metadata": {
    "collapsed": false
   },
   "outputs": [],
   "source": [
    "df6.head(1)"
   ]
  },
  {
   "cell_type": "code",
   "execution_count": null,
   "metadata": {
    "collapsed": false
   },
   "outputs": [],
   "source": [
    "sql.to_sql(df6, name = 'df6', con=cnx, if_exists='replace')"
   ]
  },
  {
   "cell_type": "code",
   "execution_count": null,
   "metadata": {
    "collapsed": false
   },
   "outputs": [],
   "source": [
    "sql.read_sql(\"select sum(case when avgVT is null then 1 else 0 end) as numNUll from df6;\",cnx)"
   ]
  },
  {
   "cell_type": "code",
   "execution_count": null,
   "metadata": {
    "collapsed": false
   },
   "outputs": [],
   "source": [
    "sql.read_sql(\"select *  from df6 where avgVT is null;\",cnx)"
   ]
  },
  {
   "cell_type": "code",
   "execution_count": null,
   "metadata": {
    "collapsed": false
   },
   "outputs": [],
   "source": [
    "#categorical cut on avgviewtime\n",
    "labels = [ \"{0} - {1}\".format(i, i + 2) for i in range(0, 120, 2) ]\n",
    "print labels\n",
    "df6['avgVTCategory'] = pd.cut(df6.avgVT, range(0, 121, 2), right=False, labels=labels)\n",
    "df6[['avgVT','avgVTCategory']].sample(n=20, random_state=0)"
   ]
  },
  {
   "cell_type": "code",
   "execution_count": null,
   "metadata": {
    "collapsed": false
   },
   "outputs": [],
   "source": [
    "#categorical cut on totalviewtime\n",
    "labels = [ \"{0} - {1}\".format(i, i + 5) for i in range(0, 1000, 5) ]\n",
    "print labels\n",
    "df6['totalVTCategory'] = pd.cut(df6.totalVT, range(0, 1001, 5), right=False, labels=labels)\n",
    "df6[['totalVT','totalVTCategory']].sample(n=20, random_state=0)"
   ]
  },
  {
   "cell_type": "code",
   "execution_count": null,
   "metadata": {
    "collapsed": false
   },
   "outputs": [],
   "source": [
    "df6.head()"
   ]
  },
  {
   "cell_type": "code",
   "execution_count": null,
   "metadata": {
    "collapsed": false
   },
   "outputs": [],
   "source": [
    "from pivottablejs import pivot_ui\n",
    "#pivot_ui(df6)"
   ]
  },
  {
   "cell_type": "code",
   "execution_count": null,
   "metadata": {
    "collapsed": false
   },
   "outputs": [],
   "source": [
    "# l = range(10)\n",
    "# l[::2]         # even  - start at the beginning at take every second item\n",
    "#[0, 2, 4, 6, 8]\n",
    "# l[1::2]        # odd - start at second item and take every second item\n",
    "#[1, 3, 5, 7, 9]\n",
    "#categories = pd.cut(df['postTestScore'], bins, labels=group_names)\n",
    "#df['categories'] = pd.cut(df['postTestScore'], bins, labels=group_names)"
   ]
  },
  {
   "cell_type": "code",
   "execution_count": null,
   "metadata": {
    "collapsed": false
   },
   "outputs": [],
   "source": [
    "def FuncAvgVTScale (x):\n",
    "    if (x['avgVT'] >=0 ) & (x['avgVT']<=1) :  \n",
    "        return '0-1'\n",
    "    if (x['avgVT'] >1 ) & (x['avgVT']<=3) :  \n",
    "        return '1-3'\n",
    "    if (x['avgVT'] >3 ) & (x['avgVT']<=5) :  \n",
    "        return '3-5'\n",
    "    if (x['avgVT'] >5 ) & (x['avgVT']<=7) :  \n",
    "        return '5-7'\n",
    "    if (x['avgVT'] >7 ) & (x['avgVT']<=9) :  \n",
    "        return '7-9'\n",
    "    if (x['avgVT'] >9 ) & (x['avgVT']<=11) :  \n",
    "        return '9-11'\n",
    "    if (x['avgVT'] >11 ) & (x['avgVT']<=13) :  \n",
    "        return '11-13'\n",
    "    if (x['avgVT'] >13 ) & (x['avgVT']<=15) :  \n",
    "        return '13-15'\n",
    "    if (x['avgVT'] >15 ) & (x['avgVT']<=17) :  \n",
    "        return '15-17'\n",
    "    if (x['avgVT'] >17 ) & (x['avgVT']<=19) :  \n",
    "        return '17-19'\n",
    "    if (x['avgVT'] >19 ) & (x['avgVT']<=21) :  \n",
    "        return '19-21'\n",
    "    if (x['avgVT'] >21 ) & (x['avgVT']<=23) :  \n",
    "        return '21-23'\n",
    "    if (x['avgVT'] >23 ) & (x['avgVT']<=25) :  \n",
    "        return '23-25'\n",
    "    if (x['avgVT'] >25 ) & (x['avgVT']<=27) :  \n",
    "        return '25-27'\n",
    "    if (x['avgVT'] >27 ) & (x['avgVT']<=29) :  \n",
    "        return '27-29'\n",
    "    if (x['avgVT'] >29 ) & (x['avgVT']<=31) :  \n",
    "        return '29-31'\n",
    "    if (x['avgVT'] >31 ) & (x['avgVT']<=33) :  \n",
    "        return '31-33'\n",
    "    if (x['avgVT'] >33 ) & (x['avgVT']<=35) :  \n",
    "        return '33-35'\n",
    "    return 'above 35'"
   ]
  },
  {
   "cell_type": "code",
   "execution_count": null,
   "metadata": {
    "collapsed": false
   },
   "outputs": [],
   "source": [
    "df6['avgVTScale2']=df6.apply(lambda x: FuncAvgVTScale(x),axis=1)"
   ]
  },
  {
   "cell_type": "code",
   "execution_count": null,
   "metadata": {
    "collapsed": false
   },
   "outputs": [],
   "source": [
    "from pivottablejs import pivot_ui\n",
    "#pivot_ui(df6)"
   ]
  },
  {
   "cell_type": "code",
   "execution_count": null,
   "metadata": {
    "collapsed": false
   },
   "outputs": [],
   "source": [
    "# cut data by percentile \n",
    "#qcdf = pd.DataFrame(range(1000))\n",
    "#qcdf.columns = ['a1']\n",
    "#qcdf['percentile'] = pd.qcut(qcdf.a1,10, labels=False)\n",
    "\n",
    "df6['avgVTScale3'] = pd.qcut(df6.avgVT,10,labels=False)\n",
    "df6.sample(n=10)"
   ]
  },
  {
   "cell_type": "code",
   "execution_count": null,
   "metadata": {
    "collapsed": false
   },
   "outputs": [],
   "source": [
    "from pivottablejs import pivot_ui\n",
    "#pivot_ui(df6)\n",
    "#sns.heatmap(df6.corr())\n",
    "sns.heatmap(df6[df6.columns[1:]].corr(method='spearman'))"
   ]
  },
  {
   "cell_type": "code",
   "execution_count": null,
   "metadata": {
    "collapsed": false
   },
   "outputs": [],
   "source": [
    "df6[['avgVTScale3', 'answersetid']].corr(method='spearman')"
   ]
  },
  {
   "cell_type": "code",
   "execution_count": null,
   "metadata": {
    "collapsed": false
   },
   "outputs": [],
   "source": [
    "sns.lmplot(x='avgVTScale3', y='answersetid', data=df6, aspect=1.5,scatter_kws={'alpha':0.5} )\n",
    "# the higher of answersetid the more recent the survey has been answered\n",
    "# assumpiton 1: overall view time per impression has increased over the past 4 month period???\n",
    "# assumption 2: the later an interview answers the campaign the more probable the person has seen it longer each time??"
   ]
  },
  {
   "cell_type": "code",
   "execution_count": null,
   "metadata": {
    "collapsed": false
   },
   "outputs": [],
   "source": [
    "df6.avgVT.quantile(0.6)"
   ]
  },
  {
   "cell_type": "code",
   "execution_count": null,
   "metadata": {
    "collapsed": false
   },
   "outputs": [],
   "source": [
    "scale3max=df6.groupby(['avgVTScale3'])['avgVT'].max()\n",
    "scale3min=df6.groupby(['avgVTScale3'])['avgVT'].min()\n",
    "scale3_range = pd.concat([scale3min, scale3max], axis=1).round(0)\n",
    "scale3_range\n",
    "\n"
   ]
  },
  {
   "cell_type": "code",
   "execution_count": null,
   "metadata": {
    "collapsed": false
   },
   "outputs": [],
   "source": [
    "df6['interest_Category_Num']=sql.read_sql(\"select case when interest >= 4 then 10 else 0 end as interest_Category_Num from df5\",cnx)\n"
   ]
  },
  {
   "cell_type": "code",
   "execution_count": null,
   "metadata": {
    "collapsed": false
   },
   "outputs": [],
   "source": [
    "df6['intent_Category_Num']=sql.read_sql(\"select case when intent >= 4 then 10 else 0 end as intent_Category_Num from df5\",cnx)\n",
    "df6.head(10)"
   ]
  },
  {
   "cell_type": "code",
   "execution_count": null,
   "metadata": {
    "collapsed": false
   },
   "outputs": [],
   "source": [
    "df6['totalVTScale3'] = pd.qcut(df6.totalVT,10,labels=False)\n",
    "df6.sample(n=10)"
   ]
  },
  {
   "cell_type": "code",
   "execution_count": null,
   "metadata": {
    "collapsed": false
   },
   "outputs": [],
   "source": [
    "sns.heatmap(df6[['recall', 'interest_Category_Num', 'intent_Category_Num','age', 'gender','firstinteraction',\n",
    "                 'viewableimp_ic', 'totalVTScale3','avgVTScale3']].corr())"
   ]
  },
  {
   "cell_type": "code",
   "execution_count": null,
   "metadata": {
    "collapsed": false
   },
   "outputs": [],
   "source": [
    "from pivottablejs import pivot_ui\n",
    "pivot_ui(df6)"
   ]
  },
  {
   "cell_type": "code",
   "execution_count": null,
   "metadata": {
    "collapsed": false
   },
   "outputs": [],
   "source": [
    "\n",
    "df7 = df6[['recall', 'interest_Category_Num', 'intent_Category_Num','age', 'gender','firstinteraction','viewableimp_ic', 'totalVTScale3',\n",
    "'avgVTScale3']][(df6.totalVTScale3 < df6.totalVTScale3.quantile(1)) & (df6.totalVTScale3 > df6.totalVTScale3.quantile(.30))].copy()"
   ]
  },
  {
   "cell_type": "code",
   "execution_count": null,
   "metadata": {
    "collapsed": false
   },
   "outputs": [],
   "source": [
    "sns.heatmap(df7.corr())"
   ]
  },
  {
   "cell_type": "code",
   "execution_count": 650,
   "metadata": {
    "collapsed": false
   },
   "outputs": [
    {
     "data": {
      "text/html": [
       "<div>\n",
       "<table border=\"1\" class=\"dataframe\">\n",
       "  <thead>\n",
       "    <tr style=\"text-align: right;\">\n",
       "      <th></th>\n",
       "      <th>answersetid</th>\n",
       "      <th>recall</th>\n",
       "      <th>interest</th>\n",
       "      <th>intent</th>\n",
       "      <th>age</th>\n",
       "      <th>gender</th>\n",
       "      <th>recall_category</th>\n",
       "      <th>interest_category</th>\n",
       "      <th>intent_category</th>\n",
       "      <th>age_category</th>\n",
       "      <th>gender_category</th>\n",
       "      <th>click</th>\n",
       "      <th>firstinteraction</th>\n",
       "      <th>deliveredimp</th>\n",
       "      <th>viewableimp</th>\n",
       "      <th>viewableimp_ic</th>\n",
       "      <th>totalviewtime</th>\n",
       "      <th>totalVT</th>\n",
       "    </tr>\n",
       "  </thead>\n",
       "  <tbody>\n",
       "    <tr>\n",
       "      <th>0</th>\n",
       "      <td>218047</td>\n",
       "      <td>1</td>\n",
       "      <td>2</td>\n",
       "      <td>5</td>\n",
       "      <td>1</td>\n",
       "      <td>0</td>\n",
       "      <td>Yes</td>\n",
       "      <td>Low</td>\n",
       "      <td>High</td>\n",
       "      <td>15-24</td>\n",
       "      <td>Female</td>\n",
       "      <td>0</td>\n",
       "      <td>0</td>\n",
       "      <td>4</td>\n",
       "      <td>3</td>\n",
       "      <td>2</td>\n",
       "      <td>9158</td>\n",
       "      <td>9.158</td>\n",
       "    </tr>\n",
       "  </tbody>\n",
       "</table>\n",
       "</div>"
      ],
      "text/plain": [
       "   answersetid  recall  interest  intent  age  gender recall_category  \\\n",
       "0       218047       1         2       5    1       0             Yes   \n",
       "\n",
       "  interest_category intent_category age_category gender_category  click  \\\n",
       "0               Low            High        15-24          Female      0   \n",
       "\n",
       "   firstinteraction  deliveredimp  viewableimp  viewableimp_ic  totalviewtime  \\\n",
       "0                 0             4            3               2           9158   \n",
       "\n",
       "   totalVT  \n",
       "0    9.158  "
      ]
     },
     "execution_count": 650,
     "metadata": {},
     "output_type": "execute_result"
    }
   ],
   "source": [
    "df6.head(1)"
   ]
  },
  {
   "cell_type": "code",
   "execution_count": null,
   "metadata": {
    "collapsed": false
   },
   "outputs": [],
   "source": [
    "%reload_ext rpy2.ipython\n",
    "%R help(package=\"MASS\")\n",
    "#%R install.packages(\"MESS\",dependencies=TRUE)\n",
    "#%R library(MESS)"
   ]
  },
  {
   "cell_type": "code",
   "execution_count": null,
   "metadata": {
    "collapsed": true
   },
   "outputs": [],
   "source": []
  }
 ],
 "metadata": {
  "kernelspec": {
   "display_name": "Python 2",
   "language": "python",
   "name": "python2"
  },
  "language_info": {
   "codemirror_mode": {
    "name": "ipython",
    "version": 2
   },
   "file_extension": ".py",
   "mimetype": "text/x-python",
   "name": "python",
   "nbconvert_exporter": "python",
   "pygments_lexer": "ipython2",
   "version": "2.7.11"
  }
 },
 "nbformat": 4,
 "nbformat_minor": 0
}
