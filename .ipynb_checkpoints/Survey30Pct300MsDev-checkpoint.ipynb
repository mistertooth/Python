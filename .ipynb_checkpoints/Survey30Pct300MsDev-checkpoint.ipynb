{
 "cells": [
  {
   "cell_type": "code",
   "execution_count": 2,
   "metadata": {
    "collapsed": false
   },
   "outputs": [
    {
     "data": {
      "text/html": [
       "<script>\n",
       "code_show=true;\n",
       "function code_toggle() {\n",
       " if (code_show){\n",
       " $('div.input').hide();\n",
       " } else {\n",
       " $('div.input').show();\n",
       " }\n",
       " code_show = !code_show\n",
       "}\n",
       "$( document ).ready(code_toggle);\n",
       "</script>\n",
       "<form action=\"javascript:code_toggle()\"><input type=\"submit\" value=\"Click here to toggle on/off the raw code.\"></form>"
      ],
      "text/plain": [
       "<IPython.core.display.HTML object>"
      ]
     },
     "execution_count": 2,
     "metadata": {},
     "output_type": "execute_result"
    }
   ],
   "source": [
    "from IPython.display import HTML\n",
    "\n",
    "HTML('''<script>\n",
    "code_show=true;\n",
    "function code_toggle() {\n",
    " if (code_show){\n",
    " $('div.input').hide();\n",
    " } else {\n",
    " $('div.input').show();\n",
    " }\n",
    " code_show = !code_show\n",
    "}\n",
    "$( document ).ready(code_toggle);\n",
    "</script>\n",
    "<form action=\"javascript:code_toggle()\"><input type=\"submit\" value=\"Click here to toggle on/off the raw code.\"></form>''')"
   ]
  },
  {
   "cell_type": "code",
   "execution_count": 42,
   "metadata": {
    "collapsed": true
   },
   "outputs": [],
   "source": [
    "import pandas as pd\n",
    "import numpy as np\n",
    "import matplotlib.pyplot as plt\n",
    "import seaborn as sns\n",
    "# this allows plots to appear directly in the notebook\n",
    "%matplotlib inline\n",
    "plt.rcParams['figure.figsize'] = (8, 6)\n",
    "plt.rcParams['font.size'] = 14\n",
    "# pip install patsy\n",
    "# pip install statsmodels\n",
    "import statsmodels.formula.api as smf\n",
    "# Set ipython's max row display\n",
    "pd.set_option('display.max_row', 1000)\n",
    "\n",
    "# Set iPython's max column width to 50\n",
    "pd.set_option('display.max_columns', 50)\n",
    "\n",
    "from IPython.core.display import display, HTML"
   ]
  },
  {
   "cell_type": "code",
   "execution_count": 77,
   "metadata": {
    "collapsed": true
   },
   "outputs": [],
   "source": [
    "# define url\n",
    "url_30_300 = '/Users/shaokuixing/Desktop/whatever/survey30pct300msInner.csv'\n",
    "\n",
    "# read csv file\n",
    "rawData = pd.read_csv(url_0420, sep=';', thousands = '.', decimal =',')"
   ]
  },
  {
   "cell_type": "code",
   "execution_count": 78,
   "metadata": {
    "collapsed": false
   },
   "outputs": [],
   "source": [
    "rawData = rawData[rawData['avgVT/impBySec'] < rawData['avgVT/impBySec'].quantile(.85)]"
   ]
  },
  {
   "cell_type": "code",
   "execution_count": 79,
   "metadata": {
    "collapsed": false
   },
   "outputs": [],
   "source": [
    "#sns.heatmap(rawData[['optiontext','totalviewtime','avgVT/impBySec']].corr())"
   ]
  },
  {
   "cell_type": "code",
   "execution_count": 80,
   "metadata": {
    "collapsed": false
   },
   "outputs": [
    {
     "data": {
      "text/html": [
       "<div>\n",
       "<table border=\"1\" class=\"dataframe\">\n",
       "  <thead>\n",
       "    <tr style=\"text-align: right;\">\n",
       "      <th></th>\n",
       "      <th>surveyid</th>\n",
       "      <th>originaladid</th>\n",
       "      <th>format</th>\n",
       "      <th>market</th>\n",
       "      <th>uid</th>\n",
       "      <th>answersetid</th>\n",
       "      <th>answerid</th>\n",
       "      <th>questionid</th>\n",
       "      <th>questiontext</th>\n",
       "      <th>optionid</th>\n",
       "      <th>optiontext</th>\n",
       "      <th>iscomplete</th>\n",
       "      <th>isrefgroup</th>\n",
       "      <th>deliveredimp</th>\n",
       "      <th>viewableimp</th>\n",
       "      <th>viewableimp_ic</th>\n",
       "      <th>totalviewtime</th>\n",
       "      <th>avgVT/impBySec</th>\n",
       "      <th>avgVT/impBySecRound</th>\n",
       "      <th>VTScaleBySec</th>\n",
       "      <th>answerDiscrete</th>\n",
       "      <th>totalVTPercentile</th>\n",
       "      <th>avgVTPercentile</th>\n",
       "    </tr>\n",
       "  </thead>\n",
       "  <tbody>\n",
       "    <tr>\n",
       "      <th>0</th>\n",
       "      <td>291</td>\n",
       "      <td>36432</td>\n",
       "      <td>swipe</td>\n",
       "      <td>FI</td>\n",
       "      <td>7.018450e+18</td>\n",
       "      <td>235934</td>\n",
       "      <td>642548</td>\n",
       "      <td>86</td>\n",
       "      <td>Is the ad interesting for you?&lt;br&gt;&lt;span class=...</td>\n",
       "      <td>263</td>\n",
       "      <td>2</td>\n",
       "      <td>True</td>\n",
       "      <td>False</td>\n",
       "      <td>76</td>\n",
       "      <td>76</td>\n",
       "      <td>76</td>\n",
       "      <td>642844</td>\n",
       "      <td>8.46</td>\n",
       "      <td>8</td>\n",
       "      <td>6-10</td>\n",
       "      <td>Low</td>\n",
       "      <td>8</td>\n",
       "      <td>3</td>\n",
       "    </tr>\n",
       "  </tbody>\n",
       "</table>\n",
       "</div>"
      ],
      "text/plain": [
       "   surveyid  originaladid format market           uid  answersetid  answerid  \\\n",
       "0       291         36432  swipe     FI  7.018450e+18       235934    642548   \n",
       "\n",
       "   questionid                                       questiontext  optionid  \\\n",
       "0          86  Is the ad interesting for you?<br><span class=...       263   \n",
       "\n",
       "   optiontext iscomplete isrefgroup  deliveredimp  viewableimp  \\\n",
       "0           2       True      False            76           76   \n",
       "\n",
       "   viewableimp_ic  totalviewtime  avgVT/impBySec  avgVT/impBySecRound  \\\n",
       "0              76         642844            8.46                    8   \n",
       "\n",
       "  VTScaleBySec answerDiscrete  totalVTPercentile  avgVTPercentile  \n",
       "0         6-10            Low                  8                3  "
      ]
     },
     "execution_count": 80,
     "metadata": {},
     "output_type": "execute_result"
    }
   ],
   "source": [
    "\n",
    "rawData['totalVTPercentile'] = pd.qcut(rawData.totalviewtime,10,labels=False)\n",
    "rawData['avgVTPercentile'] = pd.qcut(rawData['avgVT/impBySec'],10,labels=False)\n",
    "rawData.head(1)"
   ]
  },
  {
   "cell_type": "code",
   "execution_count": 81,
   "metadata": {
    "collapsed": false
   },
   "outputs": [
    {
     "data": {
      "text/plain": [
       "<matplotlib.axes._subplots.AxesSubplot at 0x115ba3690>"
      ]
     },
     "execution_count": 81,
     "metadata": {},
     "output_type": "execute_result"
    },
    {
     "data": {
      "image/png": "[encoded data removed]",
      "text/plain": [
       "<matplotlib.figure.Figure at 0x116e64650>"
      ]
     },
     "metadata": {},
     "output_type": "display_data"
    }
   ],
   "source": [
    "sns.heatmap(rawData[['optiontext','totalviewtime','avgVT/impBySec','totalVTPercentile']].corr())"
   ]
  },
  {
   "cell_type": "code",
   "execution_count": 82,
   "metadata": {
    "collapsed": false
   },
   "outputs": [
    {
     "data": {
      "text/html": [
       "<div>\n",
       "<table border=\"1\" class=\"dataframe\">\n",
       "  <thead>\n",
       "    <tr style=\"text-align: right;\">\n",
       "      <th></th>\n",
       "      <th>optiontext</th>\n",
       "      <th>totalviewtime</th>\n",
       "      <th>avgVT/impBySec</th>\n",
       "      <th>totalVTPercentile</th>\n",
       "    </tr>\n",
       "  </thead>\n",
       "  <tbody>\n",
       "    <tr>\n",
       "      <th>optiontext</th>\n",
       "      <td>1.000000</td>\n",
       "      <td>0.017023</td>\n",
       "      <td>0.044581</td>\n",
       "      <td>-0.019861</td>\n",
       "    </tr>\n",
       "    <tr>\n",
       "      <th>totalviewtime</th>\n",
       "      <td>0.017023</td>\n",
       "      <td>1.000000</td>\n",
       "      <td>0.312332</td>\n",
       "      <td>0.605106</td>\n",
       "    </tr>\n",
       "    <tr>\n",
       "      <th>avgVT/impBySec</th>\n",
       "      <td>0.044581</td>\n",
       "      <td>0.312332</td>\n",
       "      <td>1.000000</td>\n",
       "      <td>0.438306</td>\n",
       "    </tr>\n",
       "    <tr>\n",
       "      <th>totalVTPercentile</th>\n",
       "      <td>-0.019861</td>\n",
       "      <td>0.605106</td>\n",
       "      <td>0.438306</td>\n",
       "      <td>1.000000</td>\n",
       "    </tr>\n",
       "  </tbody>\n",
       "</table>\n",
       "</div>"
      ],
      "text/plain": [
       "                   optiontext  totalviewtime  avgVT/impBySec  \\\n",
       "optiontext           1.000000       0.017023        0.044581   \n",
       "totalviewtime        0.017023       1.000000        0.312332   \n",
       "avgVT/impBySec       0.044581       0.312332        1.000000   \n",
       "totalVTPercentile   -0.019861       0.605106        0.438306   \n",
       "\n",
       "                   totalVTPercentile  \n",
       "optiontext                 -0.019861  \n",
       "totalviewtime               0.605106  \n",
       "avgVT/impBySec              0.438306  \n",
       "totalVTPercentile           1.000000  "
      ]
     },
     "execution_count": 82,
     "metadata": {},
     "output_type": "execute_result"
    }
   ],
   "source": [
    "rawData[['optiontext','totalviewtime','avgVT/impBySec','totalVTPercentile']].corr(method='pearson')"
   ]
  },
  {
   "cell_type": "code",
   "execution_count": 83,
   "metadata": {
    "collapsed": false
   },
   "outputs": [
    {
     "data": {
      "text/html": [
       "<div>\n",
       "<table border=\"1\" class=\"dataframe\">\n",
       "  <thead>\n",
       "    <tr style=\"text-align: right;\">\n",
       "      <th></th>\n",
       "      <th>optiontext</th>\n",
       "      <th>totalviewtime</th>\n",
       "      <th>avgVT/impBySec</th>\n",
       "      <th>totalVTPercentile</th>\n",
       "    </tr>\n",
       "  </thead>\n",
       "  <tbody>\n",
       "    <tr>\n",
       "      <th>count</th>\n",
       "      <td>20649.000000</td>\n",
       "      <td>20649.000000</td>\n",
       "      <td>20649.000000</td>\n",
       "      <td>20649.000000</td>\n",
       "    </tr>\n",
       "    <tr>\n",
       "      <th>mean</th>\n",
       "      <td>2.346796</td>\n",
       "      <td>273385.205773</td>\n",
       "      <td>13.514837</td>\n",
       "      <td>4.499104</td>\n",
       "    </tr>\n",
       "    <tr>\n",
       "      <th>std</th>\n",
       "      <td>1.241195</td>\n",
       "      <td>525736.357335</td>\n",
       "      <td>9.565852</td>\n",
       "      <td>2.872435</td>\n",
       "    </tr>\n",
       "    <tr>\n",
       "      <th>min</th>\n",
       "      <td>1.000000</td>\n",
       "      <td>302.000000</td>\n",
       "      <td>0.300000</td>\n",
       "      <td>0.000000</td>\n",
       "    </tr>\n",
       "    <tr>\n",
       "      <th>25%</th>\n",
       "      <td>1.000000</td>\n",
       "      <td>27672.000000</td>\n",
       "      <td>6.150000</td>\n",
       "      <td>2.000000</td>\n",
       "    </tr>\n",
       "    <tr>\n",
       "      <th>50%</th>\n",
       "      <td>2.000000</td>\n",
       "      <td>94406.000000</td>\n",
       "      <td>10.880000</td>\n",
       "      <td>4.000000</td>\n",
       "    </tr>\n",
       "    <tr>\n",
       "      <th>75%</th>\n",
       "      <td>3.000000</td>\n",
       "      <td>299902.000000</td>\n",
       "      <td>18.610000</td>\n",
       "      <td>7.000000</td>\n",
       "    </tr>\n",
       "    <tr>\n",
       "      <th>max</th>\n",
       "      <td>5.000000</td>\n",
       "      <td>10621010.000000</td>\n",
       "      <td>43.290000</td>\n",
       "      <td>9.000000</td>\n",
       "    </tr>\n",
       "  </tbody>\n",
       "</table>\n",
       "</div>"
      ],
      "text/plain": [
       "         optiontext    totalviewtime  avgVT/impBySec  totalVTPercentile\n",
       "count  20649.000000     20649.000000    20649.000000       20649.000000\n",
       "mean       2.346796    273385.205773       13.514837           4.499104\n",
       "std        1.241195    525736.357335        9.565852           2.872435\n",
       "min        1.000000       302.000000        0.300000           0.000000\n",
       "25%        1.000000     27672.000000        6.150000           2.000000\n",
       "50%        2.000000     94406.000000       10.880000           4.000000\n",
       "75%        3.000000    299902.000000       18.610000           7.000000\n",
       "max        5.000000  10621010.000000       43.290000           9.000000"
      ]
     },
     "execution_count": 83,
     "metadata": {},
     "output_type": "execute_result"
    }
   ],
   "source": [
    "rawData[['optiontext','totalviewtime','avgVT/impBySec','totalVTPercentile']].describe()"
   ]
  },
  {
   "cell_type": "code",
   "execution_count": 84,
   "metadata": {
    "collapsed": true
   },
   "outputs": [],
   "source": [
    "rawData['totalVTBySec'] = rawData['totalviewtime']/1000"
   ]
  },
  {
   "cell_type": "code",
   "execution_count": 85,
   "metadata": {
    "collapsed": false
   },
   "outputs": [
    {
     "name": "stdout",
     "output_type": "stream",
     "text": [
      "['0 - 5', '5 - 10', '10 - 15', '15 - 20', '20 - 25', '25 - 30', '30 - 35', '35 - 40', '40 - 45', '45 - 50', '50 - 55', '55 - 60', '60 - 65', '65 - 70', '70 - 75', '75 - 80', '80 - 85', '85 - 90', '90 - 95', '95 - 100', '100 - 105', '105 - 110', '110 - 115', '115 - 120', '120 - 125', '125 - 130', '130 - 135', '135 - 140', '140 - 145', '145 - 150', '150 - 155', '155 - 160', '160 - 165', '165 - 170', '170 - 175', '175 - 180', '180 - 185', '185 - 190', '190 - 195', '195 - 200', '200 - 205', '205 - 210', '210 - 215', '215 - 220', '220 - 225', '225 - 230', '230 - 235', '235 - 240', '240 - 245', '245 - 250', '250 - 255', '255 - 260', '260 - 265', '265 - 270', '270 - 275', '275 - 280', '280 - 285', '285 - 290', '290 - 295', '295 - 300', '300 - 305', '305 - 310', '310 - 315', '315 - 320', '320 - 325', '325 - 330', '330 - 335', '335 - 340', '340 - 345', '345 - 350', '350 - 355', '355 - 360', '360 - 365', '365 - 370', '370 - 375', '375 - 380', '380 - 385', '385 - 390', '390 - 395', '395 - 400', '400 - 405', '405 - 410', '410 - 415', '415 - 420', '420 - 425', '425 - 430', '430 - 435', '435 - 440', '440 - 445', '445 - 450', '450 - 455', '455 - 460', '460 - 465', '465 - 470', '470 - 475', '475 - 480', '480 - 485', '485 - 490', '490 - 495', '495 - 500', '500 - 505', '505 - 510', '510 - 515', '515 - 520', '520 - 525', '525 - 530', '530 - 535', '535 - 540', '540 - 545', '545 - 550', '550 - 555', '555 - 560', '560 - 565', '565 - 570', '570 - 575', '575 - 580', '580 - 585', '585 - 590', '590 - 595', '595 - 600', '600 - 605', '605 - 610', '610 - 615', '615 - 620', '620 - 625', '625 - 630', '630 - 635', '635 - 640', '640 - 645', '645 - 650', '650 - 655', '655 - 660', '660 - 665', '665 - 670', '670 - 675', '675 - 680', '680 - 685', '685 - 690', '690 - 695', '695 - 700', '700 - 705', '705 - 710', '710 - 715', '715 - 720', '720 - 725', '725 - 730', '730 - 735', '735 - 740', '740 - 745', '745 - 750', '750 - 755', '755 - 760', '760 - 765', '765 - 770', '770 - 775', '775 - 780', '780 - 785', '785 - 790', '790 - 795', '795 - 800', '800 - 805', '805 - 810', '810 - 815', '815 - 820', '820 - 825', '825 - 830', '830 - 835', '835 - 840', '840 - 845', '845 - 850', '850 - 855', '855 - 860', '860 - 865', '865 - 870', '870 - 875', '875 - 880', '880 - 885', '885 - 890', '890 - 895', '895 - 900', '900 - 905', '905 - 910', '910 - 915', '915 - 920', '920 - 925', '925 - 930', '930 - 935', '935 - 940', '940 - 945', '945 - 950', '950 - 955', '955 - 960', '960 - 965', '965 - 970', '970 - 975', '975 - 980', '980 - 985', '985 - 990', '990 - 995', '995 - 1000']\n"
     ]
    }
   ],
   "source": [
    "#categorical cut on avgviewtime\n",
    "labels = [ \"{0} - {1}\".format(i, i + 5) for i in range(0, 1000, 5) ]\n",
    "print labels\n",
    "rawData['totalVTCategory'] = pd.cut(rawData.totalVTBySec, range(0, 1001, 5), right=False, labels=labels)\n",
    "rawData[['totalVTBySec','totalVTCategory']].sample(n=20, random_state=0)\n",
    "rawData['totalVTCategory_num']=pd.to_numeric(rawData.totalVTCategory.str.split('-').str[0])\n"
   ]
  },
  {
   "cell_type": "code",
   "execution_count": 86,
   "metadata": {
    "collapsed": false
   },
   "outputs": [
    {
     "data": {
      "text/html": [
       "<div>\n",
       "<table border=\"1\" class=\"dataframe\">\n",
       "  <thead>\n",
       "    <tr style=\"text-align: right;\">\n",
       "      <th></th>\n",
       "      <th>optiontext</th>\n",
       "      <th>totalviewtime</th>\n",
       "      <th>avgVT/impBySec</th>\n",
       "      <th>totalVTCategory_num</th>\n",
       "    </tr>\n",
       "  </thead>\n",
       "  <tbody>\n",
       "    <tr>\n",
       "      <th>optiontext</th>\n",
       "      <td>1.000000</td>\n",
       "      <td>-0.018702</td>\n",
       "      <td>0.054044</td>\n",
       "      <td>-0.030657</td>\n",
       "    </tr>\n",
       "    <tr>\n",
       "      <th>totalviewtime</th>\n",
       "      <td>-0.018702</td>\n",
       "      <td>1.000000</td>\n",
       "      <td>0.512719</td>\n",
       "      <td>0.999560</td>\n",
       "    </tr>\n",
       "    <tr>\n",
       "      <th>avgVT/impBySec</th>\n",
       "      <td>0.054044</td>\n",
       "      <td>0.512719</td>\n",
       "      <td>1.000000</td>\n",
       "      <td>0.481333</td>\n",
       "    </tr>\n",
       "    <tr>\n",
       "      <th>totalVTCategory_num</th>\n",
       "      <td>-0.030657</td>\n",
       "      <td>0.999560</td>\n",
       "      <td>0.481333</td>\n",
       "      <td>1.000000</td>\n",
       "    </tr>\n",
       "  </tbody>\n",
       "</table>\n",
       "</div>"
      ],
      "text/plain": [
       "                     optiontext  totalviewtime  avgVT/impBySec  \\\n",
       "optiontext             1.000000      -0.018702        0.054044   \n",
       "totalviewtime         -0.018702       1.000000        0.512719   \n",
       "avgVT/impBySec         0.054044       0.512719        1.000000   \n",
       "totalVTCategory_num   -0.030657       0.999560        0.481333   \n",
       "\n",
       "                     totalVTCategory_num  \n",
       "optiontext                     -0.030657  \n",
       "totalviewtime                   0.999560  \n",
       "avgVT/impBySec                  0.481333  \n",
       "totalVTCategory_num             1.000000  "
      ]
     },
     "execution_count": 86,
     "metadata": {},
     "output_type": "execute_result"
    }
   ],
   "source": [
    "rawData[['optiontext','totalviewtime','avgVT/impBySec','totalVTCategory_num']].corr(method='spearman')"
   ]
  },
  {
   "cell_type": "code",
   "execution_count": 87,
   "metadata": {
    "collapsed": false
   },
   "outputs": [
    {
     "name": "stdout",
     "output_type": "stream",
     "text": [
      "['0 - 5', '5 - 10', '10 - 15', '15 - 20', '20 - 25', '25 - 30', '30 - 35', '35 - 40', '40 - 45', '45 - 50', '50 - 55', '55 - 60', '60 - 65', '65 - 70', '70 - 75', '75 - 80', '80 - 85', '85 - 90', '90 - 95', '95 - 100', '100 - 105', '105 - 110', '110 - 115', '115 - 120', '120 - 125', '125 - 130', '130 - 135', '135 - 140', '140 - 145', '145 - 150', '150 - 155', '155 - 160', '160 - 165', '165 - 170', '170 - 175', '175 - 180', '180 - 185', '185 - 190', '190 - 195', '195 - 200']\n"
     ]
    }
   ],
   "source": [
    "#categorical cut on avgviewtime\n",
    "labels = [ \"{0} - {1}\".format(i, i + 5) for i in range(0, 200, 5) ]\n",
    "print labels\n",
    "rawData['avgVTCategory'] = pd.cut(rawData['avgVT/impBySec'], range(0, 201, 5), right=False, labels=labels)\n",
    "rawData[['avgVT/impBySec','avgVTCategory']].sample(n=20, random_state=0)\n",
    "rawData['avgVTCategory_num']=pd.to_numeric(rawData['avgVTCategory'].str.split('-').str[0])"
   ]
  },
  {
   "cell_type": "code",
   "execution_count": 88,
   "metadata": {
    "collapsed": false
   },
   "outputs": [],
   "source": [
    "#rawData[['optiontext','totalVTBySec','avgVT/impBySec','interest_category','totalVTCategory_num','avgVTCategory_num']].corr(method='spearman')"
   ]
  },
  {
   "cell_type": "code",
   "execution_count": 89,
   "metadata": {
    "collapsed": false
   },
   "outputs": [],
   "source": [
    "rawData['interest_Category']=np.where(rawData['optiontext']>=4,'High','Low')\n",
    "rawData['interest_Category_num']=np.where(rawData['optiontext']>=4,1,0)"
   ]
  },
  {
   "cell_type": "code",
   "execution_count": 90,
   "metadata": {
    "collapsed": false
   },
   "outputs": [
    {
     "data": {
      "text/html": [
       "\n",
       "        <iframe\n",
       "            width=\"100%\"\n",
       "            height=\"500\"\n",
       "            src=\"pivottablejs.html\"\n",
       "            frameborder=\"0\"\n",
       "            allowfullscreen\n",
       "        ></iframe>\n",
       "        "
      ],
      "text/plain": [
       "<IPython.lib.display.IFrame at 0x11702e710>"
      ]
     },
     "execution_count": 90,
     "metadata": {},
     "output_type": "execute_result"
    }
   ],
   "source": [
    "from pivottablejs import pivot_ui\n",
    "pivot_ui(rawData)\n",
    "rawData['avgVTCategory_num2']=np.where(rawData['optiontext']>=4,'High','Low')"
   ]
  },
  {
   "cell_type": "code",
   "execution_count": 141,
   "metadata": {
    "collapsed": false
   },
   "outputs": [
    {
     "data": {
      "text/html": [
       "<div>\n",
       "<table border=\"1\" class=\"dataframe\">\n",
       "  <thead>\n",
       "    <tr style=\"text-align: right;\">\n",
       "      <th></th>\n",
       "      <th>optiontext</th>\n",
       "      <th>viewableimp_ic</th>\n",
       "      <th>totalVTBySec</th>\n",
       "      <th>avgVT/impBySec</th>\n",
       "      <th>interest_Category_num</th>\n",
       "      <th>totalVTCategory_num</th>\n",
       "      <th>avgVTCategory_num</th>\n",
       "    </tr>\n",
       "  </thead>\n",
       "  <tbody>\n",
       "    <tr>\n",
       "      <th>optiontext</th>\n",
       "      <td>1.000000</td>\n",
       "      <td>-0.014834</td>\n",
       "      <td>0.017023</td>\n",
       "      <td>0.044581</td>\n",
       "      <td>0.754346</td>\n",
       "      <td>-0.030629</td>\n",
       "      <td>0.049502</td>\n",
       "    </tr>\n",
       "    <tr>\n",
       "      <th>viewableimp_ic</th>\n",
       "      <td>-0.014834</td>\n",
       "      <td>1.000000</td>\n",
       "      <td>0.822219</td>\n",
       "      <td>0.011714</td>\n",
       "      <td>0.002722</td>\n",
       "      <td>0.767094</td>\n",
       "      <td>0.014537</td>\n",
       "    </tr>\n",
       "    <tr>\n",
       "      <th>totalVTBySec</th>\n",
       "      <td>0.017023</td>\n",
       "      <td>0.822219</td>\n",
       "      <td>1.000000</td>\n",
       "      <td>0.312332</td>\n",
       "      <td>0.018769</td>\n",
       "      <td>0.999978</td>\n",
       "      <td>0.313627</td>\n",
       "    </tr>\n",
       "    <tr>\n",
       "      <th>avgVT/impBySec</th>\n",
       "      <td>0.044581</td>\n",
       "      <td>0.011714</td>\n",
       "      <td>0.312332</td>\n",
       "      <td>1.000000</td>\n",
       "      <td>0.024127</td>\n",
       "      <td>0.307776</td>\n",
       "      <td>0.989123</td>\n",
       "    </tr>\n",
       "    <tr>\n",
       "      <th>interest_Category_num</th>\n",
       "      <td>0.754346</td>\n",
       "      <td>0.002722</td>\n",
       "      <td>0.018769</td>\n",
       "      <td>0.024127</td>\n",
       "      <td>1.000000</td>\n",
       "      <td>-0.037447</td>\n",
       "      <td>0.026800</td>\n",
       "    </tr>\n",
       "    <tr>\n",
       "      <th>totalVTCategory_num</th>\n",
       "      <td>-0.030629</td>\n",
       "      <td>0.767094</td>\n",
       "      <td>0.999978</td>\n",
       "      <td>0.307776</td>\n",
       "      <td>-0.037447</td>\n",
       "      <td>1.000000</td>\n",
       "      <td>0.310780</td>\n",
       "    </tr>\n",
       "    <tr>\n",
       "      <th>avgVTCategory_num</th>\n",
       "      <td>0.049502</td>\n",
       "      <td>0.014537</td>\n",
       "      <td>0.313627</td>\n",
       "      <td>0.989123</td>\n",
       "      <td>0.026800</td>\n",
       "      <td>0.310780</td>\n",
       "      <td>1.000000</td>\n",
       "    </tr>\n",
       "  </tbody>\n",
       "</table>\n",
       "</div>"
      ],
      "text/plain": [
       "                       optiontext  viewableimp_ic  totalVTBySec  \\\n",
       "optiontext               1.000000       -0.014834      0.017023   \n",
       "viewableimp_ic          -0.014834        1.000000      0.822219   \n",
       "totalVTBySec             0.017023        0.822219      1.000000   \n",
       "avgVT/impBySec           0.044581        0.011714      0.312332   \n",
       "interest_Category_num    0.754346        0.002722      0.018769   \n",
       "totalVTCategory_num     -0.030629        0.767094      0.999978   \n",
       "avgVTCategory_num        0.049502        0.014537      0.313627   \n",
       "\n",
       "                       avgVT/impBySec  interest_Category_num  \\\n",
       "optiontext                   0.044581               0.754346   \n",
       "viewableimp_ic               0.011714               0.002722   \n",
       "totalVTBySec                 0.312332               0.018769   \n",
       "avgVT/impBySec               1.000000               0.024127   \n",
       "interest_Category_num        0.024127               1.000000   \n",
       "totalVTCategory_num          0.307776              -0.037447   \n",
       "avgVTCategory_num            0.989123               0.026800   \n",
       "\n",
       "                       totalVTCategory_num  avgVTCategory_num  \n",
       "optiontext                       -0.030629           0.049502  \n",
       "viewableimp_ic                    0.767094           0.014537  \n",
       "totalVTBySec                      0.999978           0.313627  \n",
       "avgVT/impBySec                    0.307776           0.989123  \n",
       "interest_Category_num            -0.037447           0.026800  \n",
       "totalVTCategory_num               1.000000           0.310780  \n",
       "avgVTCategory_num                 0.310780           1.000000  "
      ]
     },
     "execution_count": 141,
     "metadata": {},
     "output_type": "execute_result"
    }
   ],
   "source": [
    "rawData[['optiontext','VTScaleBySec','viewableimp_ic','totalVTBySec','avgVT/impBySec','interest_Category_num',\n",
    "         'totalVTCategory_num','avgVTCategory_num']].corr(method='pearson')"
   ]
  },
  {
   "cell_type": "code",
   "execution_count": 93,
   "metadata": {
    "collapsed": true
   },
   "outputs": [],
   "source": [
    "df1 = rawData[rawData['avgVT/impBySec'] < rawData['avgVT/impBySec'].quantile(.85)]"
   ]
  },
  {
   "cell_type": "code",
   "execution_count": 140,
   "metadata": {
    "collapsed": false
   },
   "outputs": [
    {
     "data": {
      "text/html": [
       "<div>\n",
       "<table border=\"1\" class=\"dataframe\">\n",
       "  <thead>\n",
       "    <tr style=\"text-align: right;\">\n",
       "      <th></th>\n",
       "      <th>optiontext</th>\n",
       "      <th>totalVTBySec</th>\n",
       "      <th>avgVT/impBySec</th>\n",
       "      <th>interest_Category_num</th>\n",
       "      <th>totalVTCategory_num</th>\n",
       "      <th>avgVTCategory_num</th>\n",
       "    </tr>\n",
       "  </thead>\n",
       "  <tbody>\n",
       "    <tr>\n",
       "      <th>count</th>\n",
       "      <td>20649.000000</td>\n",
       "      <td>20649.000000</td>\n",
       "      <td>20649.000000</td>\n",
       "      <td>20649.000000</td>\n",
       "      <td>19541.000000</td>\n",
       "      <td>20649.000000</td>\n",
       "    </tr>\n",
       "    <tr>\n",
       "      <th>mean</th>\n",
       "      <td>2.346796</td>\n",
       "      <td>273.385206</td>\n",
       "      <td>13.514837</td>\n",
       "      <td>0.177200</td>\n",
       "      <td>174.682207</td>\n",
       "      <td>10.921594</td>\n",
       "    </tr>\n",
       "    <tr>\n",
       "      <th>std</th>\n",
       "      <td>1.241195</td>\n",
       "      <td>525.736357</td>\n",
       "      <td>9.565852</td>\n",
       "      <td>0.381847</td>\n",
       "      <td>218.487980</td>\n",
       "      <td>9.715445</td>\n",
       "    </tr>\n",
       "    <tr>\n",
       "      <th>min</th>\n",
       "      <td>1.000000</td>\n",
       "      <td>0.302000</td>\n",
       "      <td>0.300000</td>\n",
       "      <td>0.000000</td>\n",
       "      <td>0.000000</td>\n",
       "      <td>0.000000</td>\n",
       "    </tr>\n",
       "    <tr>\n",
       "      <th>25%</th>\n",
       "      <td>1.000000</td>\n",
       "      <td>27.672000</td>\n",
       "      <td>6.150000</td>\n",
       "      <td>0.000000</td>\n",
       "      <td>20.000000</td>\n",
       "      <td>5.000000</td>\n",
       "    </tr>\n",
       "    <tr>\n",
       "      <th>50%</th>\n",
       "      <td>2.000000</td>\n",
       "      <td>94.406000</td>\n",
       "      <td>10.880000</td>\n",
       "      <td>0.000000</td>\n",
       "      <td>80.000000</td>\n",
       "      <td>10.000000</td>\n",
       "    </tr>\n",
       "    <tr>\n",
       "      <th>75%</th>\n",
       "      <td>3.000000</td>\n",
       "      <td>299.902000</td>\n",
       "      <td>18.610000</td>\n",
       "      <td>0.000000</td>\n",
       "      <td>245.000000</td>\n",
       "      <td>15.000000</td>\n",
       "    </tr>\n",
       "    <tr>\n",
       "      <th>max</th>\n",
       "      <td>5.000000</td>\n",
       "      <td>10621.010000</td>\n",
       "      <td>43.290000</td>\n",
       "      <td>1.000000</td>\n",
       "      <td>995.000000</td>\n",
       "      <td>40.000000</td>\n",
       "    </tr>\n",
       "  </tbody>\n",
       "</table>\n",
       "</div>"
      ],
      "text/plain": [
       "         optiontext  totalVTBySec  avgVT/impBySec  interest_Category_num  \\\n",
       "count  20649.000000  20649.000000    20649.000000           20649.000000   \n",
       "mean       2.346796    273.385206       13.514837               0.177200   \n",
       "std        1.241195    525.736357        9.565852               0.381847   \n",
       "min        1.000000      0.302000        0.300000               0.000000   \n",
       "25%        1.000000     27.672000        6.150000               0.000000   \n",
       "50%        2.000000     94.406000       10.880000               0.000000   \n",
       "75%        3.000000    299.902000       18.610000               0.000000   \n",
       "max        5.000000  10621.010000       43.290000               1.000000   \n",
       "\n",
       "       totalVTCategory_num  avgVTCategory_num  \n",
       "count         19541.000000       20649.000000  \n",
       "mean            174.682207          10.921594  \n",
       "std             218.487980           9.715445  \n",
       "min               0.000000           0.000000  \n",
       "25%              20.000000           5.000000  \n",
       "50%              80.000000          10.000000  \n",
       "75%             245.000000          15.000000  \n",
       "max             995.000000          40.000000  "
      ]
     },
     "execution_count": 140,
     "metadata": {},
     "output_type": "execute_result"
    }
   ],
   "source": [
    "rawData[['optiontext','VTScaleBySec','totalVTBySec','avgVT/impBySec','interest_Category_num',\n",
    "         'totalVTCategory_num','avgVTCategory_num']].describe()"
   ]
  },
  {
   "cell_type": "code",
   "execution_count": 104,
   "metadata": {
    "collapsed": false
   },
   "outputs": [
    {
     "data": {
      "text/plain": [
       "array([0, 1, 2, ..., 2, 3, 4])"
      ]
     },
     "execution_count": 104,
     "metadata": {},
     "output_type": "execute_result"
    }
   ],
   "source": [
    "#pd.factorize(rawData['VTScaleBySec'])[0]"
   ]
  },
  {
   "cell_type": "code",
   "execution_count": 101,
   "metadata": {
    "collapsed": false
   },
   "outputs": [],
   "source": [
    "#rawData['VTScaleBySec'].get_values()"
   ]
  },
  {
   "cell_type": "code",
   "execution_count": 109,
   "metadata": {
    "collapsed": false
   },
   "outputs": [
    {
     "data": {
      "text/plain": [
       "[8.46, 22.80, 31.22, 15.44, 15.44, ..., 6.16, 7.44, 31.10, 11.31, 2.73]\n",
       "Length: 20649\n",
       "Categories (3058, float64): [0.30, 0.31, 0.33, 0.34, ..., 43.22, 43.25, 43.26, 43.29]"
      ]
     },
     "execution_count": 109,
     "metadata": {},
     "output_type": "execute_result"
    }
   ],
   "source": [
    "# pd.Categorical(rawData.VTScaleBySec)\n",
    "pd.Categorical(rawData['avgVT/impBySec'])"
   ]
  },
  {
   "cell_type": "code",
   "execution_count": 111,
   "metadata": {
    "collapsed": true
   },
   "outputs": [],
   "source": [
    "from sklearn import preprocessing\n",
    "\n",
    "encoder = preprocessing.LabelEncoder()\n",
    "\n",
    "#to convert into numbers\n",
    "\n",
    "#test = encoder.fit_transform(test)\n",
    "\n",
    "#to convert back\n",
    "\n",
    "#test = encoder.inverse_transform(test)"
   ]
  },
  {
   "cell_type": "code",
   "execution_count": 134,
   "metadata": {
    "collapsed": false
   },
   "outputs": [
    {
     "data": {
      "text/plain": [
       "[6-10, 21-25, ABOVE 31, 11-15, 1-5, 16-20, <=1, 26-30]\n",
       "Categories (8, object): [6-10, 21-25, ABOVE 31, 11-15, 1-5, 16-20, <=1, 26-30]"
      ]
     },
     "execution_count": 134,
     "metadata": {},
     "output_type": "execute_result"
    }
   ],
   "source": [
    "from sklearn import preprocessing\n",
    "\n",
    "encoder = preprocessing.LabelEncoder()\n",
    "\n",
    "rawData['interestCategory_num2'] = encoder.fit_transform(rawData.interest_Category)\n",
    "rawData.VTScaleBySec.unique()"
   ]
  },
  {
   "cell_type": "code",
   "execution_count": 149,
   "metadata": {
    "collapsed": false
   },
   "outputs": [],
   "source": [
    "#rawData['test'] = pd.Categorical.from_array(rawData.interest_Category)\n",
    "#rawData['test'] = pd.Categorical.from_codes(rawData.optiontext, rawData.interest_Category)\n",
    "rawData['VTScaleBySec'] = rawData['VTScaleBySec'].astype('category')\n",
    "rawData.VTScaleBySec.cat.reorder_categories(['<=1','1-5','6-10','11-15','16-20','21-25','26-30','ABOVE 31'])\n",
    "rawData['vtscalebysec_num'] = encoder.fit_transform(rawData.VTScaleBySec)\n",
    "#rawData[['VTScaleBySec','vtscalebysec_num']].sample(n=5)\n",
    "rawData.drop(rawData[['vtscalebysec_num']],axis=1, inplace=True)"
   ]
  },
  {
   "cell_type": "code",
   "execution_count": 150,
   "metadata": {
    "collapsed": false
   },
   "outputs": [],
   "source": [
    "\n",
    "#rawData.sample(n=5,random_state=5)"
   ]
  },
  {
   "cell_type": "code",
   "execution_count": null,
   "metadata": {
    "collapsed": true
   },
   "outputs": [],
   "source": []
  }
 ],
 "metadata": {
  "kernelspec": {
   "display_name": "Python 2",
   "language": "python",
   "name": "python2"
  },
  "language_info": {
   "codemirror_mode": {
    "name": "ipython",
    "version": 2
   },
   "file_extension": ".py",
   "mimetype": "text/x-python",
   "name": "python",
   "nbconvert_exporter": "python",
   "pygments_lexer": "ipython2",
   "version": "2.7.11"
  }
 },
 "nbformat": 4,
 "nbformat_minor": 0
}
