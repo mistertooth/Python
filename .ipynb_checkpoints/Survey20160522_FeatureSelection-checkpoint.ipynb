{
 "cells": [
  {
   "cell_type": "code",
   "execution_count": 2,
   "metadata": {
    "collapsed": false
   },
   "outputs": [
    {
     "data": {
      "text/html": [
       "<script>\n",
       "code_show=true;\n",
       "function code_toggle() {\n",
       " if (code_show){\n",
       " $('div.input').hide();\n",
       " } else {\n",
       " $('div.input').show();\n",
       " }\n",
       " code_show = !code_show\n",
       "}\n",
       "$( document ).ready(code_toggle);\n",
       "</script>\n",
       "<form action=\"javascript:code_toggle()\"><input type=\"submit\" \n",
       "value=\"Click here to toggle on/off the code.\"></form>"
      ],
      "text/plain": [
       "<IPython.core.display.HTML object>"
      ]
     },
     "execution_count": 2,
     "metadata": {},
     "output_type": "execute_result"
    }
   ],
   "source": [
    "from IPython.display import HTML\n",
    "\n",
    "HTML('''<script>\n",
    "code_show=true;\n",
    "function code_toggle() {\n",
    " if (code_show){\n",
    " $('div.input').hide();\n",
    " } else {\n",
    " $('div.input').show();\n",
    " }\n",
    " code_show = !code_show\n",
    "}\n",
    "$( document ).ready(code_toggle);\n",
    "</script>\n",
    "<form action=\"javascript:code_toggle()\"><input type=\"submit\" \n",
    "value=\"Click here to toggle on/off the code.\"></form>''')"
   ]
  },
  {
   "cell_type": "code",
   "execution_count": 12,
   "metadata": {
    "collapsed": false
   },
   "outputs": [],
   "source": [
    "import pandas as pd\n",
    "import numpy as np\n",
    "import scipy as sp\n",
    "import sklearn as skl\n",
    "import sklearn.cross_validation\n",
    "import matplotlib.pyplot as plt\n",
    "import seaborn as sns\n",
    "# this allows plots to appear directly in the notebook\n",
    "%matplotlib inline\n",
    "plt.rcParams['figure.figsize'] = (8, 6)\n",
    "plt.rcParams['font.size'] = 14\n",
    "import statsmodels.formula.api as smf\n",
    "# Set ipython's max row display\n",
    "pd.set_option('display.max_row', 1000)\n",
    "# Set iPython's max column width to 50\n",
    "pd.set_option('display.max_columns', 50)\n",
    "\n",
    "from IPython.core.display import display, HTML\n",
    "\n"
   ]
  },
  {
   "cell_type": "markdown",
   "metadata": {},
   "source": [
    "# Purpose\n",
    "### 1) Perform 1st Machine Learning to evaluate performance of different models\n",
    "### 2) Generate Insight on contribution from features in order to perform 2nd round feature selection and dimensionality reduction\n",
    "### 3) Generate clues for business intelligence"
   ]
  },
  {
   "cell_type": "markdown",
   "metadata": {},
   "source": [
    "## Bias-Variance Trade Off\n",
    "### - Intrinsic weakness of a parametric/linear model\n",
    "### - Motive of applying a non-parametric/non-linear model "
   ]
  },
  {
   "cell_type": "code",
   "execution_count": 15,
   "metadata": {
    "collapsed": false,
    "scrolled": true
   },
   "outputs": [
    {
     "data": {
      "text/html": [
       "<a href=\"https://en.wikipedia.org/wiki/Bias%E2%80%93variance_tradeoff\">Bias Variance Trade Off</a>"
      ],
      "text/plain": [
       "<IPython.core.display.HTML object>"
      ]
     },
     "metadata": {},
     "output_type": "display_data"
    }
   ],
   "source": [
    "%%html\n",
    "<a href=\"https://en.wikipedia.org/wiki/Bias%E2%80%93variance_tradeoff\">Bias Variance Trade Off</a>"
   ]
  },
  {
   "cell_type": "raw",
   "metadata": {},
   "source": [
    "- Parametric or linear machine learning algorithms often have a high bias but a low variance.\n",
    "- Non-parametric or non-linear machine learning algorithms often have a low bias but a high variance.\n"
   ]
  },
  {
   "cell_type": "markdown",
   "metadata": {},
   "source": [
    "## Potential Models "
   ]
  },
  {
   "cell_type": "raw",
   "metadata": {},
   "source": [
    "- k-nearest neighbors algorithm has low bias and high variance, but the trade-off can be changed by increasing the value of k which increases the number of neighbors that contribute t the prediction and in turn increases the bias of the model.\n",
    "- support vector machine algorithm has low bias and high variance, but the trade-off can be changed by increasing the C parameter that influences the number of violations of the margin allowed in the training data which increases the bias but decreases the variance.\n",
    "- random forest is of low bias and high variance, although the depth of implementation of the tree can influence the variance\n"
   ]
  },
  {
   "cell_type": "markdown",
   "metadata": {},
   "source": [
    "\n",
    "## Regression VS Classification"
   ]
  },
  {
   "cell_type": "raw",
   "metadata": {},
   "source": [
    "Based on the data types of the target label\n",
    "- Recall: a binary classification\n",
    "- Interest: given it is a 1-5 nominal data, I would treat it as a multi-class classfication problem rather a regression problem\n",
    "- Purchase Intent: same as interest"
   ]
  },
  {
   "cell_type": "markdown",
   "metadata": {},
   "source": [
    "#  Random Forest"
   ]
  },
  {
   "cell_type": "raw",
   "metadata": {},
   "source": [
    "In random forests, there is no need for cross-validation or a separate test set to get an unbiased estimate of the test set error. It is estimated internally, during the run, as follows:\n",
    "\n",
    "Each tree is constructed using a different bootstrap sample from the original data. About one-third of the cases are left out of the bootstrap sample and not used in the construction of the kth tree.\n",
    "\n",
    "Put each case left out in the construction of the kth tree down the kth tree to get a classification. In this way, a test set classification is obtained for each case in about one-third of the trees. At the end of the run, take j to be the class that got most of the votes every time case n was oob. The proportion of times that j is not equal to the true class of n averaged over all cases is the oob error estimate. This has proven to be unbiased in many tests."
   ]
  },
  {
   "cell_type": "markdown",
   "metadata": {},
   "source": [
    "## Prepare Data"
   ]
  },
  {
   "cell_type": "code",
   "execution_count": 132,
   "metadata": {
    "collapsed": true
   },
   "outputs": [],
   "source": [
    "url_transaction = '/Users/shaokuixing/Desktop/whatever/trans_final20150527.csv'\n",
    "trans = pd.read_csv(url_transaction, sep=',', decimal ='.')"
   ]
  },
  {
   "cell_type": "code",
   "execution_count": 305,
   "metadata": {
    "collapsed": false
   },
   "outputs": [],
   "source": [
    "#trans.drop('Unnamed: 0', axis=1, inplace=True)\n",
    "#trans.head()"
   ]
  },
  {
   "cell_type": "code",
   "execution_count": 140,
   "metadata": {
    "collapsed": false
   },
   "outputs": [],
   "source": [
    "recall_url = '/Users/shaokuixing/Desktop/whatever/recall20150527.csv'\n",
    "recall = pd.read_csv(recall_url, sep=',', decimal ='.')"
   ]
  },
  {
   "cell_type": "code",
   "execution_count": 304,
   "metadata": {
    "collapsed": false
   },
   "outputs": [],
   "source": [
    "#recall.drop('Unnamed: 0', axis=1, inplace=True)\n",
    "#recall.sample(10)"
   ]
  },
  {
   "cell_type": "code",
   "execution_count": 142,
   "metadata": {
    "collapsed": true
   },
   "outputs": [],
   "source": [
    "df1=pd.merge(trans,recall,how='inner', on='answersetid', sort=True, copy=True)"
   ]
  },
  {
   "cell_type": "code",
   "execution_count": 306,
   "metadata": {
    "collapsed": false
   },
   "outputs": [
    {
     "data": {
      "text/html": [
       "<div>\n",
       "<table border=\"1\" class=\"dataframe\">\n",
       "  <thead>\n",
       "    <tr style=\"text-align: right;\">\n",
       "      <th></th>\n",
       "      <th>answersetid</th>\n",
       "      <th>imp_total</th>\n",
       "      <th>impAbove0pct0ms</th>\n",
       "      <th>impAbove50pct300ms</th>\n",
       "      <th>impAbove50pct1000ms</th>\n",
       "      <th>impAbove100pct0ms</th>\n",
       "      <th>impAbove100pct1000ms</th>\n",
       "      <th>vtabove0pct</th>\n",
       "      <th>vtabove10pct</th>\n",
       "      <th>vtabove20pct</th>\n",
       "      <th>vtabove30pct</th>\n",
       "      <th>vtabove40pct</th>\n",
       "      <th>vtabove50pct</th>\n",
       "      <th>vtabove60pct</th>\n",
       "      <th>vtabove70pct</th>\n",
       "      <th>vtabove80pct</th>\n",
       "      <th>vtabove90pct</th>\n",
       "      <th>vtabove100pct</th>\n",
       "      <th>vtabove50pct300ms</th>\n",
       "      <th>vtabove50pct1000ms</th>\n",
       "      <th>bin-vtabove0pct</th>\n",
       "      <th>bin-vtabove10pct</th>\n",
       "      <th>bin-vtabove20pct</th>\n",
       "      <th>bin-vtabove30pct</th>\n",
       "      <th>bin-vtabove40pct</th>\n",
       "      <th>...</th>\n",
       "      <th>feature_swipe</th>\n",
       "      <th>ios_version</th>\n",
       "      <th>android_version</th>\n",
       "      <th>max_rss</th>\n",
       "      <th>min_rss</th>\n",
       "      <th>mean_rss</th>\n",
       "      <th>firstinteraction</th>\n",
       "      <th>click</th>\n",
       "      <th>close</th>\n",
       "      <th>min_adstarttime</th>\n",
       "      <th>max_adstarttime</th>\n",
       "      <th>min_adendtime</th>\n",
       "      <th>max_adendtime</th>\n",
       "      <th>min_adduration</th>\n",
       "      <th>max_adduration</th>\n",
       "      <th>answerid</th>\n",
       "      <th>uid</th>\n",
       "      <th>surveyresponcetime</th>\n",
       "      <th>recall</th>\n",
       "      <th>monthinterview</th>\n",
       "      <th>dayofweekinterview</th>\n",
       "      <th>dayofmonthinterview</th>\n",
       "      <th>hourinterview</th>\n",
       "      <th>recall_neg</th>\n",
       "      <th>recall_pos</th>\n",
       "    </tr>\n",
       "  </thead>\n",
       "  <tbody>\n",
       "    <tr>\n",
       "      <th>20029</th>\n",
       "      <td>515653</td>\n",
       "      <td>1</td>\n",
       "      <td>1</td>\n",
       "      <td>1</td>\n",
       "      <td>1</td>\n",
       "      <td>1</td>\n",
       "      <td>1</td>\n",
       "      <td>1302</td>\n",
       "      <td>1302</td>\n",
       "      <td>1302</td>\n",
       "      <td>1302</td>\n",
       "      <td>1302</td>\n",
       "      <td>1302</td>\n",
       "      <td>1302.000000</td>\n",
       "      <td>1302.000000</td>\n",
       "      <td>1302.000000</td>\n",
       "      <td>1302.000000</td>\n",
       "      <td>1302.000000</td>\n",
       "      <td>1302</td>\n",
       "      <td>1302</td>\n",
       "      <td>3</td>\n",
       "      <td>3</td>\n",
       "      <td>3</td>\n",
       "      <td>3</td>\n",
       "      <td>3</td>\n",
       "      <td>...</td>\n",
       "      <td>1</td>\n",
       "      <td>19300</td>\n",
       "      <td>0</td>\n",
       "      <td>1.992504</td>\n",
       "      <td>1.992504</td>\n",
       "      <td>1.992504</td>\n",
       "      <td>0</td>\n",
       "      <td>0</td>\n",
       "      <td>1</td>\n",
       "      <td>2016-04-23 22:00:00</td>\n",
       "      <td>2016-04-23 22:00:00</td>\n",
       "      <td>2016-05-04 21:59:00</td>\n",
       "      <td>2016-05-04 21:59:00</td>\n",
       "      <td>263.983333</td>\n",
       "      <td>263.983333</td>\n",
       "      <td>1362456</td>\n",
       "      <td>3186864079103077842</td>\n",
       "      <td>2016-04-27 06:52:16</td>\n",
       "      <td>Yes</td>\n",
       "      <td>4</td>\n",
       "      <td>3</td>\n",
       "      <td>27</td>\n",
       "      <td>6</td>\n",
       "      <td>0</td>\n",
       "      <td>1</td>\n",
       "    </tr>\n",
       "    <tr>\n",
       "      <th>10641</th>\n",
       "      <td>361096</td>\n",
       "      <td>4</td>\n",
       "      <td>4</td>\n",
       "      <td>4</td>\n",
       "      <td>4</td>\n",
       "      <td>4</td>\n",
       "      <td>1</td>\n",
       "      <td>23353</td>\n",
       "      <td>23353</td>\n",
       "      <td>14037</td>\n",
       "      <td>14013</td>\n",
       "      <td>13828</td>\n",
       "      <td>13598</td>\n",
       "      <td>13410.000000</td>\n",
       "      <td>13354.000000</td>\n",
       "      <td>13285.000000</td>\n",
       "      <td>10942.000000</td>\n",
       "      <td>474.000000</td>\n",
       "      <td>13598</td>\n",
       "      <td>13598</td>\n",
       "      <td>7</td>\n",
       "      <td>7</td>\n",
       "      <td>6</td>\n",
       "      <td>7</td>\n",
       "      <td>7</td>\n",
       "      <td>...</td>\n",
       "      <td>0</td>\n",
       "      <td>0</td>\n",
       "      <td>100000</td>\n",
       "      <td>2.174517</td>\n",
       "      <td>1.643917</td>\n",
       "      <td>1.919525</td>\n",
       "      <td>0</td>\n",
       "      <td>0</td>\n",
       "      <td>0</td>\n",
       "      <td>2016-01-11 16:00:00</td>\n",
       "      <td>2016-01-11 16:00:00</td>\n",
       "      <td>2016-01-31 21:59:00</td>\n",
       "      <td>2016-01-31 21:59:00</td>\n",
       "      <td>485.983333</td>\n",
       "      <td>485.983333</td>\n",
       "      <td>976381</td>\n",
       "      <td>4028420172587565849</td>\n",
       "      <td>2016-01-17 10:06:50</td>\n",
       "      <td>Yes</td>\n",
       "      <td>1</td>\n",
       "      <td>0</td>\n",
       "      <td>17</td>\n",
       "      <td>10</td>\n",
       "      <td>0</td>\n",
       "      <td>1</td>\n",
       "    </tr>\n",
       "    <tr>\n",
       "      <th>956</th>\n",
       "      <td>238897</td>\n",
       "      <td>2</td>\n",
       "      <td>2</td>\n",
       "      <td>2</td>\n",
       "      <td>2</td>\n",
       "      <td>1</td>\n",
       "      <td>1</td>\n",
       "      <td>8933</td>\n",
       "      <td>8933</td>\n",
       "      <td>8933</td>\n",
       "      <td>8933</td>\n",
       "      <td>8933</td>\n",
       "      <td>8933</td>\n",
       "      <td>0.905127</td>\n",
       "      <td>0.521195</td>\n",
       "      <td>0.745933</td>\n",
       "      <td>0.624773</td>\n",
       "      <td>0.520937</td>\n",
       "      <td>8933</td>\n",
       "      <td>8933</td>\n",
       "      <td>5</td>\n",
       "      <td>5</td>\n",
       "      <td>6</td>\n",
       "      <td>6</td>\n",
       "      <td>6</td>\n",
       "      <td>...</td>\n",
       "      <td>0</td>\n",
       "      <td>38000</td>\n",
       "      <td>0</td>\n",
       "      <td>2.174517</td>\n",
       "      <td>1.643917</td>\n",
       "      <td>1.919525</td>\n",
       "      <td>0</td>\n",
       "      <td>0</td>\n",
       "      <td>0</td>\n",
       "      <td>2015-11-01 23:00:00</td>\n",
       "      <td>2015-11-01 23:00:00</td>\n",
       "      <td>2015-11-19 22:59:00</td>\n",
       "      <td>2015-11-19 22:59:00</td>\n",
       "      <td>431.983333</td>\n",
       "      <td>431.983333</td>\n",
       "      <td>651642</td>\n",
       "      <td>4629199814985571307</td>\n",
       "      <td>2015-11-16 13:01:23</td>\n",
       "      <td>Yes</td>\n",
       "      <td>11</td>\n",
       "      <td>1</td>\n",
       "      <td>16</td>\n",
       "      <td>13</td>\n",
       "      <td>0</td>\n",
       "      <td>1</td>\n",
       "    </tr>\n",
       "    <tr>\n",
       "      <th>20031</th>\n",
       "      <td>515662</td>\n",
       "      <td>1</td>\n",
       "      <td>1</td>\n",
       "      <td>1</td>\n",
       "      <td>1</td>\n",
       "      <td>1</td>\n",
       "      <td>1</td>\n",
       "      <td>14715</td>\n",
       "      <td>14715</td>\n",
       "      <td>14715</td>\n",
       "      <td>12220</td>\n",
       "      <td>12220</td>\n",
       "      <td>12177</td>\n",
       "      <td>12177.000000</td>\n",
       "      <td>12144.000000</td>\n",
       "      <td>12122.000000</td>\n",
       "      <td>12122.000000</td>\n",
       "      <td>12100.000000</td>\n",
       "      <td>12177</td>\n",
       "      <td>12177</td>\n",
       "      <td>6</td>\n",
       "      <td>6</td>\n",
       "      <td>7</td>\n",
       "      <td>6</td>\n",
       "      <td>7</td>\n",
       "      <td>...</td>\n",
       "      <td>0</td>\n",
       "      <td>19300</td>\n",
       "      <td>0</td>\n",
       "      <td>2.521606</td>\n",
       "      <td>2.521606</td>\n",
       "      <td>2.521606</td>\n",
       "      <td>0</td>\n",
       "      <td>0</td>\n",
       "      <td>0</td>\n",
       "      <td>2016-04-06 22:00:00</td>\n",
       "      <td>2016-04-06 22:00:00</td>\n",
       "      <td>2016-05-16 21:59:00</td>\n",
       "      <td>2016-05-16 21:59:00</td>\n",
       "      <td>1679.983333</td>\n",
       "      <td>1679.983333</td>\n",
       "      <td>1362515</td>\n",
       "      <td>1432510389811042696</td>\n",
       "      <td>2016-04-27 07:03:20</td>\n",
       "      <td>Yes</td>\n",
       "      <td>4</td>\n",
       "      <td>3</td>\n",
       "      <td>27</td>\n",
       "      <td>7</td>\n",
       "      <td>0</td>\n",
       "      <td>1</td>\n",
       "    </tr>\n",
       "    <tr>\n",
       "      <th>6989</th>\n",
       "      <td>316664</td>\n",
       "      <td>4</td>\n",
       "      <td>4</td>\n",
       "      <td>4</td>\n",
       "      <td>4</td>\n",
       "      <td>4</td>\n",
       "      <td>4</td>\n",
       "      <td>101203</td>\n",
       "      <td>101203</td>\n",
       "      <td>101203</td>\n",
       "      <td>101203</td>\n",
       "      <td>101203</td>\n",
       "      <td>101203</td>\n",
       "      <td>101203.000000</td>\n",
       "      <td>101203.000000</td>\n",
       "      <td>101203.000000</td>\n",
       "      <td>101203.000000</td>\n",
       "      <td>101203.000000</td>\n",
       "      <td>101203</td>\n",
       "      <td>101203</td>\n",
       "      <td>9</td>\n",
       "      <td>9</td>\n",
       "      <td>9</td>\n",
       "      <td>9</td>\n",
       "      <td>9</td>\n",
       "      <td>...</td>\n",
       "      <td>0</td>\n",
       "      <td>68400</td>\n",
       "      <td>0</td>\n",
       "      <td>2.174517</td>\n",
       "      <td>1.643917</td>\n",
       "      <td>1.919525</td>\n",
       "      <td>1</td>\n",
       "      <td>1</td>\n",
       "      <td>4</td>\n",
       "      <td>2015-11-28 23:00:00</td>\n",
       "      <td>2015-11-28 23:00:00</td>\n",
       "      <td>2015-12-20 22:59:00</td>\n",
       "      <td>2015-12-20 22:59:00</td>\n",
       "      <td>527.983333</td>\n",
       "      <td>527.983333</td>\n",
       "      <td>864865</td>\n",
       "      <td>88838550379267664</td>\n",
       "      <td>2015-12-21 09:00:49</td>\n",
       "      <td>Yes</td>\n",
       "      <td>12</td>\n",
       "      <td>1</td>\n",
       "      <td>21</td>\n",
       "      <td>9</td>\n",
       "      <td>0</td>\n",
       "      <td>1</td>\n",
       "    </tr>\n",
       "  </tbody>\n",
       "</table>\n",
       "<p>5 rows × 166 columns</p>\n",
       "</div>"
      ],
      "text/plain": [
       "       answersetid  imp_total  impAbove0pct0ms  impAbove50pct300ms  \\\n",
       "20029       515653          1                1                   1   \n",
       "10641       361096          4                4                   4   \n",
       "956         238897          2                2                   2   \n",
       "20031       515662          1                1                   1   \n",
       "6989        316664          4                4                   4   \n",
       "\n",
       "       impAbove50pct1000ms  impAbove100pct0ms  impAbove100pct1000ms  \\\n",
       "20029                    1                  1                     1   \n",
       "10641                    4                  4                     1   \n",
       "956                      2                  1                     1   \n",
       "20031                    1                  1                     1   \n",
       "6989                     4                  4                     4   \n",
       "\n",
       "       vtabove0pct  vtabove10pct  vtabove20pct  vtabove30pct  vtabove40pct  \\\n",
       "20029         1302          1302          1302          1302          1302   \n",
       "10641        23353         23353         14037         14013         13828   \n",
       "956           8933          8933          8933          8933          8933   \n",
       "20031        14715         14715         14715         12220         12220   \n",
       "6989        101203        101203        101203        101203        101203   \n",
       "\n",
       "       vtabove50pct   vtabove60pct   vtabove70pct   vtabove80pct  \\\n",
       "20029          1302    1302.000000    1302.000000    1302.000000   \n",
       "10641         13598   13410.000000   13354.000000   13285.000000   \n",
       "956            8933       0.905127       0.521195       0.745933   \n",
       "20031         12177   12177.000000   12144.000000   12122.000000   \n",
       "6989         101203  101203.000000  101203.000000  101203.000000   \n",
       "\n",
       "        vtabove90pct  vtabove100pct  vtabove50pct300ms  vtabove50pct1000ms  \\\n",
       "20029    1302.000000    1302.000000               1302                1302   \n",
       "10641   10942.000000     474.000000              13598               13598   \n",
       "956         0.624773       0.520937               8933                8933   \n",
       "20031   12122.000000   12100.000000              12177               12177   \n",
       "6989   101203.000000  101203.000000             101203              101203   \n",
       "\n",
       "       bin-vtabove0pct  bin-vtabove10pct  bin-vtabove20pct  bin-vtabove30pct  \\\n",
       "20029                3                 3                 3                 3   \n",
       "10641                7                 7                 6                 7   \n",
       "956                  5                 5                 6                 6   \n",
       "20031                6                 6                 7                 6   \n",
       "6989                 9                 9                 9                 9   \n",
       "\n",
       "       bin-vtabove40pct     ...      feature_swipe  ios_version  \\\n",
       "20029                 3     ...                  1        19300   \n",
       "10641                 7     ...                  0            0   \n",
       "956                   6     ...                  0        38000   \n",
       "20031                 7     ...                  0        19300   \n",
       "6989                  9     ...                  0        68400   \n",
       "\n",
       "       android_version   max_rss   min_rss  mean_rss  firstinteraction  click  \\\n",
       "20029                0  1.992504  1.992504  1.992504                 0      0   \n",
       "10641           100000  2.174517  1.643917  1.919525                 0      0   \n",
       "956                  0  2.174517  1.643917  1.919525                 0      0   \n",
       "20031                0  2.521606  2.521606  2.521606                 0      0   \n",
       "6989                 0  2.174517  1.643917  1.919525                 1      1   \n",
       "\n",
       "       close     min_adstarttime     max_adstarttime       min_adendtime  \\\n",
       "20029      1 2016-04-23 22:00:00 2016-04-23 22:00:00 2016-05-04 21:59:00   \n",
       "10641      0 2016-01-11 16:00:00 2016-01-11 16:00:00 2016-01-31 21:59:00   \n",
       "956        0 2015-11-01 23:00:00 2015-11-01 23:00:00 2015-11-19 22:59:00   \n",
       "20031      0 2016-04-06 22:00:00 2016-04-06 22:00:00 2016-05-16 21:59:00   \n",
       "6989       4 2015-11-28 23:00:00 2015-11-28 23:00:00 2015-12-20 22:59:00   \n",
       "\n",
       "            max_adendtime  min_adduration  max_adduration  answerid  \\\n",
       "20029 2016-05-04 21:59:00      263.983333      263.983333   1362456   \n",
       "10641 2016-01-31 21:59:00      485.983333      485.983333    976381   \n",
       "956   2015-11-19 22:59:00      431.983333      431.983333    651642   \n",
       "20031 2016-05-16 21:59:00     1679.983333     1679.983333   1362515   \n",
       "6989  2015-12-20 22:59:00      527.983333      527.983333    864865   \n",
       "\n",
       "                       uid   surveyresponcetime  recall  monthinterview  \\\n",
       "20029  3186864079103077842  2016-04-27 06:52:16     Yes               4   \n",
       "10641  4028420172587565849  2016-01-17 10:06:50     Yes               1   \n",
       "956    4629199814985571307  2015-11-16 13:01:23     Yes              11   \n",
       "20031  1432510389811042696  2016-04-27 07:03:20     Yes               4   \n",
       "6989     88838550379267664  2015-12-21 09:00:49     Yes              12   \n",
       "\n",
       "       dayofweekinterview  dayofmonthinterview  hourinterview  recall_neg  \\\n",
       "20029                   3                   27              6           0   \n",
       "10641                   0                   17             10           0   \n",
       "956                     1                   16             13           0   \n",
       "20031                   3                   27              7           0   \n",
       "6989                    1                   21              9           0   \n",
       "\n",
       "       recall_pos  \n",
       "20029           1  \n",
       "10641           1  \n",
       "956             1  \n",
       "20031           1  \n",
       "6989            1  \n",
       "\n",
       "[5 rows x 166 columns]"
      ]
     },
     "execution_count": 306,
     "metadata": {},
     "output_type": "execute_result"
    }
   ],
   "source": [
    "#df=df.set_index('answersetid')\n",
    "df1.sample(5)"
   ]
  },
  {
   "cell_type": "code",
   "execution_count": null,
   "metadata": {
    "collapsed": false
   },
   "outputs": [],
   "source": []
  },
  {
   "cell_type": "code",
   "execution_count": 146,
   "metadata": {
    "collapsed": false
   },
   "outputs": [],
   "source": [
    "df1['min_adstarttime'] = pd.to_datetime(df1['min_adstarttime'])\n",
    "df1['max_adstarttime'] = pd.to_datetime(df1['max_adstarttime'])\n",
    "df1['min_adendtime'] = pd.to_datetime(df1['min_adendtime'])\n",
    "df1['max_adendtime'] = pd.to_datetime(df1['max_adendtime'])\n",
    "df1.recall_neg=df1.recall_neg.astype(int)\n",
    "df1.recall_pos=df1.recall_pos.astype(int)"
   ]
  },
  {
   "cell_type": "code",
   "execution_count": 147,
   "metadata": {
    "collapsed": false
   },
   "outputs": [
    {
     "data": {
      "text/plain": [
       "(20484, 166)"
      ]
     },
     "execution_count": 147,
     "metadata": {},
     "output_type": "execute_result"
    }
   ],
   "source": [
    "df1.shape\n"
   ]
  },
  {
   "cell_type": "code",
   "execution_count": 91,
   "metadata": {
    "collapsed": false
   },
   "outputs": [
    {
     "name": "stdout",
     "output_type": "stream",
     "text": [
      "missing features on timestamp on delivery and need to engineer the time difference\n"
     ]
    }
   ],
   "source": [
    "print 'missing features on timestamp on delivery and need to engineer the time difference'\n",
    "\n",
    "#(df1.surveyresponcetime-df1.min_adstarttime).astype('timedelta64[h]').head()"
   ]
  },
  {
   "cell_type": "code",
   "execution_count": 148,
   "metadata": {
    "collapsed": true
   },
   "outputs": [],
   "source": [
    "df2 = df1.copy()"
   ]
  },
  {
   "cell_type": "code",
   "execution_count": 149,
   "metadata": {
    "collapsed": false
   },
   "outputs": [],
   "source": [
    "# LOCK\n",
    "df2.drop(['min_adstarttime','max_adstarttime','min_adendtime','max_adendtime','surveyresponcetime','recall'\n",
    "         ,'recall_neg', 'recall_pos'], axis=1, inplace=True)"
   ]
  },
  {
   "cell_type": "code",
   "execution_count": 150,
   "metadata": {
    "collapsed": false
   },
   "outputs": [],
   "source": [
    "X = df2.as_matrix()"
   ]
  },
  {
   "cell_type": "code",
   "execution_count": 157,
   "metadata": {
    "collapsed": false
   },
   "outputs": [],
   "source": [
    "df3 = df1.copy()\n",
    "Y = np.where(df3.recall=='Yes', 1, 0)"
   ]
  },
  {
   "cell_type": "markdown",
   "metadata": {},
   "source": [
    "## Build Classifiers"
   ]
  },
  {
   "cell_type": "code",
   "execution_count": 307,
   "metadata": {
    "collapsed": false
   },
   "outputs": [],
   "source": [
    "from sklearn.ensemble import RandomForestClassifier\n",
    "from sklearn.cross_validation import cross_val_score\n",
    "#!pip install sklearn-evaluation\n",
    "#!pip install mistune\n",
    "#!pip install tabulate"
   ]
  },
  {
   "cell_type": "raw",
   "metadata": {},
   "source": [
    "- we train 1-40 classifiers (1-40 trees)\n",
    "- each classifier iterate 10 folds, split the underlying datasets into 10 equal sized datasets to test, then average the gained information\n"
   ]
  },
  {
   "cell_type": "code",
   "execution_count": 175,
   "metadata": {
    "collapsed": false
   },
   "outputs": [],
   "source": [
    "scores=[]\n",
    "\n",
    "for val in range(1,41):\n",
    "    clf = RandomForestClassifier(n_estimators = val)\n",
    "    validated = cross_val_score(clf, X, Y, cv=10)\n",
    "    scores.append(validated)"
   ]
  },
  {
   "cell_type": "markdown",
   "metadata": {},
   "source": [
    "### - Let's see the cross validation score in 2 Decision Trees with 10 folds"
   ]
  },
  {
   "cell_type": "code",
   "execution_count": 169,
   "metadata": {
    "collapsed": false
   },
   "outputs": [
    {
     "data": {
      "text/plain": [
       "array([ 0.4045876 ,  0.50366032,  0.53538311,  0.52074183,  0.53759766,\n",
       "        0.53564453,  0.49609375,  0.52880859,  0.61621094,  0.59472656])"
      ]
     },
     "execution_count": 169,
     "metadata": {},
     "output_type": "execute_result"
    }
   ],
   "source": [
    "clf1=RandomForestClassifier(n_estimators=2)\n",
    "validated1=cross_val_score(clf1,X,Y,cv=10)\n",
    "validated1"
   ]
  },
  {
   "cell_type": "markdown",
   "metadata": {},
   "source": [
    "#### --Note: Score here means % correct classifications using the trained model\n",
    "Scores ranging from 0.4 - 0.6"
   ]
  },
  {
   "cell_type": "markdown",
   "metadata": {},
   "source": [
    "### - Compare cross validation score in a Forest 1-40 trees with 10 folds"
   ]
  },
  {
   "cell_type": "markdown",
   "metadata": {},
   "source": [
    "#### -- Visualize how scores differ by planting 1-40 trees"
   ]
  },
  {
   "cell_type": "code",
   "execution_count": 211,
   "metadata": {
    "collapsed": false
   },
   "outputs": [
    {
     "data": {
      "image/png": "[encoded data removed]",
      "text/plain": [
       "<matplotlib.figure.Figure at 0x11fc966d0>"
      ]
     },
     "metadata": {},
     "output_type": "display_data"
    }
   ],
   "source": [
    "sc=pd.DataFrame(scores)\n",
    "ms=pd.DataFrame(sc.T.mean(), columns=['MedianScore'])\n",
    "ax=sns.barplot(x=ms.index.values, y=\"MedianScore\", data=ms)\n",
    "ax.set(xlabel='number of trees', ylabel='median cross validation score')\n",
    "plt.show()"
   ]
  },
  {
   "cell_type": "markdown",
   "metadata": {},
   "source": [
    "#### --Note: Mean Cross Validation Score does NOT seem to change much based on the number of trees we plant"
   ]
  },
  {
   "cell_type": "code",
   "execution_count": 210,
   "metadata": {
    "collapsed": false
   },
   "outputs": [
    {
     "data": {
      "text/plain": [
       "array([ 0.3772572 ,  0.3943387 ,  0.41874085,  0.5431918 ,  0.44189453,\n",
       "        0.42138672,  0.41845703,  0.48486328,  0.61230469,  0.61962891])"
      ]
     },
     "execution_count": 210,
     "metadata": {},
     "output_type": "execute_result"
    }
   ],
   "source": [
    "clf100=RandomForestClassifier(n_estimators=100)\n",
    "validated100=cross_val_score(clf100,X,Y,cv=10)\n",
    "validated100"
   ]
  },
  {
   "cell_type": "code",
   "execution_count": 222,
   "metadata": {
    "collapsed": false
   },
   "outputs": [
    {
     "data": {
      "text/plain": [
       "0.47320637067624449"
      ]
     },
     "execution_count": 222,
     "metadata": {},
     "output_type": "execute_result"
    }
   ],
   "source": [
    "validated100.mean()"
   ]
  },
  {
   "cell_type": "markdown",
   "metadata": {},
   "source": [
    "## Evaluating The Unbalanced Classes"
   ]
  },
  {
   "cell_type": "raw",
   "metadata": {},
   "source": [
    "In a binary classification problems, accuracy can be misleading if one class (No in recalling seeing the ad) is much more common than another (Yes), this is when the classes are unbalanced. "
   ]
  },
  {
   "cell_type": "code",
   "execution_count": 214,
   "metadata": {
    "collapsed": false
   },
   "outputs": [
    {
     "data": {
      "text/plain": [
       "recall\n",
       "No     12754\n",
       "Yes     7730\n",
       "dtype: int64"
      ]
     },
     "execution_count": 214,
     "metadata": {},
     "output_type": "execute_result"
    }
   ],
   "source": [
    "df3.groupby(df3.recall).size()"
   ]
  },
  {
   "cell_type": "code",
   "execution_count": 218,
   "metadata": {
    "collapsed": false
   },
   "outputs": [
    {
     "name": "stdout",
     "output_type": "stream",
     "text": [
      "% of answer No in seeing the ad 62.26\n"
     ]
    }
   ],
   "source": [
    "from __future__ import division\n",
    "print '% of answer No in seeing the ad', round(12754/(12754+7730)*100,2)"
   ]
  },
  {
   "cell_type": "markdown",
   "metadata": {},
   "source": [
    "### - Computer F1 Score from 'Recall' & 'Precision'"
   ]
  },
  {
   "cell_type": "raw",
   "metadata": {},
   "source": [
    "F1 = (2 x recall x precision) / (recall + precision)\n",
    "The F1 score thus tends to favor classifiers that are strong in both precision and recall, rather than classifiers that emphasize one at the cost of the other."
   ]
  },
  {
   "cell_type": "code",
   "execution_count": 287,
   "metadata": {
    "collapsed": false
   },
   "outputs": [
    {
     "data": {
      "text/plain": [
       "array([ 0.5488802 ,  0.39920556,  0.22299169,  0.29802776,  0.44177911,\n",
       "        0.26476314,  0.24155844,  0.20996169,  0.21062619,  0.22478386])"
      ]
     },
     "execution_count": 287,
     "metadata": {},
     "output_type": "execute_result"
    }
   ],
   "source": [
    "clf15=RandomForestClassifier(n_estimators=15)\n",
    "validated15_F1=cross_val_score(clf15,X,Y,cv=10, scoring ='f1')\n",
    "validated15_F1"
   ]
  },
  {
   "cell_type": "code",
   "execution_count": 291,
   "metadata": {
    "collapsed": false
   },
   "outputs": [
    {
     "data": {
      "text/plain": [
       "0.30625776336604704"
      ]
     },
     "execution_count": 291,
     "metadata": {},
     "output_type": "execute_result"
    }
   ],
   "source": [
    "validated15_F1.mean()"
   ]
  },
  {
   "cell_type": "markdown",
   "metadata": {},
   "source": [
    "### - Cut-off Value"
   ]
  },
  {
   "cell_type": "raw",
   "metadata": {},
   "source": [
    "Random Forest can return prediction probabilities, for example: given a point X there is 70% probability that it belongs to class 1 and 30% probability that it belongs to class 0. However, when the classes in the training data are unbalanced, these predictions calculated by the classifier can be inaccurate because many classifiers do not know how to adjust for this imbalance. This problem is solved using calibration."
   ]
  },
  {
   "cell_type": "markdown",
   "metadata": {},
   "source": [
    "#### -- Below is predicted probabilty of each class for each sample by cutting off anything below 50% probability of YES"
   ]
  },
  {
   "cell_type": "code",
   "execution_count": 266,
   "metadata": {
    "collapsed": false
   },
   "outputs": [
    {
     "data": {
      "text/plain": [
       "array([ 0.,  0.,  0., ...,  0.,  0.,  0.])"
      ]
     },
     "execution_count": 266,
     "metadata": {},
     "output_type": "execute_result"
    }
   ],
   "source": [
    "clf15 = RandomForestClassifier(n_estimators=15)\n",
    "clf15.fit(X,Y)\n",
    "(clf15.predict_proba(x)[:,1]>0.5).astype(float)"
   ]
  },
  {
   "cell_type": "code",
   "execution_count": 283,
   "metadata": {
    "collapsed": false
   },
   "outputs": [
    {
     "data": {
      "text/html": [
       "<div>\n",
       "<table border=\"1\" class=\"dataframe\">\n",
       "  <thead>\n",
       "    <tr style=\"text-align: right;\">\n",
       "      <th></th>\n",
       "      <th>No</th>\n",
       "      <th>Yes</th>\n",
       "    </tr>\n",
       "  </thead>\n",
       "  <tbody>\n",
       "    <tr>\n",
       "      <th>0</th>\n",
       "      <td>0.933333</td>\n",
       "      <td>0.066667</td>\n",
       "    </tr>\n",
       "    <tr>\n",
       "      <th>1</th>\n",
       "      <td>0.866667</td>\n",
       "      <td>0.133333</td>\n",
       "    </tr>\n",
       "    <tr>\n",
       "      <th>2</th>\n",
       "      <td>0.933333</td>\n",
       "      <td>0.066667</td>\n",
       "    </tr>\n",
       "    <tr>\n",
       "      <th>3</th>\n",
       "      <td>0.866667</td>\n",
       "      <td>0.133333</td>\n",
       "    </tr>\n",
       "    <tr>\n",
       "      <th>4</th>\n",
       "      <td>0.133333</td>\n",
       "      <td>0.866667</td>\n",
       "    </tr>\n",
       "  </tbody>\n",
       "</table>\n",
       "</div>"
      ],
      "text/plain": [
       "         No       Yes\n",
       "0  0.933333  0.066667\n",
       "1  0.866667  0.133333\n",
       "2  0.933333  0.066667\n",
       "3  0.866667  0.133333\n",
       "4  0.133333  0.866667"
      ]
     },
     "execution_count": 283,
     "metadata": {},
     "output_type": "execute_result"
    }
   ],
   "source": [
    "pd.DataFrame(clf15.predict_proba(x)\n",
    "             , columns=['No', 'Yes']\n",
    "            ).head(5)"
   ]
  },
  {
   "cell_type": "markdown",
   "metadata": {},
   "source": [
    "#### -- We iterate the cut off value ranging from 0.1 to 0.8 and see if there is a trend"
   ]
  },
  {
   "cell_type": "code",
   "execution_count": 285,
   "metadata": {
    "collapsed": false
   },
   "outputs": [],
   "source": [
    "def cutoff_predict(clf, X, cutoff):\n",
    "    return(clf.predict_proba(X)[:,1]>cutoff).astype(int)\n",
    "\n",
    "scores=[]\n",
    "\n",
    "def custom_f1(cutoff):\n",
    "    def f1_cutoff(clf, X, y):\n",
    "        ypred = cutoff_predict(clf, X, cutoff)\n",
    "        return sklearn.metrics.f1_score(y,ypred)\n",
    "    \n",
    "    return f1_cutoff\n",
    "\n",
    "for cutoff in np.arange(0.1,0.9,0.1):\n",
    "    \n",
    "    clf= RandomForestClassifier(n_estimators=15)\n",
    "    validated = cross_val_score(clf, X,Y, cv=10, scoring = custom_f1(cutoff))\n",
    "    scores.append(validated)"
   ]
  },
  {
   "cell_type": "markdown",
   "metadata": {},
   "source": [
    "#### -- Visualizez the Median F1 score for each iteration"
   ]
  },
  {
   "cell_type": "code",
   "execution_count": 286,
   "metadata": {
    "collapsed": false
   },
   "outputs": [
    {
     "data": {
      "image/png": "[encoded data removed]",
      "text/plain": [
       "<matplotlib.figure.Figure at 0x12106a490>"
      ]
     },
     "metadata": {},
     "output_type": "display_data"
    }
   ],
   "source": [
    "sc=pd.DataFrame(scores)\n",
    "ms=pd.DataFrame(sc.T.median(), columns=['MedianScore'])\n",
    "ax=sns.barplot(x=np.arange(0.1,0.9,0.1), y=\"MedianScore\", data=ms)\n",
    "ax.set(xlabel='each cutoff value', ylabel='median F Score')\n",
    "plt.show()"
   ]
  },
  {
   "cell_type": "markdown",
   "metadata": {},
   "source": [
    "#### Note: Intuitively we already felt that the optimal cut off value should be below 0.5 due to the unbalanced distribution of class problem. After all there are many more NO than YES in each fold. from the visualization, it seems the cut-off value should be set around 0.3? by doing so, we can increase the F1 score above 0.45"
   ]
  },
  {
   "cell_type": "markdown",
   "metadata": {},
   "source": [
    "## Dimensionality Reduction Preparation"
   ]
  },
  {
   "cell_type": "markdown",
   "metadata": {},
   "source": [
    "### - Dimensions VS Data points"
   ]
  },
  {
   "cell_type": "code",
   "execution_count": 302,
   "metadata": {
    "collapsed": false
   },
   "outputs": [
    {
     "data": {
      "text/html": [
       "<a href=\"http://bigdataexaminer.com/data-science/understanding-dimensionality-reduction-principal-component-analysis-\\\n",
       "and-singular-value-decomposition/\">PCA & SVD</a>"
      ],
      "text/plain": [
       "<IPython.core.display.HTML object>"
      ]
     },
     "metadata": {},
     "output_type": "display_data"
    }
   ],
   "source": [
    "%%html\n",
    "<a href=\"http://bigdataexaminer.com/data-science/understanding-dimensionality-reduction-principal-component-analysis-\\\n",
    "and-singular-value-decomposition/\">PCA & SVD</a>\n"
   ]
  },
  {
   "cell_type": "code",
   "execution_count": 301,
   "metadata": {
    "collapsed": false
   },
   "outputs": [
    {
     "name": "stdout",
     "output_type": "stream",
     "text": [
      "we need to project the high-dimensional data onto a lower dimensional subspace using linear or non-linear transformations; current dimensions of our data:"
     ]
    },
    {
     "data": {
      "text/plain": [
       "3400344"
      ]
     },
     "execution_count": 301,
     "metadata": {},
     "output_type": "execute_result"
    },
    {
     "name": "stdout",
     "output_type": "stream",
     "text": [
      "\n"
     ]
    }
   ],
   "source": [
    "print 'we need to project the high-dimensional data onto a lower dimensional subspace using \\\n",
    "linear or non-linear transformations; current dimensions of our data:',\n",
    "df3.shape[0]*df3.shape[1]\n"
   ]
  },
  {
   "cell_type": "markdown",
   "metadata": {},
   "source": [
    "### - Rank Feature Importance"
   ]
  },
  {
   "cell_type": "raw",
   "metadata": {},
   "source": [
    "---Random forest consists of a number of decision trees. Every node in the decision trees is a condition on a single feature, designed to split the dataset into two so that similar response values end up in the same set. The measure based on which the (locally) optimal condition is chosen is called impurity. For classification, it is typically either Gini impurity or information gain/entropy.\n",
    "---For a forest, the impurity decrease from each feature can be averaged and the features are ranked according to this measure."
   ]
  },
  {
   "cell_type": "code",
   "execution_count": 309,
   "metadata": {
    "collapsed": false
   },
   "outputs": [],
   "source": [
    "clf = RandomForestClassifier(n_estimators=15)\n",
    "clf.fit(X,Y)\n",
    "\n",
    "imp = clf.feature_importances_\n",
    "names= df2.columns\n",
    "\n",
    "imp, names = zip(*sorted(zip(imp, names)))\n",
    "\n"
   ]
  },
  {
   "cell_type": "code",
   "execution_count": 423,
   "metadata": {
    "collapsed": false
   },
   "outputs": [],
   "source": [
    "# LOCK\n",
    "df_feature=pd.DataFrame(zip(*sorted(zip(imp, names)))).T\n",
    "df_feature.columns=['Score', 'Feature']\n",
    "df_feature=df_feature.sort_values(by='Score', ascending=False, inplace=False)\n",
    "#df_feature=df_feature.drop(df.index[[157,156, 155]])\n"
   ]
  },
  {
   "cell_type": "markdown",
   "metadata": {},
   "source": [
    "### - Top 35 Most Important Features"
   ]
  },
  {
   "cell_type": "code",
   "execution_count": 424,
   "metadata": {
    "collapsed": false
   },
   "outputs": [
    {
     "data": {
      "text/plain": [
       "<matplotlib.figure.Figure at 0x13bb43110>"
      ]
     },
     "execution_count": 424,
     "metadata": {},
     "output_type": "execute_result"
    },
    {
     "data": {
      "image/png": "[encoded data removed]",
      "text/plain": [
       "<matplotlib.figure.Figure at 0x13da09750>"
      ]
     },
     "metadata": {},
     "output_type": "display_data"
    },
    {
     "data": {
      "text/plain": [
       "<matplotlib.figure.Figure at 0x13bb43110>"
      ]
     },
     "metadata": {},
     "output_type": "display_data"
    }
   ],
   "source": [
    "order = list(df_feature['Feature'][:35])\n",
    "sns.barplot(x=\"Score\", y=\"Feature\", data=df_feature.head(35), label=\"Feature\", color=\"b\", order=order)\n",
    "plt.xlabel('Score of Importance')\n",
    "plt.title('Feature Importance')\n",
    "plt.figure(figsize=(16, 6))"
   ]
  },
  {
   "cell_type": "markdown",
   "metadata": {},
   "source": [
    "#### --- Note: Obviously the later an audience answers a survey, the more probable he/she will remember seeing the ad. this is reflected by high feature importance from uid, answerid and answersetid, only other possibility is that overall ad recall score has gone up\n",
    "#### --- Note: Most important features certainly come from id's and various inscreen time related features, close event seem to perform better than click probably due to data availability, recommender score does prove a bit of relevancy, we will revisit later to look in details"
   ]
  },
  {
   "cell_type": "markdown",
   "metadata": {},
   "source": [
    "### - Bottom 35 Features"
   ]
  },
  {
   "cell_type": "code",
   "execution_count": 426,
   "metadata": {
    "collapsed": false
   },
   "outputs": [
    {
     "data": {
      "text/plain": [
       "<matplotlib.figure.Figure at 0x13dba1610>"
      ]
     },
     "execution_count": 426,
     "metadata": {},
     "output_type": "execute_result"
    },
    {
     "data": {
      "image/png": "[encoded data removed]",
      "text/plain": [
       "<matplotlib.figure.Figure at 0x13e0b5150>"
      ]
     },
     "metadata": {},
     "output_type": "display_data"
    },
    {
     "data": {
      "text/plain": [
       "<matplotlib.figure.Figure at 0x13dba1610>"
      ]
     },
     "metadata": {},
     "output_type": "display_data"
    }
   ],
   "source": [
    "order = list(df_feature.tail(35)['Feature'])\n",
    "sns.barplot(x=\"Score\", y=\"Feature\", data=df_feature.tail(35), label=\"Feature\", color=\"g\", order=order)\n",
    "plt.xlabel('Score of Importance')\n",
    "plt.title('Feature Importance')\n",
    "plt.figure(figsize=(8, 6))"
   ]
  },
  {
   "cell_type": "markdown",
   "metadata": {},
   "source": [
    "#### --- Note: typically the dependent variables that typically have too many unique values have trouble capturing much data after being transformed into binary dummy variable, hence perform much worse, e.g. browser, screensize, "
   ]
  },
  {
   "cell_type": "markdown",
   "metadata": {},
   "source": [
    "### - Case Study on a random sample"
   ]
  },
  {
   "cell_type": "code",
   "execution_count": 356,
   "metadata": {
    "collapsed": false
   },
   "outputs": [],
   "source": [
    "#! pip install treeinterpreter\n",
    "from treeinterpreter import treeinterpreter as ti"
   ]
  },
  {
   "cell_type": "markdown",
   "metadata": {},
   "source": [
    "#### -- Build a classifier with maxium depth of 4 (divion of data to decrease impurity by max 4 features)"
   ]
  },
  {
   "cell_type": "code",
   "execution_count": 353,
   "metadata": {
    "collapsed": false
   },
   "outputs": [
    {
     "data": {
      "text/plain": [
       "RandomForestClassifier(bootstrap=True, class_weight=None, criterion='gini',\n",
       "            max_depth=4, max_features='auto', max_leaf_nodes=None,\n",
       "            min_samples_leaf=1, min_samples_split=2,\n",
       "            min_weight_fraction_leaf=0.0, n_estimators=10, n_jobs=1,\n",
       "            oob_score=False, random_state=None, verbose=0,\n",
       "            warm_start=False)"
      ]
     },
     "execution_count": 353,
     "metadata": {},
     "output_type": "execute_result"
    }
   ],
   "source": [
    "rf = RandomForestClassifier(max_depth = 4)\n",
    "np.random.shuffle(X)\n",
    "rf.fit(X,Y)\n"
   ]
  },
  {
   "cell_type": "markdown",
   "metadata": {},
   "source": [
    "#### -- predictive probability of No in remembering having seen the ad is 62.67%"
   ]
  },
  {
   "cell_type": "code",
   "execution_count": 354,
   "metadata": {
    "collapsed": false
   },
   "outputs": [
    {
     "name": "stdout",
     "output_type": "stream",
     "text": [
      "[[ 0.62667051  0.37332949]]\n"
     ]
    }
   ],
   "source": [
    "instance = X[100:101]\n",
    "print rf.predict_proba(instance)"
   ]
  },
  {
   "cell_type": "code",
   "execution_count": 383,
   "metadata": {
    "collapsed": false
   },
   "outputs": [
    {
     "name": "stdout",
     "output_type": "stream",
     "text": [
      "Prediction [[ 0.62667051  0.37332949]]\n",
      "Bias (trainset prior) [[ 0.62302773  0.37697227]]\n"
     ]
    }
   ],
   "source": [
    "prediction, bias, contributions = ti.predict(rf, instance)\n",
    "print \"Prediction\", prediction\n",
    "print \"Bias (trainset prior)\", bias\n",
    "#print \"Feature contributions:\"\n",
    "#for c, feature in zip(contributions[0], \n",
    "#                           df2.columns):\n",
    "#    print feature, c\n"
   ]
  },
  {
   "cell_type": "markdown",
   "metadata": {},
   "source": [
    "#### -- Top 20 features in contribution of Absolute Value"
   ]
  },
  {
   "cell_type": "code",
   "execution_count": 380,
   "metadata": {
    "collapsed": false
   },
   "outputs": [],
   "source": [
    "df_feature1=pd.DataFrame(contributions[0], df2.columns)\n",
    "df_feature1.columns=['No', 'Yes']\n",
    "df_feature1=df_feature1.drop('Yes', axis=1)\n",
    "df_feature1=df_feature1.abs()\n",
    "df_feature1=df_feature1.sort_values(by='No', ascending=False, inplace=False)\n",
    "#df_feature1=df_feature1.drop(df.index(['answersetid','answerid','uid']))"
   ]
  },
  {
   "cell_type": "code",
   "execution_count": 393,
   "metadata": {
    "collapsed": false
   },
   "outputs": [
    {
     "data": {
      "text/html": [
       "<div>\n",
       "<table border=\"1\" class=\"dataframe\">\n",
       "  <thead>\n",
       "    <tr style=\"text-align: right;\">\n",
       "      <th></th>\n",
       "      <th>No</th>\n",
       "    </tr>\n",
       "  </thead>\n",
       "  <tbody>\n",
       "    <tr>\n",
       "      <th>min_adduration</th>\n",
       "      <td>0.002107</td>\n",
       "    </tr>\n",
       "    <tr>\n",
       "      <th>imp_total</th>\n",
       "      <td>0.001429</td>\n",
       "    </tr>\n",
       "    <tr>\n",
       "      <th>monthinterview</th>\n",
       "      <td>0.001374</td>\n",
       "    </tr>\n",
       "    <tr>\n",
       "      <th>takeover</th>\n",
       "      <td>0.001301</td>\n",
       "    </tr>\n",
       "    <tr>\n",
       "      <th>vtabove70pct</th>\n",
       "      <td>0.001017</td>\n",
       "    </tr>\n",
       "    <tr>\n",
       "      <th>uid</th>\n",
       "      <td>0.000562</td>\n",
       "    </tr>\n",
       "    <tr>\n",
       "      <th>feature_swipe</th>\n",
       "      <td>0.000388</td>\n",
       "    </tr>\n",
       "    <tr>\n",
       "      <th>impAbove100pct0ms</th>\n",
       "      <td>0.000335</td>\n",
       "    </tr>\n",
       "    <tr>\n",
       "      <th>pub_Arts &amp; Entertainment</th>\n",
       "      <td>0.000298</td>\n",
       "    </tr>\n",
       "    <tr>\n",
       "      <th>browser_Mobile Safari</th>\n",
       "      <td>0.000295</td>\n",
       "    </tr>\n",
       "    <tr>\n",
       "      <th>mean_rss</th>\n",
       "      <td>0.000283</td>\n",
       "    </tr>\n",
       "    <tr>\n",
       "      <th>vtabove10pct</th>\n",
       "      <td>0.000274</td>\n",
       "    </tr>\n",
       "    <tr>\n",
       "      <th>impAbove50pct1000ms</th>\n",
       "      <td>0.000207</td>\n",
       "    </tr>\n",
       "    <tr>\n",
       "      <th>vtabove50pct1000ms</th>\n",
       "      <td>0.000201</td>\n",
       "    </tr>\n",
       "    <tr>\n",
       "      <th>size_4.0</th>\n",
       "      <td>0.000183</td>\n",
       "    </tr>\n",
       "    <tr>\n",
       "      <th>ios_version</th>\n",
       "      <td>0.000169</td>\n",
       "    </tr>\n",
       "    <tr>\n",
       "      <th>vtabove100pct</th>\n",
       "      <td>0.000157</td>\n",
       "    </tr>\n",
       "    <tr>\n",
       "      <th>impAbove0pct0ms</th>\n",
       "      <td>0.000126</td>\n",
       "    </tr>\n",
       "    <tr>\n",
       "      <th>vtabove50pct</th>\n",
       "      <td>0.000111</td>\n",
       "    </tr>\n",
       "    <tr>\n",
       "      <th>ad_Gambling/Casino</th>\n",
       "      <td>0.000107</td>\n",
       "    </tr>\n",
       "  </tbody>\n",
       "</table>\n",
       "</div>"
      ],
      "text/plain": [
       "                                No\n",
       "min_adduration            0.002107\n",
       "imp_total                 0.001429\n",
       "monthinterview            0.001374\n",
       "takeover                  0.001301\n",
       "vtabove70pct              0.001017\n",
       "uid                       0.000562\n",
       "feature_swipe             0.000388\n",
       "impAbove100pct0ms         0.000335\n",
       "pub_Arts & Entertainment  0.000298\n",
       "browser_Mobile Safari     0.000295\n",
       "mean_rss                  0.000283\n",
       "vtabove10pct              0.000274\n",
       "impAbove50pct1000ms       0.000207\n",
       "vtabove50pct1000ms        0.000201\n",
       "size_4.0                  0.000183\n",
       "ios_version               0.000169\n",
       "vtabove100pct             0.000157\n",
       "impAbove0pct0ms           0.000126\n",
       "vtabove50pct              0.000111\n",
       "ad_Gambling/Casino        0.000107"
      ]
     },
     "execution_count": 393,
     "metadata": {},
     "output_type": "execute_result"
    }
   ],
   "source": [
    "df_feature1.head(20)"
   ]
  },
  {
   "cell_type": "markdown",
   "metadata": {},
   "source": [
    "#### -- Some inferential statistics (not particularly useful ATM, will revisit later at proper occasion)\n"
   ]
  },
  {
   "cell_type": "code",
   "execution_count": 416,
   "metadata": {
    "collapsed": false
   },
   "outputs": [],
   "source": [
    "from sklearn.cross_validation import StratifiedKFold\n",
    "from sklearn.metrics import r2_score\n",
    "from sklearn.metrics import precision_score\n",
    "from sklearn.metrics import roc_auc_score\n",
    "from sklearn.metrics import accuracy_score\n",
    "from sklearn.metrics import recall_score\n",
    "from sklearn.metrics import f1_score\n",
    "from sklearn.metrics import matthews_corrcoef\n",
    "from sklearn.metrics import confusion_matrix\n"
   ]
  },
  {
   "cell_type": "code",
   "execution_count": 417,
   "metadata": {
    "collapsed": false
   },
   "outputs": [
    {
     "name": "stdout",
     "output_type": "stream",
     "text": [
      "KF Accuracy: 0.62 (+/- 0.00)\n",
      "KF Precision: 0.00 (+/- 0.00)\n",
      "KF Sensitivity: 0.00 (+/- 0.00)\n",
      "KF R^2: -0.00 (+/- 0.00)\n",
      "KF F1: 0.00 (+/- 0.00)\n",
      "KF AUROC: 0.50 (+/- 0.00)\n",
      "KF Matthews: -0.01 (+/- 0.01)\n",
      "('Confusion Matrix', array([[12748,     6],\n",
      "       [ 7730,     0]]))\n"
     ]
    }
   ],
   "source": [
    "y  = Y.astype(np.float)\n",
    "X  = X.astype(np.float)\n",
    "cv = StratifiedKFold(y, n_folds = 5)\n",
    "\n",
    "precision   = []\n",
    "accuracy    = []\n",
    "sensitivity = []\n",
    "matthews    = []\n",
    "r2          = []\n",
    "f1          = []\n",
    "auroc       = []\n",
    "cma          = [[0, 0], [0, 0]]\n",
    "\n",
    "for i, (train, test) in enumerate(cv):\n",
    "    probas_     = rf.fit(X[train], y[train]).predict_proba(X[test])\n",
    "    classes     = rf.fit(X[train], y[train]).predict(X[test])\n",
    "    r2          = np.append(r2, (r2_score(y[test], probas_[:, 1])))\n",
    "    precision   = np.append(precision, (precision_score(y[test], classes)))\n",
    "    auroc       = np.append(auroc, (roc_auc_score(y[test], classes)))\n",
    "    accuracy    = np.append(accuracy, (accuracy_score(y[test], classes)))\n",
    "    sensitivity = np.append(sensitivity, (recall_score(y[test], classes)))\n",
    "    f1          = np.append(f1, (f1_score(y[test], classes)))\n",
    "    matthews    = np.append(matthews, (matthews_corrcoef(y[test], classes)))\n",
    "    cma         = np.add(cma, (confusion_matrix(y[test], classes)))\n",
    "\n",
    "cma         = np.array(cma)\n",
    "r2          = np.array(r2)\n",
    "precision   = np.array(precision)\n",
    "accuracy    = np.array(accuracy)\n",
    "sensitivity = np.array(sensitivity)\n",
    "f1          = np.array(f1)\n",
    "auroc       = np.array(auroc)\n",
    "matthews    = np.array(matthews)\n",
    "\n",
    "print(\"KF Accuracy: %0.2f (+/- %0.2f)\" % (accuracy.mean(), accuracy.std() * 2))\n",
    "print(\"KF Precision: %0.2f (+/- %0.2f)\" % (precision.mean(), precision.std() * 2))\n",
    "print(\"KF Sensitivity: %0.2f (+/- %0.2f)\" % (sensitivity.mean(), sensitivity.std() * 2))\n",
    "print(\"KF R^2: %0.2f (+/- %0.2f)\" % (r2.mean(), r2.std() * 2))\n",
    "print(\"KF F1: %0.2f (+/- %0.2f)\" % (f1.mean(), f1.std() * 2))\n",
    "print(\"KF AUROC: %0.2f (+/- %0.2f)\" % (auroc.mean(), auroc.std() * 2))\n",
    "print(\"KF Matthews: %0.2f (+/- %0.2f)\" % (matthews.mean(), matthews.std() * 2))\n",
    "print(\"Confusion Matrix\", cma)"
   ]
  },
  {
   "cell_type": "code",
   "execution_count": null,
   "metadata": {
    "collapsed": false
   },
   "outputs": [],
   "source": []
  },
  {
   "cell_type": "code",
   "execution_count": 422,
   "metadata": {
    "collapsed": false
   },
   "outputs": [],
   "source": [
    "import numpy as np\n",
    "from sklearn import svm, datasets\n",
    "from sklearn.cross_validation import train_test_split\n",
    "from sklearn.multiclass import OneVsRestClassifier\n",
    "\n",
    "from sklearn_evaluation import ClassifierEvaluator"
   ]
  },
  {
   "cell_type": "code",
   "execution_count": null,
   "metadata": {
    "collapsed": true
   },
   "outputs": [],
   "source": []
  }
 ],
 "metadata": {
  "kernelspec": {
   "display_name": "Python 2",
   "language": "python",
   "name": "python2"
  },
  "language_info": {
   "codemirror_mode": {
    "name": "ipython",
    "version": 2
   },
   "file_extension": ".py",
   "mimetype": "text/x-python",
   "name": "python",
   "nbconvert_exporter": "python",
   "pygments_lexer": "ipython2",
   "version": "2.7.11"
  }
 },
 "nbformat": 4,
 "nbformat_minor": 0
}
