{
 "cells": [
  {
   "cell_type": "code",
   "execution_count": 1,
   "metadata": {
    "collapsed": true
   },
   "outputs": [],
   "source": [
    "# imports\n",
    "import pandas as pd\n",
    "import numpy as np\n",
    "import matplotlib.pyplot as plt\n",
    "import seaborn as sns\n",
    "# this allows plots to appear directly in the notebook\n",
    "%matplotlib inline\n",
    "plt.rcParams['figure.figsize'] = (8, 6)\n",
    "plt.rcParams['font.size'] = 14\n",
    "# pip install patsy\n",
    "# pip install statsmodels\n",
    "import statsmodels.formula.api as smf\n",
    "# Set ipython's max row display\n",
    "pd.set_option('display.max_row', 1000)\n",
    "\n",
    "# Set iPython's max column width to 50\n",
    "pd.set_option('display.max_columns', 50)\n",
    "\n",
    "\n",
    "\n",
    "# great tutorial \n",
    "# http://chrisalbon.com/python/pandas_list_unique_values_in_column.html\n",
    "# advanced jupyter tricks\n",
    "# http://blog.dominodatalab.com/lesser-known-ways-of-using-notebooks/"
   ]
  },
  {
   "cell_type": "code",
   "execution_count": 24,
   "metadata": {
    "collapsed": true
   },
   "outputs": [],
   "source": [
    "# define url\n",
    "url_0331 = '/Users/shaokuixing/Desktop/whatever/survey_vt_20160331.csv'"
   ]
  },
  {
   "cell_type": "code",
   "execution_count": 25,
   "metadata": {
    "collapsed": true
   },
   "outputs": [],
   "source": [
    "# read csv file\n",
    "rawData = pd.read_csv(url_0331, sep=';', thousands = '.', decimal =',')"
   ]
  },
  {
   "cell_type": "code",
   "execution_count": 26,
   "metadata": {
    "collapsed": false
   },
   "outputs": [],
   "source": [
    "# seletct features related to impression and time viewable\n",
    "subset_rawData=rawData[['deliveredimp','viewableimp','viewableimp_ic','totalviewtime','avgVT/ImpSec','avgTVScale']]"
   ]
  },
  {
   "cell_type": "code",
   "execution_count": 27,
   "metadata": {
    "collapsed": false
   },
   "outputs": [
    {
     "data": {
      "text/plain": [
       "viewableimp      int64\n",
       "totalviewtime    int64\n",
       "dtype: object"
      ]
     },
     "execution_count": 27,
     "metadata": {},
     "output_type": "execute_result"
    }
   ],
   "source": [
    "# select only viewable imp and total time viewable\n",
    "subset_rawData1 = subset_rawData[['viewableimp','totalviewtime']]\n",
    "subset_rawData1.dtypes"
   ]
  },
  {
   "cell_type": "code",
   "execution_count": 30,
   "metadata": {
    "collapsed": false
   },
   "outputs": [
    {
     "data": {
      "text/plain": [
       "array(['Purchase Intent', 'Interest', 'Recall'], dtype=object)"
      ]
     },
     "execution_count": 30,
     "metadata": {},
     "output_type": "execute_result"
    }
   ],
   "source": [
    "# select distinct, list unique values in funnel column\n",
    "rawData.funnel.unique()"
   ]
  },
  {
   "cell_type": "code",
   "execution_count": 32,
   "metadata": {
    "collapsed": false
   },
   "outputs": [
    {
     "data": {
      "text/plain": [
       "(21659, 21)"
      ]
     },
     "execution_count": 32,
     "metadata": {},
     "output_type": "execute_result"
    }
   ],
   "source": [
    "# filter out data with more than 50 imp and 2500,000 total time viewable\n",
    "subset_rawData2 = rawData[(rawData['viewableimp']<=50) & (rawData['totalviewtime']<=2500000)\n",
    "                                & (rawData['funnel']=='Interest')]\n",
    "# check size\n",
    "subset_rawData2.shape"
   ]
  },
  {
   "cell_type": "code",
   "execution_count": 36,
   "metadata": {
    "collapsed": false
   },
   "outputs": [
    {
     "data": {
      "text/plain": [
       "(21659, 2)"
      ]
     },
     "execution_count": 36,
     "metadata": {},
     "output_type": "execute_result"
    }
   ],
   "source": [
    "# select only viewable imp and totaol time viewable\n",
    "# subset_rawData3 = subset_rawData2[['viewableimp','totalviewtime']]\n",
    "imp = subset_rawData2['viewableimp']\n",
    "vtsec = subset_rawData2['totalviewtime']/1000\n",
    "# result = pd.concat([df1, df4], axis=1)\n",
    "subset_rawData3 = pd.concat([imp,vtsec], axis=1)\n",
    "subset_rawData3.shape"
   ]
  },
  {
   "cell_type": "code",
   "execution_count": 39,
   "metadata": {
    "collapsed": false
   },
   "outputs": [
    {
     "data": {
      "text/plain": [
       "viewableimp        int64\n",
       "totalviewtime    float64\n",
       "dtype: object"
      ]
     },
     "execution_count": 39,
     "metadata": {},
     "output_type": "execute_result"
    }
   ],
   "source": [
    "subset_rawData3.dtypes"
   ]
  },
  {
   "cell_type": "code",
   "execution_count": 40,
   "metadata": {
    "collapsed": true
   },
   "outputs": [
    {
     "data": {
      "text/plain": [
       "<matplotlib.axes._subplots.AxesSubplot at 0x107495390>"
      ]
     },
     "execution_count": 40,
     "metadata": {},
     "output_type": "execute_result"
    },
    {
     "data": {
      "image/png": "[encoded data removed]",
      "text/plain": [
       "<matplotlib.figure.Figure at 0x10c1196d0>"
      ]
     },
     "metadata": {},
     "output_type": "display_data"
    }
   ],
   "source": [
    "# visualize the relationship between viewable imp and total time viewable\n",
    "# scatter plot\n",
    "subset_rawData3.plot(kind='scatter', x='totalviewtime', y='viewableimp', alpha=0.2)"
   ]
  },
  {
   "cell_type": "code",
   "execution_count": 59,
   "metadata": {
    "collapsed": false
   },
   "outputs": [
    {
     "data": {
      "text/plain": [
       "24343"
      ]
     },
     "execution_count": 59,
     "metadata": {},
     "output_type": "execute_result"
    }
   ],
   "source": [
    "# total row count\n",
    "funnel = rawData['funnel']\n",
    "# subset_rawData2 = rawData[(rawData['viewableimp']<=50) & (rawData['totalviewtime']<=2500000) & (rawData['funnel']=='Interest')]\n",
    "interest = rawData[ (rawData['funnel']=='Interest')]['funnel']\n",
    "interest.count()"
   ]
  },
  {
   "cell_type": "code",
   "execution_count": 62,
   "metadata": {
    "collapsed": false
   },
   "outputs": [
    {
     "data": {
      "text/plain": [
       "<seaborn.axisgrid.FacetGrid at 0x10c5736d0>"
      ]
     },
     "execution_count": 62,
     "metadata": {},
     "output_type": "execute_result"
    },
    {
     "data": {
      "image/png": "[encoded data removed]",
      "text/plain": [
       "<matplotlib.figure.Figure at 0x10c573750>"
      ]
     },
     "metadata": {},
     "output_type": "display_data"
    }
   ],
   "source": [
    "# Seaborn scatter plot with regression line\n",
    "# sns.lmplot(x='temp', y='total', data=bikes, aspect=1.5, scatter_kws={'alpha':0.2})\n",
    "# create a fitted model in 1 line\n",
    "sns.lmplot(x='viewableimp', y='totalviewtime', data=subset_rawData3, aspect=1.5,scatter_kws={'alpha':0.2} )\n"
   ]
  },
  {
   "cell_type": "code",
   "execution_count": 88,
   "metadata": {
    "collapsed": false
   },
   "outputs": [
    {
     "data": {
      "text/plain": [
       "(22232, 21)"
      ]
     },
     "execution_count": 88,
     "metadata": {},
     "output_type": "execute_result"
    }
   ],
   "source": [
    "# subset recall and other metrics\n",
    "# recall_metrics = rawData[ (rawData['funnel']=='Recall')].set_index('answerid')\n",
    "recall_metrics =rawData[(rawData['viewableimp']<=50) & (rawData['totalviewtime']<=2500000)\n",
    "                                & (rawData['funnel']=='Recall')]\n",
    "recall_metrics.shape\n"
   ]
  },
  {
   "cell_type": "code",
   "execution_count": 91,
   "metadata": {
    "collapsed": false
   },
   "outputs": [],
   "source": [
    "#recall_metrics.head()"
   ]
  },
  {
   "cell_type": "code",
   "execution_count": 89,
   "metadata": {
    "collapsed": false
   },
   "outputs": [
    {
     "data": {
      "text/plain": [
       "10549"
      ]
     },
     "execution_count": 89,
     "metadata": {},
     "output_type": "execute_result"
    }
   ],
   "source": [
    "# LOAD Magic\n",
    "#%reload_ext rpy2.ipython\n",
    "#%R summary(recall_metrics)\n",
    "# recall_metrics.shape\n",
    "#recall_metrics.head(5)\n",
    "# list unique values\n",
    "# rawData.answerid.unique\n",
    "# count unique values group by\n",
    "# rawData.groupby('YEARMONTH').CLIENTCODE.nunique()\n",
    "# unique counts in a series\n",
    "# rawData['answerid'].value_counts\n",
    "# count number of uniques\n",
    "recall_metrics['answerid'].nunique()"
   ]
  },
  {
   "cell_type": "code",
   "execution_count": 92,
   "metadata": {
    "collapsed": false
   },
   "outputs": [
    {
     "data": {
      "text/html": [
       "<div>\n",
       "<table border=\"1\" class=\"dataframe\">\n",
       "  <thead>\n",
       "    <tr style=\"text-align: right;\">\n",
       "      <th></th>\n",
       "      <th>2</th>\n",
       "    </tr>\n",
       "  </thead>\n",
       "  <tbody>\n",
       "    <tr>\n",
       "      <th>surveyid</th>\n",
       "      <td>291</td>\n",
       "    </tr>\n",
       "    <tr>\n",
       "      <th>originaladid</th>\n",
       "      <td>36431</td>\n",
       "    </tr>\n",
       "    <tr>\n",
       "      <th>format</th>\n",
       "      <td>swipe</td>\n",
       "    </tr>\n",
       "    <tr>\n",
       "      <th>market</th>\n",
       "      <td>FI</td>\n",
       "    </tr>\n",
       "    <tr>\n",
       "      <th>uid</th>\n",
       "      <td>6.96526e+18</td>\n",
       "    </tr>\n",
       "    <tr>\n",
       "      <th>answersetid</th>\n",
       "      <td>256196</td>\n",
       "    </tr>\n",
       "    <tr>\n",
       "      <th>answerid</th>\n",
       "      <td>700781</td>\n",
       "    </tr>\n",
       "    <tr>\n",
       "      <th>questionid</th>\n",
       "      <td>84</td>\n",
       "    </tr>\n",
       "    <tr>\n",
       "      <th>questiontext</th>\n",
       "      <td>Have you seen this ad on a mobile device before?</td>\n",
       "    </tr>\n",
       "    <tr>\n",
       "      <th>optionid</th>\n",
       "      <td>258</td>\n",
       "    </tr>\n",
       "    <tr>\n",
       "      <th>optiontext</th>\n",
       "      <td>No</td>\n",
       "    </tr>\n",
       "    <tr>\n",
       "      <th>iscomplete</th>\n",
       "      <td>True</td>\n",
       "    </tr>\n",
       "    <tr>\n",
       "      <th>isrefgroup</th>\n",
       "      <td>False</td>\n",
       "    </tr>\n",
       "    <tr>\n",
       "      <th>deliveredimp</th>\n",
       "      <td>50</td>\n",
       "    </tr>\n",
       "    <tr>\n",
       "      <th>viewableimp</th>\n",
       "      <td>50</td>\n",
       "    </tr>\n",
       "    <tr>\n",
       "      <th>viewableimp_ic</th>\n",
       "      <td>50</td>\n",
       "    </tr>\n",
       "    <tr>\n",
       "      <th>totalviewtime</th>\n",
       "      <td>1051296</td>\n",
       "    </tr>\n",
       "    <tr>\n",
       "      <th>funnel</th>\n",
       "      <td>Recall</td>\n",
       "    </tr>\n",
       "    <tr>\n",
       "      <th>avgVT/impMiliSec</th>\n",
       "      <td>21025.9</td>\n",
       "    </tr>\n",
       "    <tr>\n",
       "      <th>avgVT/ImpSec</th>\n",
       "      <td>21</td>\n",
       "    </tr>\n",
       "    <tr>\n",
       "      <th>avgTVScale</th>\n",
       "      <td>21-25</td>\n",
       "    </tr>\n",
       "  </tbody>\n",
       "</table>\n",
       "</div>"
      ],
      "text/plain": [
       "                                                                 2\n",
       "surveyid                                                       291\n",
       "originaladid                                                 36431\n",
       "format                                                       swipe\n",
       "market                                                          FI\n",
       "uid                                                    6.96526e+18\n",
       "answersetid                                                 256196\n",
       "answerid                                                    700781\n",
       "questionid                                                      84\n",
       "questiontext      Have you seen this ad on a mobile device before?\n",
       "optionid                                                       258\n",
       "optiontext                                                      No\n",
       "iscomplete                                                    True\n",
       "isrefgroup                                                   False\n",
       "deliveredimp                                                    50\n",
       "viewableimp                                                     50\n",
       "viewableimp_ic                                                  50\n",
       "totalviewtime                                              1051296\n",
       "funnel                                                      Recall\n",
       "avgVT/impMiliSec                                           21025.9\n",
       "avgVT/ImpSec                                                    21\n",
       "avgTVScale                                                   21-25"
      ]
     },
     "execution_count": 92,
     "metadata": {},
     "output_type": "execute_result"
    }
   ],
   "source": [
    "recall_metrics.head(1).transpose()"
   ]
  },
  {
   "cell_type": "code",
   "execution_count": 151,
   "metadata": {
    "collapsed": false
   },
   "outputs": [],
   "source": [
    "recall_metrics =rawData[(rawData['viewableimp']<=50) & (rawData['totalviewtime']<=2500000)\n",
    "                                & (rawData['funnel']=='Recall')]\n",
    "# sub_recall_metrics=recall_metrics[['optiontext','deliveredimp','viewableimp','viewableimp_ic','totalviewtime','avgVT/ImpSec','avgTVScale']]\n",
    "\n",
    "def recall_transform(x):\n",
    "    if (x['optiontext']=='Yes'):\n",
    "        return 1\n",
    "    return 0\n"
   ]
  },
  {
   "cell_type": "code",
   "execution_count": 162,
   "metadata": {
    "collapsed": false
   },
   "outputs": [
    {
     "data": {
      "text/plain": [
       "['surveyid',\n",
       " 'originaladid',\n",
       " 'format',\n",
       " 'market',\n",
       " 'uid',\n",
       " 'answersetid',\n",
       " 'answerid',\n",
       " 'questionid',\n",
       " 'questiontext',\n",
       " 'optionid',\n",
       " 'optiontext',\n",
       " 'iscomplete',\n",
       " 'isrefgroup',\n",
       " 'deliveredimp',\n",
       " 'viewableimp',\n",
       " 'viewableimp_ic',\n",
       " 'totalviewtime',\n",
       " 'funnel',\n",
       " 'avgVT/impMiliSec',\n",
       " 'avgVT/ImpSec',\n",
       " 'avgTVScale']"
      ]
     },
     "execution_count": 162,
     "metadata": {},
     "output_type": "execute_result"
    }
   ],
   "source": [
    "\n",
    "# rawData.apply (lambda x: vtScale (x),axis=1).head(10)\n",
    "# sub_recall_metrics.apply(lambda x: recall_transform (x),axis=1)\n",
    "# sub_recall_metrics['optiontext'] .apply (lambda x: recall_transform (x), axis=1)\n",
    "#df[df.columns[2]]\n",
    "# list all column names\n",
    "list(rawData.columns.values)\n",
    "# rawData1 = rawData[['surveyid','']]\n",
    "#recall_trans = rawData.apply(lambda x: recall_transform(x), axis=1)\n",
    "#recall_transformed = pd.concat([recall_trans,rawData ], axis=1)\n",
    "\n",
    "# frecall.columns = ['recall','optiontext','deliveredimp','viewableimp','viewableimp_ic','totalviewtime','avgVT/ImpSec','avgTVScale']\n",
    "#recall.head()"
   ]
  },
  {
   "cell_type": "code",
   "execution_count": 175,
   "metadata": {
    "collapsed": false
   },
   "outputs": [
    {
     "data": {
      "text/html": [
       "<div>\n",
       "<table border=\"1\" class=\"dataframe\">\n",
       "  <thead>\n",
       "    <tr style=\"text-align: right;\">\n",
       "      <th></th>\n",
       "      <th>surveyid</th>\n",
       "      <th>originaladid</th>\n",
       "      <th>answersetid</th>\n",
       "      <th>answerid</th>\n",
       "      <th>questionid</th>\n",
       "      <th>questiontext</th>\n",
       "      <th>optionid</th>\n",
       "      <th>optiontext</th>\n",
       "      <th>deliveredimp</th>\n",
       "      <th>viewableimp</th>\n",
       "      <th>totalviewtime</th>\n",
       "      <th>avgVT/impMiliSec</th>\n",
       "      <th>avgVT/ImpSec</th>\n",
       "      <th>avgTVScale</th>\n",
       "    </tr>\n",
       "  </thead>\n",
       "  <tbody>\n",
       "    <tr>\n",
       "      <th>0</th>\n",
       "      <td>291</td>\n",
       "      <td>36430</td>\n",
       "      <td>256039</td>\n",
       "      <td>700459</td>\n",
       "      <td>83</td>\n",
       "      <td>Next time you are about to use/purchase �categ...</td>\n",
       "      <td>255</td>\n",
       "      <td>3</td>\n",
       "      <td>1</td>\n",
       "      <td>1</td>\n",
       "      <td>1756</td>\n",
       "      <td>1756</td>\n",
       "      <td>1.8</td>\n",
       "      <td>1-5</td>\n",
       "    </tr>\n",
       "  </tbody>\n",
       "</table>\n",
       "</div>"
      ],
      "text/plain": [
       "   surveyid  originaladid  answersetid  answerid  questionid  \\\n",
       "0       291         36430       256039    700459          83   \n",
       "\n",
       "                                        questiontext  optionid optiontext  \\\n",
       "0  Next time you are about to use/purchase �categ...       255          3   \n",
       "\n",
       "   deliveredimp  viewableimp  totalviewtime  avgVT/impMiliSec  avgVT/ImpSec  \\\n",
       "0             1            1           1756              1756           1.8   \n",
       "\n",
       "  avgTVScale  \n",
       "0        1-5  "
      ]
     },
     "execution_count": 175,
     "metadata": {},
     "output_type": "execute_result"
    }
   ],
   "source": [
    "# subset\n",
    "col = ['surveyid','originaladid','answersetid','answerid','questionid',\n",
    " 'questiontext','optionid','optiontext','deliveredimp',\n",
    " 'viewableimp','totalviewtime', 'avgVT/impMiliSec', 'avgVT/ImpSec','avgTVScale']\n",
    "col\n",
    "rawData1 = pd.DataFrame(rawData, columns=col)\n",
    "rawData1.head(1)"
   ]
  },
  {
   "cell_type": "code",
   "execution_count": 149,
   "metadata": {
    "collapsed": false
   },
   "outputs": [
    {
     "data": {
      "text/html": [
       "<div>\n",
       "<table border=\"1\" class=\"dataframe\">\n",
       "  <thead>\n",
       "    <tr style=\"text-align: right;\">\n",
       "      <th></th>\n",
       "      <th>recall</th>\n",
       "      <th>optiontext</th>\n",
       "      <th>deliveredimp</th>\n",
       "      <th>viewableimp</th>\n",
       "      <th>viewableimp_ic</th>\n",
       "      <th>totalviewtime</th>\n",
       "      <th>avgVT/ImpSec</th>\n",
       "      <th>avgTVScale</th>\n",
       "    </tr>\n",
       "  </thead>\n",
       "  <tbody>\n",
       "    <tr>\n",
       "      <th>2</th>\n",
       "      <td>0</td>\n",
       "      <td>No</td>\n",
       "      <td>50</td>\n",
       "      <td>50</td>\n",
       "      <td>50</td>\n",
       "      <td>1051296</td>\n",
       "      <td>21.0</td>\n",
       "      <td>21-25</td>\n",
       "    </tr>\n",
       "    <tr>\n",
       "      <th>3</th>\n",
       "      <td>0</td>\n",
       "      <td>No</td>\n",
       "      <td>45</td>\n",
       "      <td>45</td>\n",
       "      <td>45</td>\n",
       "      <td>469664</td>\n",
       "      <td>10.4</td>\n",
       "      <td>11-15</td>\n",
       "    </tr>\n",
       "    <tr>\n",
       "      <th>5</th>\n",
       "      <td>0</td>\n",
       "      <td>No</td>\n",
       "      <td>45</td>\n",
       "      <td>45</td>\n",
       "      <td>45</td>\n",
       "      <td>469664</td>\n",
       "      <td>10.4</td>\n",
       "      <td>11-15</td>\n",
       "    </tr>\n",
       "    <tr>\n",
       "      <th>10</th>\n",
       "      <td>1</td>\n",
       "      <td>Yes</td>\n",
       "      <td>2</td>\n",
       "      <td>2</td>\n",
       "      <td>2</td>\n",
       "      <td>4254</td>\n",
       "      <td>2.1</td>\n",
       "      <td>1-5</td>\n",
       "    </tr>\n",
       "    <tr>\n",
       "      <th>14</th>\n",
       "      <td>1</td>\n",
       "      <td>Yes</td>\n",
       "      <td>17</td>\n",
       "      <td>17</td>\n",
       "      <td>17</td>\n",
       "      <td>530582</td>\n",
       "      <td>31.2</td>\n",
       "      <td>ABOVE 31</td>\n",
       "    </tr>\n",
       "  </tbody>\n",
       "</table>\n",
       "</div>"
      ],
      "text/plain": [
       "    recall optiontext  deliveredimp  viewableimp  viewableimp_ic  \\\n",
       "2        0         No            50           50              50   \n",
       "3        0         No            45           45              45   \n",
       "5        0         No            45           45              45   \n",
       "10       1        Yes             2            2               2   \n",
       "14       1        Yes            17           17              17   \n",
       "\n",
       "    totalviewtime  avgVT/ImpSec avgTVScale  \n",
       "2         1051296          21.0      21-25  \n",
       "3          469664          10.4      11-15  \n",
       "5          469664          10.4      11-15  \n",
       "10           4254           2.1        1-5  \n",
       "14         530582          31.2   ABOVE 31  "
      ]
     },
     "execution_count": 149,
     "metadata": {},
     "output_type": "execute_result"
    }
   ],
   "source": [
    "recall_final = recall[ ['recall','optiontext','deliveredimp','viewableimp','viewableimp_ic',\n",
    "                        'totalviewtime','avgVT/ImpSec','avgTVScale']]\n",
    "recall_final.head()\n"
   ]
  },
  {
   "cell_type": "code",
   "execution_count": 176,
   "metadata": {
    "collapsed": false
   },
   "outputs": [
    {
     "data": {
      "text/plain": [
       "1     3\n",
       "4     2\n",
       "7     3\n",
       "8     3\n",
       "12    2\n",
       "Name: optiontext, dtype: object"
      ]
     },
     "execution_count": 176,
     "metadata": {},
     "output_type": "execute_result"
    }
   ],
   "source": [
    "interest =rawData[(rawData['viewableimp']<=50) & (rawData['totalviewtime']<=2500000)\n",
    "                                & (rawData['funnel']=='Interest')]['optiontext']\n",
    "interest.head()"
   ]
  },
  {
   "cell_type": "code",
   "execution_count": 187,
   "metadata": {
    "collapsed": false
   },
   "outputs": [
    {
     "data": {
      "text/plain": [
       "50.0"
      ]
     },
     "execution_count": 187,
     "metadata": {},
     "output_type": "execute_result"
    }
   ],
   "source": [
    "# check percentile data\n",
    "rawData.viewableimp.quantile(0.90)\n",
    "\n"
   ]
  },
  {
   "cell_type": "code",
   "execution_count": 189,
   "metadata": {
    "collapsed": false
   },
   "outputs": [
    {
     "data": {
      "text/plain": [
       "957468.0"
      ]
     },
     "execution_count": 189,
     "metadata": {},
     "output_type": "execute_result"
    }
   ],
   "source": [
    "rawData.totalviewtime.quantile(0.90)\n"
   ]
  },
  {
   "cell_type": "code",
   "execution_count": 194,
   "metadata": {
    "collapsed": false
   },
   "outputs": [
    {
     "data": {
      "text/html": [
       "<div>\n",
       "<table border=\"1\" class=\"dataframe\">\n",
       "  <thead>\n",
       "    <tr style=\"text-align: right;\">\n",
       "      <th></th>\n",
       "      <th>viewableimp</th>\n",
       "      <th>totalviewtime</th>\n",
       "      <th>avgVT/impMiliSec</th>\n",
       "    </tr>\n",
       "  </thead>\n",
       "  <tbody>\n",
       "    <tr>\n",
       "      <th>count</th>\n",
       "      <td>59673.000000</td>\n",
       "      <td>59673.000000</td>\n",
       "      <td>59673.000000</td>\n",
       "    </tr>\n",
       "    <tr>\n",
       "      <th>mean</th>\n",
       "      <td>10.055268</td>\n",
       "      <td>165989.381295</td>\n",
       "      <td>25030.505994</td>\n",
       "    </tr>\n",
       "    <tr>\n",
       "      <th>std</th>\n",
       "      <td>11.198665</td>\n",
       "      <td>196317.118280</td>\n",
       "      <td>47502.636624</td>\n",
       "    </tr>\n",
       "    <tr>\n",
       "      <th>min</th>\n",
       "      <td>0.000000</td>\n",
       "      <td>302.000000</td>\n",
       "      <td>302.000000</td>\n",
       "    </tr>\n",
       "    <tr>\n",
       "      <th>25%</th>\n",
       "      <td>2.000000</td>\n",
       "      <td>28206.000000</td>\n",
       "      <td>6484.000000</td>\n",
       "    </tr>\n",
       "    <tr>\n",
       "      <th>50%</th>\n",
       "      <td>6.000000</td>\n",
       "      <td>87076.000000</td>\n",
       "      <td>12524.000000</td>\n",
       "    </tr>\n",
       "    <tr>\n",
       "      <th>75%</th>\n",
       "      <td>14.000000</td>\n",
       "      <td>229758.000000</td>\n",
       "      <td>23906.600000</td>\n",
       "    </tr>\n",
       "    <tr>\n",
       "      <th>max</th>\n",
       "      <td>50.000000</td>\n",
       "      <td>957468.000000</td>\n",
       "      <td>939009.000000</td>\n",
       "    </tr>\n",
       "  </tbody>\n",
       "</table>\n",
       "</div>"
      ],
      "text/plain": [
       "        viewableimp  totalviewtime  avgVT/impMiliSec\n",
       "count  59673.000000   59673.000000      59673.000000\n",
       "mean      10.055268  165989.381295      25030.505994\n",
       "std       11.198665  196317.118280      47502.636624\n",
       "min        0.000000     302.000000        302.000000\n",
       "25%        2.000000   28206.000000       6484.000000\n",
       "50%        6.000000   87076.000000      12524.000000\n",
       "75%       14.000000  229758.000000      23906.600000\n",
       "max       50.000000  957468.000000     939009.000000"
      ]
     },
     "execution_count": 194,
     "metadata": {},
     "output_type": "execute_result"
    }
   ],
   "source": [
    "# filter data based on value\n",
    "rd_clean =rawData[(rawData['viewableimp']<=50) & (rawData['totalviewtime']<=957468)]\n",
    "rd_clean[['optiontext','viewableimp','totalviewtime','avgVT/impMiliSec']].describe()"
   ]
  },
  {
   "cell_type": "code",
   "execution_count": 197,
   "metadata": {
    "collapsed": false
   },
   "outputs": [
    {
     "data": {
      "text/plain": [
       "(21308, 21)"
      ]
     },
     "execution_count": 197,
     "metadata": {},
     "output_type": "execute_result"
    }
   ],
   "source": [
    "# subset recall data\n",
    "recall_raw = rd_clean[(rd_clean['funnel']=='Recall')]\n",
    "# recall_raw.shape\n",
    "#(21308, 21)"
   ]
  },
  {
   "cell_type": "code",
   "execution_count": 198,
   "metadata": {
    "collapsed": true
   },
   "outputs": [],
   "source": [
    "# create function to transform yes and no to 1 and 0\n",
    "def recall_transform(x):\n",
    "    if (x['optiontext']=='Yes'):\n",
    "        return 1\n",
    "    return 0\n"
   ]
  },
  {
   "cell_type": "code",
   "execution_count": 219,
   "metadata": {
    "collapsed": false
   },
   "outputs": [],
   "source": [
    "# apply to recall raw data\n",
    "recall_trans = recall_raw.apply(lambda x: recall_transform(x), axis=1).astype(int)\n",
    "# recall_trans.head()\n"
   ]
  },
  {
   "cell_type": "code",
   "execution_count": null,
   "metadata": {
    "collapsed": false
   },
   "outputs": [],
   "source": [
    "# concat calculated field with recall raw data\n",
    "recall_concat = pd.concat([recall_trans, recall_raw], axis=1)\n",
    "recall_concat.columns = ['recall','surveyid',\n",
    " 'originaladid',\n",
    " 'format',\n",
    " 'market',\n",
    " 'uid',\n",
    " 'answersetid',\n",
    " 'answerid',\n",
    " 'questionid',\n",
    " 'questiontext',\n",
    " 'optionid',\n",
    " 'optiontext',\n",
    " 'iscomplete',\n",
    " 'isrefgroup',\n",
    " 'deliveredimp',\n",
    " 'viewableimp',\n",
    " 'viewableimp_ic',\n",
    " 'totalviewtime',\n",
    " 'funnel',\n",
    " 'avgVT/impMiliSec',\n",
    " 'avgVT/ImpSec',\n",
    " 'avgTVScale']\n",
    "recall_concat.head(1)"
   ]
  },
  {
   "cell_type": "code",
   "execution_count": 251,
   "metadata": {
    "collapsed": false
   },
   "outputs": [
    {
     "data": {
      "text/plain": [
       "recall                int64\n",
       "optiontext           object\n",
       "surveyid              int64\n",
       "originaladid          int64\n",
       "answersetid           int64\n",
       "answerid              int64\n",
       "questionid            int64\n",
       "questiontext         object\n",
       "optionid              int64\n",
       "viewableimp           int64\n",
       "totalviewtime         int64\n",
       "avgVT/impMiliSec    float64\n",
       "avgVT/ImpSec        float64\n",
       "avgTVScale           object\n",
       "dtype: object"
      ]
     },
     "execution_count": 251,
     "metadata": {},
     "output_type": "execute_result"
    }
   ],
   "source": [
    "# final subsetting for recall\n",
    "recall = recall_concat[[\n",
    " 'recall',\n",
    " 'optiontext',\n",
    " 'surveyid',\n",
    " 'originaladid',\n",
    " 'answersetid',\n",
    " 'answerid',\n",
    " 'questionid',\n",
    " 'questiontext',\n",
    " 'optionid',\n",
    " 'viewableimp',\n",
    " 'totalviewtime',\n",
    " 'avgVT/impMiliSec',\n",
    " 'avgVT/ImpSec',\n",
    " 'avgTVScale']]\n",
    "\n",
    "# reset index\n",
    "recall = recall.reset_index(drop=True)\n",
    "# recall.head(5)\n",
    "# recall.shape\n",
    "recall.dtypes"
   ]
  },
  {
   "cell_type": "code",
   "execution_count": 252,
   "metadata": {
    "collapsed": false
   },
   "outputs": [
    {
     "data": {
      "text/html": [
       "<div>\n",
       "<table border=\"1\" class=\"dataframe\">\n",
       "  <thead>\n",
       "    <tr style=\"text-align: right;\">\n",
       "      <th></th>\n",
       "      <th>recall</th>\n",
       "      <th>viewableimp</th>\n",
       "      <th>totalviewtime</th>\n",
       "      <th>avgVT/impMiliSec</th>\n",
       "    </tr>\n",
       "  </thead>\n",
       "  <tbody>\n",
       "    <tr>\n",
       "      <th>recall</th>\n",
       "      <td>1.000000</td>\n",
       "      <td>-0.011816</td>\n",
       "      <td>-0.005201</td>\n",
       "      <td>-0.022835</td>\n",
       "    </tr>\n",
       "    <tr>\n",
       "      <th>viewableimp</th>\n",
       "      <td>-0.011816</td>\n",
       "      <td>1.000000</td>\n",
       "      <td>0.591875</td>\n",
       "      <td>-0.173190</td>\n",
       "    </tr>\n",
       "    <tr>\n",
       "      <th>totalviewtime</th>\n",
       "      <td>-0.005201</td>\n",
       "      <td>0.591875</td>\n",
       "      <td>1.000000</td>\n",
       "      <td>0.327227</td>\n",
       "    </tr>\n",
       "    <tr>\n",
       "      <th>avgVT/impMiliSec</th>\n",
       "      <td>-0.022835</td>\n",
       "      <td>-0.173190</td>\n",
       "      <td>0.327227</td>\n",
       "      <td>1.000000</td>\n",
       "    </tr>\n",
       "  </tbody>\n",
       "</table>\n",
       "</div>"
      ],
      "text/plain": [
       "                    recall  viewableimp  totalviewtime  avgVT/impMiliSec\n",
       "recall            1.000000    -0.011816      -0.005201         -0.022835\n",
       "viewableimp      -0.011816     1.000000       0.591875         -0.173190\n",
       "totalviewtime    -0.005201     0.591875       1.000000          0.327227\n",
       "avgVT/impMiliSec -0.022835    -0.173190       0.327227          1.000000"
      ]
     },
     "execution_count": 252,
     "metadata": {},
     "output_type": "execute_result"
    }
   ],
   "source": [
    "recall[['recall','viewableimp','totalviewtime','avgVT/impMiliSec']].corr()"
   ]
  },
  {
   "cell_type": "code",
   "execution_count": null,
   "metadata": {
    "collapsed": false
   },
   "outputs": [],
   "source": [
    "test = recall[['recall','avgTVScale']].groupby(['avgTVScale','recall']).recall.size()\n",
    "test"
   ]
  },
  {
   "cell_type": "code",
   "execution_count": null,
   "metadata": {
    "collapsed": false
   },
   "outputs": [],
   "source": [
    "cnx.close()\n",
    "import sqlite3\n",
    "from pandas.io import sql\n",
    "cnx = sqlite3.connect(':memory:', timeout=3000)\n",
    "cnx.text_factory = str\n"
   ]
  },
  {
   "cell_type": "code",
   "execution_count": null,
   "metadata": {
    "collapsed": false
   },
   "outputs": [],
   "source": [
    "# write to database\n",
    "sql.to_sql(recall, name = 'recall', con=cnx, if_exists='replace')"
   ]
  },
  {
   "cell_type": "code",
   "execution_count": null,
   "metadata": {
    "collapsed": true
   },
   "outputs": [],
   "source": [
    "# select data\n",
    "sql.read_sql(\"select * from recall limit 1\",cnx)"
   ]
  },
  {
   "cell_type": "code",
   "execution_count": null,
   "metadata": {
    "collapsed": true
   },
   "outputs": [],
   "source": [
    "sdfasdf"
   ]
  },
  {
   "cell_type": "code",
   "execution_count": null,
   "metadata": {
    "collapsed": true
   },
   "outputs": [],
   "source": []
  }
 ],
 "metadata": {
  "kernelspec": {
   "display_name": "Python 2",
   "language": "python",
   "name": "python2"
  },
  "language_info": {
   "codemirror_mode": {
    "name": "ipython",
    "version": 2
   },
   "file_extension": ".py",
   "mimetype": "text/x-python",
   "name": "python",
   "nbconvert_exporter": "python",
   "pygments_lexer": "ipython2",
   "version": "2.7.11"
  }
 },
 "nbformat": 4,
 "nbformat_minor": 0
}
