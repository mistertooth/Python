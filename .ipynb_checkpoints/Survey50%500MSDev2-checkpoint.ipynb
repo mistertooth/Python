{
 "cells": [
  {
   "cell_type": "code",
   "execution_count": 1,
   "metadata": {
    "collapsed": false
   },
   "outputs": [
    {
     "data": {
      "text/html": [
       "<script>\n",
       "code_show=true;\n",
       "function code_toggle() {\n",
       " if (code_show){\n",
       " $('div.input').hide();\n",
       " } else {\n",
       " $('div.input').show();\n",
       " }\n",
       " code_show = !code_show\n",
       "}\n",
       "$( document ).ready(code_toggle);\n",
       "</script>\n",
       "<form action=\"javascript:code_toggle()\"><input type=\"submit\" value=\"Click here to toggle on/off the raw code.\"></form>"
      ],
      "text/plain": [
       "<IPython.core.display.HTML object>"
      ]
     },
     "execution_count": 1,
     "metadata": {},
     "output_type": "execute_result"
    }
   ],
   "source": [
    "from IPython.display import HTML\n",
    "\n",
    "HTML('''<script>\n",
    "code_show=true;\n",
    "function code_toggle() {\n",
    " if (code_show){\n",
    " $('div.input').hide();\n",
    " } else {\n",
    " $('div.input').show();\n",
    " }\n",
    " code_show = !code_show\n",
    "}\n",
    "$( document ).ready(code_toggle);\n",
    "</script>\n",
    "<form action=\"javascript:code_toggle()\"><input type=\"submit\" value=\"Click here to toggle on/off the raw code.\"></form>''')"
   ]
  },
  {
   "cell_type": "markdown",
   "metadata": {},
   "source": [
    "# Viewability VS Brand Matrix"
   ]
  },
  {
   "cell_type": "raw",
   "metadata": {},
   "source": [
    "Background: \n",
    "- viewability, on March 1st 2016 we modified Widespace 100% viewability, meanwhile our competitors are having different definitions; MRC and IAB are leaning towards defining viewability on mobile the same as on desktop, hence we are conducting an analysis comparing our definition versus the rest\n",
    "- Brand Matrix, earlier we conducted analysis between 'total time viewable' with brand matrix as well as the inter-connection among each item within brand matrix, this study will verify these based on new data\n"
   ]
  },
  {
   "cell_type": "raw",
   "metadata": {},
   "source": [
    "Methodology:\n",
    "- 86 Brand Impact Surveys\n",
    "- Nov 2015, Dec 2015, Jan 2016, Feb 2016\n",
    "- Takeover & Swipe\n",
    "- A rendered Impression must stay in screen for at least 50% 300MS to be considered viewable\n",
    "- Total Time Viewable only counts the duration beyond 50% 300MS \n",
    "- Eliminate each inscreen current position that incremented more than 5000ms per api call (issue fixed after inscreen 0.8.2 on Mar 2016)\n",
    "- Survey related data in the analysis includes 'Recall', 'Interest', 'Purchase Intent', 'Age', 'Gender' related info"
   ]
  },
  {
   "cell_type": "code",
   "execution_count": 2,
   "metadata": {
    "collapsed": true
   },
   "outputs": [],
   "source": [
    "import pandas as pd\n",
    "import numpy as np\n",
    "import matplotlib.pyplot as plt\n",
    "import seaborn as sns\n",
    "# this allows plots to appear directly in the notebook\n",
    "%matplotlib inline\n",
    "plt.rcParams['figure.figsize'] = (8, 6)\n",
    "plt.rcParams['font.size'] = 14\n",
    "# pip install patsy\n",
    "# pip install statsmodels\n",
    "import statsmodels.formula.api as smf\n",
    "# Set ipython's max row display\n",
    "pd.set_option('display.max_row', 1000)\n",
    "\n",
    "# Set iPython's max column width to 50\n",
    "pd.set_option('display.max_columns', 50)\n",
    "\n",
    "from IPython.core.display import display, HTML"
   ]
  },
  {
   "cell_type": "code",
   "execution_count": 152,
   "metadata": {
    "collapsed": false
   },
   "outputs": [
    {
     "data": {
      "text/html": [
       "<h1>Click <a href=\"http://www.yahoo.com\">here</a> to see Data File</h1>"
      ],
      "text/plain": [
       "<IPython.core.display.HTML object>"
      ]
     },
     "metadata": {},
     "output_type": "display_data"
    }
   ],
   "source": [
    "# define url\n",
    "url_0419 = '/Users/shaokuixing/Desktop/whatever/survey000_50_500_gender_20160419.csv'\n",
    "\n",
    "# read csv file\n",
    "rawData = pd.read_csv(url_0419, sep=';', thousands = '.', decimal =',')\n",
    "#rawData.head(5).transpose()\n",
    "\n",
    "from IPython.core.display import display, HTML\n",
    "display(HTML('<h1>Click <a href=\"http://www.yahoo.com\">here</a> to see Data File</h1>'))\n"
   ]
  },
  {
   "cell_type": "markdown",
   "metadata": {},
   "source": [
    "## Transform Data Round 1\n",
    "### - Extract brand matrix correlated question as a feature\n",
    "### - Translate into both numerical and categorical features\n",
    "### - Drop unnecessary columns\n",
    "### - Populate missing data points, e.g. fill NAN data on totalviewtime as 0\n",
    "### - Ad feature on Average Time Viewable per Viewable Impression"
   ]
  },
  {
   "cell_type": "code",
   "execution_count": 71,
   "metadata": {
    "collapsed": false
   },
   "outputs": [],
   "source": [
    "# del rawData\n",
    "# rawData.head()"
   ]
  },
  {
   "cell_type": "code",
   "execution_count": 230,
   "metadata": {
    "collapsed": false
   },
   "outputs": [],
   "source": [
    "# subset recall\n",
    "recall = rawData[rawData['questionid']==84].reset_index()\n",
    "recall['recall'] = np.where(recall['ioptiontext']=='Yes',1,0).astype(int)\n",
    "recall['recall_category'] = np.where(recall['ioptiontext']=='Yes','Yes','No')\n",
    "\n",
    "# subset interest\n",
    "interest = rawData[rawData['questionid']==86].reset_index()\n",
    "interest['interest'] = pd.to_numeric(interest['ioptiontext'], errors='coerce')\n",
    "interest['interest_category']=np.where(interest['interest']>=4,'High','Low')\n",
    "\n",
    "# subset intent\n",
    "intent = rawData[rawData['questionid']==83].reset_index()\n",
    "intent['intent'] = pd.to_numeric(intent['ioptiontext'], errors='coerce')\n",
    "intent['intent_category']=np.where(intent['intent'] >= 4 ,'High','Low')\n",
    "\n",
    "# subset age\n",
    "age = rawData[rawData['questionid']==90].reset_index()\n",
    "age=age.rename(columns = {'ioptiontext':'age_category'})\n",
    "\n",
    "# subset gender\n",
    "gender = rawData[rawData['questionid']==91].reset_index()\n",
    "gender=gender.rename(columns = {'ioptiontext':'gender_category'})\n",
    "\n",
    "#gender.sample(n=1, random_state=1)\n"
   ]
  },
  {
   "cell_type": "code",
   "execution_count": 231,
   "metadata": {
    "collapsed": false
   },
   "outputs": [],
   "source": [
    "# drop unnecessary columns\n",
    "recall.drop(recall[['ioptiontext','answerid','questionid','questiontext','optionid', \n",
    "                 'iscomplete','isrefgroup']],axis=1, inplace=True)\n",
    "interest.drop(interest[['ioptiontext','answerid','questionid','questiontext','optionid', \n",
    "                 'iscomplete','isrefgroup']],axis=1, inplace=True)\n",
    "intent.drop(intent[['ioptiontext','answerid','questionid','questiontext','optionid', \n",
    "              'iscomplete','isrefgroup']],axis=1, inplace=True)\n",
    "age.drop(age[['answerid','questionid','questiontext','optionid','iscomplete','isrefgroup']],axis=1, inplace=True)\n",
    "gender.drop(gender[['answerid','questionid','questiontext','optionid','iscomplete','isrefgroup']],axis=1, inplace=True)"
   ]
  },
  {
   "cell_type": "code",
   "execution_count": 232,
   "metadata": {
    "collapsed": false
   },
   "outputs": [],
   "source": [
    "# merge data\n",
    "df = recall.merge(interest, \n",
    "on= ['surveyid','answersetid',  'click', \n",
    "     'firstinteraction', 'deliveredimp', 'viewableimp','viewableimp_ic','totalviewtime']).merge(intent, on= ['surveyid','answersetid',  'click', \n",
    "     'firstinteraction', 'deliveredimp', 'viewableimp','viewableimp_ic','totalviewtime']).merge(age, on= ['surveyid','answersetid',  'click', \n",
    "     'firstinteraction', 'deliveredimp', 'viewableimp','viewableimp_ic','totalviewtime']).merge(gender, on= ['surveyid','answersetid',  'click', \n",
    "     'firstinteraction', 'deliveredimp', 'viewableimp','viewableimp_ic','totalviewtime'])\n",
    "\n",
    "#df.head()"
   ]
  },
  {
   "cell_type": "code",
   "execution_count": 233,
   "metadata": {
    "collapsed": false
   },
   "outputs": [],
   "source": [
    "# df.age_category.unique()"
   ]
  },
  {
   "cell_type": "code",
   "execution_count": 234,
   "metadata": {
    "collapsed": false
   },
   "outputs": [],
   "source": [
    "# create function to transform age column into numerical\n",
    "def age_trans(x):\n",
    "    if x['age_category'] == \"15-24\":\n",
    "        val = 1\n",
    "    elif x['age_category'] == \"25-34\":\n",
    "        val = 2\n",
    "    elif x['age_category'] == \"35-44\":\n",
    "        val = 3\n",
    "    elif x['age_category'] == \"45-54\":\n",
    "        val = 4\n",
    "    elif x['age_category'] == \"55-64\":\n",
    "        val = 5\n",
    "    else:\n",
    "        val=6\n",
    "    return val"
   ]
  },
  {
   "cell_type": "code",
   "execution_count": 235,
   "metadata": {
    "collapsed": false
   },
   "outputs": [],
   "source": [
    "# apply function\n",
    "df['age'] = df.apply(age_trans, axis=1)\n",
    "#df.sample(n=5, random_state=1)"
   ]
  },
  {
   "cell_type": "markdown",
   "metadata": {},
   "source": [
    "# Data after transformation"
   ]
  },
  {
   "cell_type": "code",
   "execution_count": 236,
   "metadata": {
    "collapsed": false
   },
   "outputs": [],
   "source": [
    "# transform gender into numerical column\n",
    "df['gender'] = np.where(df['gender_category']==\"Male\", 1, 0)\n",
    "# df.sample(n=5, random_state=1)\n",
    "df1= df[['surveyid', 'answersetid', 'recall','interest','intent','age', 'gender','recall_category','interest_category', \n",
    "         'intent_category', 'age_category','gender_category',\n",
    "         'click','firstinteraction','deliveredimp', 'viewableimp', 'viewableimp_ic','totalviewtime']]\n",
    "#df1.head()"
   ]
  },
  {
   "cell_type": "code",
   "execution_count": 237,
   "metadata": {
    "collapsed": false
   },
   "outputs": [],
   "source": [
    "#check if any value is nan\n",
    "#df1.isnull().values.any()\n",
    "#list all rows with nan values\n",
    "#df1[pd.isnull(df1).any(axis=1)]\n",
    "#fill nan values with 0\n",
    "df1 = df1.fillna(0)\n",
    "#df1.isnull().values.any()"
   ]
  },
  {
   "cell_type": "code",
   "execution_count": 238,
   "metadata": {
    "collapsed": false
   },
   "outputs": [
    {
     "data": {
      "text/html": [
       "<div>\n",
       "<table border=\"1\" class=\"dataframe\">\n",
       "  <thead>\n",
       "    <tr style=\"text-align: right;\">\n",
       "      <th></th>\n",
       "      <th>surveyid</th>\n",
       "      <th>answersetid</th>\n",
       "      <th>recall</th>\n",
       "      <th>interest</th>\n",
       "      <th>intent</th>\n",
       "      <th>age</th>\n",
       "      <th>gender</th>\n",
       "      <th>recall_category</th>\n",
       "      <th>interest_category</th>\n",
       "      <th>intent_category</th>\n",
       "      <th>age_category</th>\n",
       "      <th>gender_category</th>\n",
       "      <th>click</th>\n",
       "      <th>firstinteraction</th>\n",
       "      <th>deliveredimp</th>\n",
       "      <th>viewableimp</th>\n",
       "      <th>viewableimp_ic</th>\n",
       "      <th>totalviewtime</th>\n",
       "      <th>avgviewtime</th>\n",
       "    </tr>\n",
       "  </thead>\n",
       "  <tbody>\n",
       "    <tr>\n",
       "      <th>0</th>\n",
       "      <td>291</td>\n",
       "      <td>218047</td>\n",
       "      <td>1</td>\n",
       "      <td>2</td>\n",
       "      <td>5</td>\n",
       "      <td>1</td>\n",
       "      <td>0</td>\n",
       "      <td>Yes</td>\n",
       "      <td>Low</td>\n",
       "      <td>High</td>\n",
       "      <td>15-24</td>\n",
       "      <td>Female</td>\n",
       "      <td>0</td>\n",
       "      <td>0</td>\n",
       "      <td>4</td>\n",
       "      <td>3</td>\n",
       "      <td>2</td>\n",
       "      <td>8480</td>\n",
       "      <td>4240</td>\n",
       "    </tr>\n",
       "    <tr>\n",
       "      <th>1</th>\n",
       "      <td>291</td>\n",
       "      <td>218979</td>\n",
       "      <td>1</td>\n",
       "      <td>2</td>\n",
       "      <td>2</td>\n",
       "      <td>3</td>\n",
       "      <td>0</td>\n",
       "      <td>Yes</td>\n",
       "      <td>Low</td>\n",
       "      <td>Low</td>\n",
       "      <td>35-44</td>\n",
       "      <td>Female</td>\n",
       "      <td>0</td>\n",
       "      <td>0</td>\n",
       "      <td>2</td>\n",
       "      <td>1</td>\n",
       "      <td>1</td>\n",
       "      <td>850</td>\n",
       "      <td>850</td>\n",
       "    </tr>\n",
       "    <tr>\n",
       "      <th>2</th>\n",
       "      <td>291</td>\n",
       "      <td>219322</td>\n",
       "      <td>0</td>\n",
       "      <td>2</td>\n",
       "      <td>2</td>\n",
       "      <td>2</td>\n",
       "      <td>0</td>\n",
       "      <td>No</td>\n",
       "      <td>Low</td>\n",
       "      <td>Low</td>\n",
       "      <td>25-34</td>\n",
       "      <td>Female</td>\n",
       "      <td>0</td>\n",
       "      <td>0</td>\n",
       "      <td>1</td>\n",
       "      <td>0</td>\n",
       "      <td>0</td>\n",
       "      <td>0</td>\n",
       "      <td>0</td>\n",
       "    </tr>\n",
       "    <tr>\n",
       "      <th>3</th>\n",
       "      <td>291</td>\n",
       "      <td>219343</td>\n",
       "      <td>1</td>\n",
       "      <td>3</td>\n",
       "      <td>4</td>\n",
       "      <td>1</td>\n",
       "      <td>0</td>\n",
       "      <td>Yes</td>\n",
       "      <td>Low</td>\n",
       "      <td>High</td>\n",
       "      <td>15-24</td>\n",
       "      <td>Female</td>\n",
       "      <td>0</td>\n",
       "      <td>0</td>\n",
       "      <td>1</td>\n",
       "      <td>1</td>\n",
       "      <td>1</td>\n",
       "      <td>6220</td>\n",
       "      <td>6220</td>\n",
       "    </tr>\n",
       "    <tr>\n",
       "      <th>4</th>\n",
       "      <td>291</td>\n",
       "      <td>219622</td>\n",
       "      <td>1</td>\n",
       "      <td>1</td>\n",
       "      <td>3</td>\n",
       "      <td>1</td>\n",
       "      <td>0</td>\n",
       "      <td>Yes</td>\n",
       "      <td>Low</td>\n",
       "      <td>Low</td>\n",
       "      <td>15-24</td>\n",
       "      <td>Female</td>\n",
       "      <td>0</td>\n",
       "      <td>0</td>\n",
       "      <td>4</td>\n",
       "      <td>4</td>\n",
       "      <td>2</td>\n",
       "      <td>64798</td>\n",
       "      <td>32399</td>\n",
       "    </tr>\n",
       "  </tbody>\n",
       "</table>\n",
       "</div>"
      ],
      "text/plain": [
       "   surveyid  answersetid  recall  interest  intent  age  gender  \\\n",
       "0       291       218047       1         2       5    1       0   \n",
       "1       291       218979       1         2       2    3       0   \n",
       "2       291       219322       0         2       2    2       0   \n",
       "3       291       219343       1         3       4    1       0   \n",
       "4       291       219622       1         1       3    1       0   \n",
       "\n",
       "  recall_category interest_category intent_category age_category  \\\n",
       "0             Yes               Low            High        15-24   \n",
       "1             Yes               Low             Low        35-44   \n",
       "2              No               Low             Low        25-34   \n",
       "3             Yes               Low            High        15-24   \n",
       "4             Yes               Low             Low        15-24   \n",
       "\n",
       "  gender_category  click  firstinteraction  deliveredimp  viewableimp  \\\n",
       "0          Female      0                 0             4            3   \n",
       "1          Female      0                 0             2            1   \n",
       "2          Female      0                 0             1            0   \n",
       "3          Female      0                 0             1            1   \n",
       "4          Female      0                 0             4            4   \n",
       "\n",
       "   viewableimp_ic  totalviewtime  avgviewtime  \n",
       "0               2           8480         4240  \n",
       "1               1            850          850  \n",
       "2               0              0            0  \n",
       "3               1           6220         6220  \n",
       "4               2          64798        32399  "
      ]
     },
     "execution_count": 238,
     "metadata": {},
     "output_type": "execute_result"
    }
   ],
   "source": [
    "df1['avgviewtime'] = df1['totalviewtime'].div(df['viewableimp_ic'], axis=0)\n",
    "df1.fillna(0, inplace=True)\n",
    "df1.head()"
   ]
  },
  {
   "cell_type": "markdown",
   "metadata": {},
   "source": [
    "## Basic Descriptive Analysis of the data"
   ]
  },
  {
   "cell_type": "code",
   "execution_count": 239,
   "metadata": {
    "collapsed": false
   },
   "outputs": [
    {
     "data": {
      "text/html": [
       "<div>\n",
       "<table border=\"1\" class=\"dataframe\">\n",
       "  <thead>\n",
       "    <tr style=\"text-align: right;\">\n",
       "      <th></th>\n",
       "      <th>recall</th>\n",
       "      <th>interest</th>\n",
       "      <th>intent</th>\n",
       "      <th>age</th>\n",
       "      <th>gender</th>\n",
       "      <th>click</th>\n",
       "      <th>firstinteraction</th>\n",
       "      <th>deliveredimp</th>\n",
       "      <th>viewableimp</th>\n",
       "      <th>viewableimp_ic</th>\n",
       "      <th>totalviewtime</th>\n",
       "      <th>avgviewtime</th>\n",
       "    </tr>\n",
       "  </thead>\n",
       "  <tbody>\n",
       "    <tr>\n",
       "      <th>count</th>\n",
       "      <td>8004.000000</td>\n",
       "      <td>8004.000000</td>\n",
       "      <td>8004.000000</td>\n",
       "      <td>8004.000000</td>\n",
       "      <td>8004.000000</td>\n",
       "      <td>8004.000000</td>\n",
       "      <td>8004.000000</td>\n",
       "      <td>8004.000000</td>\n",
       "      <td>8004.000000</td>\n",
       "      <td>8004.000000</td>\n",
       "      <td>8.004000e+03</td>\n",
       "      <td>8004.000000</td>\n",
       "    </tr>\n",
       "    <tr>\n",
       "      <th>mean</th>\n",
       "      <td>0.387306</td>\n",
       "      <td>2.342954</td>\n",
       "      <td>2.517366</td>\n",
       "      <td>2.642804</td>\n",
       "      <td>0.432784</td>\n",
       "      <td>0.274113</td>\n",
       "      <td>0.790855</td>\n",
       "      <td>30.411169</td>\n",
       "      <td>21.035357</td>\n",
       "      <td>18.347326</td>\n",
       "      <td>1.172001e+06</td>\n",
       "      <td>80792.875381</td>\n",
       "    </tr>\n",
       "    <tr>\n",
       "      <th>std</th>\n",
       "      <td>0.487165</td>\n",
       "      <td>1.248545</td>\n",
       "      <td>1.393860</td>\n",
       "      <td>1.564386</td>\n",
       "      <td>0.495492</td>\n",
       "      <td>0.932737</td>\n",
       "      <td>4.858306</td>\n",
       "      <td>56.383385</td>\n",
       "      <td>39.026577</td>\n",
       "      <td>32.912871</td>\n",
       "      <td>9.244062e+06</td>\n",
       "      <td>548226.488016</td>\n",
       "    </tr>\n",
       "    <tr>\n",
       "      <th>min</th>\n",
       "      <td>0.000000</td>\n",
       "      <td>1.000000</td>\n",
       "      <td>1.000000</td>\n",
       "      <td>1.000000</td>\n",
       "      <td>0.000000</td>\n",
       "      <td>0.000000</td>\n",
       "      <td>0.000000</td>\n",
       "      <td>1.000000</td>\n",
       "      <td>0.000000</td>\n",
       "      <td>0.000000</td>\n",
       "      <td>0.000000e+00</td>\n",
       "      <td>0.000000</td>\n",
       "    </tr>\n",
       "    <tr>\n",
       "      <th>25%</th>\n",
       "      <td>0.000000</td>\n",
       "      <td>1.000000</td>\n",
       "      <td>1.000000</td>\n",
       "      <td>1.000000</td>\n",
       "      <td>0.000000</td>\n",
       "      <td>0.000000</td>\n",
       "      <td>0.000000</td>\n",
       "      <td>4.000000</td>\n",
       "      <td>2.000000</td>\n",
       "      <td>2.000000</td>\n",
       "      <td>2.548900e+04</td>\n",
       "      <td>5862.150000</td>\n",
       "    </tr>\n",
       "    <tr>\n",
       "      <th>50%</th>\n",
       "      <td>0.000000</td>\n",
       "      <td>2.000000</td>\n",
       "      <td>3.000000</td>\n",
       "      <td>2.000000</td>\n",
       "      <td>0.000000</td>\n",
       "      <td>0.000000</td>\n",
       "      <td>0.000000</td>\n",
       "      <td>12.000000</td>\n",
       "      <td>8.000000</td>\n",
       "      <td>8.000000</td>\n",
       "      <td>1.205860e+05</td>\n",
       "      <td>11056.113636</td>\n",
       "    </tr>\n",
       "    <tr>\n",
       "      <th>75%</th>\n",
       "      <td>1.000000</td>\n",
       "      <td>3.000000</td>\n",
       "      <td>3.000000</td>\n",
       "      <td>4.000000</td>\n",
       "      <td>1.000000</td>\n",
       "      <td>0.000000</td>\n",
       "      <td>1.000000</td>\n",
       "      <td>33.000000</td>\n",
       "      <td>23.000000</td>\n",
       "      <td>20.000000</td>\n",
       "      <td>4.718020e+05</td>\n",
       "      <td>30501.958333</td>\n",
       "    </tr>\n",
       "    <tr>\n",
       "      <th>max</th>\n",
       "      <td>1.000000</td>\n",
       "      <td>5.000000</td>\n",
       "      <td>5.000000</td>\n",
       "      <td>6.000000</td>\n",
       "      <td>1.000000</td>\n",
       "      <td>27.000000</td>\n",
       "      <td>393.000000</td>\n",
       "      <td>1026.000000</td>\n",
       "      <td>760.000000</td>\n",
       "      <td>680.000000</td>\n",
       "      <td>6.898472e+08</td>\n",
       "      <td>36307746.684211</td>\n",
       "    </tr>\n",
       "  </tbody>\n",
       "</table>\n",
       "</div>"
      ],
      "text/plain": [
       "            recall     interest       intent          age       gender  \\\n",
       "count  8004.000000  8004.000000  8004.000000  8004.000000  8004.000000   \n",
       "mean      0.387306     2.342954     2.517366     2.642804     0.432784   \n",
       "std       0.487165     1.248545     1.393860     1.564386     0.495492   \n",
       "min       0.000000     1.000000     1.000000     1.000000     0.000000   \n",
       "25%       0.000000     1.000000     1.000000     1.000000     0.000000   \n",
       "50%       0.000000     2.000000     3.000000     2.000000     0.000000   \n",
       "75%       1.000000     3.000000     3.000000     4.000000     1.000000   \n",
       "max       1.000000     5.000000     5.000000     6.000000     1.000000   \n",
       "\n",
       "             click  firstinteraction  deliveredimp  viewableimp  \\\n",
       "count  8004.000000       8004.000000   8004.000000  8004.000000   \n",
       "mean      0.274113          0.790855     30.411169    21.035357   \n",
       "std       0.932737          4.858306     56.383385    39.026577   \n",
       "min       0.000000          0.000000      1.000000     0.000000   \n",
       "25%       0.000000          0.000000      4.000000     2.000000   \n",
       "50%       0.000000          0.000000     12.000000     8.000000   \n",
       "75%       0.000000          1.000000     33.000000    23.000000   \n",
       "max      27.000000        393.000000   1026.000000   760.000000   \n",
       "\n",
       "       viewableimp_ic  totalviewtime      avgviewtime  \n",
       "count     8004.000000   8.004000e+03      8004.000000  \n",
       "mean        18.347326   1.172001e+06     80792.875381  \n",
       "std         32.912871   9.244062e+06    548226.488016  \n",
       "min          0.000000   0.000000e+00         0.000000  \n",
       "25%          2.000000   2.548900e+04      5862.150000  \n",
       "50%          8.000000   1.205860e+05     11056.113636  \n",
       "75%         20.000000   4.718020e+05     30501.958333  \n",
       "max        680.000000   6.898472e+08  36307746.684211  "
      ]
     },
     "execution_count": 239,
     "metadata": {},
     "output_type": "execute_result"
    }
   ],
   "source": [
    "df1[[ 'recall','interest','intent','age', 'gender','recall_category','interest_category', \n",
    "         'intent_category', 'age_category','gender_category',\n",
    "         'click','firstinteraction','deliveredimp', 'viewableimp', 'viewableimp_ic','totalviewtime', 'avgviewtime']].describe()"
   ]
  },
  {
   "cell_type": "raw",
   "metadata": {},
   "source": [
    "- Recall: 38.7% of the respondents said they RECALL seeing the ads\n",
    "- Interest: over 75% of the respondents gave rating equal of less 3, over 50% give 2 or less\n",
    "- Purchase Intent: better than interest, 50% gave 3 or higher in rating\n",
    "- Gender: app. 57% of interviewees were female\n",
    "- Age: concentrated among people between 25-44\n",
    "- Delivered Imp: median frequency 12, needs to eliminate outliers to guarantee quality\n",
    "- Viewable Imp: median frequency 8, needs to eliminate outliers to guarantee quality\n",
    "- Average Time Viewable per Imp: 11 seconds, needs to eliminate outliers to guarantee quality"
   ]
  },
  {
   "cell_type": "markdown",
   "metadata": {},
   "source": [
    "## Eliminating Outliers Round 1"
   ]
  },
  {
   "cell_type": "code",
   "execution_count": 297,
   "metadata": {
    "collapsed": false
   },
   "outputs": [
    {
     "data": {
      "text/html": [
       "<div>\n",
       "<table border=\"1\" class=\"dataframe\">\n",
       "  <thead>\n",
       "    <tr style=\"text-align: right;\">\n",
       "      <th></th>\n",
       "      <th>surveyid</th>\n",
       "      <th>answersetid</th>\n",
       "      <th>recall</th>\n",
       "      <th>interest</th>\n",
       "      <th>intent</th>\n",
       "      <th>age</th>\n",
       "      <th>gender</th>\n",
       "      <th>click</th>\n",
       "      <th>firstinteraction</th>\n",
       "      <th>deliveredimp</th>\n",
       "      <th>viewableimp</th>\n",
       "      <th>viewableimp_ic</th>\n",
       "      <th>totalviewtime</th>\n",
       "      <th>avgviewtime</th>\n",
       "    </tr>\n",
       "  </thead>\n",
       "  <tbody>\n",
       "    <tr>\n",
       "      <th>count</th>\n",
       "      <td>5081.000000</td>\n",
       "      <td>5081.000000</td>\n",
       "      <td>5081.000000</td>\n",
       "      <td>5081.000000</td>\n",
       "      <td>5081.000000</td>\n",
       "      <td>5081.000000</td>\n",
       "      <td>5081.000000</td>\n",
       "      <td>5081.000000</td>\n",
       "      <td>5081.000000</td>\n",
       "      <td>5081.000000</td>\n",
       "      <td>5081.000000</td>\n",
       "      <td>5081.000000</td>\n",
       "      <td>5081.000000</td>\n",
       "      <td>5081.000000</td>\n",
       "    </tr>\n",
       "    <tr>\n",
       "      <th>mean</th>\n",
       "      <td>402.008069</td>\n",
       "      <td>314284.515647</td>\n",
       "      <td>0.374533</td>\n",
       "      <td>2.329069</td>\n",
       "      <td>2.513088</td>\n",
       "      <td>2.598307</td>\n",
       "      <td>0.416453</td>\n",
       "      <td>0.111986</td>\n",
       "      <td>0.251722</td>\n",
       "      <td>12.180673</td>\n",
       "      <td>7.980319</td>\n",
       "      <td>6.895493</td>\n",
       "      <td>88167.394411</td>\n",
       "      <td>10881.482527</td>\n",
       "    </tr>\n",
       "    <tr>\n",
       "      <th>std</th>\n",
       "      <td>60.538074</td>\n",
       "      <td>51052.188251</td>\n",
       "      <td>0.484050</td>\n",
       "      <td>1.235291</td>\n",
       "      <td>1.397085</td>\n",
       "      <td>1.565068</td>\n",
       "      <td>0.493019</td>\n",
       "      <td>0.430455</td>\n",
       "      <td>0.666559</td>\n",
       "      <td>13.572684</td>\n",
       "      <td>9.100446</td>\n",
       "      <td>6.690920</td>\n",
       "      <td>124252.761443</td>\n",
       "      <td>9753.752169</td>\n",
       "    </tr>\n",
       "    <tr>\n",
       "      <th>min</th>\n",
       "      <td>291.000000</td>\n",
       "      <td>216498.000000</td>\n",
       "      <td>0.000000</td>\n",
       "      <td>1.000000</td>\n",
       "      <td>1.000000</td>\n",
       "      <td>1.000000</td>\n",
       "      <td>0.000000</td>\n",
       "      <td>0.000000</td>\n",
       "      <td>0.000000</td>\n",
       "      <td>1.000000</td>\n",
       "      <td>0.000000</td>\n",
       "      <td>0.000000</td>\n",
       "      <td>0.000000</td>\n",
       "      <td>0.000000</td>\n",
       "    </tr>\n",
       "    <tr>\n",
       "      <th>25%</th>\n",
       "      <td>359.000000</td>\n",
       "      <td>275266.000000</td>\n",
       "      <td>0.000000</td>\n",
       "      <td>1.000000</td>\n",
       "      <td>1.000000</td>\n",
       "      <td>1.000000</td>\n",
       "      <td>0.000000</td>\n",
       "      <td>0.000000</td>\n",
       "      <td>0.000000</td>\n",
       "      <td>3.000000</td>\n",
       "      <td>1.000000</td>\n",
       "      <td>1.000000</td>\n",
       "      <td>10224.000000</td>\n",
       "      <td>4312.750000</td>\n",
       "    </tr>\n",
       "    <tr>\n",
       "      <th>50%</th>\n",
       "      <td>402.000000</td>\n",
       "      <td>314674.000000</td>\n",
       "      <td>0.000000</td>\n",
       "      <td>2.000000</td>\n",
       "      <td>3.000000</td>\n",
       "      <td>2.000000</td>\n",
       "      <td>0.000000</td>\n",
       "      <td>0.000000</td>\n",
       "      <td>0.000000</td>\n",
       "      <td>8.000000</td>\n",
       "      <td>5.000000</td>\n",
       "      <td>5.000000</td>\n",
       "      <td>41694.000000</td>\n",
       "      <td>8025.000000</td>\n",
       "    </tr>\n",
       "    <tr>\n",
       "      <th>75%</th>\n",
       "      <td>443.000000</td>\n",
       "      <td>346226.000000</td>\n",
       "      <td>1.000000</td>\n",
       "      <td>3.000000</td>\n",
       "      <td>3.000000</td>\n",
       "      <td>4.000000</td>\n",
       "      <td>1.000000</td>\n",
       "      <td>0.000000</td>\n",
       "      <td>0.000000</td>\n",
       "      <td>17.000000</td>\n",
       "      <td>12.000000</td>\n",
       "      <td>11.000000</td>\n",
       "      <td>116330.000000</td>\n",
       "      <td>14814.000000</td>\n",
       "    </tr>\n",
       "    <tr>\n",
       "      <th>max</th>\n",
       "      <td>528.000000</td>\n",
       "      <td>506461.000000</td>\n",
       "      <td>1.000000</td>\n",
       "      <td>5.000000</td>\n",
       "      <td>5.000000</td>\n",
       "      <td>6.000000</td>\n",
       "      <td>1.000000</td>\n",
       "      <td>8.000000</td>\n",
       "      <td>8.000000</td>\n",
       "      <td>172.000000</td>\n",
       "      <td>171.000000</td>\n",
       "      <td>25.000000</td>\n",
       "      <td>1039672.000000</td>\n",
       "      <td>43910.222222</td>\n",
       "    </tr>\n",
       "  </tbody>\n",
       "</table>\n",
       "</div>"
      ],
      "text/plain": [
       "          surveyid    answersetid       recall     interest       intent  \\\n",
       "count  5081.000000    5081.000000  5081.000000  5081.000000  5081.000000   \n",
       "mean    402.008069  314284.515647     0.374533     2.329069     2.513088   \n",
       "std      60.538074   51052.188251     0.484050     1.235291     1.397085   \n",
       "min     291.000000  216498.000000     0.000000     1.000000     1.000000   \n",
       "25%     359.000000  275266.000000     0.000000     1.000000     1.000000   \n",
       "50%     402.000000  314674.000000     0.000000     2.000000     3.000000   \n",
       "75%     443.000000  346226.000000     1.000000     3.000000     3.000000   \n",
       "max     528.000000  506461.000000     1.000000     5.000000     5.000000   \n",
       "\n",
       "               age       gender        click  firstinteraction  deliveredimp  \\\n",
       "count  5081.000000  5081.000000  5081.000000       5081.000000   5081.000000   \n",
       "mean      2.598307     0.416453     0.111986          0.251722     12.180673   \n",
       "std       1.565068     0.493019     0.430455          0.666559     13.572684   \n",
       "min       1.000000     0.000000     0.000000          0.000000      1.000000   \n",
       "25%       1.000000     0.000000     0.000000          0.000000      3.000000   \n",
       "50%       2.000000     0.000000     0.000000          0.000000      8.000000   \n",
       "75%       4.000000     1.000000     0.000000          0.000000     17.000000   \n",
       "max       6.000000     1.000000     8.000000          8.000000    172.000000   \n",
       "\n",
       "       viewableimp  viewableimp_ic   totalviewtime   avgviewtime  \n",
       "count  5081.000000     5081.000000     5081.000000   5081.000000  \n",
       "mean      7.980319        6.895493    88167.394411  10881.482527  \n",
       "std       9.100446        6.690920   124252.761443   9753.752169  \n",
       "min       0.000000        0.000000        0.000000      0.000000  \n",
       "25%       1.000000        1.000000    10224.000000   4312.750000  \n",
       "50%       5.000000        5.000000    41694.000000   8025.000000  \n",
       "75%      12.000000       11.000000   116330.000000  14814.000000  \n",
       "max     171.000000       25.000000  1039672.000000  43910.222222  "
      ]
     },
     "execution_count": 297,
     "metadata": {},
     "output_type": "execute_result"
    }
   ],
   "source": [
    "# eliminate outliers above 80% percentile of frequency (number of viewable impression)\n",
    "# eliminate outliers above 80% percentile average time viewable per impression\n",
    "df2 = df1[(df1.viewableimp_ic < df1.viewableimp_ic.quantile(.80)) & (df1.avgviewtime < df1.avgviewtime.quantile(.80)) ]\n",
    "df2.describe()"
   ]
  },
  {
   "cell_type": "raw",
   "metadata": {},
   "source": [
    "- 5081 interviews left after the elimination\n",
    "- Frequency: median number of viewable impression is 5, maximum viewable frequency is 25\n",
    "- Time Viewable: average time viewable per impression is 8 seconds (this number is around 4 among pilot campaigns), maximum at 44 seconds\n"
   ]
  },
  {
   "cell_type": "code",
   "execution_count": 298,
   "metadata": {
    "collapsed": false,
    "scrolled": true
   },
   "outputs": [],
   "source": [
    "#df2.sample(n=5, random_state=0)"
   ]
  },
  {
   "cell_type": "code",
   "execution_count": 299,
   "metadata": {
    "collapsed": false
   },
   "outputs": [],
   "source": [
    "# check if the join works\n",
    "#df.loc[df['column_name'].isin(some_values)]\n",
    "#df.loc[df['column_name'] != some_value]\n",
    "#df2.loc[df2['answersetid'] == 239890]"
   ]
  },
  {
   "cell_type": "code",
   "execution_count": 300,
   "metadata": {
    "collapsed": false
   },
   "outputs": [],
   "source": [
    "#recall.loc[recall['answersetid'] == 239890]"
   ]
  },
  {
   "cell_type": "code",
   "execution_count": 301,
   "metadata": {
    "collapsed": false
   },
   "outputs": [],
   "source": [
    "#interest.loc[interest['answersetid'] == 239890]"
   ]
  },
  {
   "cell_type": "code",
   "execution_count": 302,
   "metadata": {
    "collapsed": false
   },
   "outputs": [],
   "source": [
    "#intent.loc[intent['answersetid'] == 239890]"
   ]
  },
  {
   "cell_type": "code",
   "execution_count": 303,
   "metadata": {
    "collapsed": false
   },
   "outputs": [],
   "source": [
    "#age.loc[age['answersetid'] == 239890]"
   ]
  },
  {
   "cell_type": "code",
   "execution_count": 304,
   "metadata": {
    "collapsed": false
   },
   "outputs": [],
   "source": [
    "#gender.loc[gender['answersetid'] == 239890]"
   ]
  },
  {
   "cell_type": "code",
   "execution_count": 305,
   "metadata": {
    "collapsed": false
   },
   "outputs": [],
   "source": [
    "# select useful columns\n",
    "df3 = df2[df2.columns[1:]]\n",
    "# change view time into seconds\n",
    "df3.is_copy = False\n",
    "df3['avgviewtime'] = df3['avgviewtime']/1000\n",
    "df3['totalviewtime'] = df3['totalviewtime']/1000\n",
    "#df3.head()"
   ]
  },
  {
   "cell_type": "code",
   "execution_count": 306,
   "metadata": {
    "collapsed": false
   },
   "outputs": [],
   "source": [
    "#df3['recall_category']=pd.to_numeric(df3['recall_category'], errors='coerce')\n",
    "#df3['interest_category']=pd.to_numeric(df3['interest_category'], errors='coerce')\n",
    "#df3['intent_category']=pd.to_numeric(df3['intent_category'], errors='coerce')\n"
   ]
  },
  {
   "cell_type": "markdown",
   "metadata": {},
   "source": [
    "## Spearman Rank Correlation Coefficient Heatmap\n",
    "### Let's take a look if there is any correlation among each feature"
   ]
  },
  {
   "cell_type": "code",
   "execution_count": 307,
   "metadata": {
    "collapsed": false
   },
   "outputs": [
    {
     "data": {
      "text/plain": [
       "<matplotlib.axes._subplots.AxesSubplot at 0x142120710>"
      ]
     },
     "execution_count": 307,
     "metadata": {},
     "output_type": "execute_result"
    },
    {
     "data": {
      "image/png": "[encoded data removed]",
      "text/plain": [
       "<matplotlib.figure.Figure at 0x1420ed890>"
      ]
     },
     "metadata": {},
     "output_type": "display_data"
    }
   ],
   "source": [
    "sns.heatmap(df3[df3.columns[1:]].corr(method='spearman'))"
   ]
  },
  {
   "cell_type": "raw",
   "metadata": {},
   "source": [
    "Features that potentiallly have certain degree of correlation with one another:\n",
    "    Interest VS Purchase Intent\n",
    "    Recall VS Interest\n",
    "    Recall VS Purchase Intent\n",
    "    Age VS Recall\n",
    "    Gender VS Intent\n",
    "    Age VS Interest\n",
    "    Gender VS Interest\n",
    "    Frequency VS Intent\n",
    "    Time Viewable VS Intent\n",
    "    Time Viewable VS Gender\n",
    "    Click VS Interaction\n",
    "    Click VS Frequency\n",
    "    Click VS Time Viewable\n",
    "    Frequency VS Time Viewable\n",
    "    \n",
    "Potential Issues:\n",
    "    Time Viewable Values have wildly different scale from the rest of the features\n",
    "        for which SCALING will NOT be performed during statistical modelling but should be during machine learning\n",
    "    Recall, Gender data are discreat and features like Time Viewable are continous data \n",
    "        for which We will perform necessary FACTORIZING\n",
    "    Outliers in Frequency and Time Viewable can cause confusion\n",
    "        for which we will perform BINING to see difference in each quantile"
   ]
  },
  {
   "cell_type": "code",
   "execution_count": 309,
   "metadata": {
    "collapsed": false
   },
   "outputs": [],
   "source": [
    "# Factorize categorical data\n",
    "# df3.head(1)\n",
    "df3['interest_category_num']=pd.factorize(df3['interest_category'])[0]\n",
    "df3['intent_category_num']=pd.factorize(df3['intent_category'])[0]\n",
    "#df3.sample(n=5, random_state=1)"
   ]
  },
  {
   "cell_type": "code",
   "execution_count": 310,
   "metadata": {
    "collapsed": false
   },
   "outputs": [],
   "source": [
    "# bining\n",
    "#df3 = df3.reindex(np.zeros(len(df3)))\n",
    "#df3['totalVTBin'] = pd.qcut(df3['totalviewtime'], 4)\n",
    "#df3['totalVTBin_id'] = pd.factorize(df3['totalVTBin'])\n",
    "#df3.head()"
   ]
  },
  {
   "cell_type": "code",
   "execution_count": 322,
   "metadata": {
    "collapsed": false
   },
   "outputs": [],
   "source": [
    "#df_25 = df3[ df3.avgviewtime < df3.avgviewtime.quantile(.25) ]\n",
    "#df_25.head()"
   ]
  },
  {
   "cell_type": "code",
   "execution_count": 323,
   "metadata": {
    "collapsed": false
   },
   "outputs": [],
   "source": [
    "#sns.heatmap(df_25[df_25.columns[1:]].corr(method='spearman'))"
   ]
  },
  {
   "cell_type": "code",
   "execution_count": null,
   "metadata": {
    "collapsed": false
   },
   "outputs": [],
   "source": []
  },
  {
   "cell_type": "code",
   "execution_count": null,
   "metadata": {
    "collapsed": true
   },
   "outputs": [],
   "source": []
  }
 ],
 "metadata": {
  "kernelspec": {
   "display_name": "Python 2",
   "language": "python",
   "name": "python2"
  },
  "language_info": {
   "codemirror_mode": {
    "name": "ipython",
    "version": 2
   },
   "file_extension": ".py",
   "mimetype": "text/x-python",
   "name": "python",
   "nbconvert_exporter": "python",
   "pygments_lexer": "ipython2",
   "version": "2.7.11"
  }
 },
 "nbformat": 4,
 "nbformat_minor": 0
}
