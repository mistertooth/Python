{
 "cells": [
  {
   "cell_type": "code",
   "execution_count": 13,
   "metadata": {
    "collapsed": false
   },
   "outputs": [
    {
     "data": {
      "text/html": [
       "<script>\n",
       "code_show=true;\n",
       "function code_toggle() {\n",
       " if (code_show){\n",
       " $('div.input').hide();\n",
       " } else {\n",
       " $('div.input').show();\n",
       " }\n",
       " code_show = !code_show\n",
       "}\n",
       "$( document ).ready(code_toggle);\n",
       "</script>\n",
       "<form action=\"javascript:code_toggle()\"><input type=\"submit\" value=\"Click here to toggle on/off the raw code.\"></form>"
      ],
      "text/plain": [
       "<IPython.core.display.HTML object>"
      ]
     },
     "execution_count": 13,
     "metadata": {},
     "output_type": "execute_result"
    }
   ],
   "source": [
    "from IPython.display import HTML\n",
    "\n",
    "HTML('''<script>\n",
    "code_show=true;\n",
    "function code_toggle() {\n",
    " if (code_show){\n",
    " $('div.input').hide();\n",
    " } else {\n",
    " $('div.input').show();\n",
    " }\n",
    " code_show = !code_show\n",
    "}\n",
    "$( document ).ready(code_toggle);\n",
    "</script>\n",
    "<form action=\"javascript:code_toggle()\"><input type=\"submit\" value=\"Click here to toggle on/off the raw code.\"></form>''')"
   ]
  },
  {
   "cell_type": "markdown",
   "metadata": {},
   "source": [
    "# How Time Viewable Effects Brand Matrix 2016-04-04"
   ]
  },
  {
   "cell_type": "code",
   "execution_count": 2,
   "metadata": {
    "collapsed": false,
    "scrolled": true
   },
   "outputs": [],
   "source": [
    "import pandas as pd\n",
    "import numpy as np\n",
    "\n"
   ]
  },
  {
   "cell_type": "code",
   "execution_count": 7,
   "metadata": {
    "collapsed": false
   },
   "outputs": [],
   "source": [
    "# define file path\n",
    "url_0331 = '/Users/shaokuixing/Desktop/whatever/survey_vt_20160331.csv'"
   ]
  },
  {
   "cell_type": "code",
   "execution_count": 37,
   "metadata": {
    "collapsed": false
   },
   "outputs": [],
   "source": [
    "# http://chrisalbon.com/python/pandas_dataframe_importing_csv.html\n",
    "# read csv file in memory\n",
    "rawData =pd.read_csv(filepath_or_buffer=url_0331, sep=';', engine='python')\n",
    "                     \n",
    "\n",
    "# index_col=['answersetid','answerid'])"
   ]
  },
  {
   "cell_type": "code",
   "execution_count": 38,
   "metadata": {
    "collapsed": false
   },
   "outputs": [
    {
     "data": {
      "text/html": [
       "<div>\n",
       "<table border=\"1\" class=\"dataframe\">\n",
       "  <thead>\n",
       "    <tr style=\"text-align: right;\">\n",
       "      <th></th>\n",
       "      <th>surveyid</th>\n",
       "      <th>originaladid</th>\n",
       "      <th>format</th>\n",
       "      <th>market</th>\n",
       "      <th>uid</th>\n",
       "      <th>answersetid</th>\n",
       "      <th>answerid</th>\n",
       "      <th>questionid</th>\n",
       "      <th>questiontext</th>\n",
       "      <th>optionid</th>\n",
       "      <th>...</th>\n",
       "      <th>iscomplete</th>\n",
       "      <th>isrefgroup</th>\n",
       "      <th>deliveredimp</th>\n",
       "      <th>viewableimp</th>\n",
       "      <th>viewableimp_ic</th>\n",
       "      <th>totalviewtime</th>\n",
       "      <th>funnel</th>\n",
       "      <th>avgVT/impMiliSec</th>\n",
       "      <th>avgVT/ImpSec</th>\n",
       "      <th>avgTVScale</th>\n",
       "    </tr>\n",
       "  </thead>\n",
       "  <tbody>\n",
       "    <tr>\n",
       "      <th>0</th>\n",
       "      <td>291</td>\n",
       "      <td>36430</td>\n",
       "      <td>swipe</td>\n",
       "      <td>FI</td>\n",
       "      <td>5,57628E+18</td>\n",
       "      <td>256039</td>\n",
       "      <td>700459</td>\n",
       "      <td>83</td>\n",
       "      <td>Next time you are about to use/purchase �categ...</td>\n",
       "      <td>255</td>\n",
       "      <td>...</td>\n",
       "      <td>True</td>\n",
       "      <td>True</td>\n",
       "      <td>1</td>\n",
       "      <td>1</td>\n",
       "      <td>1</td>\n",
       "      <td>1756</td>\n",
       "      <td>Purchase Intent</td>\n",
       "      <td>1756,0</td>\n",
       "      <td>1,8</td>\n",
       "      <td>1-5</td>\n",
       "    </tr>\n",
       "    <tr>\n",
       "      <th>1</th>\n",
       "      <td>291</td>\n",
       "      <td>36432</td>\n",
       "      <td>swipe</td>\n",
       "      <td>FI</td>\n",
       "      <td>7,21713E+16</td>\n",
       "      <td>256205</td>\n",
       "      <td>700804</td>\n",
       "      <td>86</td>\n",
       "      <td>Is the ad interesting for you?&lt;br&gt;&lt;span class=...</td>\n",
       "      <td>264</td>\n",
       "      <td>...</td>\n",
       "      <td>True</td>\n",
       "      <td>False</td>\n",
       "      <td>45</td>\n",
       "      <td>45</td>\n",
       "      <td>45</td>\n",
       "      <td>469664</td>\n",
       "      <td>Interest</td>\n",
       "      <td>10437,0</td>\n",
       "      <td>10,4</td>\n",
       "      <td>11-15</td>\n",
       "    </tr>\n",
       "  </tbody>\n",
       "</table>\n",
       "<p>2 rows × 21 columns</p>\n",
       "</div>"
      ],
      "text/plain": [
       "   surveyid  originaladid format market          uid  answersetid  answerid  \\\n",
       "0       291         36430  swipe     FI  5,57628E+18       256039    700459   \n",
       "1       291         36432  swipe     FI  7,21713E+16       256205    700804   \n",
       "\n",
       "   questionid                                       questiontext  optionid  \\\n",
       "0          83  Next time you are about to use/purchase �categ...       255   \n",
       "1          86  Is the ad interesting for you?<br><span class=...       264   \n",
       "\n",
       "     ...     iscomplete isrefgroup deliveredimp  viewableimp  viewableimp_ic  \\\n",
       "0    ...           True       True            1            1               1   \n",
       "1    ...           True      False           45           45              45   \n",
       "\n",
       "   totalviewtime           funnel avgVT/impMiliSec avgVT/ImpSec avgTVScale  \n",
       "0           1756  Purchase Intent           1756,0          1,8        1-5  \n",
       "1         469664         Interest          10437,0         10,4      11-15  \n",
       "\n",
       "[2 rows x 21 columns]"
      ]
     },
     "execution_count": 38,
     "metadata": {},
     "output_type": "execute_result"
    }
   ],
   "source": [
    "# check first 3 rows\n",
    "rawData.head(2)"
   ]
  },
  {
   "cell_type": "code",
   "execution_count": 62,
   "metadata": {
    "collapsed": false
   },
   "outputs": [],
   "source": [
    "# create function for calculated column\n",
    "def vtScale (x):\n",
    "    if (x['totalviewtime'] > 0) & (x['totalviewtime']<= 5000) :\n",
    "        return '0-50'    \n",
    "    return 'others'"
   ]
  },
  {
   "cell_type": "code",
   "execution_count": 64,
   "metadata": {
    "collapsed": false
   },
   "outputs": [
    {
     "data": {
      "text/plain": [
       "0      0-50\n",
       "1    others\n",
       "2    others\n",
       "3    others\n",
       "4    others\n",
       "5    others\n",
       "6    others\n",
       "7      0-50\n",
       "8      0-50\n",
       "9    others\n",
       "dtype: object"
      ]
     },
     "execution_count": 64,
     "metadata": {},
     "output_type": "execute_result"
    }
   ],
   "source": [
    "rawData.apply (lambda x: vtScale (x),axis=1).head(10)"
   ]
  },
  {
   "cell_type": "code",
   "execution_count": 56,
   "metadata": {
    "collapsed": false
   },
   "outputs": [
    {
     "data": {
      "text/plain": [
       "surveyid             int64\n",
       "originaladid         int64\n",
       "format              object\n",
       "market              object\n",
       "uid                 object\n",
       "answersetid          int64\n",
       "answerid             int64\n",
       "questionid           int64\n",
       "questiontext        object\n",
       "optionid             int64\n",
       "optiontext          object\n",
       "iscomplete            bool\n",
       "isrefgroup            bool\n",
       "deliveredimp         int64\n",
       "viewableimp          int64\n",
       "viewableimp_ic       int64\n",
       "totalviewtime        int64\n",
       "funnel              object\n",
       "avgVT/impMiliSec    object\n",
       "avgVT/ImpSec        object\n",
       "avgTVScale          object\n",
       "dtype: object"
      ]
     },
     "execution_count": 56,
     "metadata": {},
     "output_type": "execute_result"
    }
   ],
   "source": [
    "# check dataTypes of each column\n",
    "rawData.dtypes"
   ]
  },
  {
   "cell_type": "code",
   "execution_count": null,
   "metadata": {
    "collapsed": true
   },
   "outputs": [],
   "source": []
  }
 ],
 "metadata": {
  "kernelspec": {
   "display_name": "Python 2",
   "language": "python",
   "name": "python2"
  },
  "language_info": {
   "codemirror_mode": {
    "name": "ipython",
    "version": 2
   },
   "file_extension": ".py",
   "mimetype": "text/x-python",
   "name": "python",
   "nbconvert_exporter": "python",
   "pygments_lexer": "ipython2",
   "version": "2.7.11"
  }
 },
 "nbformat": 4,
 "nbformat_minor": 0
}
