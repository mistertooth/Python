{
 "cells": [
  {
   "cell_type": "code",
   "execution_count": 1,
   "metadata": {
    "collapsed": false
   },
   "outputs": [
    {
     "data": {
      "text/html": [
       "<script>\n",
       "code_show=true;\n",
       "function code_toggle() {\n",
       " if (code_show){\n",
       " $('div.input').hide();\n",
       " } else {\n",
       " $('div.input').show();\n",
       " }\n",
       " code_show = !code_show\n",
       "}\n",
       "$( document ).ready(code_toggle);\n",
       "</script>\n",
       "<form action=\"javascript:code_toggle()\"><input type=\"submit\" value=\"Click here to toggle on/off the raw code.\"></form>"
      ],
      "text/plain": [
       "<IPython.core.display.HTML object>"
      ]
     },
     "execution_count": 1,
     "metadata": {},
     "output_type": "execute_result"
    }
   ],
   "source": [
    "from IPython.display import HTML\n",
    "\n",
    "HTML('''<script>\n",
    "code_show=true;\n",
    "function code_toggle() {\n",
    " if (code_show){\n",
    " $('div.input').hide();\n",
    " } else {\n",
    " $('div.input').show();\n",
    " }\n",
    " code_show = !code_show\n",
    "}\n",
    "$( document ).ready(code_toggle);\n",
    "</script>\n",
    "<form action=\"javascript:code_toggle()\"><input type=\"submit\" value=\"Click here to toggle on/off the raw code.\"></form>''')"
   ]
  },
  {
   "cell_type": "code",
   "execution_count": 2,
   "metadata": {
    "collapsed": true
   },
   "outputs": [],
   "source": [
    "import pandas as pd\n",
    "import numpy as np\n",
    "import matplotlib.pyplot as plt\n",
    "import seaborn as sns\n",
    "# this allows plots to appear directly in the notebook\n",
    "%matplotlib inline\n",
    "plt.rcParams['figure.figsize'] = (8, 6)\n",
    "plt.rcParams['font.size'] = 14\n",
    "# pip install patsy\n",
    "# pip install statsmodels\n",
    "import statsmodels.formula.api as smf\n",
    "# Set ipython's max row display\n",
    "pd.set_option('display.max_row', 1000)\n",
    "\n",
    "# Set iPython's max column width to 50\n",
    "pd.set_option('display.max_columns', 50)\n",
    "\n",
    "from IPython.core.display import display, HTML"
   ]
  },
  {
   "cell_type": "code",
   "execution_count": 3,
   "metadata": {
    "collapsed": true
   },
   "outputs": [],
   "source": [
    "# define url\n",
    "url_0420 = '/Users/shaokuixing/Desktop/whatever/survey50%GenderAge20160420.csv'\n",
    "\n",
    "# read csv file\n",
    "rawData = pd.read_csv(url_0420, sep=';', thousands = '.', decimal =',')\n",
    "#rawData.head(5).transpose()"
   ]
  },
  {
   "cell_type": "code",
   "execution_count": 21,
   "metadata": {
    "collapsed": false
   },
   "outputs": [],
   "source": [
    "#rawData.head(1)"
   ]
  },
  {
   "cell_type": "code",
   "execution_count": 6,
   "metadata": {
    "collapsed": true
   },
   "outputs": [],
   "source": [
    "# subset recall\n",
    "recall = rawData[rawData['questionid']==84].reset_index()\n",
    "recall['recall'] = np.where(recall['ioptiontext']=='Yes',1,0).astype(int)\n",
    "recall['recall_category'] = np.where(recall['ioptiontext']=='Yes','Yes','No')\n",
    "\n",
    "# subset interest\n",
    "interest = rawData[rawData['questionid']==86].reset_index()\n",
    "interest['interest'] = pd.to_numeric(interest['ioptiontext'], errors='coerce')\n",
    "interest['interest_category']=np.where(interest['interest']>=4,'High','Low')\n",
    "\n",
    "# subset intent\n",
    "intent = rawData[rawData['questionid']==83].reset_index()\n",
    "intent['intent'] = pd.to_numeric(intent['ioptiontext'], errors='coerce')\n",
    "intent['intent_category']=np.where(intent['intent'] >= 4 ,'High','Low')\n",
    "\n",
    "# subset age\n",
    "age = rawData[rawData['questionid']==90].reset_index()\n",
    "age=age.rename(columns = {'ioptiontext':'age_category'})\n",
    "\n",
    "# subset gender\n",
    "gender = rawData[rawData['questionid']==91].reset_index()\n",
    "gender=gender.rename(columns = {'ioptiontext':'gender_category'})"
   ]
  },
  {
   "cell_type": "code",
   "execution_count": 7,
   "metadata": {
    "collapsed": true
   },
   "outputs": [],
   "source": [
    "# drop unnecessary columns\n",
    "recall.drop(recall[['ioptiontext','answerid','questionid','questiontext','optionid', \n",
    "                 'iscomplete','isrefgroup']],axis=1, inplace=True)\n",
    "interest.drop(interest[['ioptiontext','answerid','questionid','questiontext','optionid', \n",
    "                 'iscomplete','isrefgroup']],axis=1, inplace=True)\n",
    "intent.drop(intent[['ioptiontext','answerid','questionid','questiontext','optionid', \n",
    "              'iscomplete','isrefgroup']],axis=1, inplace=True)\n",
    "age.drop(age[['answerid','questionid','questiontext','optionid','iscomplete','isrefgroup']],axis=1, inplace=True)\n",
    "gender.drop(gender[['answerid','questionid','questiontext','optionid','iscomplete','isrefgroup']],axis=1, inplace=True)"
   ]
  },
  {
   "cell_type": "code",
   "execution_count": 8,
   "metadata": {
    "collapsed": true
   },
   "outputs": [],
   "source": [
    "# merge data\n",
    "df = recall.merge(interest, \n",
    "on= ['surveyid','answersetid',  'click', \n",
    "     'firstinteraction', 'deliveredimp', 'viewableimp','viewableimp_ic','totalviewtime']).merge(intent, on= ['surveyid','answersetid',  'click', \n",
    "     'firstinteraction', 'deliveredimp', 'viewableimp','viewableimp_ic','totalviewtime']).merge(age, on= ['surveyid','answersetid',  'click', \n",
    "     'firstinteraction', 'deliveredimp', 'viewableimp','viewableimp_ic','totalviewtime']).merge(gender, on= ['surveyid','answersetid',  'click', \n",
    "     'firstinteraction', 'deliveredimp', 'viewableimp','viewableimp_ic','totalviewtime'])\n"
   ]
  },
  {
   "cell_type": "code",
   "execution_count": 9,
   "metadata": {
    "collapsed": true
   },
   "outputs": [],
   "source": [
    "# create function to transform age column into numerical\n",
    "def age_trans(x):\n",
    "    if x['age_category'] == \"15-24\":\n",
    "        val = 1\n",
    "    elif x['age_category'] == \"25-34\":\n",
    "        val = 2\n",
    "    elif x['age_category'] == \"35-44\":\n",
    "        val = 3\n",
    "    elif x['age_category'] == \"45-54\":\n",
    "        val = 4\n",
    "    elif x['age_category'] == \"55-64\":\n",
    "        val = 5\n",
    "    else:\n",
    "        val=6\n",
    "    return val"
   ]
  },
  {
   "cell_type": "code",
   "execution_count": 10,
   "metadata": {
    "collapsed": true
   },
   "outputs": [],
   "source": [
    "# apply function and create numerical representation for age categories\n",
    "df['age'] = df.apply(age_trans, axis=1)"
   ]
  },
  {
   "cell_type": "code",
   "execution_count": 12,
   "metadata": {
    "collapsed": true
   },
   "outputs": [],
   "source": [
    "# transform gender into numerical column\n",
    "df['gender'] = np.where(df['gender_category']==\"Male\", 1, 0)\n",
    "# df.sample(n=5, random_state=1)\n",
    "df1= df[['answersetid', 'recall','interest','intent','age', 'gender','recall_category','interest_category', \n",
    "         'intent_category', 'age_category','gender_category',\n",
    "         'click','firstinteraction','deliveredimp', 'viewableimp', 'viewableimp_ic','totalviewtime']]"
   ]
  },
  {
   "cell_type": "code",
   "execution_count": 17,
   "metadata": {
    "collapsed": true
   },
   "outputs": [],
   "source": [
    "df1.is_copy = False"
   ]
  },
  {
   "cell_type": "code",
   "execution_count": 18,
   "metadata": {
    "collapsed": false
   },
   "outputs": [],
   "source": [
    "# calculate average view time\n",
    "df1['avgviewtime'] = df1['totalviewtime'].div(df['viewableimp_ic'], axis=0)\n",
    "# check if any vaue is null in total view time\n",
    "df.totalviewtime.isnull().values.any()\n",
    "# eliminate null values\n",
    "df1.fillna(0, inplace=True)\n",
    "# change view time into seconds\n",
    "df1.is_copy = False\n",
    "df1['avgviewtime'] = df1['avgviewtime']/1000\n",
    "df1['totalviewtime'] = df1['totalviewtime']/1000"
   ]
  },
  {
   "cell_type": "code",
   "execution_count": 19,
   "metadata": {
    "collapsed": false
   },
   "outputs": [
    {
     "data": {
      "text/plain": [
       "<matplotlib.axes._subplots.AxesSubplot at 0x110bdabd0>"
      ]
     },
     "execution_count": 19,
     "metadata": {},
     "output_type": "execute_result"
    },
    {
     "data": {
      "image/png": "[encoded data removed]",
      "text/plain": [
       "<matplotlib.figure.Figure at 0x119e4d4d0>"
      ]
     },
     "metadata": {},
     "output_type": "display_data"
    }
   ],
   "source": [
    "sns.heatmap(df1[df1.columns[1:]].corr(method='spearman'))"
   ]
  },
  {
   "cell_type": "code",
   "execution_count": 20,
   "metadata": {
    "collapsed": false
   },
   "outputs": [
    {
     "data": {
      "text/plain": [
       "(8004, 18)"
      ]
     },
     "execution_count": 20,
     "metadata": {},
     "output_type": "execute_result"
    }
   ],
   "source": [
    "df1.shape"
   ]
  },
  {
   "cell_type": "code",
   "execution_count": 26,
   "metadata": {
    "collapsed": false
   },
   "outputs": [
    {
     "data": {
      "text/plain": [
       "True"
      ]
     },
     "execution_count": 26,
     "metadata": {},
     "output_type": "execute_result"
    }
   ],
   "source": []
  },
  {
   "cell_type": "code",
   "execution_count": null,
   "metadata": {
    "collapsed": true
   },
   "outputs": [],
   "source": []
  }
 ],
 "metadata": {
  "kernelspec": {
   "display_name": "Python 2",
   "language": "python",
   "name": "python2"
  },
  "language_info": {
   "codemirror_mode": {
    "name": "ipython",
    "version": 2
   },
   "file_extension": ".py",
   "mimetype": "text/x-python",
   "name": "python",
   "nbconvert_exporter": "python",
   "pygments_lexer": "ipython2",
   "version": "2.7.11"
  }
 },
 "nbformat": 4,
 "nbformat_minor": 0
}
