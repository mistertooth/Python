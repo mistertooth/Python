{
 "cells": [
  {
   "cell_type": "code",
   "execution_count": 35,
   "metadata": {
    "collapsed": false,
    "extensions": {
     "jupyter_dashboards": {
      "version": 1,
      "views": {
       "grid_default": {
        "col": 0,
        "height": 5,
        "hidden": false,
        "row": 0,
        "width": 4
       },
       "report_default": {
        "hidden": false
       }
      }
     }
    },
    "nbpresent": {
     "id": "d0fecbe6-e12d-47f3-8b5d-eb0c87d8ec0d"
    }
   },
   "outputs": [
    {
     "ename": "IndexError",
     "evalue": "list index out of range",
     "output_type": "error",
     "traceback": [
      "\u001b[0;31m---------------------------------------------------------------------------\u001b[0m",
      "\u001b[0;31mIndexError\u001b[0m                                Traceback (most recent call last)",
      "\u001b[0;32m<ipython-input-35-0be44f51f995>\u001b[0m in \u001b[0;36m<module>\u001b[0;34m()\u001b[0m\n\u001b[1;32m      1\u001b[0m \u001b[0;32mimport\u001b[0m \u001b[0mflexx\u001b[0m\u001b[0;34m\u001b[0m\u001b[0m\n\u001b[1;32m      2\u001b[0m \u001b[0;32mfrom\u001b[0m \u001b[0mflexx\u001b[0m \u001b[0;32mimport\u001b[0m \u001b[0mui\u001b[0m\u001b[0;34m,\u001b[0m \u001b[0mapp\u001b[0m\u001b[0;34m,\u001b[0m \u001b[0mevent\u001b[0m\u001b[0;34m\u001b[0m\u001b[0m\n\u001b[0;32m----> 3\u001b[0;31m \u001b[0mapp\u001b[0m\u001b[0;34m.\u001b[0m\u001b[0minit_notebook\u001b[0m\u001b[0;34m(\u001b[0m\u001b[0;34m)\u001b[0m\u001b[0;34m\u001b[0m\u001b[0m\n\u001b[0m",
      "\u001b[0;32m/Users/kuixingshao/miniconda2/lib/python2.7/site-packages/flexx_legacy/app/funcs.pyc\u001b[0m in \u001b[0;36minit_notebook\u001b[0;34m()\u001b[0m\n\u001b[1;32m    246\u001b[0m \u001b[0;34m\u001b[0m\u001b[0m\n\u001b[1;32m    247\u001b[0m     \u001b[0;31m# Get session or create new, check if we already initialized notebook\u001b[0m\u001b[0;34m\u001b[0m\u001b[0;34m\u001b[0m\u001b[0m\n\u001b[0;32m--> 248\u001b[0;31m     \u001b[0msession\u001b[0m \u001b[0;34m=\u001b[0m \u001b[0mmanager\u001b[0m\u001b[0;34m.\u001b[0m\u001b[0mget_default_session\u001b[0m\u001b[0;34m(\u001b[0m\u001b[0;34m)\u001b[0m\u001b[0;34m\u001b[0m\u001b[0m\n\u001b[0m\u001b[1;32m    249\u001b[0m     \u001b[0;32mif\u001b[0m \u001b[0msession\u001b[0m \u001b[0;32mis\u001b[0m \u001b[0mNone\u001b[0m\u001b[0;34m:\u001b[0m\u001b[0;34m\u001b[0m\u001b[0m\n\u001b[1;32m    250\u001b[0m         \u001b[0msession\u001b[0m \u001b[0;34m=\u001b[0m \u001b[0mmanager\u001b[0m\u001b[0;34m.\u001b[0m\u001b[0mcreate_default_session\u001b[0m\u001b[0;34m(\u001b[0m\u001b[0;34m)\u001b[0m\u001b[0;34m\u001b[0m\u001b[0m\n",
      "\u001b[0;32m/Users/kuixingshao/miniconda2/lib/python2.7/site-packages/flexx_legacy/app/session.pyc\u001b[0m in \u001b[0;36mget_default_session\u001b[0;34m(self)\u001b[0m\n\u001b[1;32m     80\u001b[0m             \u001b[0m_\u001b[0m\u001b[0;34m,\u001b[0m \u001b[0mpending\u001b[0m\u001b[0;34m,\u001b[0m \u001b[0mconnected\u001b[0m \u001b[0;34m=\u001b[0m \u001b[0mx\u001b[0m\u001b[0;34m\u001b[0m\u001b[0m\n\u001b[1;32m     81\u001b[0m             \u001b[0mproxies\u001b[0m \u001b[0;34m=\u001b[0m \u001b[0mpending\u001b[0m \u001b[0;34m+\u001b[0m \u001b[0mconnected\u001b[0m\u001b[0;34m\u001b[0m\u001b[0m\n\u001b[0;32m---> 82\u001b[0;31m             \u001b[0;32mreturn\u001b[0m \u001b[0mproxies\u001b[0m\u001b[0;34m[\u001b[0m\u001b[0;34m-\u001b[0m\u001b[0;36m1\u001b[0m\u001b[0;34m]\u001b[0m\u001b[0;34m\u001b[0m\u001b[0m\n\u001b[0m\u001b[1;32m     83\u001b[0m \u001b[0;34m\u001b[0m\u001b[0m\n\u001b[1;32m     84\u001b[0m     \u001b[0;32mdef\u001b[0m \u001b[0m_clear_old_pending_sessions\u001b[0m\u001b[0;34m(\u001b[0m\u001b[0mself\u001b[0m\u001b[0;34m)\u001b[0m\u001b[0;34m:\u001b[0m\u001b[0;34m\u001b[0m\u001b[0m\n",
      "\u001b[0;31mIndexError\u001b[0m: list index out of range"
     ]
    },
    {
     "data": {
      "application/javascript": [],
      "text/plain": [
       "<IPython.core.display.Javascript object>"
      ]
     },
     "metadata": {},
     "output_type": "display_data"
    }
   ],
   "source": [
    "import flexx\n",
    "from flexx import ui, app, event\n",
    "app.init_notebook()"
   ]
  },
  {
   "cell_type": "code",
   "execution_count": 2,
   "metadata": {
    "collapsed": false,
    "extensions": {
     "jupyter_dashboards": {
      "version": 1,
      "views": {
       "grid_default": {
        "col": 4,
        "height": 4,
        "hidden": false,
        "row": 0,
        "width": 4
       },
       "report_default": {
        "hidden": false
       }
      }
     }
    },
    "nbpresent": {
     "id": "cc80f5c5-c6e8-40a6-85ff-dc08a70ccf20"
    }
   },
   "outputs": [
    {
     "data": {
      "text/html": [
       "<div class='flx-container' id=Button1_container />"
      ],
      "text/plain": [
       "<Button object 'Button1' at 0x104c1bcd0>"
      ]
     },
     "execution_count": 2,
     "metadata": {},
     "output_type": "execute_result"
    },
    {
     "data": {
      "application/javascript": [
       "flexx.command(\"EXEC flexx.instances.Button1 = new flexx.classes.Button(\\\"Button1\\\", [\\\"parent:aaa\\\"]);\");\n",
       "flexx.command(\"EXEC flexx.instances.Button1._sync_props = true;\");\n",
       "flexx.command(\"EXEC flexx.instances.Button1._set_prop_from_py(\\\"text\\\", \\\"\\\\\\\"foo\\\\\\\"\\\");\");\n",
       "flexx.command(\"EXEC flexx.instances.Button1.init();\");\n",
       "flexx.command(\"EXEC flexx.instances.Button1._set_event_types_py([\\\"parent\\\"]);\");\n",
       "flexx.command(\"EXEC flexx.instances.Button1._init_handlers();\");\n",
       "flexx.command(\"EXEC flexx.instances.Button1._set_prop_from_py(\\\"text\\\", \\\"\\\\\\\"Push ME!\\\\\\\"\\\");\");\n",
       "flexx.command(\"EXEC flexx.instances.Button1._set_prop_from_py(\\\"container\\\", \\\"\\\\\\\"Button1_container\\\\\\\"\\\");\");"
      ],
      "text/plain": [
       "<IPython.core.display.Javascript object>"
      ]
     },
     "metadata": {},
     "output_type": "display_data"
    }
   ],
   "source": [
    "b = ui.Button(text='foo')\n",
    "b.text = 'Push ME!'\n",
    "b"
   ]
  },
  {
   "cell_type": "code",
   "execution_count": 3,
   "metadata": {
    "collapsed": false,
    "extensions": {
     "jupyter_dashboards": {
      "version": 1,
      "views": {
       "grid_default": {
        "col": 8,
        "height": 4,
        "hidden": false,
        "row": 0,
        "width": 4
       },
       "report_default": {
        "hidden": false
       }
      }
     }
    },
    "nbpresent": {
     "id": "eda0c447-e5d0-4cad-961c-efcddd9bfac0"
    }
   },
   "outputs": [
    {
     "data": {
      "text/html": [
       "<div class='flx-container' id=HBox2_container />"
      ],
      "text/plain": [
       "<HBox object 'HBox2' at 0x104c37290>"
      ]
     },
     "execution_count": 3,
     "metadata": {},
     "output_type": "execute_result"
    },
    {
     "data": {
      "application/javascript": [
       "flexx.command(\"EXEC flexx.instances.HBox2 = new flexx.classes.HBox(\\\"HBox2\\\", [\\\"parent:aaa\\\"]);\");\n",
       "flexx.command(\"EXEC flexx.instances.HBox2._sync_props = true;\");\n",
       "flexx.command(\"EXEC flexx.instances.HBox2.init();\");\n",
       "flexx.command(\"EXEC flexx.instances.HBox2._set_event_types_py([\\\"parent\\\"]);\");\n",
       "flexx.command(\"EXEC flexx.instances.HBox2._init_handlers();\");\n",
       "flexx.command(\"EXEC flexx.instances.Slider3 = new flexx.classes.Slider(\\\"Slider3\\\", [\\\"parent:aaa\\\"]);\");\n",
       "flexx.command(\"EXEC flexx.instances.Slider3._sync_props = true;\");\n",
       "flexx.command(\"EXEC flexx.instances.HBox2._set_prop_from_py(\\\"children\\\", \\\"[{\\\\\\\"__type__\\\\\\\": \\\\\\\"Flexx-Model\\\\\\\", \\\\\\\"id\\\\\\\": \\\\\\\"Slider3\\\\\\\"}]\\\");\");\n",
       "flexx.command(\"EXEC flexx.instances.Slider3.init();\");\n",
       "flexx.command(\"EXEC flexx.instances.Slider3._set_event_types_py([\\\"parent\\\"]);\");\n",
       "flexx.command(\"EXEC flexx.instances.Slider3._init_handlers();\");\n",
       "flexx.command(\"EXEC flexx.instances.ProgressBar4 = new flexx.classes.ProgressBar(\\\"ProgressBar4\\\", [\\\"parent:aaa\\\"]);\");\n",
       "flexx.command(\"EXEC flexx.instances.ProgressBar4._sync_props = true;\");\n",
       "flexx.command(\"EXEC flexx.instances.ProgressBar4._set_prop_from_py(\\\"flex\\\", \\\"[1.0, 1.0]\\\");\");\n",
       "flexx.command(\"EXEC flexx.instances.ProgressBar4._set_prop_from_py(\\\"value\\\", \\\"0.7\\\");\");\n",
       "flexx.command(\"EXEC flexx.instances.HBox2._set_prop_from_py(\\\"children\\\", \\\"[{\\\\\\\"__type__\\\\\\\": \\\\\\\"Flexx-Model\\\\\\\", \\\\\\\"id\\\\\\\": \\\\\\\"Slider3\\\\\\\"}, {\\\\\\\"__type__\\\\\\\": \\\\\\\"Flexx-Model\\\\\\\", \\\\\\\"id\\\\\\\": \\\\\\\"ProgressBar4\\\\\\\"}]\\\");\");\n",
       "flexx.command(\"EXEC flexx.instances.ProgressBar4.init();\");\n",
       "flexx.command(\"EXEC flexx.instances.ProgressBar4._set_event_types_py([\\\"parent\\\"]);\");\n",
       "flexx.command(\"EXEC flexx.instances.ProgressBar4._init_handlers();\");\n",
       "flexx.command(\"EXEC flexx.instances.HBox2._set_prop_from_py(\\\"container\\\", \\\"\\\\\\\"HBox2_container\\\\\\\"\\\");\");"
      ],
      "text/plain": [
       "<IPython.core.display.Javascript object>"
      ]
     },
     "metadata": {},
     "output_type": "display_data"
    }
   ],
   "source": [
    "with ui.HBox() as hbox:\n",
    "    slider = ui.Slider(flex=0)\n",
    "    progress = ui.ProgressBar(flex=1, value=0.7)\n",
    "hbox"
   ]
  },
  {
   "cell_type": "code",
   "execution_count": 5,
   "metadata": {
    "collapsed": false,
    "extensions": {
     "jupyter_dashboards": {
      "version": 1,
      "views": {
       "grid_default": {
        "hidden": true
       },
       "report_default": {
        "hidden": true
       }
      }
     }
    },
    "nbpresent": {
     "id": "c31ef0a7-9eec-4499-86a4-e4e227933733"
    }
   },
   "outputs": [
    {
     "data": {
      "application/javascript": [
       "flexx.command(\"EXEC flexx.instances.Slider3._set_event_types_py([\\\"parent\\\", \\\"value\\\"]);\");"
      ],
      "text/plain": [
       "<IPython.core.display.Javascript object>"
      ]
     },
     "metadata": {},
     "output_type": "display_data"
    }
   ],
   "source": [
    "@slider.connect('value')\n",
    "def show_slider_value(*events):\n",
    "    progress.value = slider.value  # or events[-1].new_value"
   ]
  },
  {
   "cell_type": "code",
   "execution_count": 6,
   "metadata": {
    "collapsed": false,
    "extensions": {
     "jupyter_dashboards": {
      "version": 1,
      "views": {
       "grid_default": {
        "col": 4,
        "height": 4,
        "hidden": false,
        "row": 4,
        "width": 4
       },
       "report_default": {
        "hidden": false
       }
      }
     }
    },
    "nbpresent": {
     "id": "4d323593-b241-4470-b7ef-e2ad8a024b25"
    }
   },
   "outputs": [
    {
     "data": {
      "text/html": [
       "<script>flexx.classes.MyWidget = function () {\n",
       "    _pyfunc_instantiate(this, arguments);\n",
       "}\n",
       "flexx.classes.MyWidget.prototype = Object.create(flexx.classes.Widget.prototype);\n",
       "flexx.classes.MyWidget.prototype._base_class = flexx.classes.Widget.prototype;\n",
       "flexx.classes.MyWidget.prototype._class_name = \"MyWidget\";\n",
       "\n",
       "flexx.classes.MyWidget.prototype.__emitters__ = [\"key_down\", \"key_press\", \"key_up\", \"mouse_down\", \"mouse_move\", \"mouse_up\", \"mouse_wheel\"];\n",
       "flexx.classes.MyWidget.prototype.__handlers__ = [\"_Widget__children_changed\", \"_Widget__container_changed\", \"_Widget__make_singleton_container_widgets_work\", \"_Widget__style_changed\", \"_Widget__title_changed\", \"_Widget__update_tabindex\", \"check_size\"];\n",
       "flexx.classes.MyWidget.prototype.__local_properties__ = [\"parent\", \"size\"];\n",
       "flexx.classes.MyWidget.prototype.__properties__ = [\"base_size\", \"children\", \"container\", \"flex\", \"parent\", \"pos\", \"size\", \"style\", \"tabindex\", \"title\"];\n",
       "</script>"
      ],
      "text/plain": [
       "<IPython.core.display.HTML object>"
      ]
     },
     "metadata": {},
     "output_type": "display_data"
    },
    {
     "data": {
      "text/html": [
       "<div class='flx-container' id=MyWidget5_container />"
      ],
      "text/plain": [
       "<MyWidget object 'MyWidget5' at 0x104c1b5d0>"
      ]
     },
     "execution_count": 6,
     "metadata": {},
     "output_type": "execute_result"
    },
    {
     "data": {
      "application/javascript": [
       "flexx.command(\"EXEC flexx.instances.MyWidget5 = new flexx.classes.MyWidget(\\\"MyWidget5\\\", [\\\"parent:aaa\\\"]);\");\n",
       "flexx.command(\"EXEC flexx.instances.MyWidget5._sync_props = true;\");\n",
       "flexx.command(\"EXEC flexx.instances.HBox6 = new flexx.classes.HBox(\\\"HBox6\\\", [\\\"parent:aaa\\\"]);\");\n",
       "flexx.command(\"EXEC flexx.instances.HBox6._sync_props = true;\");\n",
       "flexx.command(\"EXEC flexx.instances.MyWidget5._set_prop_from_py(\\\"children\\\", \\\"[{\\\\\\\"__type__\\\\\\\": \\\\\\\"Flexx-Model\\\\\\\", \\\\\\\"id\\\\\\\": \\\\\\\"HBox6\\\\\\\"}]\\\");\");\n",
       "flexx.command(\"EXEC flexx.instances.HBox6.init();\");\n",
       "flexx.command(\"EXEC flexx.instances.HBox6._set_event_types_py([\\\"parent\\\"]);\");\n",
       "flexx.command(\"EXEC flexx.instances.HBox6._init_handlers();\");\n",
       "flexx.command(\"EXEC flexx.instances.Slider7 = new flexx.classes.Slider(\\\"Slider7\\\", [\\\"parent:aaa\\\"]);\");\n",
       "flexx.command(\"EXEC flexx.instances.Slider7._sync_props = true;\");\n",
       "flexx.command(\"EXEC flexx.instances.HBox6._set_prop_from_py(\\\"children\\\", \\\"[{\\\\\\\"__type__\\\\\\\": \\\\\\\"Flexx-Model\\\\\\\", \\\\\\\"id\\\\\\\": \\\\\\\"Slider7\\\\\\\"}]\\\");\");\n",
       "flexx.command(\"EXEC flexx.instances.Slider7.init();\");\n",
       "flexx.command(\"EXEC flexx.instances.Slider7._set_event_types_py([\\\"parent\\\"]);\");\n",
       "flexx.command(\"EXEC flexx.instances.Slider7._init_handlers();\");\n",
       "flexx.command(\"EXEC flexx.instances.MyWidget5._slider = flexx.serializer.loads(\\\"{\\\\\\\"__type__\\\\\\\": \\\\\\\"Flexx-Model\\\\\\\", \\\\\\\"id\\\\\\\": \\\\\\\"Slider7\\\\\\\"}\\\");\");\n",
       "flexx.command(\"EXEC flexx.instances.ProgressBar8 = new flexx.classes.ProgressBar(\\\"ProgressBar8\\\", [\\\"parent:aaa\\\"]);\");\n",
       "flexx.command(\"EXEC flexx.instances.ProgressBar8._sync_props = true;\");\n",
       "flexx.command(\"EXEC flexx.instances.ProgressBar8._set_prop_from_py(\\\"flex\\\", \\\"[1.0, 1.0]\\\");\");\n",
       "flexx.command(\"EXEC flexx.instances.HBox6._set_prop_from_py(\\\"children\\\", \\\"[{\\\\\\\"__type__\\\\\\\": \\\\\\\"Flexx-Model\\\\\\\", \\\\\\\"id\\\\\\\": \\\\\\\"Slider7\\\\\\\"}, {\\\\\\\"__type__\\\\\\\": \\\\\\\"Flexx-Model\\\\\\\", \\\\\\\"id\\\\\\\": \\\\\\\"ProgressBar8\\\\\\\"}]\\\");\");\n",
       "flexx.command(\"EXEC flexx.instances.ProgressBar8.init();\");\n",
       "flexx.command(\"EXEC flexx.instances.ProgressBar8._set_event_types_py([\\\"parent\\\"]);\");\n",
       "flexx.command(\"EXEC flexx.instances.ProgressBar8._init_handlers();\");\n",
       "flexx.command(\"EXEC flexx.instances.MyWidget5._progress = flexx.serializer.loads(\\\"{\\\\\\\"__type__\\\\\\\": \\\\\\\"Flexx-Model\\\\\\\", \\\\\\\"id\\\\\\\": \\\\\\\"ProgressBar8\\\\\\\"}\\\");\");\n",
       "flexx.command(\"EXEC flexx.instances.MyWidget5.init();\");\n",
       "flexx.command(\"EXEC flexx.instances.MyWidget5._set_event_types_py([\\\"parent\\\"]);\");\n",
       "flexx.command(\"EXEC flexx.instances.Slider7._set_event_types_py([\\\"parent\\\", \\\"value\\\"]);\");\n",
       "flexx.command(\"EXEC flexx.instances.MyWidget5._init_handlers();\");\n",
       "flexx.command(\"EXEC flexx.instances.MyWidget5._set_prop_from_py(\\\"container\\\", \\\"\\\\\\\"MyWidget5_container\\\\\\\"\\\");\");"
      ],
      "text/plain": [
       "<IPython.core.display.Javascript object>"
      ]
     },
     "metadata": {},
     "output_type": "display_data"
    }
   ],
   "source": [
    "# COMPOUND WIDGET\n",
    "class MyWidget(ui.Widget):\n",
    "    def init(self):\n",
    "        with ui.HBox():\n",
    "            self._slider = ui.Slider(flex=0)\n",
    "            self._progress = ui.ProgressBar(flex=1)\n",
    "    \n",
    "    @event.connect('_slider.value')\n",
    "    def show_slider_value(self, *events):\n",
    "        self._progress.value = self._slider.value\n",
    "\n",
    "w1 = MyWidget()\n",
    "w1"
   ]
  },
  {
   "cell_type": "code",
   "execution_count": 7,
   "metadata": {
    "collapsed": false,
    "extensions": {
     "jupyter_dashboards": {
      "version": 1,
      "views": {
       "grid_default": {
        "col": 8,
        "height": 4,
        "hidden": false,
        "row": 4,
        "width": 4
       },
       "report_default": {
        "hidden": false
       }
      }
     }
    },
    "nbpresent": {
     "id": "8a637491-c54a-4b14-9b32-0875111ca0cc"
    }
   },
   "outputs": [
    {
     "data": {
      "text/html": [
       "<script>flexx.classes.MyWidget = function () {\n",
       "    _pyfunc_instantiate(this, arguments);\n",
       "}\n",
       "flexx.classes.MyWidget.prototype = Object.create(flexx.classes.Widget.prototype);\n",
       "flexx.classes.MyWidget.prototype._base_class = flexx.classes.Widget.prototype;\n",
       "flexx.classes.MyWidget.prototype._class_name = \"MyWidget\";\n",
       "\n",
       "flexx.classes.MyWidget.prototype.__emitters__ = [\"key_down\", \"key_press\", \"key_up\", \"mouse_down\", \"mouse_move\", \"mouse_up\", \"mouse_wheel\"];\n",
       "flexx.classes.MyWidget.prototype.__handlers__ = [\"_Widget__children_changed\", \"_Widget__container_changed\", \"_Widget__make_singleton_container_widgets_work\", \"_Widget__style_changed\", \"_Widget__title_changed\", \"_Widget__update_tabindex\", \"check_size\", \"show_slider_value\"];\n",
       "flexx.classes.MyWidget.prototype.__local_properties__ = [\"parent\", \"size\"];\n",
       "flexx.classes.MyWidget.prototype.__properties__ = [\"base_size\", \"children\", \"container\", \"flex\", \"parent\", \"pos\", \"size\", \"style\", \"tabindex\", \"title\"];\n",
       "\n",
       "flexx.classes.MyWidget.prototype.show_slider_value = function () {\n",
       "    var events;\n",
       "    events = Array.prototype.slice.call(arguments);\n",
       "    this._progress.value = this._slider.value;\n",
       "    return null;\n",
       "};\n",
       "flexx.classes.MyWidget.prototype.show_slider_value.nobind = true;\n",
       "flexx.classes.MyWidget.prototype.show_slider_value._connection_strings = [\"_slider.value\"];\n",
       "\n",
       "</script>"
      ],
      "text/plain": [
       "<IPython.core.display.HTML object>"
      ]
     },
     "metadata": {},
     "output_type": "display_data"
    },
    {
     "data": {
      "text/html": [
       "<div class='flx-container' id=MyWidget9_container />"
      ],
      "text/plain": [
       "<MyWidget object 'MyWidget9' at 0x104bf5110>"
      ]
     },
     "execution_count": 7,
     "metadata": {},
     "output_type": "execute_result"
    },
    {
     "data": {
      "application/javascript": [
       "flexx.command(\"EXEC flexx.instances.MyWidget9 = new flexx.classes.MyWidget(\\\"MyWidget9\\\", [\\\"parent:aaa\\\"]);\");\n",
       "flexx.command(\"EXEC flexx.instances.MyWidget9._sync_props = true;\");\n",
       "flexx.command(\"EXEC flexx.instances.HBox10 = new flexx.classes.HBox(\\\"HBox10\\\", [\\\"parent:aaa\\\"]);\");\n",
       "flexx.command(\"EXEC flexx.instances.HBox10._sync_props = true;\");\n",
       "flexx.command(\"EXEC flexx.instances.MyWidget9._set_prop_from_py(\\\"children\\\", \\\"[{\\\\\\\"__type__\\\\\\\": \\\\\\\"Flexx-Model\\\\\\\", \\\\\\\"id\\\\\\\": \\\\\\\"HBox10\\\\\\\"}]\\\");\");\n",
       "flexx.command(\"EXEC flexx.instances.HBox10.init();\");\n",
       "flexx.command(\"EXEC flexx.instances.HBox10._set_event_types_py([\\\"parent\\\"]);\");\n",
       "flexx.command(\"EXEC flexx.instances.HBox10._init_handlers();\");\n",
       "flexx.command(\"EXEC flexx.instances.Slider11 = new flexx.classes.Slider(\\\"Slider11\\\", [\\\"parent:aaa\\\"]);\");\n",
       "flexx.command(\"EXEC flexx.instances.Slider11._sync_props = true;\");\n",
       "flexx.command(\"EXEC flexx.instances.HBox10._set_prop_from_py(\\\"children\\\", \\\"[{\\\\\\\"__type__\\\\\\\": \\\\\\\"Flexx-Model\\\\\\\", \\\\\\\"id\\\\\\\": \\\\\\\"Slider11\\\\\\\"}]\\\");\");\n",
       "flexx.command(\"EXEC flexx.instances.Slider11.init();\");\n",
       "flexx.command(\"EXEC flexx.instances.Slider11._set_event_types_py([\\\"parent\\\"]);\");\n",
       "flexx.command(\"EXEC flexx.instances.Slider11._init_handlers();\");\n",
       "flexx.command(\"EXEC flexx.instances.MyWidget9._slider = flexx.serializer.loads(\\\"{\\\\\\\"__type__\\\\\\\": \\\\\\\"Flexx-Model\\\\\\\", \\\\\\\"id\\\\\\\": \\\\\\\"Slider11\\\\\\\"}\\\");\");\n",
       "flexx.command(\"EXEC flexx.instances.ProgressBar12 = new flexx.classes.ProgressBar(\\\"ProgressBar12\\\", [\\\"parent:aaa\\\"]);\");\n",
       "flexx.command(\"EXEC flexx.instances.ProgressBar12._sync_props = true;\");\n",
       "flexx.command(\"EXEC flexx.instances.ProgressBar12._set_prop_from_py(\\\"flex\\\", \\\"[1.0, 1.0]\\\");\");\n",
       "flexx.command(\"EXEC flexx.instances.HBox10._set_prop_from_py(\\\"children\\\", \\\"[{\\\\\\\"__type__\\\\\\\": \\\\\\\"Flexx-Model\\\\\\\", \\\\\\\"id\\\\\\\": \\\\\\\"Slider11\\\\\\\"}, {\\\\\\\"__type__\\\\\\\": \\\\\\\"Flexx-Model\\\\\\\", \\\\\\\"id\\\\\\\": \\\\\\\"ProgressBar12\\\\\\\"}]\\\");\");\n",
       "flexx.command(\"EXEC flexx.instances.ProgressBar12.init();\");\n",
       "flexx.command(\"EXEC flexx.instances.ProgressBar12._set_event_types_py([\\\"parent\\\"]);\");\n",
       "flexx.command(\"EXEC flexx.instances.ProgressBar12._init_handlers();\");\n",
       "flexx.command(\"EXEC flexx.instances.MyWidget9._progress = flexx.serializer.loads(\\\"{\\\\\\\"__type__\\\\\\\": \\\\\\\"Flexx-Model\\\\\\\", \\\\\\\"id\\\\\\\": \\\\\\\"ProgressBar12\\\\\\\"}\\\");\");\n",
       "flexx.command(\"EXEC flexx.instances.MyWidget9.init();\");\n",
       "flexx.command(\"EXEC flexx.instances.MyWidget9._set_event_types_py([\\\"parent\\\"]);\");\n",
       "flexx.command(\"EXEC flexx.instances.MyWidget9._init_handlers();\");\n",
       "flexx.command(\"EXEC flexx.instances.MyWidget9._set_prop_from_py(\\\"container\\\", \\\"\\\\\\\"MyWidget9_container\\\\\\\"\\\");\");"
      ],
      "text/plain": [
       "<IPython.core.display.Javascript object>"
      ]
     },
     "metadata": {},
     "output_type": "display_data"
    }
   ],
   "source": [
    "# Define Behavior in JS, so it works on an exported notebook, use JS nested class\n",
    "class MyWidget(ui.Widget):\n",
    "    def init(self):\n",
    "        with ui.HBox():\n",
    "            self._slider = ui.Slider(flex=0)\n",
    "            self._progress = ui.ProgressBar(flex=1)\n",
    "    \n",
    "    class JS: \n",
    "       @event.connect('_slider.value')\n",
    "       def show_slider_value(self, *events):\n",
    "            self._progress.value = self._slider.value\n",
    "\n",
    "w1 = MyWidget()\n",
    "w1"
   ]
  },
  {
   "cell_type": "code",
   "execution_count": 9,
   "metadata": {
    "collapsed": false,
    "extensions": {
     "jupyter_dashboards": {
      "version": 1,
      "views": {
       "grid_default": {
        "col": 0,
        "height": 12,
        "hidden": false,
        "row": 8,
        "width": 7
       },
       "report_default": {
        "hidden": false
       }
      }
     }
    },
    "nbpresent": {
     "id": "6abd338a-c4c4-4a34-b8c8-089f7816fd29"
    },
    "scrolled": true
   },
   "outputs": [
    {
     "data": {
      "text/html": [
       "<script>flexx.classes.Twente = function () {\n",
       "    _pyfunc_instantiate(this, arguments);\n",
       "}\n",
       "flexx.classes.Twente.prototype = Object.create(flexx.classes.Widget.prototype);\n",
       "flexx.classes.Twente.prototype._base_class = flexx.classes.Widget.prototype;\n",
       "flexx.classes.Twente.prototype._class_name = \"Twente\";\n",
       "\n",
       "flexx.classes.Twente.prototype.__emitters__ = [\"key_down\", \"key_press\", \"key_up\", \"mouse_down\", \"mouse_move\", \"mouse_up\", \"mouse_wheel\"];\n",
       "flexx.classes.Twente.prototype.__handlers__ = [\"_Widget__children_changed\", \"_Widget__container_changed\", \"_Widget__make_singleton_container_widgets_work\", \"_Widget__style_changed\", \"_Widget__title_changed\", \"_Widget__update_tabindex\", \"_update_plot\", \"check_size\"];\n",
       "flexx.classes.Twente.prototype.__local_properties__ = [\"parent\", \"size\"];\n",
       "flexx.classes.Twente.prototype.__properties__ = [\"base_size\", \"children\", \"container\", \"flex\", \"parent\", \"pos\", \"size\", \"style\", \"tabindex\", \"title\"];\n",
       "flexx.classes.Twente.prototype.data = [[3.5, 1.9, 1.1, -1.1, -0.1, 1.7, 3.2, 1.6, 1.2, 2.1, 1.4, 3.1, -6.3, -0.1, 2.4, -0.3, 3.2, 0.7, 3.7, -0.4, 2.2, -0.3, 2.3, 5.1, 6.2, 2.6, 2.2, 2.7, -3.9, -0.8, 1.6, 0.3, 5.7, 2.3, -4.6, 1.6, -4.0, 5.8, 4.1, 5.0, 2.9, 2.2, 4.2, 4.4, 2.7, -1.6, -1.7, 4.3, 4.5, 3.7, 2.2, 3.9, 1.6, 2.7, 4.3, 0.4, 6.1, 5.9, 0.1, -1.7, 2.7, 3.6, 1.5, 4.8], [3.5, 2.0, 1.5, -1.0, -0.5, -7.1, 4.9, 3.2, 0.7, 2.5, 6.1, 2.1, -3.8, 2.8, 1.1, 3.7, 4.8, 1.3, -0.7, 0.4, 3.2, 3.4, 2.3, 4.2, 2.7, 1.9, 4.5, 0.2, -2.2, 3.8, 0.9, 2.3, 0.0, 1.4, -1.4, -4.6, 1.7, 4.2, 4.8, 7.3, -0.9, 4.7, 1.2, 0.6, 6.0, -1.0, 5.8, 5.7, 2.6, 5.2, 3.7, 6.5, 0.7, 4.0, 1.4, 1.8, 5.4, 4.7, 2.6, 0.9, 3.6, 0.1, 0.9, 6.4], [3.4, 4.3, 4.7, 5.7, 1.6, 5.0, 8.0, 1.5, 7.2, 5.5, 7.1, 1.4, 4.5, 2.3, 3.7, 4.6, 6.4, 5.9, 1.3, 2.1, 2.3, 6.1, 4.9, 5.5, 4.3, 2.2, 6.8, 6.1, 4.1, 3.8, 8.1, 5.0, 5.6, 3.3, 3.5, 4.5, 1.3, 4.3, 7.7, 7.9, 8.3, 6.4, 5.1, 7.0, 4.6, 2.3, 7.2, 6.7, 6.6, 6.3, 4.2, 6.4, 6.8, 5.3, 5.8, 3.2, 7.4, 5.3, 5.5, 5.8, 5.2, 7.7, 1.2, 8.1], [7.4, 10.7, 9.1, 6.5, 8.2, 5.0, 8.3, 6.2, 10.3, 8.8, 10.4, 8.0, 9.1, 9.1, 7.6, 8.7, 7.0, 9.5, 7.7, 5.6, 7.8, 7.1, 5.4, 8.5, 6.9, 7.1, 6.0, 6.7, 7.3, 7.4, 8.7, 7.1, 8.9, 7.1, 8.1, 6.8, 10.3, 8.1, 6.5, 8.4, 8.1, 8.3, 11.2, 8.1, 8.9, 8.9, 7.0, 9.0, 9.7, 10.2, 7.9, 8.9, 9.3, 10.3, 10.2, 8.5, 12.5, 8.3, 12.5, 9.3, 12.4, 8.2, 8.2, 11.8], [12.0, 12.9, 13.3, 12.8, 10.0, 12.7, 10.2, 12.9, 13.1, 13.0, 10.6, 9.9, 11.2, 14.3, 11.7, 13.5, 12.8, 10.6, 12.9, 12.5, 13.8, 11.6, 11.9, 11.2, 10.8, 12.9, 11.7, 12.1, 11.6, 11.5, 13.8, 12.2, 11.1, 10.0, 13.2, 13.7, 9.9, 14.4, 13.8, 13.8, 9.7, 15.4, 14.2, 12.3, 12.4, 10.6, 12.4, 14.4, 13.5, 14.5, 14.0, 13.5, 13.4, 11.6, 12.5, 14.3, 13.9, 15.0, 13.7, 10.0, 13.8, 14.5, 11.6, 12.7], [15.4, 14.9, 16.2, 15.6, 14.6, 13.0, 16.6, 14.8, 16.4, 16.1, 15.7, 13.5, 15.8, 15.6, 15.0, 17.1, 14.6, 15.5, 14.5, 17.0, 13.8, 13.7, 16.0, 14.3, 14.7, 17.3, 14.3, 14.5, 15.0, 14.5, 14.7, 16.1, 15.9, 12.9, 13.1, 16.0, 13.7, 14.5, 15.9, 15.1, 12.6, 17.0, 15.2, 15.1, 14.5, 15.1, 15.7, 15.5, 14.9, 16.0, 14.7, 16.7, 17.9, 15.2, 16.2, 16.8, 17.4, 16.4, 15.3, 16.4, 16.2, 14.5, 15.4, 15.7], [16.9, 17.2, 17.0, 14.2, 17.9, 16.6, 17.6, 16.8, 19.2, 15.3, 15.2, 14.5, 16.5, 16.9, 14.7, 15.5, 18.1, 16.1, 17.5, 15.4, 17.0, 17.2, 17.1, 14.7, 17.6, 18.8, 16.1, 15.0, 15.0, 15.3, 16.3, 18.6, 19.1, 15.0, 16.5, 16.2, 16.3, 16.0, 17.8, 16.1, 18.8, 18.2, 15.7, 21.3, 20.0, 16.1, 17.3, 15.9, 18.8, 15.2, 18.3, 17.4, 18.5, 16.5, 17.6, 22.2, 16.9, 18.0, 17.8, 20.4, 15.8, 16.9, 18.8, 19.5], [17.1, 17.3, 16.7, 16.0, 18.1, 14.0, 15.6, 17.7, 18.0, 15.5, 15.8, 15.2, 15.3, 16.1, 15.2, 15.8, 16.3, 16.8, 16.8, 16.5, 17.1, 15.1, 17.6, 16.4, 19.5, 17.0, 15.8, 14.7, 15.1, 16.6, 16.4, 16.9, 17.4, 16.8, 15.0, 15.1, 15.5, 16.6, 17.1, 18.2, 17.3, 18.0, 14.6, 17.4, 18.7, 17.5, 20.1, 16.0, 17.2, 16.9, 18.3, 18.6, 19.3, 18.8, 15.7, 15.9, 16.8, 17.3, 18.2, 16.4, 16.8, 18.4, 17.9, 15.7], [15.5, 11.1, 14.0, 13.8, 14.6, 14.6, 12.4, 15.7, 15.6, 13.3, 17.2, 12.7, 13.7, 14.2, 13.1, 13.4, 14.1, 14.2, 13.7, 13.6, 12.5, 10.8, 14.5, 12.9, 14.8, 13.4, 12.6, 13.6, 12.5, 14.6, 14.8, 16.0, 13.4, 12.4, 13.2, 10.5, 14.5, 13.9, 15.4, 12.2, 14.7, 14.3, 12.5, 13.3, 13.6, 11.5, 13.4, 14.4, 17.7, 15.0, 12.8, 13.9, 13.9, 14.9, 15.2, 17.7, 13.3, 13.1, 14.4, 12.6, 15.2, 13.4, 13.8, 15.3], [8.5, 8.0, 11.5, 11.6, 9.2, 9.4, 10.7, 10.9, 11.1, 10.7, 11.4, 10.4, 9.1, 7.8, 9.8, 11.1, 11.6, 11.1, 11.5, 9.9, 9.7, 8.2, 8.3, 6.4, 7.7, 10.7, 11.4, 11.0, 9.6, 8.7, 8.5, 11.2, 9.4, 10.9, 9.7, 10.9, 10.4, 10.4, 12.2, 11.9, 9.4, 7.3, 8.6, 8.6, 12.4, 9.9, 8.9, 9.0, 10.1, 11.1, 14.0, 8.6, 6.6, 11.0, 12.9, 13.6, 9.3, 9.7, 9.3, 9.5, 10.6, 9.6, 11.8, 13.2], [8.2, 2.3, 7.1, 6.5, 5.8, 4.6, 6.0, 5.4, 5.2, 7.3, 4.5, 3.9, 8.1, 5.8, 1.9, 3.8, 4.7, 5.0, 6.0, 7.2, 4.6, 5.3, 4.9, 6.2, 4.5, 6.1, 6.1, 6.6, 4.5, 4.2, 6.0, 7.6, 5.4, 7.3, 1.7, 7.7, 6.1, 5.3, 5.0, 5.4, 5.0, 7.4, 1.5, 8.7, 5.5, 5.2, 5.7, 2.9, 5.9, 7.7, 6.1, 7.1, 7.8, 5.4, 6.1, 8.8, 6.1, 6.2, 9.4, 5.2, 6.0, 6.4, 5.9, 8.0], [4.4, 1.0, 4.8, 5.1, 4.2, 4.9, 2.4, 4.4, 3.9, 2.6, 0.8, -1.4, -1.5, 2.0, 3.8, 3.6, 2.5, -0.7, -2.5, 1.8, 5.0, 3.2, 2.3, 6.6, 2.3, 0.7, 4.2, 1.3, 4.6, 2.9, -1.0, 3.1, 2.7, 3.5, 5.2, 4.1, 3.8, 5.5, 4.4, 3.5, 3.2, 3.3, 4.4, 4.8, -1.6, -0.6, 4.1, 3.5, 4.1, 4.6, 2.1, 1.6, 3.3, 2.7, 3.3, 6.2, 3.1, 1.8, 1.7, -2.7, 5.5, 4.1, 5.5, 4.1], [9.7, 8.6, 9.8, 8.8, 8.6, 7.9, 9.7, 9.3, 10.2, 9.4, 9.7, 7.8, 7.6, 8.9, 8.3, 9.2, 9.7, 8.8, 8.5, 8.5, 9.1, 8.5, 9.0, 9.3, 9.3, 9.2, 9.3, 8.7, 7.8, 8.5, 9.1, 9.7, 9.6, 8.6, 7.8, 8.5, 8.3, 9.9, 10.4, 10.4, 9.1, 10.2, 9.0, 10.1, 9.8, 7.8, 9.7, 9.8, 10.5, 10.5, 9.9, 10.3, 9.9, 9.9, 10.1, 10.8, 10.7, 10.1, 10.0, 8.5, 10.3, 9.8, 9.4, 11.3]];\n",
       "flexx.classes.Twente.prototype.months = [\"Jan\", \"Feb\", \"Mar\", \"Apr\", \"May\", \"Jun\", \"Jul\", \"Aug\", \"Sep\", \"Oct\", \"Nov\", \"Dec\", \"total\"];\n",
       "\n",
       "flexx.classes.Twente.prototype._update_plot = function () {\n",
       "    var events, i, j, month, n, sm2, smoothing, val, yy1, yy2;\n",
       "    events = Array.prototype.slice.call(arguments);\n",
       "    month = this.month.value;\n",
       "    smoothing = this.smoothing.value;\n",
       "    this.month_label.text = \"Month (\" + this.months[month] + \")\";\n",
       "    this.smoothing_label.txt = \"Smoothing (\" + smoothing + \")\";\n",
       "    yy1 = this.data[month];\n",
       "    yy2 = [];\n",
       "    sm2 = _pyfunc_int((smoothing / 2));\n",
       "    for (i = 0; i < yy1.length; i += 1) {\n",
       "        val = 0;\n",
       "        n = 0;\n",
       "        for (j = Math.max(0, (i - sm2)); j < Math.min(yy1.length, (_pyfunc_add(i, sm2) + 1)); j += 1) {\n",
       "            val=_pyfunc_add(val, yy1[j])\n",
       "            n=_pyfunc_add(n, 1)\n",
       "        }\n",
       "        if (_pyfunc_equals(n, 0)) {\n",
       "            _pymeth_append.call(yy2, yy1[i]);\n",
       "        } else {\n",
       "            _pymeth_append.call(yy2, (val / n));\n",
       "        }\n",
       "    }\n",
       "    this.plot.ydata = yy2;\n",
       "    return null;\n",
       "};\n",
       "flexx.classes.Twente.prototype._update_plot.nobind = true;\n",
       "flexx.classes.Twente.prototype._update_plot._connection_strings = [\"month.value\", \"smoothing.value\"];\n",
       "\n",
       "flexx.classes.Twente.prototype.init = function () {\n",
       "    flexx.classes.Widget.prototype.init.call(this);\n",
       "    this._update_plot();\n",
       "    return null;\n",
       "};\n",
       "\n",
       "</script>"
      ],
      "text/plain": [
       "<IPython.core.display.HTML object>"
      ]
     },
     "metadata": {},
     "output_type": "display_data"
    },
    {
     "data": {
      "text/html": [
       "<div class='flx-container' id=Twente14_container />"
      ],
      "text/plain": [
       "<Twente object 'Twente14' at 0x104005950>"
      ]
     },
     "execution_count": 9,
     "metadata": {},
     "output_type": "execute_result"
    },
    {
     "data": {
      "application/javascript": [
       "flexx.command(\"EXEC flexx.instances.Twente14 = new flexx.classes.Twente(\\\"Twente14\\\", [\\\"parent:aaa\\\"]);\");\n",
       "flexx.command(\"EXEC flexx.instances.Twente14._sync_props = true;\");\n",
       "flexx.command(\"EXEC flexx.instances.Twente14._set_prop_from_py(\\\"style\\\", \\\"\\\\\\\"height:300px\\\\\\\"\\\");\");\n",
       "flexx.command(\"EXEC flexx.instances.HBox15 = new flexx.classes.HBox(\\\"HBox15\\\", [\\\"parent:aaa\\\"]);\");\n",
       "flexx.command(\"EXEC flexx.instances.HBox15._sync_props = true;\");\n",
       "flexx.command(\"EXEC flexx.instances.Twente14._set_prop_from_py(\\\"children\\\", \\\"[{\\\\\\\"__type__\\\\\\\": \\\\\\\"Flexx-Model\\\\\\\", \\\\\\\"id\\\\\\\": \\\\\\\"HBox15\\\\\\\"}]\\\");\");\n",
       "flexx.command(\"EXEC flexx.instances.HBox15.init();\");\n",
       "flexx.command(\"EXEC flexx.instances.HBox15._set_event_types_py([\\\"parent\\\"]);\");\n",
       "flexx.command(\"EXEC flexx.instances.HBox15._init_handlers();\");\n",
       "flexx.command(\"EXEC flexx.instances.Widget16 = new flexx.classes.Widget(\\\"Widget16\\\", [\\\"parent:aaa\\\"]);\");\n",
       "flexx.command(\"EXEC flexx.instances.Widget16._sync_props = true;\");\n",
       "flexx.command(\"EXEC flexx.instances.Widget16._set_prop_from_py(\\\"flex\\\", \\\"[1.0, 1.0]\\\");\");\n",
       "flexx.command(\"EXEC flexx.instances.HBox15._set_prop_from_py(\\\"children\\\", \\\"[{\\\\\\\"__type__\\\\\\\": \\\\\\\"Flexx-Model\\\\\\\", \\\\\\\"id\\\\\\\": \\\\\\\"Widget16\\\\\\\"}]\\\");\");\n",
       "flexx.command(\"EXEC flexx.instances.Widget16.init();\");\n",
       "flexx.command(\"EXEC flexx.instances.Widget16._set_event_types_py([\\\"parent\\\"]);\");\n",
       "flexx.command(\"EXEC flexx.instances.Widget16._init_handlers();\");\n",
       "flexx.command(\"EXEC flexx.instances.VBox17 = new flexx.classes.VBox(\\\"VBox17\\\", [\\\"parent:aaa\\\"]);\");\n",
       "flexx.command(\"EXEC flexx.instances.VBox17._sync_props = true;\");\n",
       "flexx.command(\"EXEC flexx.instances.HBox15._set_prop_from_py(\\\"children\\\", \\\"[{\\\\\\\"__type__\\\\\\\": \\\\\\\"Flexx-Model\\\\\\\", \\\\\\\"id\\\\\\\": \\\\\\\"Widget16\\\\\\\"}, {\\\\\\\"__type__\\\\\\\": \\\\\\\"Flexx-Model\\\\\\\", \\\\\\\"id\\\\\\\": \\\\\\\"VBox17\\\\\\\"}]\\\");\");\n",
       "flexx.command(\"EXEC flexx.instances.VBox17.init();\");\n",
       "flexx.command(\"EXEC flexx.instances.VBox17._set_event_types_py([\\\"parent\\\"]);\");\n",
       "flexx.command(\"EXEC flexx.instances.VBox17._init_handlers();\");\n",
       "flexx.command(\"EXEC flexx.instances.GroupWidget18 = new flexx.classes.GroupWidget(\\\"GroupWidget18\\\", [\\\"parent:aaa\\\"]);\");\n",
       "flexx.command(\"EXEC flexx.instances.GroupWidget18._sync_props = true;\");\n",
       "flexx.command(\"EXEC flexx.instances.VBox17._set_prop_from_py(\\\"children\\\", \\\"[{\\\\\\\"__type__\\\\\\\": \\\\\\\"Flexx-Model\\\\\\\", \\\\\\\"id\\\\\\\": \\\\\\\"GroupWidget18\\\\\\\"}]\\\");\");\n",
       "flexx.command(\"EXEC flexx.instances.GroupWidget18._set_prop_from_py(\\\"title\\\", \\\"\\\\\\\"Plot options\\\\\\\"\\\");\");\n",
       "flexx.command(\"EXEC flexx.instances.GroupWidget18.init();\");\n",
       "flexx.command(\"EXEC flexx.instances.GroupWidget18._set_event_types_py([\\\"parent\\\"]);\");\n",
       "flexx.command(\"EXEC flexx.instances.GroupWidget18._init_handlers();\");\n",
       "flexx.command(\"EXEC flexx.instances.VBox19 = new flexx.classes.VBox(\\\"VBox19\\\", [\\\"parent:aaa\\\"]);\");\n",
       "flexx.command(\"EXEC flexx.instances.VBox19._sync_props = true;\");\n",
       "flexx.command(\"EXEC flexx.instances.GroupWidget18._set_prop_from_py(\\\"children\\\", \\\"[{\\\\\\\"__type__\\\\\\\": \\\\\\\"Flexx-Model\\\\\\\", \\\\\\\"id\\\\\\\": \\\\\\\"VBox19\\\\\\\"}]\\\");\");\n",
       "flexx.command(\"EXEC flexx.instances.VBox19.init();\");\n",
       "flexx.command(\"EXEC flexx.instances.VBox19._set_event_types_py([\\\"parent\\\"]);\");\n",
       "flexx.command(\"EXEC flexx.instances.VBox19._init_handlers();\");\n",
       "flexx.command(\"EXEC flexx.instances.Label20 = new flexx.classes.Label(\\\"Label20\\\", [\\\"parent:aaa\\\"]);\");\n",
       "flexx.command(\"EXEC flexx.instances.Label20._sync_props = true;\");\n",
       "flexx.command(\"EXEC flexx.instances.Label20._set_prop_from_py(\\\"text\\\", \\\"\\\\\\\"Month\\\\\\\"\\\");\");\n",
       "flexx.command(\"EXEC flexx.instances.VBox19._set_prop_from_py(\\\"children\\\", \\\"[{\\\\\\\"__type__\\\\\\\": \\\\\\\"Flexx-Model\\\\\\\", \\\\\\\"id\\\\\\\": \\\\\\\"Label20\\\\\\\"}]\\\");\");\n",
       "flexx.command(\"EXEC flexx.instances.Label20.init();\");\n",
       "flexx.command(\"EXEC flexx.instances.Label20._set_event_types_py([\\\"parent\\\"]);\");\n",
       "flexx.command(\"EXEC flexx.instances.Label20._init_handlers();\");\n",
       "flexx.command(\"EXEC flexx.instances.Twente14.month_label = flexx.serializer.loads(\\\"{\\\\\\\"__type__\\\\\\\": \\\\\\\"Flexx-Model\\\\\\\", \\\\\\\"id\\\\\\\": \\\\\\\"Label20\\\\\\\"}\\\");\");\n",
       "flexx.command(\"EXEC flexx.instances.Slider21 = new flexx.classes.Slider(\\\"Slider21\\\", [\\\"parent:aaa\\\"]);\");\n",
       "flexx.command(\"EXEC flexx.instances.Slider21._sync_props = true;\");\n",
       "flexx.command(\"EXEC flexx.instances.Slider21._set_prop_from_py(\\\"max\\\", \\\"12.0\\\");\");\n",
       "flexx.command(\"EXEC flexx.instances.Slider21._set_prop_from_py(\\\"step\\\", \\\"1.0\\\");\");\n",
       "flexx.command(\"EXEC flexx.instances.Slider21._set_prop_from_py(\\\"value\\\", \\\"12.0\\\");\");\n",
       "flexx.command(\"EXEC flexx.instances.VBox19._set_prop_from_py(\\\"children\\\", \\\"[{\\\\\\\"__type__\\\\\\\": \\\\\\\"Flexx-Model\\\\\\\", \\\\\\\"id\\\\\\\": \\\\\\\"Label20\\\\\\\"}, {\\\\\\\"__type__\\\\\\\": \\\\\\\"Flexx-Model\\\\\\\", \\\\\\\"id\\\\\\\": \\\\\\\"Slider21\\\\\\\"}]\\\");\");\n",
       "flexx.command(\"EXEC flexx.instances.Slider21.init();\");\n",
       "flexx.command(\"EXEC flexx.instances.Slider21._set_event_types_py([\\\"parent\\\"]);\");\n",
       "flexx.command(\"EXEC flexx.instances.Slider21._init_handlers();\");\n",
       "flexx.command(\"EXEC flexx.instances.Twente14.month = flexx.serializer.loads(\\\"{\\\\\\\"__type__\\\\\\\": \\\\\\\"Flexx-Model\\\\\\\", \\\\\\\"id\\\\\\\": \\\\\\\"Slider21\\\\\\\"}\\\");\");\n",
       "flexx.command(\"EXEC flexx.instances.Label22 = new flexx.classes.Label(\\\"Label22\\\", [\\\"parent:aaa\\\"]);\");\n",
       "flexx.command(\"EXEC flexx.instances.Label22._sync_props = true;\");\n",
       "flexx.command(\"EXEC flexx.instances.Label22._set_prop_from_py(\\\"text\\\", \\\"\\\\\\\"Smoothing\\\\\\\"\\\");\");\n",
       "flexx.command(\"EXEC flexx.instances.VBox19._set_prop_from_py(\\\"children\\\", \\\"[{\\\\\\\"__type__\\\\\\\": \\\\\\\"Flexx-Model\\\\\\\", \\\\\\\"id\\\\\\\": \\\\\\\"Label20\\\\\\\"}, {\\\\\\\"__type__\\\\\\\": \\\\\\\"Flexx-Model\\\\\\\", \\\\\\\"id\\\\\\\": \\\\\\\"Slider21\\\\\\\"}, {\\\\\\\"__type__\\\\\\\": \\\\\\\"Flexx-Model\\\\\\\", \\\\\\\"id\\\\\\\": \\\\\\\"Label22\\\\\\\"}]\\\");\");\n",
       "flexx.command(\"EXEC flexx.instances.Label22.init();\");\n",
       "flexx.command(\"EXEC flexx.instances.Label22._set_event_types_py([\\\"parent\\\"]);\");\n",
       "flexx.command(\"EXEC flexx.instances.Label22._init_handlers();\");\n",
       "flexx.command(\"EXEC flexx.instances.Twente14.smoothing_label = flexx.serializer.loads(\\\"{\\\\\\\"__type__\\\\\\\": \\\\\\\"Flexx-Model\\\\\\\", \\\\\\\"id\\\\\\\": \\\\\\\"Label22\\\\\\\"}\\\");\");\n",
       "flexx.command(\"EXEC flexx.instances.Slider23 = new flexx.classes.Slider(\\\"Slider23\\\", [\\\"parent:aaa\\\"]);\");\n",
       "flexx.command(\"EXEC flexx.instances.Slider23._sync_props = true;\");\n",
       "flexx.command(\"EXEC flexx.instances.Slider23._set_prop_from_py(\\\"max\\\", \\\"20.0\\\");\");\n",
       "flexx.command(\"EXEC flexx.instances.Slider23._set_prop_from_py(\\\"step\\\", \\\"2.0\\\");\");\n",
       "flexx.command(\"EXEC flexx.instances.VBox19._set_prop_from_py(\\\"children\\\", \\\"[{\\\\\\\"__type__\\\\\\\": \\\\\\\"Flexx-Model\\\\\\\", \\\\\\\"id\\\\\\\": \\\\\\\"Label20\\\\\\\"}, {\\\\\\\"__type__\\\\\\\": \\\\\\\"Flexx-Model\\\\\\\", \\\\\\\"id\\\\\\\": \\\\\\\"Slider21\\\\\\\"}, {\\\\\\\"__type__\\\\\\\": \\\\\\\"Flexx-Model\\\\\\\", \\\\\\\"id\\\\\\\": \\\\\\\"Label22\\\\\\\"}, {\\\\\\\"__type__\\\\\\\": \\\\\\\"Flexx-Model\\\\\\\", \\\\\\\"id\\\\\\\": \\\\\\\"Slider23\\\\\\\"}]\\\");\");\n",
       "flexx.command(\"EXEC flexx.instances.Slider23.init();\");\n",
       "flexx.command(\"EXEC flexx.instances.Slider23._set_event_types_py([\\\"parent\\\"]);\");\n",
       "flexx.command(\"EXEC flexx.instances.Slider23._init_handlers();\");\n",
       "flexx.command(\"EXEC flexx.instances.Twente14.smoothing = flexx.serializer.loads(\\\"{\\\\\\\"__type__\\\\\\\": \\\\\\\"Flexx-Model\\\\\\\", \\\\\\\"id\\\\\\\": \\\\\\\"Slider23\\\\\\\"}\\\");\");\n",
       "flexx.command(\"EXEC flexx.instances.Widget24 = new flexx.classes.Widget(\\\"Widget24\\\", [\\\"parent:aaa\\\"]);\");\n",
       "flexx.command(\"EXEC flexx.instances.Widget24._sync_props = true;\");\n",
       "flexx.command(\"EXEC flexx.instances.Widget24._set_prop_from_py(\\\"flex\\\", \\\"[1.0, 1.0]\\\");\");\n",
       "flexx.command(\"EXEC flexx.instances.VBox17._set_prop_from_py(\\\"children\\\", \\\"[{\\\\\\\"__type__\\\\\\\": \\\\\\\"Flexx-Model\\\\\\\", \\\\\\\"id\\\\\\\": \\\\\\\"GroupWidget18\\\\\\\"}, {\\\\\\\"__type__\\\\\\\": \\\\\\\"Flexx-Model\\\\\\\", \\\\\\\"id\\\\\\\": \\\\\\\"Widget24\\\\\\\"}]\\\");\");\n",
       "flexx.command(\"EXEC flexx.instances.Widget24.init();\");\n",
       "flexx.command(\"EXEC flexx.instances.Widget24._set_event_types_py([\\\"parent\\\"]);\");\n",
       "flexx.command(\"EXEC flexx.instances.Widget24._init_handlers();\");\n",
       "flexx.command(\"EXEC flexx.instances.VBox25 = new flexx.classes.VBox(\\\"VBox25\\\", [\\\"parent:aaa\\\"]);\");\n",
       "flexx.command(\"EXEC flexx.instances.VBox25._sync_props = true;\");\n",
       "flexx.command(\"EXEC flexx.instances.VBox25._set_prop_from_py(\\\"flex\\\", \\\"[4.0, 4.0]\\\");\");\n",
       "flexx.command(\"EXEC flexx.instances.HBox15._set_prop_from_py(\\\"children\\\", \\\"[{\\\\\\\"__type__\\\\\\\": \\\\\\\"Flexx-Model\\\\\\\", \\\\\\\"id\\\\\\\": \\\\\\\"Widget16\\\\\\\"}, {\\\\\\\"__type__\\\\\\\": \\\\\\\"Flexx-Model\\\\\\\", \\\\\\\"id\\\\\\\": \\\\\\\"VBox17\\\\\\\"}, {\\\\\\\"__type__\\\\\\\": \\\\\\\"Flexx-Model\\\\\\\", \\\\\\\"id\\\\\\\": \\\\\\\"VBox25\\\\\\\"}]\\\");\");\n",
       "flexx.command(\"EXEC flexx.instances.VBox25.init();\");\n",
       "flexx.command(\"EXEC flexx.instances.VBox25._set_event_types_py([\\\"parent\\\"]);\");\n",
       "flexx.command(\"EXEC flexx.instances.VBox25._init_handlers();\");\n",
       "flexx.command(\"EXEC flexx.instances.PlotWidget26 = new flexx.classes.PlotWidget(\\\"PlotWidget26\\\", [\\\"parent:aaa\\\"]);\");\n",
       "flexx.command(\"EXEC flexx.instances.PlotWidget26._sync_props = true;\");\n",
       "flexx.command(\"EXEC flexx.instances.PlotWidget26._set_prop_from_py(\\\"flex\\\", \\\"[1.0, 1.0]\\\");\");\n",
       "flexx.command(\"EXEC flexx.instances.PlotWidget26._set_prop_from_py(\\\"yrange\\\", \\\"[-5.0, 20.0]\\\");\");\n",
       "flexx.command(\"EXEC flexx.instances.VBox25._set_prop_from_py(\\\"children\\\", \\\"[{\\\\\\\"__type__\\\\\\\": \\\\\\\"Flexx-Model\\\\\\\", \\\\\\\"id\\\\\\\": \\\\\\\"PlotWidget26\\\\\\\"}]\\\");\");\n",
       "flexx.command(\"EXEC flexx.instances.PlotWidget26._set_prop_from_py(\\\"title\\\", \\\"\\\\\\\"Average monthly temperature\\\\\\\"\\\");\");\n",
       "flexx.command(\"EXEC flexx.instances.PlotWidget26._set_prop_from_py(\\\"xlabel\\\", \\\"\\\\\\\"year\\\\\\\"\\\");\");\n",
       "flexx.command(\"EXEC flexx.instances.PlotWidget26._set_prop_from_py(\\\"xdata\\\", \\\"[1951.0, 1952.0, 1953.0, 1954.0, 1955.0, 1956.0, 1957.0, 1958.0, 1959.0, 1960.0, 1961.0, 1962.0, 1963.0, 1964.0, 1965.0, 1966.0, 1967.0, 1968.0, 1969.0, 1970.0, 1971.0, 1972.0, 1973.0, 1974.0, 1975.0, 1976.0, 1977.0, 1978.0, 1979.0, 1980.0, 1981.0, 1982.0, 1983.0, 1984.0, 1985.0, 1986.0, 1987.0, 1988.0, 1989.0, 1990.0, 1991.0, 1992.0, 1993.0, 1994.0, 1995.0, 1996.0, 1997.0, 1998.0, 1999.0, 2000.0, 2001.0, 2002.0, 2003.0, 2004.0, 2005.0, 2006.0, 2007.0, 2008.0, 2009.0, 2010.0, 2011.0, 2012.0, 2013.0, 2014.0]\\\");\");\n",
       "flexx.command(\"EXEC flexx.instances.PlotWidget26._set_prop_from_py(\\\"ylabel\\\", \\\"\\\\\\\"temperature (\\\\\\\\u00b0C)\\\\\\\"\\\");\");\n",
       "flexx.command(\"EXEC flexx.instances.PlotWidget26.init();\");\n",
       "flexx.command(\"EXEC flexx.instances.PlotWidget26._set_event_types_py([\\\"parent\\\"]);\");\n",
       "flexx.command(\"EXEC flexx.instances.PlotWidget26._init_handlers();\");\n",
       "flexx.command(\"EXEC flexx.instances.Twente14.plot = flexx.serializer.loads(\\\"{\\\\\\\"__type__\\\\\\\": \\\\\\\"Flexx-Model\\\\\\\", \\\\\\\"id\\\\\\\": \\\\\\\"PlotWidget26\\\\\\\"}\\\");\");\n",
       "flexx.command(\"EXEC flexx.instances.Widget27 = new flexx.classes.Widget(\\\"Widget27\\\", [\\\"parent:aaa\\\"]);\");\n",
       "flexx.command(\"EXEC flexx.instances.Widget27._sync_props = true;\");\n",
       "flexx.command(\"EXEC flexx.instances.Widget27._set_prop_from_py(\\\"flex\\\", \\\"[1.0, 1.0]\\\");\");\n",
       "flexx.command(\"EXEC flexx.instances.HBox15._set_prop_from_py(\\\"children\\\", \\\"[{\\\\\\\"__type__\\\\\\\": \\\\\\\"Flexx-Model\\\\\\\", \\\\\\\"id\\\\\\\": \\\\\\\"Widget16\\\\\\\"}, {\\\\\\\"__type__\\\\\\\": \\\\\\\"Flexx-Model\\\\\\\", \\\\\\\"id\\\\\\\": \\\\\\\"VBox17\\\\\\\"}, {\\\\\\\"__type__\\\\\\\": \\\\\\\"Flexx-Model\\\\\\\", \\\\\\\"id\\\\\\\": \\\\\\\"VBox25\\\\\\\"}, {\\\\\\\"__type__\\\\\\\": \\\\\\\"Flexx-Model\\\\\\\", \\\\\\\"id\\\\\\\": \\\\\\\"Widget27\\\\\\\"}]\\\");\");\n",
       "flexx.command(\"EXEC flexx.instances.Widget27.init();\");\n",
       "flexx.command(\"EXEC flexx.instances.Widget27._set_event_types_py([\\\"parent\\\"]);\");\n",
       "flexx.command(\"EXEC flexx.instances.Widget27._init_handlers();\");\n",
       "flexx.command(\"EXEC flexx.instances.Twente14.init();\");\n",
       "flexx.command(\"EXEC flexx.instances.Twente14._set_event_types_py([\\\"parent\\\"]);\");\n",
       "flexx.command(\"EXEC flexx.instances.Twente14._init_handlers();\");\n",
       "flexx.command(\"EXEC flexx.instances.Twente14._set_prop_from_py(\\\"container\\\", \\\"\\\\\\\"Twente14_container\\\\\\\"\\\");\");"
      ],
      "text/plain": [
       "<IPython.core.display.Javascript object>"
      ]
     },
     "metadata": {},
     "output_type": "display_data"
    }
   ],
   "source": [
    "from flexx.ui.examples.twente import Twente\n",
    "Twente(style='height:300px')"
   ]
  },
  {
   "cell_type": "code",
   "execution_count": 30,
   "metadata": {
    "collapsed": false,
    "extensions": {
     "jupyter_dashboards": {
      "version": 1,
      "views": {
       "grid_default": {
        "col": 0,
        "height": 8,
        "hidden": false,
        "row": 20,
        "width": 7
       },
       "report_default": {
        "hidden": false
       }
      }
     }
    },
    "nbpresent": {
     "id": "fb30156b-d4fb-4824-9d03-e9e8ac83bfcf"
    }
   },
   "outputs": [
    {
     "name": "stderr",
     "output_type": "stream",
     "text": [
      "WARNING flexx.app: Notebookhelper already is in capture mode.\n"
     ]
    },
    {
     "ename": "IndexError",
     "evalue": "list index out of range",
     "output_type": "error",
     "traceback": [
      "\u001b[0;31m---------------------------------------------------------------------------\u001b[0m",
      "\u001b[0;31mIndexError\u001b[0m                                Traceback (most recent call last)",
      "\u001b[0;32m<ipython-input-30-bca1154dead4>\u001b[0m in \u001b[0;36m<module>\u001b[0;34m()\u001b[0m\n\u001b[1;32m    156\u001b[0m             \u001b[0mself\u001b[0m\u001b[0;34m.\u001b[0m\u001b[0mplot\u001b[0m\u001b[0;34m.\u001b[0m\u001b[0mydata\u001b[0m \u001b[0;34m=\u001b[0m \u001b[0myy2\u001b[0m\u001b[0;34m\u001b[0m\u001b[0m\n\u001b[1;32m    157\u001b[0m \u001b[0;34m\u001b[0m\u001b[0m\n\u001b[0;32m--> 158\u001b[0;31m \u001b[0mw2\u001b[0m \u001b[0;34m=\u001b[0m \u001b[0mTwente\u001b[0m\u001b[0;34m(\u001b[0m\u001b[0;34m)\u001b[0m\u001b[0;34m\u001b[0m\u001b[0m\n\u001b[0m\u001b[1;32m    159\u001b[0m \u001b[0mw2\u001b[0m\u001b[0;34m\u001b[0m\u001b[0m\n",
      "\u001b[0;32m/Users/kuixingshao/miniconda2/lib/python2.7/site-packages/flexx_legacy/ui/_widget.pyc\u001b[0m in \u001b[0;36m__init__\u001b[0;34m(self, **kwargs)\u001b[0m\n\u001b[1;32m    124\u001b[0m \u001b[0;34m\u001b[0m\u001b[0m\n\u001b[1;32m    125\u001b[0m         \u001b[0;31m# Init - pass signal values via kwargs\u001b[0m\u001b[0;34m\u001b[0m\u001b[0;34m\u001b[0m\u001b[0m\n\u001b[0;32m--> 126\u001b[0;31m         \u001b[0mModel\u001b[0m\u001b[0;34m.\u001b[0m\u001b[0m__init__\u001b[0m\u001b[0;34m(\u001b[0m\u001b[0mself\u001b[0m\u001b[0;34m,\u001b[0m \u001b[0;34m**\u001b[0m\u001b[0mkwargs\u001b[0m\u001b[0;34m)\u001b[0m\u001b[0;34m\u001b[0m\u001b[0m\n\u001b[0m\u001b[1;32m    127\u001b[0m \u001b[0;34m\u001b[0m\u001b[0m\n\u001b[1;32m    128\u001b[0m         \u001b[0;31m# All widgets need phosphor\u001b[0m\u001b[0;34m\u001b[0m\u001b[0;34m\u001b[0m\u001b[0m\n",
      "\u001b[0;32m/Users/kuixingshao/miniconda2/lib/python2.7/site-packages/flexx_legacy/app/model.pyc\u001b[0m in \u001b[0;36m__init__\u001b[0;34m(self, session, is_app, **kwargs)\u001b[0m\n\u001b[1;32m    333\u001b[0m         \u001b[0;32mif\u001b[0m \u001b[0msession\u001b[0m \u001b[0;32mis\u001b[0m \u001b[0mNone\u001b[0m\u001b[0;34m:\u001b[0m\u001b[0;34m\u001b[0m\u001b[0m\n\u001b[1;32m    334\u001b[0m             \u001b[0;32mfrom\u001b[0m \u001b[0;34m.\u001b[0m\u001b[0msession\u001b[0m \u001b[0;32mimport\u001b[0m \u001b[0mmanager\u001b[0m\u001b[0;34m\u001b[0m\u001b[0m\n\u001b[0;32m--> 335\u001b[0;31m             \u001b[0msession\u001b[0m \u001b[0;34m=\u001b[0m \u001b[0mmanager\u001b[0m\u001b[0;34m.\u001b[0m\u001b[0mget_default_session\u001b[0m\u001b[0;34m(\u001b[0m\u001b[0;34m)\u001b[0m\u001b[0;34m\u001b[0m\u001b[0m\n\u001b[0m\u001b[1;32m    336\u001b[0m         \u001b[0;32mif\u001b[0m \u001b[0msession\u001b[0m \u001b[0;32mis\u001b[0m \u001b[0mNone\u001b[0m\u001b[0;34m:\u001b[0m\u001b[0;34m\u001b[0m\u001b[0m\n\u001b[1;32m    337\u001b[0m             raise RuntimeError('Cannot instantiate Model %r without a session'\n",
      "\u001b[0;32m/Users/kuixingshao/miniconda2/lib/python2.7/site-packages/flexx_legacy/app/session.pyc\u001b[0m in \u001b[0;36mget_default_session\u001b[0;34m(self)\u001b[0m\n\u001b[1;32m     80\u001b[0m             \u001b[0m_\u001b[0m\u001b[0;34m,\u001b[0m \u001b[0mpending\u001b[0m\u001b[0;34m,\u001b[0m \u001b[0mconnected\u001b[0m \u001b[0;34m=\u001b[0m \u001b[0mx\u001b[0m\u001b[0;34m\u001b[0m\u001b[0m\n\u001b[1;32m     81\u001b[0m             \u001b[0mproxies\u001b[0m \u001b[0;34m=\u001b[0m \u001b[0mpending\u001b[0m \u001b[0;34m+\u001b[0m \u001b[0mconnected\u001b[0m\u001b[0;34m\u001b[0m\u001b[0m\n\u001b[0;32m---> 82\u001b[0;31m             \u001b[0;32mreturn\u001b[0m \u001b[0mproxies\u001b[0m\u001b[0;34m[\u001b[0m\u001b[0;34m-\u001b[0m\u001b[0;36m1\u001b[0m\u001b[0;34m]\u001b[0m\u001b[0;34m\u001b[0m\u001b[0m\n\u001b[0m\u001b[1;32m     83\u001b[0m \u001b[0;34m\u001b[0m\u001b[0m\n\u001b[1;32m     84\u001b[0m     \u001b[0;32mdef\u001b[0m \u001b[0m_clear_old_pending_sessions\u001b[0m\u001b[0;34m(\u001b[0m\u001b[0mself\u001b[0m\u001b[0;34m)\u001b[0m\u001b[0;34m:\u001b[0m\u001b[0;34m\u001b[0m\u001b[0m\n",
      "\u001b[0;31mIndexError\u001b[0m: list index out of range"
     ]
    },
    {
     "data": {
      "application/javascript": [],
      "text/plain": [
       "<IPython.core.display.Javascript object>"
      ]
     },
     "metadata": {},
     "output_type": "display_data"
    }
   ],
   "source": [
    "from flexx import app, ui, event\n",
    "\n",
    "# Raw data obtained from\n",
    "# http://www.knmi.nl/klimatologie/maandgegevens/datafiles/mndgeg_290_tg.txt\n",
    "\n",
    "raw_data = \"\"\"\n",
    "Deze gegevens mogen vrij worden gebruikt mits de volgende bronvermelding wordt gegeven:\n",
    "KONINKLIJK NEDERLANDS METEOROLOGISCH INSTITUUT (KNMI)\n",
    "\n",
    "These data can be used freely provided that the following source is acknowledged:\n",
    "ROYAL NETHERLANDS METEOROLOGICAL INSTITUTE\n",
    "\n",
    "MAAND- en JAARGEMIDDELDE TEMPERATUREN (0.1 graden Celsius)\n",
    "MONTHLY AND YEARLY MEAN TEMPERATURES (0.1 degrees Celsius)\n",
    "\n",
    "STN = stationsnummer / WMO-number = 06... (235=De Kooy,240=Schiphol,260=De Bilt,270=Leeuwarden,280=Eelde,\n",
    "      290=Twenthe,310=Vlissingen,344=Rotterdam,370=Eindhoven,380=Maastricht)\n",
    "\n",
    "\n",
    "STN,YYYY,   JAN,   FEB,   MAR,   APR,   MAY,   JUN,   JUL,   AUG,   SEP,   OCT,   NOV,   DEC,  YEAR\n",
    "\n",
    "290,1951,    35,    35,    34,    74,   120,   154,   169,   171,   155,    85,    82,    44,    97\n",
    "290,1952,    19,    20,    43,   107,   129,   149,   172,   173,   111,    80,    23,    10,    86\n",
    "290,1953,    11,    15,    47,    91,   133,   162,   170,   167,   140,   115,    71,    48,    98\n",
    "290,1954,   -11,   -10,    57,    65,   128,   156,   142,   160,   138,   116,    65,    51,    88\n",
    "290,1955,    -1,    -5,    16,    82,   100,   146,   179,   181,   146,    92,    58,    42,    86\n",
    "290,1956,    17,   -71,    50,    50,   127,   130,   166,   140,   146,    94,    46,    49,    79\n",
    "290,1957,    32,    49,    80,    83,   102,   166,   176,   156,   124,   107,    60,    24,    97\n",
    "290,1958,    16,    32,    15,    62,   129,   148,   168,   177,   157,   109,    54,    44,    93\n",
    "290,1959,    12,     7,    72,   103,   131,   164,   192,   180,   156,   111,    52,    39,   102\n",
    "290,1960,    21,    25,    55,    88,   130,   161,   153,   155,   133,   107,    73,    26,    94\n",
    "290,1961,    14,    61,    71,   104,   106,   157,   152,   158,   172,   114,    45,     8,    97\n",
    "290,1962,    31,    21,    14,    80,    99,   135,   145,   152,   127,   104,    39,   -14,    78\n",
    "290,1963,   -63,   -38,    45,    91,   112,   158,   165,   153,   137,    91,    81,   -15,    76\n",
    "290,1964,    -1,    28,    23,    91,   143,   156,   169,   161,   142,    78,    58,    20,    89\n",
    "290,1965,    24,    11,    37,    76,   117,   150,   147,   152,   131,    98,    19,    38,    83\n",
    "290,1966,    -3,    37,    46,    87,   135,   171,   155,   158,   134,   111,    38,    36,    92\n",
    "290,1967,    32,    48,    64,    70,   128,   146,   181,   163,   141,   116,    47,    25,    97\n",
    "290,1968,     7,    13,    59,    95,   106,   155,   161,   168,   142,   111,    50,    -7,    88\n",
    "290,1969,    37,    -7,    13,    77,   129,   145,   175,   168,   137,   115,    60,   -25,    85\n",
    "290,1970,    -4,     4,    21,    56,   125,   170,   154,   165,   136,    99,    72,    18,    85\n",
    "290,1971,    22,    32,    23,    78,   138,   138,   170,   171,   125,    97,    46,    50,    91\n",
    "290,1972,    -3,    34,    61,    71,   116,   137,   172,   151,   108,    82,    53,    32,    85\n",
    "290,1973,    23,    23,    49,    54,   119,   160,   171,   176,   145,    83,    49,    23,    90\n",
    "290,1974,    51,    42,    55,    85,   112,   143,   147,   164,   129,    64,    62,    66,    93\n",
    "290,1975,    62,    27,    43,    69,   108,   147,   176,   195,   148,    77,    45,    23,    93\n",
    "290,1976,    26,    19,    22,    71,   129,   173,   188,   170,   134,   107,    61,     7,    92\n",
    "290,1977,    22,    45,    68,    60,   117,   143,   161,   158,   126,   114,    61,    42,    93\n",
    "290,1978,    27,     2,    61,    67,   121,   145,   150,   147,   136,   110,    66,    13,    87\n",
    "290,1979,   -39,   -22,    41,    73,   116,   150,   150,   151,   125,    96,    45,    46,    78\n",
    "290,1980,    -8,    38,    38,    74,   115,   145,   153,   166,   146,    87,    42,    29,    85\n",
    "290,1981,    16,     9,    81,    87,   138,   147,   163,   164,   148,    85,    60,   -10,    91\n",
    "290,1982,     3,    23,    50,    71,   122,   161,   186,   169,   160,   112,    76,    31,    97\n",
    "290,1983,    57,     0,    56,    89,   111,   159,   191,   174,   134,    94,    54,    27,    96\n",
    "290,1984,    23,    14,    33,    71,   100,   129,   150,   168,   124,   109,    73,    35,    86\n",
    "290,1985,   -46,   -14,    35,    81,   132,   131,   165,   150,   132,    97,    17,    52,    78\n",
    "290,1986,    16,   -46,    45,    68,   137,   160,   162,   151,   105,   109,    77,    41,    85\n",
    "290,1987,   -40,    17,    13,   103,    99,   137,   163,   155,   145,   104,    61,    38,    83\n",
    "290,1988,    58,    42,    43,    81,   144,   145,   160,   166,   139,   104,    53,    55,    99\n",
    "290,1989,    41,    48,    77,    65,   138,   159,   178,   171,   154,   122,    50,    44,   104\n",
    "290,1990,    50,    73,    79,    84,   138,   151,   161,   182,   122,   119,    54,    35,   104\n",
    "290,1991,    29,    -9,    83,    81,    97,   126,   188,   173,   147,    94,    50,    32,    91\n",
    "290,1992,    22,    47,    64,    83,   154,   170,   182,   180,   143,    73,    74,    33,   102\n",
    "290,1993,    42,    12,    51,   112,   142,   152,   157,   146,   125,    86,    15,    44,    90\n",
    "290,1994,    44,     6,    70,    81,   123,   151,   213,   174,   133,    86,    87,    48,   101\n",
    "290,1995,    27,    60,    46,    89,   124,   145,   200,   187,   136,   124,    55,   -16,    98\n",
    "290,1996,   -16,   -10,    23,    89,   106,   151,   161,   175,   115,    99,    52,    -6,    78\n",
    "290,1997,   -17,    58,    72,    70,   124,   157,   173,   201,   134,    89,    57,    41,    97\n",
    "290,1998,    43,    57,    67,    90,   144,   155,   159,   160,   144,    90,    29,    35,    98\n",
    "290,1999,    45,    26,    66,    97,   135,   149,   188,   172,   177,   101,    59,    41,   105\n",
    "290,2000,    37,    52,    63,   102,   145,   160,   152,   169,   150,   111,    77,    46,   105\n",
    "290,2001,    22,    37,    42,    79,   140,   147,   183,   183,   128,   140,    61,    21,    99\n",
    "290,2002,    39,    65,    64,    89,   135,   167,   174,   186,   139,    86,    71,    16,   103\n",
    "290,2003,    16,     7,    68,    93,   134,   179,   185,   193,   139,    66,    78,    33,    99\n",
    "290,2004,    27,    40,    53,   103,   116,   152,   165,   188,   149,   110,    54,    27,    99\n",
    "290,2005,    43,    14,    58,   102,   125,   162,   176,   157,   152,   129,    61,    33,   101\n",
    "290,2006,     4,    18,    32,    85,   143,   168,   222,   159,   177,   136,    88,    62,   108\n",
    "290,2007,    61,    54,    74,   125,   139,   174,   169,   168,   133,    93,    61,    31,   107\n",
    "290,2008,    59,    47,    53,    83,   150,   164,   180,   173,   131,    97,    62,    18,   101\n",
    "290,2009,     1,    26,    55,   125,   137,   153,   178,   182,   144,    93,    94,    17,   100\n",
    "290,2010,   -17,     9,    58,    93,   100,   164,   204,   164,   126,    95,    52,   -27,    85\n",
    "290,2011,    27,    36,    52,   124,   138,   162,   158,   168,   152,   106,    60,    55,   103\n",
    "290,2012,    36,     1,    77,    82,   145,   145,   169,   184,   134,    96,    64,    41,    98\n",
    "290,2013,    15,     9,    12,    82,   116,   154,   188,   179,   138,   118,    59,    55,    94\n",
    "290,2014,    48,    64,    81,   118,   127,   157,   195,   157,   153,   132,    80,    41,   113\n",
    "\"\"\"\n",
    "\n",
    "def parse_data(raw_data):\n",
    "    years, data = [], [[] for i in range(13)]\n",
    "    for line in raw_data.splitlines():\n",
    "        if line.startswith('290'):\n",
    "            parts = [int(i.strip()) for i in line.split(',')]\n",
    "            years.append(parts[1])\n",
    "            for i in range(13):\n",
    "                data[i].append(parts[i+2]/10.0)\n",
    "    return years, data\n",
    "\n",
    "years, data = parse_data(raw_data)\n",
    "\n",
    "\n",
    "class Twente(ui.Widget):\n",
    "\n",
    "    def init(self):\n",
    "\n",
    "        with ui.HBox():\n",
    "            ui.Widget(flex=1)\n",
    "            with ui.VBox(flex=0):\n",
    "                with ui.GroupWidget(title='Plot options'):\n",
    "                    with ui.VBox():\n",
    "                        self.month_label = ui.Label(text='Month')\n",
    "                        self.month = ui.Slider(max=12, step=1, value=12)\n",
    "                        self.smoothing_label = ui.Label(text='Smoothing')\n",
    "                        self.smoothing = ui.Slider(max=20, step=2)\n",
    "                ui.Widget(flex=1)\n",
    "            with ui.VBox(flex=4):\n",
    "                self.plot = ui.PlotWidget(flex=1,\n",
    "                                            xdata=years, yrange=(-5, 20),\n",
    "                                           #adding another curve xdata=years+1, yrange=(-5, 20), \n",
    "                                            title='Average monthly temperature',\n",
    "                                            xlabel='year', ylabel=u'temperature (°C)')\n",
    "                # ui.Widget(flex=0, style='height:30px')\n",
    "            ui.Widget(flex=1)\n",
    "\n",
    "    class JS:\n",
    "\n",
    "        data = data\n",
    "        months = ['Jan', 'Feb', 'Mar', 'Apr', 'May', 'Jun', 'Jul',\n",
    "                  'Aug', 'Sep', 'Oct', 'Nov', 'Dec', 'total']\n",
    "\n",
    "        def init(self):\n",
    "            super().init()\n",
    "            self._update_plot()\n",
    "\n",
    "        @event.connect('month.value', 'smoothing.value')\n",
    "        def _update_plot(self, *events):\n",
    "            month = self.month.value\n",
    "            smoothing = self.smoothing.value\n",
    "            self.month_label.text = 'Month (%s)' % self.months[month]\n",
    "            self.smoothing_label.txt = 'Smoothing (%i)' % smoothing\n",
    "\n",
    "            yy1 = self.data[month]\n",
    "            yy2 = []\n",
    "\n",
    "            sm2 = int(smoothing / 2)\n",
    "            for i in range(len(yy1)):\n",
    "                val = 0\n",
    "                n = 0\n",
    "                for j in range(max(0, i-sm2), min(len(yy1), i+sm2+1)):\n",
    "                    val += yy1[j]\n",
    "                    n += 1\n",
    "                if n == 0:\n",
    "                    yy2.append(yy1[i])\n",
    "                else:\n",
    "                    yy2.append(val / n)\n",
    "\n",
    "            self.plot.ydata = yy2\n",
    "\n",
    "w2 = Twente()\n",
    "w2"
   ]
  },
  {
   "cell_type": "code",
   "execution_count": 25,
   "metadata": {
    "collapsed": false,
    "extensions": {
     "jupyter_dashboards": {
      "version": 1,
      "views": {
       "grid_default": {
        "hidden": true
       },
       "report_default": {
        "hidden": true
       }
      }
     }
    },
    "nbpresent": {
     "id": "17687042-0cf2-4156-88f5-3a98f91a81a2"
    }
   },
   "outputs": [
    {
     "data": {
      "application/javascript": [],
      "text/plain": [
       "<IPython.core.display.Javascript object>"
      ]
     },
     "metadata": {},
     "output_type": "display_data"
    }
   ],
   "source": [
    "import pandas as pd"
   ]
  },
  {
   "cell_type": "code",
   "execution_count": 26,
   "metadata": {
    "collapsed": false,
    "extensions": {
     "jupyter_dashboards": {
      "version": 1,
      "views": {
       "grid_default": {
        "col": 7,
        "height": 4,
        "hidden": false,
        "row": 8,
        "width": 4
       },
       "report_default": {
        "hidden": false
       }
      }
     }
    },
    "nbpresent": {
     "id": "01e55d0a-cf7c-4d60-b0a8-41c8eab8285c"
    }
   },
   "outputs": [
    {
     "data": {
      "text/plain": [
       "(13, 64)"
      ]
     },
     "execution_count": 26,
     "metadata": {},
     "output_type": "execute_result"
    },
    {
     "data": {
      "application/javascript": [],
      "text/plain": [
       "<IPython.core.display.Javascript object>"
      ]
     },
     "metadata": {},
     "output_type": "display_data"
    }
   ],
   "source": [
    "df = pd.DataFrame(data)\n",
    "df.shape"
   ]
  },
  {
   "cell_type": "code",
   "execution_count": null,
   "metadata": {
    "collapsed": true,
    "extensions": {
     "jupyter_dashboards": {
      "version": 1,
      "views": {
       "grid_default": {
        "hidden": true
       },
       "report_default": {
        "hidden": true
       }
      }
     }
    },
    "nbpresent": {
     "id": "bd64cdcf-0410-4e3c-a931-d0c46b0f9e9d"
    }
   },
   "outputs": [],
   "source": []
  }
 ],
 "metadata": {
  "anaconda-cloud": {},
  "extensions": {
   "jupyter_dashboards": {
    "activeView": "report_default",
    "version": 1,
    "views": {
     "grid_default": {
      "cellMargin": 10,
      "defaultCellHeight": 20,
      "maxColumns": 12,
      "name": "grid",
      "type": "grid"
     },
     "report_default": {
      "name": "report",
      "type": "report"
     }
    }
   }
  },
  "kernelspec": {
   "display_name": "Python [default]",
   "language": "python",
   "name": "python2"
  },
  "language_info": {
   "codemirror_mode": {
    "name": "ipython",
    "version": 2
   },
   "file_extension": ".py",
   "mimetype": "text/x-python",
   "name": "python",
   "nbconvert_exporter": "python",
   "pygments_lexer": "ipython2",
   "version": "2.7.12"
  },
  "nbpresent": {
   "slides": {
    "32cbb138-f82c-4325-9ab5-a0f9aaa59769": {
     "id": "32cbb138-f82c-4325-9ab5-a0f9aaa59769",
     "prev": "3cfc3613-ee30-4db6-b76d-9f4f44278594",
     "regions": {
      "339cb1dc-ebb6-4395-ac40-b5210b29076c": {
       "attrs": {
        "height": 0.8,
        "width": 0.8,
        "x": 0.1,
        "y": 0.1
       },
       "content": {
        "cell": "8a637491-c54a-4b14-9b32-0875111ca0cc",
        "part": "whole"
       },
       "id": "339cb1dc-ebb6-4395-ac40-b5210b29076c"
      }
     }
    },
    "3b0b1584-7e7a-46de-adae-5964605d4c0d": {
     "id": "3b0b1584-7e7a-46de-adae-5964605d4c0d",
     "prev": "6aa049ff-26d3-48e0-9f7a-506e7505703f",
     "regions": {
      "92549b46-e458-470e-942f-3d97a8297964": {
       "attrs": {
        "height": 0.8,
        "width": 0.8,
        "x": 0.1,
        "y": 0.1
       },
       "content": {
        "cell": "eda0c447-e5d0-4cad-961c-efcddd9bfac0",
        "part": "whole"
       },
       "id": "92549b46-e458-470e-942f-3d97a8297964"
      }
     }
    },
    "3cfc3613-ee30-4db6-b76d-9f4f44278594": {
     "id": "3cfc3613-ee30-4db6-b76d-9f4f44278594",
     "prev": "868b431c-2074-4fd3-9aad-d77054c050ba",
     "regions": {
      "5e20d23a-fb15-4ee1-8b74-c4353a451127": {
       "attrs": {
        "height": 0.8,
        "width": 0.8,
        "x": 0.1,
        "y": 0.1
       },
       "content": {
        "cell": "4d323593-b241-4470-b7ef-e2ad8a024b25",
        "part": "whole"
       },
       "id": "5e20d23a-fb15-4ee1-8b74-c4353a451127"
      }
     }
    },
    "67e421bc-b92e-4a7f-8bbd-9a06cf4ca747": {
     "id": "67e421bc-b92e-4a7f-8bbd-9a06cf4ca747",
     "prev": "cdd9a8be-70f7-4563-9566-8b9fd1546623",
     "regions": {
      "da84b187-c86e-4199-bbb2-fddf8302725a": {
       "attrs": {
        "height": 0.8,
        "width": 0.8,
        "x": 0.1,
        "y": 0.1
       },
       "content": {
        "cell": "fb30156b-d4fb-4824-9d03-e9e8ac83bfcf",
        "part": "whole"
       },
       "id": "da84b187-c86e-4199-bbb2-fddf8302725a"
      }
     }
    },
    "68314915-eff3-4025-bd25-153bedb339db": {
     "id": "68314915-eff3-4025-bd25-153bedb339db",
     "prev": "67e421bc-b92e-4a7f-8bbd-9a06cf4ca747",
     "regions": {
      "228ebd3a-3253-4dfb-b15e-3290a1712aef": {
       "attrs": {
        "height": 0.8,
        "width": 0.8,
        "x": 0.1,
        "y": 0.1
       },
       "content": {
        "cell": "01e55d0a-cf7c-4d60-b0a8-41c8eab8285c",
        "part": "whole"
       },
       "id": "228ebd3a-3253-4dfb-b15e-3290a1712aef"
      }
     }
    },
    "6aa049ff-26d3-48e0-9f7a-506e7505703f": {
     "id": "6aa049ff-26d3-48e0-9f7a-506e7505703f",
     "prev": "8a9f3133-28bf-4e55-a4f5-0a01e408b584",
     "regions": {
      "0cc6c46c-2403-4a19-90d9-a027dea761bf": {
       "attrs": {
        "height": 0.8,
        "width": 0.8,
        "x": 0.1,
        "y": 0.1
       },
       "content": {
        "cell": "cc80f5c5-c6e8-40a6-85ff-dc08a70ccf20",
        "part": "whole"
       },
       "id": "0cc6c46c-2403-4a19-90d9-a027dea761bf"
      }
     }
    },
    "7e004397-2103-4a48-9259-a9ff0fbb1cc0": {
     "id": "7e004397-2103-4a48-9259-a9ff0fbb1cc0",
     "prev": "68314915-eff3-4025-bd25-153bedb339db",
     "regions": {
      "ba240cb3-fafb-4acc-b43d-4d5c9b710ce1": {
       "attrs": {
        "height": 0.8,
        "width": 0.8,
        "x": 0.1,
        "y": 0.1
       },
       "content": {
        "cell": "bd64cdcf-0410-4e3c-a931-d0c46b0f9e9d",
        "part": "whole"
       },
       "id": "ba240cb3-fafb-4acc-b43d-4d5c9b710ce1"
      }
     }
    },
    "868b431c-2074-4fd3-9aad-d77054c050ba": {
     "id": "868b431c-2074-4fd3-9aad-d77054c050ba",
     "prev": "3b0b1584-7e7a-46de-adae-5964605d4c0d",
     "regions": {
      "47579271-49fb-45d6-8c72-fd192cbb925f": {
       "attrs": {
        "height": 0.8,
        "width": 0.8,
        "x": 0.1,
        "y": 0.1
       },
       "content": {
        "cell": "c31ef0a7-9eec-4499-86a4-e4e227933733",
        "part": "whole"
       },
       "id": "47579271-49fb-45d6-8c72-fd192cbb925f"
      }
     }
    },
    "8a9f3133-28bf-4e55-a4f5-0a01e408b584": {
     "id": "8a9f3133-28bf-4e55-a4f5-0a01e408b584",
     "prev": null,
     "regions": {
      "cc92e856-c5e6-4649-bfb4-ee52559c6527": {
       "attrs": {
        "height": 0.8,
        "width": 0.8,
        "x": 0.1,
        "y": 0.1
       },
       "content": {
        "cell": "d0fecbe6-e12d-47f3-8b5d-eb0c87d8ec0d",
        "part": "whole"
       },
       "id": "cc92e856-c5e6-4649-bfb4-ee52559c6527"
      }
     }
    },
    "cdd9a8be-70f7-4563-9566-8b9fd1546623": {
     "id": "cdd9a8be-70f7-4563-9566-8b9fd1546623",
     "prev": "32cbb138-f82c-4325-9ab5-a0f9aaa59769",
     "regions": {
      "101e4662-5d18-4b7f-9737-f5123c23a19f": {
       "attrs": {
        "height": 0.8,
        "width": 0.8,
        "x": 0.1,
        "y": 0.1
       },
       "content": {
        "cell": "6abd338a-c4c4-4a34-b8c8-089f7816fd29",
        "part": "whole"
       },
       "id": "101e4662-5d18-4b7f-9737-f5123c23a19f"
      }
     }
    }
   },
   "themes": {
    "default": "7a23a1cf-fb1f-4f26-afb2-d73f8de7cebd",
    "theme": {
     "7a23a1cf-fb1f-4f26-afb2-d73f8de7cebd": {
      "backgrounds": {
       "dc7afa04-bf90-40b1-82a5-726e3cff5267": {
        "background-color": "31af15d2-7e15-44c5-ab5e-e04b16a89eff",
        "id": "dc7afa04-bf90-40b1-82a5-726e3cff5267"
       }
      },
      "id": "7a23a1cf-fb1f-4f26-afb2-d73f8de7cebd",
      "palette": {
       "19cc588f-0593-49c9-9f4b-e4d7cc113b1c": {
        "id": "19cc588f-0593-49c9-9f4b-e4d7cc113b1c",
        "rgb": [
         252,
         252,
         252
        ]
       },
       "31af15d2-7e15-44c5-ab5e-e04b16a89eff": {
        "id": "31af15d2-7e15-44c5-ab5e-e04b16a89eff",
        "rgb": [
         68,
         68,
         68
        ]
       },
       "50f92c45-a630-455b-aec3-788680ec7410": {
        "id": "50f92c45-a630-455b-aec3-788680ec7410",
        "rgb": [
         197,
         226,
         245
        ]
       },
       "c5cc3653-2ee1-402a-aba2-7caae1da4f6c": {
        "id": "c5cc3653-2ee1-402a-aba2-7caae1da4f6c",
        "rgb": [
         43,
         126,
         184
        ]
       },
       "efa7f048-9acb-414c-8b04-a26811511a21": {
        "id": "efa7f048-9acb-414c-8b04-a26811511a21",
        "rgb": [
         25.118061674008803,
         73.60176211453744,
         107.4819383259912
        ]
       }
      },
      "rules": {
       "a": {
        "color": "19cc588f-0593-49c9-9f4b-e4d7cc113b1c"
       },
       "blockquote": {
        "color": "50f92c45-a630-455b-aec3-788680ec7410",
        "font-size": 3
       },
       "code": {
        "font-family": "Anonymous Pro"
       },
       "h1": {
        "color": "19cc588f-0593-49c9-9f4b-e4d7cc113b1c",
        "font-family": "Merriweather",
        "font-size": 8
       },
       "h2": {
        "color": "19cc588f-0593-49c9-9f4b-e4d7cc113b1c",
        "font-family": "Merriweather",
        "font-size": 6
       },
       "h3": {
        "color": "50f92c45-a630-455b-aec3-788680ec7410",
        "font-family": "Lato",
        "font-size": 5.5
       },
       "h4": {
        "color": "c5cc3653-2ee1-402a-aba2-7caae1da4f6c",
        "font-family": "Lato",
        "font-size": 5
       },
       "h5": {
        "font-family": "Lato"
       },
       "h6": {
        "font-family": "Lato"
       },
       "h7": {
        "font-family": "Lato"
       },
       "li": {
        "color": "50f92c45-a630-455b-aec3-788680ec7410",
        "font-size": 3.25
       },
       "pre": {
        "font-family": "Anonymous Pro",
        "font-size": 4
       }
      },
      "text-base": {
       "color": "19cc588f-0593-49c9-9f4b-e4d7cc113b1c",
       "font-family": "Lato",
       "font-size": 4
      }
     }
    }
   }
  }
 },
 "nbformat": 4,
 "nbformat_minor": 1
}
