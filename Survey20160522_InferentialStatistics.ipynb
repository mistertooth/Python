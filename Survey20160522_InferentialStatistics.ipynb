{
 "cells": [
  {
   "cell_type": "code",
   "execution_count": 48,
   "metadata": {
    "collapsed": false
   },
   "outputs": [
    {
     "data": {
      "text/html": [
       "<script>\n",
       "code_show=true;\n",
       "function code_toggle() {\n",
       " if (code_show){\n",
       " $('div.input').hide();\n",
       " } else {\n",
       " $('div.input').show();\n",
       " }\n",
       " code_show = !code_show\n",
       "}\n",
       "$( document ).ready(code_toggle);\n",
       "</script>\n",
       "<form action=\"javascript:code_toggle()\"><input type=\"submit\" \n",
       "value=\"Click here to toggle on/off the code.\"></form>"
      ],
      "text/plain": [
       "<IPython.core.display.HTML object>"
      ]
     },
     "execution_count": 48,
     "metadata": {},
     "output_type": "execute_result"
    }
   ],
   "source": [
    "from IPython.display import HTML\n",
    "\n",
    "HTML('''<script>\n",
    "code_show=true;\n",
    "function code_toggle() {\n",
    " if (code_show){\n",
    " $('div.input').hide();\n",
    " } else {\n",
    " $('div.input').show();\n",
    " }\n",
    " code_show = !code_show\n",
    "}\n",
    "$( document ).ready(code_toggle);\n",
    "</script>\n",
    "<form action=\"javascript:code_toggle()\"><input type=\"submit\" \n",
    "value=\"Click here to toggle on/off the code.\"></form>''')"
   ]
  },
  {
   "cell_type": "markdown",
   "metadata": {},
   "source": [
    "# Inferential Analysis on Brand Impact Survey\n"
   ]
  },
  {
   "cell_type": "code",
   "execution_count": 2,
   "metadata": {
    "collapsed": true
   },
   "outputs": [],
   "source": [
    "import pandas as pd\n",
    "import numpy as np\n",
    "import matplotlib.pyplot as plt\n",
    "import seaborn as sns\n",
    "# this allows plots to appear directly in the notebook\n",
    "%matplotlib inline\n",
    "plt.rcParams['figure.figsize'] = (8, 6)\n",
    "plt.rcParams['font.size'] = 14\n",
    "# pip install patsy\n",
    "# pip install statsmodels\n",
    "import statsmodels.formula.api as smf\n",
    "# Set ipython's max row display\n",
    "pd.set_option('display.max_row', 1000)\n",
    "\n",
    "# Set iPython's max column width to 50\n",
    "pd.set_option('display.max_columns', 50)\n",
    "\n",
    "from IPython.core.display import display, HTML"
   ]
  },
  {
   "cell_type": "code",
   "execution_count": 8,
   "metadata": {
    "collapsed": false
   },
   "outputs": [
    {
     "data": {
      "text/html": [
       "<div>\n",
       "<table border=\"1\" class=\"dataframe\">\n",
       "  <thead>\n",
       "    <tr style=\"text-align: right;\">\n",
       "      <th></th>\n",
       "      <th>surveyid</th>\n",
       "      <th>answersetid</th>\n",
       "      <th>uid</th>\n",
       "      <th>deliveryid</th>\n",
       "      <th>adspaceid</th>\n",
       "      <th>apptype</th>\n",
       "      <th>apptypegroupid</th>\n",
       "      <th>iab_adspace_category</th>\n",
       "      <th>originaladid</th>\n",
       "      <th>iab_ad_category</th>\n",
       "      <th>adname</th>\n",
       "      <th>templatetype</th>\n",
       "      <th>size</th>\n",
       "      <th>video</th>\n",
       "      <th>streamview</th>\n",
       "      <th>storelocator</th>\n",
       "      <th>swipe</th>\n",
       "      <th>iosversion</th>\n",
       "      <th>androidversion</th>\n",
       "      <th>platform</th>\n",
       "      <th>modelid</th>\n",
       "      <th>screensize</th>\n",
       "      <th>screenwidth</th>\n",
       "      <th>browserid</th>\n",
       "      <th>browser</th>\n",
       "      <th>sdkclientid</th>\n",
       "      <th>sdkclientname</th>\n",
       "      <th>ipcity</th>\n",
       "      <th>contype</th>\n",
       "      <th>con</th>\n",
       "      <th>rss</th>\n",
       "      <th>click</th>\n",
       "      <th>firstinteraction</th>\n",
       "      <th>close</th>\n",
       "      <th>click_adjusted</th>\n",
       "      <th>close_adjusted</th>\n",
       "      <th>vtabove0pct</th>\n",
       "      <th>vtabove10pct</th>\n",
       "      <th>vtabove20pct</th>\n",
       "      <th>vtabove30pct</th>\n",
       "      <th>vtabove40pct</th>\n",
       "      <th>vtabove50pct</th>\n",
       "      <th>vtabove60pct</th>\n",
       "      <th>vtabove70pct</th>\n",
       "      <th>vtabove80pct</th>\n",
       "      <th>vtabove90pct</th>\n",
       "      <th>vtabove100pct</th>\n",
       "    </tr>\n",
       "  </thead>\n",
       "  <tbody>\n",
       "    <tr>\n",
       "      <th>38126</th>\n",
       "      <td>447</td>\n",
       "      <td>347127</td>\n",
       "      <td>2372328936987073210</td>\n",
       "      <td>93907940568</td>\n",
       "      <td>3631</td>\n",
       "      <td>IPHONE_APP</td>\n",
       "      <td>MOBILE_APP</td>\n",
       "      <td>Arts &amp; Entertainment</td>\n",
       "      <td>38658</td>\n",
       "      <td>Gambling/Casino</td>\n",
       "      <td>OSE002897 Casumo Januari Adsync Takeover - AdS...</td>\n",
       "      <td>swipe</td>\n",
       "      <td>takeover</td>\n",
       "      <td>0</td>\n",
       "      <td>0</td>\n",
       "      <td>0</td>\n",
       "      <td>1</td>\n",
       "      <td>19000</td>\n",
       "      <td>(null)</td>\n",
       "      <td>ios</td>\n",
       "      <td>104772</td>\n",
       "      <td>4.7</td>\n",
       "      <td>750</td>\n",
       "      <td>7</td>\n",
       "      <td>Mobile Safari</td>\n",
       "      <td>1</td>\n",
       "      <td>iossdk</td>\n",
       "      <td>(null)</td>\n",
       "      <td>lte</td>\n",
       "      <td>3</td>\n",
       "      <td>(null)</td>\n",
       "      <td>0</td>\n",
       "      <td>0</td>\n",
       "      <td>1</td>\n",
       "      <td>0</td>\n",
       "      <td>1</td>\n",
       "      <td>1798</td>\n",
       "      <td>1798</td>\n",
       "      <td>1798</td>\n",
       "      <td>1798</td>\n",
       "      <td>1798</td>\n",
       "      <td>1798</td>\n",
       "      <td>1798</td>\n",
       "      <td>1798</td>\n",
       "      <td>1798</td>\n",
       "      <td>1798</td>\n",
       "      <td>1798</td>\n",
       "    </tr>\n",
       "    <tr>\n",
       "      <th>8060</th>\n",
       "      <td>498</td>\n",
       "      <td>394389</td>\n",
       "      <td>413866027122445885</td>\n",
       "      <td>97261102528</td>\n",
       "      <td>7526</td>\n",
       "      <td>MOBILE_WEB</td>\n",
       "      <td>MOBILE_WEB</td>\n",
       "      <td>Style &amp; Fashion</td>\n",
       "      <td>39435</td>\n",
       "      <td>Food &amp; Drink</td>\n",
       "      <td>OFI001807 Bunge Finland Oy Bunge, Älva Ruotsi ...</td>\n",
       "      <td>takeover</td>\n",
       "      <td>takeover</td>\n",
       "      <td>0</td>\n",
       "      <td>0</td>\n",
       "      <td>0</td>\n",
       "      <td>0</td>\n",
       "      <td>19100</td>\n",
       "      <td>(null)</td>\n",
       "      <td>ios</td>\n",
       "      <td>110834</td>\n",
       "      <td>4.7</td>\n",
       "      <td>750</td>\n",
       "      <td>7</td>\n",
       "      <td>Mobile Safari</td>\n",
       "      <td>5</td>\n",
       "      <td>dynamic</td>\n",
       "      <td>Eslöv</td>\n",
       "      <td>(null)</td>\n",
       "      <td>3</td>\n",
       "      <td>(null)</td>\n",
       "      <td>0</td>\n",
       "      <td>0</td>\n",
       "      <td>0</td>\n",
       "      <td>0</td>\n",
       "      <td>0</td>\n",
       "      <td>63</td>\n",
       "      <td>63</td>\n",
       "      <td>63</td>\n",
       "      <td>63</td>\n",
       "      <td>63</td>\n",
       "      <td>63</td>\n",
       "      <td>63</td>\n",
       "      <td>63</td>\n",
       "      <td>63</td>\n",
       "      <td>63</td>\n",
       "      <td>63</td>\n",
       "    </tr>\n",
       "    <tr>\n",
       "      <th>79930</th>\n",
       "      <td>316</td>\n",
       "      <td>235532</td>\n",
       "      <td>6834545996892502619</td>\n",
       "      <td>87254645084</td>\n",
       "      <td>1947</td>\n",
       "      <td>MOBILE_WEB</td>\n",
       "      <td>MOBILE_WEB</td>\n",
       "      <td>Sports</td>\n",
       "      <td>35772</td>\n",
       "      <td>U.S. Government Resources</td>\n",
       "      <td>OSE002723 Försvarsmakten Officer Takeover -Sta...</td>\n",
       "      <td>takeover</td>\n",
       "      <td>takeover</td>\n",
       "      <td>0</td>\n",
       "      <td>0</td>\n",
       "      <td>0</td>\n",
       "      <td>0</td>\n",
       "      <td>(null)</td>\n",
       "      <td>25100</td>\n",
       "      <td>android</td>\n",
       "      <td>106563</td>\n",
       "      <td>5.0</td>\n",
       "      <td>1080</td>\n",
       "      <td>2</td>\n",
       "      <td>Chrome Mobile</td>\n",
       "      <td>5</td>\n",
       "      <td>dynamic</td>\n",
       "      <td>Stockholm</td>\n",
       "      <td>(null)</td>\n",
       "      <td>0</td>\n",
       "      <td>(null)</td>\n",
       "      <td>0</td>\n",
       "      <td>0</td>\n",
       "      <td>0</td>\n",
       "      <td>0</td>\n",
       "      <td>0</td>\n",
       "      <td>23571</td>\n",
       "      <td>23571</td>\n",
       "      <td>23571</td>\n",
       "      <td>23571</td>\n",
       "      <td>23571</td>\n",
       "      <td>23571</td>\n",
       "      <td>23571</td>\n",
       "      <td>23571</td>\n",
       "      <td>23571</td>\n",
       "      <td>23571</td>\n",
       "      <td>0</td>\n",
       "    </tr>\n",
       "  </tbody>\n",
       "</table>\n",
       "</div>"
      ],
      "text/plain": [
       "       surveyid  answersetid                  uid   deliveryid  adspaceid  \\\n",
       "38126       447       347127  2372328936987073210  93907940568       3631   \n",
       "8060        498       394389   413866027122445885  97261102528       7526   \n",
       "79930       316       235532  6834545996892502619  87254645084       1947   \n",
       "\n",
       "          apptype apptypegroupid  iab_adspace_category  originaladid  \\\n",
       "38126  IPHONE_APP     MOBILE_APP  Arts & Entertainment         38658   \n",
       "8060   MOBILE_WEB     MOBILE_WEB       Style & Fashion         39435   \n",
       "79930  MOBILE_WEB     MOBILE_WEB                Sports         35772   \n",
       "\n",
       "                 iab_ad_category  \\\n",
       "38126            Gambling/Casino   \n",
       "8060                Food & Drink   \n",
       "79930  U.S. Government Resources   \n",
       "\n",
       "                                                  adname templatetype  \\\n",
       "38126  OSE002897 Casumo Januari Adsync Takeover - AdS...        swipe   \n",
       "8060   OFI001807 Bunge Finland Oy Bunge, Älva Ruotsi ...     takeover   \n",
       "79930  OSE002723 Försvarsmakten Officer Takeover -Sta...     takeover   \n",
       "\n",
       "           size  video  streamview  storelocator  swipe iosversion  \\\n",
       "38126  takeover      0           0             0      1      19000   \n",
       "8060   takeover      0           0             0      0      19100   \n",
       "79930  takeover      0           0             0      0     (null)   \n",
       "\n",
       "      androidversion platform modelid screensize screenwidth  browserid  \\\n",
       "38126         (null)      ios  104772        4.7         750          7   \n",
       "8060          (null)      ios  110834        4.7         750          7   \n",
       "79930          25100  android  106563        5.0        1080          2   \n",
       "\n",
       "             browser  sdkclientid sdkclientname     ipcity contype  con  \\\n",
       "38126  Mobile Safari            1        iossdk     (null)     lte    3   \n",
       "8060   Mobile Safari            5       dynamic      Eslöv  (null)    3   \n",
       "79930  Chrome Mobile            5       dynamic  Stockholm  (null)    0   \n",
       "\n",
       "          rss  click  firstinteraction  close  click_adjusted  close_adjusted  \\\n",
       "38126  (null)      0                 0      1               0               1   \n",
       "8060   (null)      0                 0      0               0               0   \n",
       "79930  (null)      0                 0      0               0               0   \n",
       "\n",
       "       vtabove0pct  vtabove10pct  vtabove20pct  vtabove30pct  vtabove40pct  \\\n",
       "38126         1798          1798          1798          1798          1798   \n",
       "8060            63            63            63            63            63   \n",
       "79930        23571         23571         23571         23571         23571   \n",
       "\n",
       "       vtabove50pct  vtabove60pct  vtabove70pct  vtabove80pct  vtabove90pct  \\\n",
       "38126          1798          1798          1798          1798          1798   \n",
       "8060             63            63            63            63            63   \n",
       "79930         23571         23571         23571         23571         23571   \n",
       "\n",
       "       vtabove100pct  \n",
       "38126           1798  \n",
       "8060              63  \n",
       "79930              0  "
      ]
     },
     "execution_count": 8,
     "metadata": {},
     "output_type": "execute_result"
    }
   ],
   "source": [
    "# Transaction Data After ETL\n",
    "url_transaction = '/Users/shaokuixing/Desktop/whatever/survey_delivery_event_inscreen20160522.csv'\n",
    "trans = pd.read_csv(url_transaction, sep='\\t', thousands = '.', decimal =',')\n",
    "trans.sample(n=3,random_state=23)\n"
   ]
  },
  {
   "cell_type": "code",
   "execution_count": 9,
   "metadata": {
    "collapsed": false
   },
   "outputs": [
    {
     "name": "stdout",
     "output_type": "stream",
     "text": [
      "('no. rows and columns in total dataset :', (116718, 47))\n"
     ]
    }
   ],
   "source": [
    "# row and column count\n",
    "print ('no. rows and columns in total dataset :',trans.shape)"
   ]
  },
  {
   "cell_type": "code",
   "execution_count": 14,
   "metadata": {
    "collapsed": false
   },
   "outputs": [
    {
     "name": "stdout",
     "output_type": "stream",
     "text": [
      "Take a look at all variables and their data types:\n",
      "surveyid                 int64\n",
      "answersetid              int64\n",
      "uid                      int64\n",
      "deliveryid               int64\n",
      "adspaceid                int64\n",
      "apptype                 object\n",
      "apptypegroupid          object\n",
      "iab_adspace_category    object\n",
      "originaladid             int64\n",
      "iab_ad_category         object\n",
      "adname                  object\n",
      "templatetype            object\n",
      "size                    object\n",
      "video                    int64\n",
      "streamview               int64\n",
      "storelocator             int64\n",
      "swipe                    int64\n",
      "iosversion              object\n",
      "androidversion          object\n",
      "platform                object\n",
      "modelid                 object\n",
      "screensize              object\n",
      "screenwidth             object\n",
      "browserid                int64\n",
      "browser                 object\n",
      "sdkclientid              int64\n",
      "sdkclientname           object\n",
      "ipcity                  object\n",
      "contype                 object\n",
      "con                      int64\n",
      "rss                     object\n",
      "click                    int64\n",
      "firstinteraction         int64\n",
      "close                    int64\n",
      "click_adjusted           int64\n",
      "close_adjusted           int64\n",
      "vtabove0pct              int64\n",
      "vtabove10pct             int64\n",
      "vtabove20pct             int64\n",
      "vtabove30pct             int64\n",
      "vtabove40pct             int64\n",
      "vtabove50pct             int64\n",
      "vtabove60pct             int64\n",
      "vtabove70pct             int64\n",
      "vtabove80pct             int64\n",
      "vtabove90pct             int64\n",
      "vtabove100pct            int64\n",
      "dtype: object\n"
     ]
    }
   ],
   "source": [
    "# show all variables and its datatype\n",
    "print 'Take a look at all variables and their data types:'\n",
    "print trans.dtypes"
   ]
  },
  {
   "cell_type": "code",
   "execution_count": 18,
   "metadata": {
    "collapsed": false
   },
   "outputs": [
    {
     "data": {
      "text/html": [
       "<div>\n",
       "<table border=\"1\" class=\"dataframe\">\n",
       "  <thead>\n",
       "    <tr style=\"text-align: right;\">\n",
       "      <th></th>\n",
       "      <th>ANDROID_APP</th>\n",
       "      <th>IPAD_WEB</th>\n",
       "      <th>IPHONE_APP</th>\n",
       "      <th>MOBILE_WEB</th>\n",
       "    </tr>\n",
       "  </thead>\n",
       "  <tbody>\n",
       "    <tr>\n",
       "      <th>0</th>\n",
       "      <td>0</td>\n",
       "      <td>0</td>\n",
       "      <td>1</td>\n",
       "      <td>0</td>\n",
       "    </tr>\n",
       "    <tr>\n",
       "      <th>1</th>\n",
       "      <td>0</td>\n",
       "      <td>0</td>\n",
       "      <td>1</td>\n",
       "      <td>0</td>\n",
       "    </tr>\n",
       "    <tr>\n",
       "      <th>2</th>\n",
       "      <td>0</td>\n",
       "      <td>0</td>\n",
       "      <td>0</td>\n",
       "      <td>1</td>\n",
       "    </tr>\n",
       "    <tr>\n",
       "      <th>3</th>\n",
       "      <td>0</td>\n",
       "      <td>0</td>\n",
       "      <td>1</td>\n",
       "      <td>0</td>\n",
       "    </tr>\n",
       "    <tr>\n",
       "      <th>4</th>\n",
       "      <td>0</td>\n",
       "      <td>0</td>\n",
       "      <td>0</td>\n",
       "      <td>1</td>\n",
       "    </tr>\n",
       "  </tbody>\n",
       "</table>\n",
       "</div>"
      ],
      "text/plain": [
       "   ANDROID_APP  IPAD_WEB  IPHONE_APP  MOBILE_WEB\n",
       "0            0         0           1           0\n",
       "1            0         0           1           0\n",
       "2            0         0           0           1\n",
       "3            0         0           1           0\n",
       "4            0         0           0           1"
      ]
     },
     "execution_count": 18,
     "metadata": {},
     "output_type": "execute_result"
    }
   ],
   "source": [
    "# Create Binary dummy variable on string objects\n",
    "trans1 = trans.copy()\n",
    "apptype_dum = pd.get_dummies(trans1['apptype'])\n",
    "apptype_dum.head()"
   ]
  },
  {
   "cell_type": "code",
   "execution_count": 53,
   "metadata": {
    "collapsed": false
   },
   "outputs": [
    {
     "data": {
      "text/html": [
       "<div>\n",
       "<table border=\"1\" class=\"dataframe\">\n",
       "  <thead>\n",
       "    <tr style=\"text-align: right;\">\n",
       "      <th></th>\n",
       "      <th>apptypegroupid</th>\n",
       "      <th>apptypegroup_dum</th>\n",
       "    </tr>\n",
       "  </thead>\n",
       "  <tbody>\n",
       "    <tr>\n",
       "      <th>111358</th>\n",
       "      <td>MOBILE_WEB</td>\n",
       "      <td>1</td>\n",
       "    </tr>\n",
       "    <tr>\n",
       "      <th>115663</th>\n",
       "      <td>MOBILE_WEB</td>\n",
       "      <td>1</td>\n",
       "    </tr>\n",
       "    <tr>\n",
       "      <th>33033</th>\n",
       "      <td>MOBILE_APP</td>\n",
       "      <td>0</td>\n",
       "    </tr>\n",
       "    <tr>\n",
       "      <th>94098</th>\n",
       "      <td>MOBILE_APP</td>\n",
       "      <td>0</td>\n",
       "    </tr>\n",
       "    <tr>\n",
       "      <th>585</th>\n",
       "      <td>MOBILE_APP</td>\n",
       "      <td>0</td>\n",
       "    </tr>\n",
       "  </tbody>\n",
       "</table>\n",
       "</div>"
      ],
      "text/plain": [
       "       apptypegroupid apptypegroup_dum\n",
       "111358     MOBILE_WEB                1\n",
       "115663     MOBILE_WEB                1\n",
       "33033      MOBILE_APP                0\n",
       "94098      MOBILE_APP                0\n",
       "585        MOBILE_APP                0"
      ]
     },
     "execution_count": 53,
     "metadata": {},
     "output_type": "execute_result"
    }
   ],
   "source": [
    "# Variables that are nominal data transformed into numeric categorical representation\n",
    "# Instead of creating multiple dimensions\n",
    "from sklearn import preprocessing\n",
    "le = preprocessing.LabelEncoder()\n",
    "le.fit(trans.apptypegroupid)\n",
    "trans1['apptypegroup_dum']=le.transform(trans.apptypegroupid)\n",
    "trans1['apptypegroup_dum']=trans1['apptypegroup_dum'].astype('category', ordered=False)\n",
    "trans1[['apptypegroupid','apptypegroup_dum']].sample(5)\n",
    "#astype('category', categories=['one','two','three'], ordered=True)"
   ]
  },
  {
   "cell_type": "code",
   "execution_count": 23,
   "metadata": {
    "collapsed": false
   },
   "outputs": [
    {
     "data": {
      "text/plain": [
       "array(['MOBILE_APP', 'MOBILE_WEB'], dtype=object)"
      ]
     },
     "execution_count": 23,
     "metadata": {},
     "output_type": "execute_result"
    }
   ],
   "source": [
    "# find unique values in nominal variable\n",
    "trans.apptypegroupid.unique()"
   ]
  },
  {
   "cell_type": "code",
   "execution_count": 52,
   "metadata": {
    "collapsed": false
   },
   "outputs": [
    {
     "data": {
      "text/plain": [
       "'category'"
      ]
     },
     "execution_count": 52,
     "metadata": {},
     "output_type": "execute_result"
    }
   ],
   "source": [
    "# check if datatype of the new dummy variable\n",
    "trans1.apptypegroup_dum.dtype.name"
   ]
  },
  {
   "cell_type": "code",
   "execution_count": 54,
   "metadata": {
    "collapsed": false
   },
   "outputs": [
    {
     "data": {
      "text/html": [
       "<div>\n",
       "<table border=\"1\" class=\"dataframe\">\n",
       "  <thead>\n",
       "    <tr style=\"text-align: right;\">\n",
       "      <th></th>\n",
       "      <th>apptype</th>\n",
       "      <th>apptype_dum</th>\n",
       "    </tr>\n",
       "  </thead>\n",
       "  <tbody>\n",
       "    <tr>\n",
       "      <th>68884</th>\n",
       "      <td>IPHONE_APP</td>\n",
       "      <td>0</td>\n",
       "    </tr>\n",
       "    <tr>\n",
       "      <th>69088</th>\n",
       "      <td>IPHONE_APP</td>\n",
       "      <td>0</td>\n",
       "    </tr>\n",
       "    <tr>\n",
       "      <th>70793</th>\n",
       "      <td>MOBILE_WEB</td>\n",
       "      <td>1</td>\n",
       "    </tr>\n",
       "    <tr>\n",
       "      <th>114808</th>\n",
       "      <td>IPHONE_APP</td>\n",
       "      <td>0</td>\n",
       "    </tr>\n",
       "    <tr>\n",
       "      <th>24237</th>\n",
       "      <td>MOBILE_WEB</td>\n",
       "      <td>1</td>\n",
       "    </tr>\n",
       "  </tbody>\n",
       "</table>\n",
       "</div>"
      ],
      "text/plain": [
       "           apptype apptype_dum\n",
       "68884   IPHONE_APP           0\n",
       "69088   IPHONE_APP           0\n",
       "70793   MOBILE_WEB           1\n",
       "114808  IPHONE_APP           0\n",
       "24237   MOBILE_WEB           1"
      ]
     },
     "execution_count": 54,
     "metadata": {},
     "output_type": "execute_result"
    }
   ],
   "source": [
    "# Factorize apptype\n",
    "trans1['apptype_dum']=pd.factorize(trans1.apptype)[0]\n",
    "trans1['apptype_dum']=trans1['apptype_dum'].astype('category', ordered=False)\n",
    "trans1[['apptype','apptype_dum']].sample(5)"
   ]
  },
  {
   "cell_type": "code",
   "execution_count": 56,
   "metadata": {
    "collapsed": false
   },
   "outputs": [
    {
     "data": {
      "text/html": [
       "<div>\n",
       "<table border=\"1\" class=\"dataframe\">\n",
       "  <thead>\n",
       "    <tr style=\"text-align: right;\">\n",
       "      <th></th>\n",
       "      <th>apptype</th>\n",
       "      <th>apptype_dum</th>\n",
       "    </tr>\n",
       "  </thead>\n",
       "  <tbody>\n",
       "    <tr>\n",
       "      <th>19446</th>\n",
       "      <td>IPHONE_APP</td>\n",
       "      <td>0</td>\n",
       "    </tr>\n",
       "    <tr>\n",
       "      <th>7033</th>\n",
       "      <td>MOBILE_WEB</td>\n",
       "      <td>1</td>\n",
       "    </tr>\n",
       "    <tr>\n",
       "      <th>6918</th>\n",
       "      <td>ANDROID_APP</td>\n",
       "      <td>2</td>\n",
       "    </tr>\n",
       "    <tr>\n",
       "      <th>15913</th>\n",
       "      <td>IPHONE_APP</td>\n",
       "      <td>0</td>\n",
       "    </tr>\n",
       "    <tr>\n",
       "      <th>57942</th>\n",
       "      <td>IPHONE_APP</td>\n",
       "      <td>0</td>\n",
       "    </tr>\n",
       "  </tbody>\n",
       "</table>\n",
       "</div>"
      ],
      "text/plain": [
       "           apptype apptype_dum\n",
       "19446   IPHONE_APP           0\n",
       "7033    MOBILE_WEB           1\n",
       "6918   ANDROID_APP           2\n",
       "15913   IPHONE_APP           0\n",
       "57942   IPHONE_APP           0"
      ]
     },
     "execution_count": 56,
     "metadata": {},
     "output_type": "execute_result"
    }
   ],
   "source": [
    "# Factorize apptype\n",
    "trans1['apptype_dum']=pd.factorize(trans1.apptype)[0]\n",
    "trans1['apptype_dum']=trans1['apptype_dum'].astype('category', ordered=False)\n",
    "trans1[['apptype','apptype_dum']].sample(5)"
   ]
  },
  {
   "cell_type": "code",
   "execution_count": null,
   "metadata": {
    "collapsed": true
   },
   "outputs": [],
   "source": []
  }
 ],
 "metadata": {
  "kernelspec": {
   "display_name": "Python 2",
   "language": "python",
   "name": "python2"
  },
  "language_info": {
   "codemirror_mode": {
    "name": "ipython",
    "version": 2
   },
   "file_extension": ".py",
   "mimetype": "text/x-python",
   "name": "python",
   "nbconvert_exporter": "python",
   "pygments_lexer": "ipython2",
   "version": "2.7.11"
  }
 },
 "nbformat": 4,
 "nbformat_minor": 0
}
