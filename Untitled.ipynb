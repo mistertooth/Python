{
 "cells": [
  {
   "cell_type": "code",
   "execution_count": 13,
   "metadata": {
    "collapsed": false
   },
   "outputs": [
    {
     "data": {
      "text/html": [
       "<script>\n",
       "code_show=true;\n",
       "function code_toggle() {\n",
       " if (code_show){\n",
       " $('div.input').hide();\n",
       " } else {\n",
       " $('div.input').show();\n",
       " }\n",
       " code_show = !code_show\n",
       "}\n",
       "$( document ).ready(code_toggle);\n",
       "</script>\n",
       "<form action=\"javascript:code_toggle()\"><input type=\"submit\" value=\"Click here to toggle on/off the raw code.\"></form>"
      ],
      "text/plain": [
       "<IPython.core.display.HTML object>"
      ]
     },
     "execution_count": 13,
     "metadata": {},
     "output_type": "execute_result"
    }
   ],
   "source": [
    "from IPython.display import HTML\n",
    "\n",
    "HTML('''<script>\n",
    "code_show=true;\n",
    "function code_toggle() {\n",
    " if (code_show){\n",
    " $('div.input').hide();\n",
    " } else {\n",
    " $('div.input').show();\n",
    " }\n",
    " code_show = !code_show\n",
    "}\n",
    "$( document ).ready(code_toggle);\n",
    "</script>\n",
    "<form action=\"javascript:code_toggle()\"><input type=\"submit\" value=\"Click here to toggle on/off the raw code.\"></form>''')"
   ]
  },
  {
   "cell_type": "markdown",
   "metadata": {},
   "source": [
    "# How Time Viewable Effects Brand Matrix 2016-04-04"
   ]
  },
  {
   "cell_type": "code",
   "execution_count": 2,
   "metadata": {
    "collapsed": false,
    "scrolled": true
   },
   "outputs": [],
   "source": [
    "import pandas as pd\n",
    "import numpy as np\n",
    "\n"
   ]
  },
  {
   "cell_type": "code",
   "execution_count": 7,
   "metadata": {
    "collapsed": false
   },
   "outputs": [],
   "source": [
    "# define file path\n",
    "url_0331 = '/Users/shaokuixing/Desktop/whatever/survey_vt_20160331.csv'"
   ]
  },
  {
   "cell_type": "code",
   "execution_count": 37,
   "metadata": {
    "collapsed": false
   },
   "outputs": [],
   "source": [
    "# http://chrisalbon.com/python/pandas_dataframe_importing_csv.html\n",
    "# read csv file in memory\n",
    "rawData =pd.read_csv(filepath_or_buffer=url_0331, sep=';', engine='python')\n",
    "                     \n",
    "\n",
    "# index_col=['answersetid','answerid'])"
   ]
  },
  {
   "cell_type": "code",
   "execution_count": 38,
   "metadata": {
    "collapsed": false
   },
   "outputs": [
    {
     "data": {
      "text/html": [
       "<div>\n",
       "<table border=\"1\" class=\"dataframe\">\n",
       "  <thead>\n",
       "    <tr style=\"text-align: right;\">\n",
       "      <th></th>\n",
       "      <th>surveyid</th>\n",
       "      <th>originaladid</th>\n",
       "      <th>format</th>\n",
       "      <th>market</th>\n",
       "      <th>uid</th>\n",
       "      <th>answersetid</th>\n",
       "      <th>answerid</th>\n",
       "      <th>questionid</th>\n",
       "      <th>questiontext</th>\n",
       "      <th>optionid</th>\n",
       "      <th>...</th>\n",
       "      <th>iscomplete</th>\n",
       "      <th>isrefgroup</th>\n",
       "      <th>deliveredimp</th>\n",
       "      <th>viewableimp</th>\n",
       "      <th>viewableimp_ic</th>\n",
       "      <th>totalviewtime</th>\n",
       "      <th>funnel</th>\n",
       "      <th>avgVT/impMiliSec</th>\n",
       "      <th>avgVT/ImpSec</th>\n",
       "      <th>avgTVScale</th>\n",
       "    </tr>\n",
       "  </thead>\n",
       "  <tbody>\n",
       "    <tr>\n",
       "      <th>0</th>\n",
       "      <td>291</td>\n",
       "      <td>36430</td>\n",
       "      <td>swipe</td>\n",
       "      <td>FI</td>\n",
       "      <td>5,57628E+18</td>\n",
       "      <td>256039</td>\n",
       "      <td>700459</td>\n",
       "      <td>83</td>\n",
       "      <td>Next time you are about to use/purchase �categ...</td>\n",
       "      <td>255</td>\n",
       "      <td>...</td>\n",
       "      <td>True</td>\n",
       "      <td>True</td>\n",
       "      <td>1</td>\n",
       "      <td>1</td>\n",
       "      <td>1</td>\n",
       "      <td>1756</td>\n",
       "      <td>Purchase Intent</td>\n",
       "      <td>1756,0</td>\n",
       "      <td>1,8</td>\n",
       "      <td>1-5</td>\n",
       "    </tr>\n",
       "    <tr>\n",
       "      <th>1</th>\n",
       "      <td>291</td>\n",
       "      <td>36432</td>\n",
       "      <td>swipe</td>\n",
       "      <td>FI</td>\n",
       "      <td>7,21713E+16</td>\n",
       "      <td>256205</td>\n",
       "      <td>700804</td>\n",
       "      <td>86</td>\n",
       "      <td>Is the ad interesting for you?&lt;br&gt;&lt;span class=...</td>\n",
       "      <td>264</td>\n",
       "      <td>...</td>\n",
       "      <td>True</td>\n",
       "      <td>False</td>\n",
       "      <td>45</td>\n",
       "      <td>45</td>\n",
       "      <td>45</td>\n",
       "      <td>469664</td>\n",
       "      <td>Interest</td>\n",
       "      <td>10437,0</td>\n",
       "      <td>10,4</td>\n",
       "      <td>11-15</td>\n",
       "    </tr>\n",
       "  </tbody>\n",
       "</table>\n",
       "<p>2 rows × 21 columns</p>\n",
       "</div>"
      ],
      "text/plain": [
       "   surveyid  originaladid format market          uid  answersetid  answerid  \\\n",
       "0       291         36430  swipe     FI  5,57628E+18       256039    700459   \n",
       "1       291         36432  swipe     FI  7,21713E+16       256205    700804   \n",
       "\n",
       "   questionid                                       questiontext  optionid  \\\n",
       "0          83  Next time you are about to use/purchase �categ...       255   \n",
       "1          86  Is the ad interesting for you?<br><span class=...       264   \n",
       "\n",
       "     ...     iscomplete isrefgroup deliveredimp  viewableimp  viewableimp_ic  \\\n",
       "0    ...           True       True            1            1               1   \n",
       "1    ...           True      False           45           45              45   \n",
       "\n",
       "   totalviewtime           funnel avgVT/impMiliSec avgVT/ImpSec avgTVScale  \n",
       "0           1756  Purchase Intent           1756,0          1,8        1-5  \n",
       "1         469664         Interest          10437,0         10,4      11-15  \n",
       "\n",
       "[2 rows x 21 columns]"
      ]
     },
     "execution_count": 38,
     "metadata": {},
     "output_type": "execute_result"
    }
   ],
   "source": [
    "# check first 3 rows\n",
    "rawData.head(2)"
   ]
  },
  {
   "cell_type": "code",
   "execution_count": 62,
   "metadata": {
    "collapsed": false
   },
   "outputs": [],
   "source": [
    "# create function for calculated column\n",
    "def vtScale (x):\n",
    "    if (x['totalviewtime'] > 0) & (x['totalviewtime']<= 5000) :\n",
    "        return '0-50'    \n",
    "    return 'others'"
   ]
  },
  {
   "cell_type": "code",
   "execution_count": 64,
   "metadata": {
    "collapsed": false
   },
   "outputs": [
    {
     "data": {
      "text/plain": [
       "0      0-50\n",
       "1    others\n",
       "2    others\n",
       "3    others\n",
       "4    others\n",
       "5    others\n",
       "6    others\n",
       "7      0-50\n",
       "8      0-50\n",
       "9    others\n",
       "dtype: object"
      ]
     },
     "execution_count": 64,
     "metadata": {},
     "output_type": "execute_result"
    }
   ],
   "source": [
    "rawData.apply (lambda x: vtScale (x),axis=1).head(10)"
   ]
  },
  {
   "cell_type": "code",
   "execution_count": 56,
   "metadata": {
    "collapsed": false
   },
   "outputs": [
    {
     "data": {
      "text/plain": [
       "surveyid             int64\n",
       "originaladid         int64\n",
       "format              object\n",
       "market              object\n",
       "uid                 object\n",
       "answersetid          int64\n",
       "answerid             int64\n",
       "questionid           int64\n",
       "questiontext        object\n",
       "optionid             int64\n",
       "optiontext          object\n",
       "iscomplete            bool\n",
       "isrefgroup            bool\n",
       "deliveredimp         int64\n",
       "viewableimp          int64\n",
       "viewableimp_ic       int64\n",
       "totalviewtime        int64\n",
       "funnel              object\n",
       "avgVT/impMiliSec    object\n",
       "avgVT/ImpSec        object\n",
       "avgTVScale          object\n",
       "dtype: object"
      ]
     },
     "execution_count": 56,
     "metadata": {},
     "output_type": "execute_result"
    }
   ],
   "source": [
    "# check dataTypes of each column\n",
    "rawData.dtypes"
   ]
  },
  {
   "cell_type": "code",
   "execution_count": 67,
   "metadata": {
    "collapsed": true
   },
   "outputs": [],
   "source": [
    "# create function for create scale for total time viewable\n",
    "def vtScale1 (x):\n",
    "    if (x['totalviewtime'] > 0) & (x['totalviewtime']<= 500) :\n",
    "        return '0-0.5' \n",
    "    if (x['totalviewtime'] >500 ) & (x['totalviewtime']<=1000) :  \n",
    "        return '0,5-1'\n",
    "    if (x['totalviewtime'] >1000 ) & (x['totalviewtime']<= 2000) :  \n",
    "        return '1-2'\n",
    "    if (x['totalviewtime'] >2000 ) & (x['totalviewtime']<= 3000) :  \n",
    "        return '2-3'\n",
    "    if (x['totalviewtime'] >3000 ) & (x['totalviewtime']<= 4000) :  \n",
    "        return '3-4'\n",
    "    if (x['totalviewtime'] >4000 ) & (x['totalviewtime']<= 5000) :  \n",
    "        return '4-5'\n",
    "    if (x['totalviewtime'] >5000 ) & (x['totalviewtime']<= 6000) :  \n",
    "        return '5-6'\n",
    "    if (x['totalviewtime'] >6000 ) & (x['totalviewtime']<= 7000) :  \n",
    "        return '6-7'\n",
    "    if (x['totalviewtime'] >7000 ) & (x['totalviewtime']<= 8000) :  \n",
    "        return '7-8'\n",
    "    if (x['totalviewtime'] >8000 ) & (x['totalviewtime']<= 9000) :  \n",
    "        return '8-9'\n",
    "    if (x['totalviewtime'] >9000 ) & (x['totalviewtime']<= 10000) :  \n",
    "        return '9-10'\n",
    "    if (x['totalviewtime'] >10000 ) & (x['totalviewtime']<= 11000) :  \n",
    "        return '10-11'\n",
    "    if (x['totalviewtime'] >11000 ) & (x['totalviewtime']<= 12000) :  \n",
    "        return '11-12'\n",
    "    if (x['totalviewtime'] >12000 ) & (x['totalviewtime']<= 13000) :  \n",
    "        return '12-13'\n",
    "    if (x['totalviewtime'] >13000 ) & (x['totalviewtime']<= 14000) :  \n",
    "        return '13-14'\n",
    "    if (x['totalviewtime'] >14000 ) & (x['totalviewtime']<= 15000) :  \n",
    "        return '14-15'\n",
    "    if (x['totalviewtime'] >15000 ) & (x['totalviewtime']<= 16000) :  \n",
    "        return '15-16'\n",
    "    if (x['totalviewtime'] >16000 ) & (x['totalviewtime']<= 17000) :  \n",
    "        return '16-17'\n",
    "    if (x['totalviewtime'] >17000 ) & (x['totalviewtime']<= 18000) :  \n",
    "        return '17-18'\n",
    "    if (x['totalviewtime'] >18000 ) & (x['totalviewtime']<= 19000) :  \n",
    "        return '18-19'\n",
    "    if (x['totalviewtime'] >19000 ) & (x['totalviewtime']<= 20000) :  \n",
    "        return '19-20'\n",
    "    if (x['totalviewtime'] >20000 ) & (x['totalviewtime']<= 21000) :  \n",
    "        return '20-21'\n",
    "    if (x['totalviewtime'] >21000 ) & (x['totalviewtime']<= 22000) :  \n",
    "        return '21-22'\n",
    "    if (x['totalviewtime'] >22000 ) & (x['totalviewtime']<= 23000) :  \n",
    "        return '22-23'\n",
    "    if (x['totalviewtime'] >23000 ) & (x['totalviewtime']<= 24000) :  \n",
    "        return '23-24'\n",
    "    if (x['totalviewtime'] >24000 ) & (x['totalviewtime']<= 25000) :  \n",
    "        return '24-25'\n",
    "    if (x['totalviewtime'] >25000 ) & (x['totalviewtime']<= 26000) :  \n",
    "        return '25-26'\n",
    "    if (x['totalviewtime'] >26000 ) & (x['totalviewtime']<= 27000) :  \n",
    "        return '26-27'\n",
    "    if (x['totalviewtime'] >27000 ) & (x['totalviewtime']<= 28000) :  \n",
    "        return '27-28'\n",
    "    if (x['totalviewtime'] >28000 ) & (x['totalviewtime']<= 29000) :  \n",
    "        return '28-29'\n",
    "    if (x['totalviewtime'] >29000 ) & (x['totalviewtime']<= 30000) :  \n",
    "        return '29-30'\n",
    "    if (x['totalviewtime'] >30000 ) & (x['totalviewtime']<= 31000) :  \n",
    "        return '30-31'\n",
    "    if (x['totalviewtime'] >31000 ) & (x['totalviewtime']<= 32000) :  \n",
    "        return '31-32'\n",
    "    if (x['totalviewtime'] >32000 ) & (x['totalviewtime']<= 33000) :  \n",
    "        return '32-33'\n",
    "    if (x['totalviewtime'] >33000 ) & (x['totalviewtime']<= 34000) :  \n",
    "        return '33-34'\n",
    "    if (x['totalviewtime'] >34000 ) & (x['totalviewtime']<= 35000) :  \n",
    "        return '34-35'   \n",
    "    return 'above 35'\n"
   ]
  },
  {
   "cell_type": "code",
   "execution_count": 69,
   "metadata": {
    "collapsed": false
   },
   "outputs": [
    {
     "data": {
      "text/plain": [
       "0         1-2\n",
       "1    above 35\n",
       "2    above 35\n",
       "3    above 35\n",
       "4    above 35\n",
       "5    above 35\n",
       "6    above 35\n",
       "7         4-5\n",
       "8         4-5\n",
       "9    above 35\n",
       "dtype: object"
      ]
     },
     "execution_count": 69,
     "metadata": {},
     "output_type": "execute_result"
    }
   ],
   "source": [
    "#apply function to see result\n",
    "rawData.apply (lambda x: vtScale1 (x),axis=1).head(10)"
   ]
  },
  {
   "cell_type": "code",
   "execution_count": 77,
   "metadata": {
    "collapsed": false
   },
   "outputs": [
    {
     "data": {
      "text/html": [
       "<div>\n",
       "<table border=\"1\" class=\"dataframe\">\n",
       "  <thead>\n",
       "    <tr style=\"text-align: right;\">\n",
       "      <th></th>\n",
       "      <th>vt</th>\n",
       "      <th>scale</th>\n",
       "    </tr>\n",
       "  </thead>\n",
       "  <tbody>\n",
       "    <tr>\n",
       "      <th>0</th>\n",
       "      <td>1756</td>\n",
       "      <td>1-2</td>\n",
       "    </tr>\n",
       "    <tr>\n",
       "      <th>1</th>\n",
       "      <td>469664</td>\n",
       "      <td>above 35</td>\n",
       "    </tr>\n",
       "    <tr>\n",
       "      <th>2</th>\n",
       "      <td>1051296</td>\n",
       "      <td>above 35</td>\n",
       "    </tr>\n",
       "    <tr>\n",
       "      <th>3</th>\n",
       "      <td>469664</td>\n",
       "      <td>above 35</td>\n",
       "    </tr>\n",
       "    <tr>\n",
       "      <th>4</th>\n",
       "      <td>46640</td>\n",
       "      <td>above 35</td>\n",
       "    </tr>\n",
       "    <tr>\n",
       "      <th>5</th>\n",
       "      <td>469664</td>\n",
       "      <td>above 35</td>\n",
       "    </tr>\n",
       "    <tr>\n",
       "      <th>6</th>\n",
       "      <td>642844</td>\n",
       "      <td>above 35</td>\n",
       "    </tr>\n",
       "    <tr>\n",
       "      <th>7</th>\n",
       "      <td>4254</td>\n",
       "      <td>4-5</td>\n",
       "    </tr>\n",
       "    <tr>\n",
       "      <th>8</th>\n",
       "      <td>4254</td>\n",
       "      <td>4-5</td>\n",
       "    </tr>\n",
       "    <tr>\n",
       "      <th>9</th>\n",
       "      <td>47520</td>\n",
       "      <td>above 35</td>\n",
       "    </tr>\n",
       "  </tbody>\n",
       "</table>\n",
       "</div>"
      ],
      "text/plain": [
       "        vt     scale\n",
       "0     1756       1-2\n",
       "1   469664  above 35\n",
       "2  1051296  above 35\n",
       "3   469664  above 35\n",
       "4    46640  above 35\n",
       "5   469664  above 35\n",
       "6   642844  above 35\n",
       "7     4254       4-5\n",
       "8     4254       4-5\n",
       "9    47520  above 35"
      ]
     },
     "execution_count": 77,
     "metadata": {},
     "output_type": "execute_result"
    }
   ],
   "source": [
    "# assign new df applying function for view time scale\n",
    "viewTimeScale1 = rawData.apply (lambda x: vtScale1 (x),axis=1)\n",
    "# subset only totalviewtime column\n",
    "subset_vt = rawData['totalviewtime']\n",
    "# concat 2 df to 1 df\n",
    "compare = pd.concat([subset_vt,viewTimeScale1],axis=1,keys=['vt','scale'])\n",
    "# compare top 10 rows to see accuracy\n",
    "compare.head(10)\n"
   ]
  },
  {
   "cell_type": "code",
   "execution_count": 78,
   "metadata": {
    "collapsed": true
   },
   "outputs": [],
   "source": [
    "# set max display columns\n",
    "pd.options.display.max_columns = 50"
   ]
  },
  {
   "cell_type": "code",
   "execution_count": 80,
   "metadata": {
    "collapsed": false
   },
   "outputs": [
    {
     "data": {
      "text/html": [
       "<div>\n",
       "<table border=\"1\" class=\"dataframe\">\n",
       "  <thead>\n",
       "    <tr style=\"text-align: right;\">\n",
       "      <th></th>\n",
       "      <th>0</th>\n",
       "    </tr>\n",
       "  </thead>\n",
       "  <tbody>\n",
       "    <tr>\n",
       "      <th>surveyid</th>\n",
       "      <td>291</td>\n",
       "    </tr>\n",
       "    <tr>\n",
       "      <th>originaladid</th>\n",
       "      <td>36430</td>\n",
       "    </tr>\n",
       "    <tr>\n",
       "      <th>format</th>\n",
       "      <td>swipe</td>\n",
       "    </tr>\n",
       "    <tr>\n",
       "      <th>market</th>\n",
       "      <td>FI</td>\n",
       "    </tr>\n",
       "    <tr>\n",
       "      <th>uid</th>\n",
       "      <td>5,57628E+18</td>\n",
       "    </tr>\n",
       "    <tr>\n",
       "      <th>answersetid</th>\n",
       "      <td>256039</td>\n",
       "    </tr>\n",
       "    <tr>\n",
       "      <th>answerid</th>\n",
       "      <td>700459</td>\n",
       "    </tr>\n",
       "    <tr>\n",
       "      <th>questionid</th>\n",
       "      <td>83</td>\n",
       "    </tr>\n",
       "    <tr>\n",
       "      <th>questiontext</th>\n",
       "      <td>Next time you are about to use/purchase �categ...</td>\n",
       "    </tr>\n",
       "    <tr>\n",
       "      <th>optionid</th>\n",
       "      <td>255</td>\n",
       "    </tr>\n",
       "    <tr>\n",
       "      <th>optiontext</th>\n",
       "      <td>3</td>\n",
       "    </tr>\n",
       "    <tr>\n",
       "      <th>iscomplete</th>\n",
       "      <td>True</td>\n",
       "    </tr>\n",
       "    <tr>\n",
       "      <th>isrefgroup</th>\n",
       "      <td>True</td>\n",
       "    </tr>\n",
       "    <tr>\n",
       "      <th>deliveredimp</th>\n",
       "      <td>1</td>\n",
       "    </tr>\n",
       "    <tr>\n",
       "      <th>viewableimp</th>\n",
       "      <td>1</td>\n",
       "    </tr>\n",
       "    <tr>\n",
       "      <th>viewableimp_ic</th>\n",
       "      <td>1</td>\n",
       "    </tr>\n",
       "    <tr>\n",
       "      <th>totalviewtime</th>\n",
       "      <td>1756</td>\n",
       "    </tr>\n",
       "    <tr>\n",
       "      <th>funnel</th>\n",
       "      <td>Purchase Intent</td>\n",
       "    </tr>\n",
       "    <tr>\n",
       "      <th>avgVT/impMiliSec</th>\n",
       "      <td>1756,0</td>\n",
       "    </tr>\n",
       "    <tr>\n",
       "      <th>avgVT/ImpSec</th>\n",
       "      <td>1,8</td>\n",
       "    </tr>\n",
       "    <tr>\n",
       "      <th>avgTVScale</th>\n",
       "      <td>1-5</td>\n",
       "    </tr>\n",
       "  </tbody>\n",
       "</table>\n",
       "</div>"
      ],
      "text/plain": [
       "                                                                  0\n",
       "surveyid                                                        291\n",
       "originaladid                                                  36430\n",
       "format                                                        swipe\n",
       "market                                                           FI\n",
       "uid                                                     5,57628E+18\n",
       "answersetid                                                  256039\n",
       "answerid                                                     700459\n",
       "questionid                                                       83\n",
       "questiontext      Next time you are about to use/purchase �categ...\n",
       "optionid                                                        255\n",
       "optiontext                                                        3\n",
       "iscomplete                                                     True\n",
       "isrefgroup                                                     True\n",
       "deliveredimp                                                      1\n",
       "viewableimp                                                       1\n",
       "viewableimp_ic                                                    1\n",
       "totalviewtime                                                  1756\n",
       "funnel                                              Purchase Intent\n",
       "avgVT/impMiliSec                                             1756,0\n",
       "avgVT/ImpSec                                                    1,8\n",
       "avgTVScale                                                      1-5"
      ]
     },
     "execution_count": 80,
     "metadata": {},
     "output_type": "execute_result"
    }
   ],
   "source": [
    "\n",
    "rawData.head(1).transpose()"
   ]
  },
  {
   "cell_type": "code",
   "execution_count": null,
   "metadata": {
    "collapsed": true
   },
   "outputs": [],
   "source": []
  }
 ],
 "metadata": {
  "kernelspec": {
   "display_name": "Python 2",
   "language": "python",
   "name": "python2"
  },
  "language_info": {
   "codemirror_mode": {
    "name": "ipython",
    "version": 2
   },
   "file_extension": ".py",
   "mimetype": "text/x-python",
   "name": "python",
   "nbconvert_exporter": "python",
   "pygments_lexer": "ipython2",
   "version": "2.7.11"
  }
 },
 "nbformat": 4,
 "nbformat_minor": 0
}
