{
 "cells": [
  {
   "cell_type": "code",
   "execution_count": 10,
   "metadata": {
    "collapsed": false
   },
   "outputs": [
    {
     "data": {
      "text/html": [
       "<script>\n",
       "code_show=true;\n",
       "function code_toggle() {\n",
       " if (code_show){\n",
       " $('div.input').hide();\n",
       " } else {\n",
       " $('div.input').show();\n",
       " }\n",
       " code_show = !code_show\n",
       "}\n",
       "$( document ).ready(code_toggle);\n",
       "</script>\n",
       "<form action=\"javascript:code_toggle()\"><input type=\"submit\" value=\"Click here to toggle on/off the raw code.\"></form>"
      ],
      "text/plain": [
       "<IPython.core.display.HTML object>"
      ]
     },
     "execution_count": 10,
     "metadata": {},
     "output_type": "execute_result"
    }
   ],
   "source": [
    "from IPython.display import HTML\n",
    "\n",
    "HTML('''<script>\n",
    "code_show=true;\n",
    "function code_toggle() {\n",
    " if (code_show){\n",
    " $('div.input').hide();\n",
    " } else {\n",
    " $('div.input').show();\n",
    " }\n",
    " code_show = !code_show\n",
    "}\n",
    "$( document ).ready(code_toggle);\n",
    "</script>\n",
    "<form action=\"javascript:code_toggle()\"><input type=\"submit\" value=\"Click here to toggle on/off the raw code.\"></form>''')"
   ]
  },
  {
   "cell_type": "markdown",
   "metadata": {},
   "source": [
    "# Recall, Interest, Intent VS Frequency, TimeViewable"
   ]
  },
  {
   "cell_type": "code",
   "execution_count": 1,
   "metadata": {
    "collapsed": true
   },
   "outputs": [],
   "source": [
    "import pandas as pd\n",
    "import numpy as np\n",
    "import matplotlib.pyplot as plt\n",
    "import seaborn as sns\n",
    "# this allows plots to appear directly in the notebook\n",
    "%matplotlib inline\n",
    "plt.rcParams['figure.figsize'] = (8, 6)\n",
    "plt.rcParams['font.size'] = 14\n",
    "# pip install patsy\n",
    "# pip install statsmodels\n",
    "import statsmodels.formula.api as smf\n",
    "# Set ipython's max row display\n",
    "pd.set_option('display.max_row', 1000)\n",
    "\n",
    "# Set iPython's max column width to 50\n",
    "pd.set_option('display.max_columns', 50)\n"
   ]
  },
  {
   "cell_type": "code",
   "execution_count": 2,
   "metadata": {
    "collapsed": true
   },
   "outputs": [],
   "source": [
    "# define url\n",
    "url_0331 = '/Users/shaokuixing/Desktop/whatever/survey_vt_20160331.csv'\n",
    "# read csv file\n",
    "rawData = pd.read_csv(url_0331, sep=';', thousands = '.', decimal =',')"
   ]
  },
  {
   "cell_type": "code",
   "execution_count": 7,
   "metadata": {
    "collapsed": false
   },
   "outputs": [],
   "source": [
    "# rawData.dtypes"
   ]
  },
  {
   "cell_type": "code",
   "execution_count": 8,
   "metadata": {
    "collapsed": false
   },
   "outputs": [],
   "source": [
    "#recall_metrics = rawData[ (rawData['funnel']=='Recall')]\n",
    "#recall_metrics.describe()\n"
   ]
  },
  {
   "cell_type": "raw",
   "metadata": {},
   "source": [
    "How Raw Data Looks Like "
   ]
  },
  {
   "cell_type": "code",
   "execution_count": 9,
   "metadata": {
    "collapsed": false
   },
   "outputs": [
    {
     "data": {
      "text/html": [
       "<div>\n",
       "<table border=\"1\" class=\"dataframe\">\n",
       "  <thead>\n",
       "    <tr style=\"text-align: right;\">\n",
       "      <th></th>\n",
       "      <th>0</th>\n",
       "    </tr>\n",
       "  </thead>\n",
       "  <tbody>\n",
       "    <tr>\n",
       "      <th>surveyid</th>\n",
       "      <td>291</td>\n",
       "    </tr>\n",
       "    <tr>\n",
       "      <th>originaladid</th>\n",
       "      <td>36430</td>\n",
       "    </tr>\n",
       "    <tr>\n",
       "      <th>format</th>\n",
       "      <td>swipe</td>\n",
       "    </tr>\n",
       "    <tr>\n",
       "      <th>market</th>\n",
       "      <td>FI</td>\n",
       "    </tr>\n",
       "    <tr>\n",
       "      <th>uid</th>\n",
       "      <td>5.57628e+18</td>\n",
       "    </tr>\n",
       "    <tr>\n",
       "      <th>answersetid</th>\n",
       "      <td>256039</td>\n",
       "    </tr>\n",
       "    <tr>\n",
       "      <th>answerid</th>\n",
       "      <td>700459</td>\n",
       "    </tr>\n",
       "    <tr>\n",
       "      <th>questionid</th>\n",
       "      <td>83</td>\n",
       "    </tr>\n",
       "    <tr>\n",
       "      <th>questiontext</th>\n",
       "      <td>Next time you are about to use/purchase �categ...</td>\n",
       "    </tr>\n",
       "    <tr>\n",
       "      <th>optionid</th>\n",
       "      <td>255</td>\n",
       "    </tr>\n",
       "    <tr>\n",
       "      <th>optiontext</th>\n",
       "      <td>3</td>\n",
       "    </tr>\n",
       "    <tr>\n",
       "      <th>iscomplete</th>\n",
       "      <td>True</td>\n",
       "    </tr>\n",
       "    <tr>\n",
       "      <th>isrefgroup</th>\n",
       "      <td>True</td>\n",
       "    </tr>\n",
       "    <tr>\n",
       "      <th>deliveredimp</th>\n",
       "      <td>1</td>\n",
       "    </tr>\n",
       "    <tr>\n",
       "      <th>viewableimp</th>\n",
       "      <td>1</td>\n",
       "    </tr>\n",
       "    <tr>\n",
       "      <th>viewableimp_ic</th>\n",
       "      <td>1</td>\n",
       "    </tr>\n",
       "    <tr>\n",
       "      <th>totalviewtime</th>\n",
       "      <td>1756</td>\n",
       "    </tr>\n",
       "    <tr>\n",
       "      <th>funnel</th>\n",
       "      <td>Purchase Intent</td>\n",
       "    </tr>\n",
       "    <tr>\n",
       "      <th>avgVT/impMiliSec</th>\n",
       "      <td>1756</td>\n",
       "    </tr>\n",
       "    <tr>\n",
       "      <th>avgVT/ImpSec</th>\n",
       "      <td>1.8</td>\n",
       "    </tr>\n",
       "    <tr>\n",
       "      <th>avgTVScale</th>\n",
       "      <td>1-5</td>\n",
       "    </tr>\n",
       "  </tbody>\n",
       "</table>\n",
       "</div>"
      ],
      "text/plain": [
       "                                                                  0\n",
       "surveyid                                                        291\n",
       "originaladid                                                  36430\n",
       "format                                                        swipe\n",
       "market                                                           FI\n",
       "uid                                                     5.57628e+18\n",
       "answersetid                                                  256039\n",
       "answerid                                                     700459\n",
       "questionid                                                       83\n",
       "questiontext      Next time you are about to use/purchase �categ...\n",
       "optionid                                                        255\n",
       "optiontext                                                        3\n",
       "iscomplete                                                     True\n",
       "isrefgroup                                                     True\n",
       "deliveredimp                                                      1\n",
       "viewableimp                                                       1\n",
       "viewableimp_ic                                                    1\n",
       "totalviewtime                                                  1756\n",
       "funnel                                              Purchase Intent\n",
       "avgVT/impMiliSec                                               1756\n",
       "avgVT/ImpSec                                                    1.8\n",
       "avgTVScale                                                      1-5"
      ]
     },
     "execution_count": 9,
     "metadata": {},
     "output_type": "execute_result"
    }
   ],
   "source": [
    "rawData.head(1).transpose()"
   ]
  },
  {
   "cell_type": "markdown",
   "metadata": {},
   "source": [
    "## 1 Data Quality"
   ]
  },
  {
   "cell_type": "code",
   "execution_count": 16,
   "metadata": {
    "collapsed": false
   },
   "outputs": [
    {
     "data": {
      "text/html": [
       "<div>\n",
       "<table border=\"1\" class=\"dataframe\">\n",
       "  <thead>\n",
       "    <tr style=\"text-align: right;\">\n",
       "      <th></th>\n",
       "      <th>viewableimp</th>\n",
       "      <th>totalviewtime</th>\n",
       "      <th>avgVT/impMiliSec</th>\n",
       "    </tr>\n",
       "  </thead>\n",
       "  <tbody>\n",
       "    <tr>\n",
       "      <th>count</th>\n",
       "      <td>70201.000000</td>\n",
       "      <td>7.020100e+04</td>\n",
       "      <td>70201.000000</td>\n",
       "    </tr>\n",
       "    <tr>\n",
       "      <th>mean</th>\n",
       "      <td>18.793821</td>\n",
       "      <td>5.860736e+05</td>\n",
       "      <td>39956.383986</td>\n",
       "    </tr>\n",
       "    <tr>\n",
       "      <th>std</th>\n",
       "      <td>31.564768</td>\n",
       "      <td>3.427637e+06</td>\n",
       "      <td>185481.531356</td>\n",
       "    </tr>\n",
       "    <tr>\n",
       "      <th>min</th>\n",
       "      <td>0.000000</td>\n",
       "      <td>3.020000e+02</td>\n",
       "      <td>302.000000</td>\n",
       "    </tr>\n",
       "    <tr>\n",
       "      <th>25%</th>\n",
       "      <td>2.000000</td>\n",
       "      <td>3.634000e+04</td>\n",
       "      <td>6960.000000</td>\n",
       "    </tr>\n",
       "    <tr>\n",
       "      <th>50%</th>\n",
       "      <td>8.000000</td>\n",
       "      <td>1.258140e+05</td>\n",
       "      <td>13170.100000</td>\n",
       "    </tr>\n",
       "    <tr>\n",
       "      <th>75%</th>\n",
       "      <td>21.000000</td>\n",
       "      <td>3.906520e+05</td>\n",
       "      <td>26710.700000</td>\n",
       "    </tr>\n",
       "    <tr>\n",
       "      <th>max</th>\n",
       "      <td>678.000000</td>\n",
       "      <td>1.828949e+08</td>\n",
       "      <td>7928534.700000</td>\n",
       "    </tr>\n",
       "  </tbody>\n",
       "</table>\n",
       "</div>"
      ],
      "text/plain": [
       "        viewableimp  totalviewtime  avgVT/impMiliSec\n",
       "count  70201.000000   7.020100e+04      70201.000000\n",
       "mean      18.793821   5.860736e+05      39956.383986\n",
       "std       31.564768   3.427637e+06     185481.531356\n",
       "min        0.000000   3.020000e+02        302.000000\n",
       "25%        2.000000   3.634000e+04       6960.000000\n",
       "50%        8.000000   1.258140e+05      13170.100000\n",
       "75%       21.000000   3.906520e+05      26710.700000\n",
       "max      678.000000   1.828949e+08    7928534.700000"
      ]
     },
     "execution_count": 16,
     "metadata": {},
     "output_type": "execute_result"
    }
   ],
   "source": [
    "rawData[['optiontext','viewableimp','totalviewtime','avgVT/impMiliSec']].describe()"
   ]
  },
  {
   "cell_type": "raw",
   "metadata": {},
   "source": [
    "Note:\n",
    "- Total row count app.70,000\n",
    "- High average number on impression and viewtime\n",
    "- 50% aka. Median stats look more reasonable but stil higher than pilot campaign stats\n",
    "- Total view time stats are quite concentrated, not impression or consequently average view time\n",
    "- Consider eliminating outliers in the next step"
   ]
  },
  {
   "cell_type": "raw",
   "metadata": {},
   "source": [
    "80% percentile of Viewable Impressions"
   ]
  },
  {
   "cell_type": "code",
   "execution_count": 19,
   "metadata": {
    "collapsed": false
   },
   "outputs": [
    {
     "data": {
      "text/plain": [
       "28.0"
      ]
     },
     "execution_count": 19,
     "metadata": {},
     "output_type": "execute_result"
    }
   ],
   "source": [
    "rawData.viewableimp.quantile(0.80)"
   ]
  },
  {
   "cell_type": "raw",
   "metadata": {},
   "source": [
    "80% percentile of Total Time Viewable Per Audience Per Ad"
   ]
  },
  {
   "cell_type": "code",
   "execution_count": 22,
   "metadata": {
    "collapsed": false
   },
   "outputs": [
    {
     "data": {
      "text/plain": [
       "498653.0"
      ]
     },
     "execution_count": 22,
     "metadata": {},
     "output_type": "execute_result"
    }
   ],
   "source": [
    "rawData.totalviewtime.quantile(0.80)"
   ]
  },
  {
   "cell_type": "markdown",
   "metadata": {},
   "source": [
    "#### Eliminating Outliers: \n",
    "population beyond above 2 thresholds shall be eliminated\n",
    "Let us take a look how things look after the elimination"
   ]
  },
  {
   "cell_type": "code",
   "execution_count": 21,
   "metadata": {
    "collapsed": false
   },
   "outputs": [
    {
     "data": {
      "text/html": [
       "<div>\n",
       "<table border=\"1\" class=\"dataframe\">\n",
       "  <thead>\n",
       "    <tr style=\"text-align: right;\">\n",
       "      <th></th>\n",
       "      <th>viewableimp</th>\n",
       "      <th>totalviewtime</th>\n",
       "      <th>avgVT/impMiliSec</th>\n",
       "    </tr>\n",
       "  </thead>\n",
       "  <tbody>\n",
       "    <tr>\n",
       "      <th>count</th>\n",
       "      <td>51394.000000</td>\n",
       "      <td>51394.000000</td>\n",
       "      <td>51394.000000</td>\n",
       "    </tr>\n",
       "    <tr>\n",
       "      <th>mean</th>\n",
       "      <td>6.917753</td>\n",
       "      <td>109305.731953</td>\n",
       "      <td>22774.599305</td>\n",
       "    </tr>\n",
       "    <tr>\n",
       "      <th>std</th>\n",
       "      <td>6.738965</td>\n",
       "      <td>114881.054536</td>\n",
       "      <td>39342.348408</td>\n",
       "    </tr>\n",
       "    <tr>\n",
       "      <th>min</th>\n",
       "      <td>0.000000</td>\n",
       "      <td>302.000000</td>\n",
       "      <td>302.000000</td>\n",
       "    </tr>\n",
       "    <tr>\n",
       "      <th>25%</th>\n",
       "      <td>2.000000</td>\n",
       "      <td>22160.000000</td>\n",
       "      <td>6238.000000</td>\n",
       "    </tr>\n",
       "    <tr>\n",
       "      <th>50%</th>\n",
       "      <td>4.000000</td>\n",
       "      <td>66738.000000</td>\n",
       "      <td>12220.000000</td>\n",
       "    </tr>\n",
       "    <tr>\n",
       "      <th>75%</th>\n",
       "      <td>10.000000</td>\n",
       "      <td>157778.000000</td>\n",
       "      <td>22920.000000</td>\n",
       "    </tr>\n",
       "    <tr>\n",
       "      <th>max</th>\n",
       "      <td>28.000000</td>\n",
       "      <td>498512.000000</td>\n",
       "      <td>497728.000000</td>\n",
       "    </tr>\n",
       "  </tbody>\n",
       "</table>\n",
       "</div>"
      ],
      "text/plain": [
       "        viewableimp  totalviewtime  avgVT/impMiliSec\n",
       "count  51394.000000   51394.000000      51394.000000\n",
       "mean       6.917753  109305.731953      22774.599305\n",
       "std        6.738965  114881.054536      39342.348408\n",
       "min        0.000000     302.000000        302.000000\n",
       "25%        2.000000   22160.000000       6238.000000\n",
       "50%        4.000000   66738.000000      12220.000000\n",
       "75%       10.000000  157778.000000      22920.000000\n",
       "max       28.000000  498512.000000     497728.000000"
      ]
     },
     "execution_count": 21,
     "metadata": {},
     "output_type": "execute_result"
    }
   ],
   "source": [
    "# filter data based on value\n",
    "rd_clean1 =rawData[(rawData['viewableimp']<=28) & (rawData['totalviewtime']<=498653)]\n",
    "rd_clean1[['optiontext','viewableimp','totalviewtime','avgVT/impMiliSec']].describe()"
   ]
  },
  {
   "cell_type": "raw",
   "metadata": {},
   "source": [
    "Note: \n",
    "- Median number of impression is 4\n",
    "- Median average time viewable per impression is 12 seconds\n",
    "- This is the data we will look into"
   ]
  },
  {
   "cell_type": "markdown",
   "metadata": {},
   "source": [
    "## 2 Frequency VS Total Time Viewable"
   ]
  },
  {
   "cell_type": "markdown",
   "metadata": {},
   "source": [
    "#### - Spearman Correlation"
   ]
  },
  {
   "cell_type": "code",
   "execution_count": 25,
   "metadata": {
    "collapsed": false
   },
   "outputs": [
    {
     "data": {
      "text/html": [
       "<div>\n",
       "<table border=\"1\" class=\"dataframe\">\n",
       "  <thead>\n",
       "    <tr style=\"text-align: right;\">\n",
       "      <th></th>\n",
       "      <th>viewableimp</th>\n",
       "      <th>totalviewtime</th>\n",
       "      <th>avgVT/impMiliSec</th>\n",
       "    </tr>\n",
       "  </thead>\n",
       "  <tbody>\n",
       "    <tr>\n",
       "      <th>viewableimp</th>\n",
       "      <td>1.000000</td>\n",
       "      <td>0.573802</td>\n",
       "      <td>-0.203107</td>\n",
       "    </tr>\n",
       "    <tr>\n",
       "      <th>totalviewtime</th>\n",
       "      <td>0.573802</td>\n",
       "      <td>1.000000</td>\n",
       "      <td>0.372564</td>\n",
       "    </tr>\n",
       "    <tr>\n",
       "      <th>avgVT/impMiliSec</th>\n",
       "      <td>-0.203107</td>\n",
       "      <td>0.372564</td>\n",
       "      <td>1.000000</td>\n",
       "    </tr>\n",
       "  </tbody>\n",
       "</table>\n",
       "</div>"
      ],
      "text/plain": [
       "                  viewableimp  totalviewtime  avgVT/impMiliSec\n",
       "viewableimp          1.000000       0.573802         -0.203107\n",
       "totalviewtime        0.573802       1.000000          0.372564\n",
       "avgVT/impMiliSec    -0.203107       0.372564          1.000000"
      ]
     },
     "execution_count": 25,
     "metadata": {},
     "output_type": "execute_result"
    }
   ],
   "source": [
    "rd_clean1[['optiontext','viewableimp','totalviewtime','avgVT/impMiliSec']].corr()"
   ]
  },
  {
   "cell_type": "markdown",
   "metadata": {},
   "source": [
    "#### - Covariance"
   ]
  },
  {
   "cell_type": "code",
   "execution_count": 26,
   "metadata": {
    "collapsed": false
   },
   "outputs": [
    {
     "data": {
      "text/html": [
       "<div>\n",
       "<table border=\"1\" class=\"dataframe\">\n",
       "  <thead>\n",
       "    <tr style=\"text-align: right;\">\n",
       "      <th></th>\n",
       "      <th>viewableimp</th>\n",
       "      <th>totalviewtime</th>\n",
       "      <th>avgVT/impMiliSec</th>\n",
       "    </tr>\n",
       "  </thead>\n",
       "  <tbody>\n",
       "    <tr>\n",
       "      <th>viewableimp</th>\n",
       "      <td>45.413643</td>\n",
       "      <td>4.442255e+05</td>\n",
       "      <td>-5.384898e+04</td>\n",
       "    </tr>\n",
       "    <tr>\n",
       "      <th>totalviewtime</th>\n",
       "      <td>444225.539411</td>\n",
       "      <td>1.319766e+10</td>\n",
       "      <td>1.683875e+09</td>\n",
       "    </tr>\n",
       "    <tr>\n",
       "      <th>avgVT/impMiliSec</th>\n",
       "      <td>-53848.983209</td>\n",
       "      <td>1.683875e+09</td>\n",
       "      <td>1.547820e+09</td>\n",
       "    </tr>\n",
       "  </tbody>\n",
       "</table>\n",
       "</div>"
      ],
      "text/plain": [
       "                    viewableimp  totalviewtime  avgVT/impMiliSec\n",
       "viewableimp           45.413643   4.442255e+05     -5.384898e+04\n",
       "totalviewtime     444225.539411   1.319766e+10      1.683875e+09\n",
       "avgVT/impMiliSec  -53848.983209   1.683875e+09      1.547820e+09"
      ]
     },
     "execution_count": 26,
     "metadata": {},
     "output_type": "execute_result"
    }
   ],
   "source": [
    "rd_clean1[['optiontext','viewableimp','totalviewtime','avgVT/impMiliSec']].cov()"
   ]
  },
  {
   "cell_type": "markdown",
   "metadata": {},
   "source": [
    "#### Frequency and Total Time Viewable are siginificantly dependent of each other and move in the same direction\n",
    "#### Let us visualize it in a scatter plot"
   ]
  },
  {
   "cell_type": "code",
   "execution_count": 27,
   "metadata": {
    "collapsed": false
   },
   "outputs": [
    {
     "data": {
      "text/plain": [
       "<seaborn.axisgrid.FacetGrid at 0x118e3fbd0>"
      ]
     },
     "execution_count": 27,
     "metadata": {},
     "output_type": "execute_result"
    },
    {
     "data": {
      "image/png": "[encoded data removed]",
      "text/plain": [
       "<matplotlib.figure.Figure at 0x11b90d2d0>"
      ]
     },
     "metadata": {},
     "output_type": "display_data"
    }
   ],
   "source": [
    "sns.lmplot(x='viewableimp', y='totalviewtime', data=rd_clean, aspect=1.5,scatter_kws={'alpha':0.2} )"
   ]
  },
  {
   "cell_type": "code",
   "execution_count": null,
   "metadata": {
    "collapsed": true
   },
   "outputs": [],
   "source": []
  }
 ],
 "metadata": {
  "kernelspec": {
   "display_name": "Python 2",
   "language": "python",
   "name": "python2"
  },
  "language_info": {
   "codemirror_mode": {
    "name": "ipython",
    "version": 2
   },
   "file_extension": ".py",
   "mimetype": "text/x-python",
   "name": "python",
   "nbconvert_exporter": "python",
   "pygments_lexer": "ipython2",
   "version": "2.7.11"
  }
 },
 "nbformat": 4,
 "nbformat_minor": 0
}
