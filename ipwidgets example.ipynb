{
 "cells": [
  {
   "cell_type": "code",
   "execution_count": 1,
   "metadata": {
    "collapsed": false,
    "extensions": {
     "jupyter_dashboards": {
      "version": 1,
      "views": {
       "grid_default": {
        "hidden": true
       },
       "report_default": {}
      }
     }
    }
   },
   "outputs": [],
   "source": [
    "from __future__ import print_function"
   ]
  },
  {
   "cell_type": "code",
   "execution_count": 1,
   "metadata": {
    "collapsed": false,
    "extensions": {
     "jupyter_dashboards": {
      "version": 1,
      "views": {
       "grid_default": {
        "col": 0,
        "height": 10,
        "hidden": false,
        "row": 0,
        "width": 4
       },
       "report_default": {}
      }
     }
    }
   },
   "outputs": [
    {
     "name": "stdout",
     "output_type": "stream",
     "text": [
      "Register a callback to execute when the button is clicked.\n",
      "\n",
      "        The callback will be called with one argument, the clicked button\n",
      "        widget instance.\n",
      "\n",
      "        Parameters\n",
      "        ----------\n",
      "        remove: bool (optional)\n",
      "            Set to true to remove the callback from the list of callbacks.\n",
      "        \n"
     ]
    }
   ],
   "source": [
    "from ipywidgets import widgets\n",
    "print(widgets.Button.on_click.__doc__)"
   ]
  },
  {
   "cell_type": "code",
   "execution_count": 18,
   "metadata": {
    "collapsed": false,
    "extensions": {
     "jupyter_dashboards": {
      "version": 1,
      "views": {
       "grid_default": {
        "col": 4,
        "height": 4,
        "hidden": false,
        "row": 0,
        "width": 4
       },
       "report_default": {}
      }
     }
    }
   },
   "outputs": [
    {
     "name": "stdout",
     "output_type": "stream",
     "text": [
      "Button clicked.\n",
      "Button clicked.\n"
     ]
    }
   ],
   "source": [
    "from IPython.display import display\n",
    "button = widgets.Button(description=\"Click Me!\")\n",
    "display(button)\n",
    "\n",
    "def on_button_clicked(b):\n",
    "    print(\"Button clicked.\")\n",
    "\n",
    "button.on_click(on_button_clicked,remove=False)\n"
   ]
  },
  {
   "cell_type": "code",
   "execution_count": 1,
   "metadata": {
    "collapsed": false,
    "extensions": {
     "jupyter_dashboards": {
      "version": 1,
      "views": {
       "grid_default": {
        "col": 0,
        "height": 26,
        "hidden": false,
        "row": 10,
        "width": 9
       },
       "report_default": {}
      }
     }
    }
   },
   "outputs": [
    {
     "name": "stderr",
     "output_type": "stream",
     "text": [
      "/Users/kuixingshao/miniconda2/lib/python2.7/site-packages/IPython/html.py:14: ShimWarning: The `IPython.html` package has been deprecated. You should import from `notebook` instead. `IPython.html.widgets` has moved to `ipywidgets`.\n",
      "  \"`IPython.html.widgets` has moved to `ipywidgets`.\", ShimWarning)\n"
     ]
    },
    {
     "data": {
      "application/javascript": [
       "/* Put everything inside the global mpl namespace */\n",
       "window.mpl = {};\n",
       "\n",
       "mpl.get_websocket_type = function() {\n",
       "    if (typeof(WebSocket) !== 'undefined') {\n",
       "        return WebSocket;\n",
       "    } else if (typeof(MozWebSocket) !== 'undefined') {\n",
       "        return MozWebSocket;\n",
       "    } else {\n",
       "        alert('Your browser does not have WebSocket support.' +\n",
       "              'Please try Chrome, Safari or Firefox ≥ 6. ' +\n",
       "              'Firefox 4 and 5 are also supported but you ' +\n",
       "              'have to enable WebSockets in about:config.');\n",
       "    };\n",
       "}\n",
       "\n",
       "mpl.figure = function(figure_id, websocket, ondownload, parent_element) {\n",
       "    this.id = figure_id;\n",
       "\n",
       "    this.ws = websocket;\n",
       "\n",
       "    this.supports_binary = (this.ws.binaryType != undefined);\n",
       "\n",
       "    if (!this.supports_binary) {\n",
       "        var warnings = document.getElementById(\"mpl-warnings\");\n",
       "        if (warnings) {\n",
       "            warnings.style.display = 'block';\n",
       "            warnings.textContent = (\n",
       "                \"This browser does not support binary websocket messages. \" +\n",
       "                    \"Performance may be slow.\");\n",
       "        }\n",
       "    }\n",
       "\n",
       "    this.imageObj = new Image();\n",
       "\n",
       "    this.context = undefined;\n",
       "    this.message = undefined;\n",
       "    this.canvas = undefined;\n",
       "    this.rubberband_canvas = undefined;\n",
       "    this.rubberband_context = undefined;\n",
       "    this.format_dropdown = undefined;\n",
       "\n",
       "    this.image_mode = 'full';\n",
       "\n",
       "    this.root = $('<div/>');\n",
       "    this._root_extra_style(this.root)\n",
       "    this.root.attr('style', 'display: inline-block');\n",
       "\n",
       "    $(parent_element).append(this.root);\n",
       "\n",
       "    this._init_header(this);\n",
       "    this._init_canvas(this);\n",
       "    this._init_toolbar(this);\n",
       "\n",
       "    var fig = this;\n",
       "\n",
       "    this.waiting = false;\n",
       "\n",
       "    this.ws.onopen =  function () {\n",
       "            fig.send_message(\"supports_binary\", {value: fig.supports_binary});\n",
       "            fig.send_message(\"send_image_mode\", {});\n",
       "            fig.send_message(\"refresh\", {});\n",
       "        }\n",
       "\n",
       "    this.imageObj.onload = function() {\n",
       "            if (fig.image_mode == 'full') {\n",
       "                // Full images could contain transparency (where diff images\n",
       "                // almost always do), so we need to clear the canvas so that\n",
       "                // there is no ghosting.\n",
       "                fig.context.clearRect(0, 0, fig.canvas.width, fig.canvas.height);\n",
       "            }\n",
       "            fig.context.drawImage(fig.imageObj, 0, 0);\n",
       "        };\n",
       "\n",
       "    this.imageObj.onunload = function() {\n",
       "        this.ws.close();\n",
       "    }\n",
       "\n",
       "    this.ws.onmessage = this._make_on_message_function(this);\n",
       "\n",
       "    this.ondownload = ondownload;\n",
       "}\n",
       "\n",
       "mpl.figure.prototype._init_header = function() {\n",
       "    var titlebar = $(\n",
       "        '<div class=\"ui-dialog-titlebar ui-widget-header ui-corner-all ' +\n",
       "        'ui-helper-clearfix\"/>');\n",
       "    var titletext = $(\n",
       "        '<div class=\"ui-dialog-title\" style=\"width: 100%; ' +\n",
       "        'text-align: center; padding: 3px;\"/>');\n",
       "    titlebar.append(titletext)\n",
       "    this.root.append(titlebar);\n",
       "    this.header = titletext[0];\n",
       "}\n",
       "\n",
       "\n",
       "\n",
       "mpl.figure.prototype._canvas_extra_style = function(canvas_div) {\n",
       "\n",
       "}\n",
       "\n",
       "\n",
       "mpl.figure.prototype._root_extra_style = function(canvas_div) {\n",
       "\n",
       "}\n",
       "\n",
       "mpl.figure.prototype._init_canvas = function() {\n",
       "    var fig = this;\n",
       "\n",
       "    var canvas_div = $('<div/>');\n",
       "\n",
       "    canvas_div.attr('style', 'position: relative; clear: both; outline: 0');\n",
       "\n",
       "    function canvas_keyboard_event(event) {\n",
       "        return fig.key_event(event, event['data']);\n",
       "    }\n",
       "\n",
       "    canvas_div.keydown('key_press', canvas_keyboard_event);\n",
       "    canvas_div.keyup('key_release', canvas_keyboard_event);\n",
       "    this.canvas_div = canvas_div\n",
       "    this._canvas_extra_style(canvas_div)\n",
       "    this.root.append(canvas_div);\n",
       "\n",
       "    var canvas = $('<canvas/>');\n",
       "    canvas.addClass('mpl-canvas');\n",
       "    canvas.attr('style', \"left: 0; top: 0; z-index: 0; outline: 0\")\n",
       "\n",
       "    this.canvas = canvas[0];\n",
       "    this.context = canvas[0].getContext(\"2d\");\n",
       "\n",
       "    var rubberband = $('<canvas/>');\n",
       "    rubberband.attr('style', \"position: absolute; left: 0; top: 0; z-index: 1;\")\n",
       "\n",
       "    var pass_mouse_events = true;\n",
       "\n",
       "    canvas_div.resizable({\n",
       "        start: function(event, ui) {\n",
       "            pass_mouse_events = false;\n",
       "        },\n",
       "        resize: function(event, ui) {\n",
       "            fig.request_resize(ui.size.width, ui.size.height);\n",
       "        },\n",
       "        stop: function(event, ui) {\n",
       "            pass_mouse_events = true;\n",
       "            fig.request_resize(ui.size.width, ui.size.height);\n",
       "        },\n",
       "    });\n",
       "\n",
       "    function mouse_event_fn(event) {\n",
       "        if (pass_mouse_events)\n",
       "            return fig.mouse_event(event, event['data']);\n",
       "    }\n",
       "\n",
       "    rubberband.mousedown('button_press', mouse_event_fn);\n",
       "    rubberband.mouseup('button_release', mouse_event_fn);\n",
       "    // Throttle sequential mouse events to 1 every 20ms.\n",
       "    rubberband.mousemove('motion_notify', mouse_event_fn);\n",
       "\n",
       "    rubberband.mouseenter('figure_enter', mouse_event_fn);\n",
       "    rubberband.mouseleave('figure_leave', mouse_event_fn);\n",
       "\n",
       "    canvas_div.on(\"wheel\", function (event) {\n",
       "        event = event.originalEvent;\n",
       "        event['data'] = 'scroll'\n",
       "        if (event.deltaY < 0) {\n",
       "            event.step = 1;\n",
       "        } else {\n",
       "            event.step = -1;\n",
       "        }\n",
       "        mouse_event_fn(event);\n",
       "    });\n",
       "\n",
       "    canvas_div.append(canvas);\n",
       "    canvas_div.append(rubberband);\n",
       "\n",
       "    this.rubberband = rubberband;\n",
       "    this.rubberband_canvas = rubberband[0];\n",
       "    this.rubberband_context = rubberband[0].getContext(\"2d\");\n",
       "    this.rubberband_context.strokeStyle = \"#000000\";\n",
       "\n",
       "    this._resize_canvas = function(width, height) {\n",
       "        // Keep the size of the canvas, canvas container, and rubber band\n",
       "        // canvas in synch.\n",
       "        canvas_div.css('width', width)\n",
       "        canvas_div.css('height', height)\n",
       "\n",
       "        canvas.attr('width', width);\n",
       "        canvas.attr('height', height);\n",
       "\n",
       "        rubberband.attr('width', width);\n",
       "        rubberband.attr('height', height);\n",
       "    }\n",
       "\n",
       "    // Set the figure to an initial 600x600px, this will subsequently be updated\n",
       "    // upon first draw.\n",
       "    this._resize_canvas(600, 600);\n",
       "\n",
       "    // Disable right mouse context menu.\n",
       "    $(this.rubberband_canvas).bind(\"contextmenu\",function(e){\n",
       "        return false;\n",
       "    });\n",
       "\n",
       "    function set_focus () {\n",
       "        canvas.focus();\n",
       "        canvas_div.focus();\n",
       "    }\n",
       "\n",
       "    window.setTimeout(set_focus, 100);\n",
       "}\n",
       "\n",
       "mpl.figure.prototype._init_toolbar = function() {\n",
       "    var fig = this;\n",
       "\n",
       "    var nav_element = $('<div/>')\n",
       "    nav_element.attr('style', 'width: 100%');\n",
       "    this.root.append(nav_element);\n",
       "\n",
       "    // Define a callback function for later on.\n",
       "    function toolbar_event(event) {\n",
       "        return fig.toolbar_button_onclick(event['data']);\n",
       "    }\n",
       "    function toolbar_mouse_event(event) {\n",
       "        return fig.toolbar_button_onmouseover(event['data']);\n",
       "    }\n",
       "\n",
       "    for(var toolbar_ind in mpl.toolbar_items) {\n",
       "        var name = mpl.toolbar_items[toolbar_ind][0];\n",
       "        var tooltip = mpl.toolbar_items[toolbar_ind][1];\n",
       "        var image = mpl.toolbar_items[toolbar_ind][2];\n",
       "        var method_name = mpl.toolbar_items[toolbar_ind][3];\n",
       "\n",
       "        if (!name) {\n",
       "            // put a spacer in here.\n",
       "            continue;\n",
       "        }\n",
       "        var button = $('<button/>');\n",
       "        button.addClass('ui-button ui-widget ui-state-default ui-corner-all ' +\n",
       "                        'ui-button-icon-only');\n",
       "        button.attr('role', 'button');\n",
       "        button.attr('aria-disabled', 'false');\n",
       "        button.click(method_name, toolbar_event);\n",
       "        button.mouseover(tooltip, toolbar_mouse_event);\n",
       "\n",
       "        var icon_img = $('<span/>');\n",
       "        icon_img.addClass('ui-button-icon-primary ui-icon');\n",
       "        icon_img.addClass(image);\n",
       "        icon_img.addClass('ui-corner-all');\n",
       "\n",
       "        var tooltip_span = $('<span/>');\n",
       "        tooltip_span.addClass('ui-button-text');\n",
       "        tooltip_span.html(tooltip);\n",
       "\n",
       "        button.append(icon_img);\n",
       "        button.append(tooltip_span);\n",
       "\n",
       "        nav_element.append(button);\n",
       "    }\n",
       "\n",
       "    var fmt_picker_span = $('<span/>');\n",
       "\n",
       "    var fmt_picker = $('<select/>');\n",
       "    fmt_picker.addClass('mpl-toolbar-option ui-widget ui-widget-content');\n",
       "    fmt_picker_span.append(fmt_picker);\n",
       "    nav_element.append(fmt_picker_span);\n",
       "    this.format_dropdown = fmt_picker[0];\n",
       "\n",
       "    for (var ind in mpl.extensions) {\n",
       "        var fmt = mpl.extensions[ind];\n",
       "        var option = $(\n",
       "            '<option/>', {selected: fmt === mpl.default_extension}).html(fmt);\n",
       "        fmt_picker.append(option)\n",
       "    }\n",
       "\n",
       "    // Add hover states to the ui-buttons\n",
       "    $( \".ui-button\" ).hover(\n",
       "        function() { $(this).addClass(\"ui-state-hover\");},\n",
       "        function() { $(this).removeClass(\"ui-state-hover\");}\n",
       "    );\n",
       "\n",
       "    var status_bar = $('<span class=\"mpl-message\"/>');\n",
       "    nav_element.append(status_bar);\n",
       "    this.message = status_bar[0];\n",
       "}\n",
       "\n",
       "mpl.figure.prototype.request_resize = function(x_pixels, y_pixels) {\n",
       "    // Request matplotlib to resize the figure. Matplotlib will then trigger a resize in the client,\n",
       "    // which will in turn request a refresh of the image.\n",
       "    this.send_message('resize', {'width': x_pixels, 'height': y_pixels});\n",
       "}\n",
       "\n",
       "mpl.figure.prototype.send_message = function(type, properties) {\n",
       "    properties['type'] = type;\n",
       "    properties['figure_id'] = this.id;\n",
       "    this.ws.send(JSON.stringify(properties));\n",
       "}\n",
       "\n",
       "mpl.figure.prototype.send_draw_message = function() {\n",
       "    if (!this.waiting) {\n",
       "        this.waiting = true;\n",
       "        this.ws.send(JSON.stringify({type: \"draw\", figure_id: this.id}));\n",
       "    }\n",
       "}\n",
       "\n",
       "\n",
       "mpl.figure.prototype.handle_save = function(fig, msg) {\n",
       "    var format_dropdown = fig.format_dropdown;\n",
       "    var format = format_dropdown.options[format_dropdown.selectedIndex].value;\n",
       "    fig.ondownload(fig, format);\n",
       "}\n",
       "\n",
       "\n",
       "mpl.figure.prototype.handle_resize = function(fig, msg) {\n",
       "    var size = msg['size'];\n",
       "    if (size[0] != fig.canvas.width || size[1] != fig.canvas.height) {\n",
       "        fig._resize_canvas(size[0], size[1]);\n",
       "        fig.send_message(\"refresh\", {});\n",
       "    };\n",
       "}\n",
       "\n",
       "mpl.figure.prototype.handle_rubberband = function(fig, msg) {\n",
       "    var x0 = msg['x0'];\n",
       "    var y0 = fig.canvas.height - msg['y0'];\n",
       "    var x1 = msg['x1'];\n",
       "    var y1 = fig.canvas.height - msg['y1'];\n",
       "    x0 = Math.floor(x0) + 0.5;\n",
       "    y0 = Math.floor(y0) + 0.5;\n",
       "    x1 = Math.floor(x1) + 0.5;\n",
       "    y1 = Math.floor(y1) + 0.5;\n",
       "    var min_x = Math.min(x0, x1);\n",
       "    var min_y = Math.min(y0, y1);\n",
       "    var width = Math.abs(x1 - x0);\n",
       "    var height = Math.abs(y1 - y0);\n",
       "\n",
       "    fig.rubberband_context.clearRect(\n",
       "        0, 0, fig.canvas.width, fig.canvas.height);\n",
       "\n",
       "    fig.rubberband_context.strokeRect(min_x, min_y, width, height);\n",
       "}\n",
       "\n",
       "mpl.figure.prototype.handle_figure_label = function(fig, msg) {\n",
       "    // Updates the figure title.\n",
       "    fig.header.textContent = msg['label'];\n",
       "}\n",
       "\n",
       "mpl.figure.prototype.handle_cursor = function(fig, msg) {\n",
       "    var cursor = msg['cursor'];\n",
       "    switch(cursor)\n",
       "    {\n",
       "    case 0:\n",
       "        cursor = 'pointer';\n",
       "        break;\n",
       "    case 1:\n",
       "        cursor = 'default';\n",
       "        break;\n",
       "    case 2:\n",
       "        cursor = 'crosshair';\n",
       "        break;\n",
       "    case 3:\n",
       "        cursor = 'move';\n",
       "        break;\n",
       "    }\n",
       "    fig.rubberband_canvas.style.cursor = cursor;\n",
       "}\n",
       "\n",
       "mpl.figure.prototype.handle_message = function(fig, msg) {\n",
       "    fig.message.textContent = msg['message'];\n",
       "}\n",
       "\n",
       "mpl.figure.prototype.handle_draw = function(fig, msg) {\n",
       "    // Request the server to send over a new figure.\n",
       "    fig.send_draw_message();\n",
       "}\n",
       "\n",
       "mpl.figure.prototype.handle_image_mode = function(fig, msg) {\n",
       "    fig.image_mode = msg['mode'];\n",
       "}\n",
       "\n",
       "mpl.figure.prototype.updated_canvas_event = function() {\n",
       "    // Called whenever the canvas gets updated.\n",
       "    this.send_message(\"ack\", {});\n",
       "}\n",
       "\n",
       "// A function to construct a web socket function for onmessage handling.\n",
       "// Called in the figure constructor.\n",
       "mpl.figure.prototype._make_on_message_function = function(fig) {\n",
       "    return function socket_on_message(evt) {\n",
       "        if (evt.data instanceof Blob) {\n",
       "            /* FIXME: We get \"Resource interpreted as Image but\n",
       "             * transferred with MIME type text/plain:\" errors on\n",
       "             * Chrome.  But how to set the MIME type?  It doesn't seem\n",
       "             * to be part of the websocket stream */\n",
       "            evt.data.type = \"image/png\";\n",
       "\n",
       "            /* Free the memory for the previous frames */\n",
       "            if (fig.imageObj.src) {\n",
       "                (window.URL || window.webkitURL).revokeObjectURL(\n",
       "                    fig.imageObj.src);\n",
       "            }\n",
       "\n",
       "            fig.imageObj.src = (window.URL || window.webkitURL).createObjectURL(\n",
       "                evt.data);\n",
       "            fig.updated_canvas_event();\n",
       "            fig.waiting = false;\n",
       "            return;\n",
       "        }\n",
       "        else if (typeof evt.data === 'string' && evt.data.slice(0, 21) == \"data:image/png;base64\") {\n",
       "            fig.imageObj.src = evt.data;\n",
       "            fig.updated_canvas_event();\n",
       "            fig.waiting = false;\n",
       "            return;\n",
       "        }\n",
       "\n",
       "        var msg = JSON.parse(evt.data);\n",
       "        var msg_type = msg['type'];\n",
       "\n",
       "        // Call the  \"handle_{type}\" callback, which takes\n",
       "        // the figure and JSON message as its only arguments.\n",
       "        try {\n",
       "            var callback = fig[\"handle_\" + msg_type];\n",
       "        } catch (e) {\n",
       "            console.log(\"No handler for the '\" + msg_type + \"' message type: \", msg);\n",
       "            return;\n",
       "        }\n",
       "\n",
       "        if (callback) {\n",
       "            try {\n",
       "                // console.log(\"Handling '\" + msg_type + \"' message: \", msg);\n",
       "                callback(fig, msg);\n",
       "            } catch (e) {\n",
       "                console.log(\"Exception inside the 'handler_\" + msg_type + \"' callback:\", e, e.stack, msg);\n",
       "            }\n",
       "        }\n",
       "    };\n",
       "}\n",
       "\n",
       "// from http://stackoverflow.com/questions/1114465/getting-mouse-location-in-canvas\n",
       "mpl.findpos = function(e) {\n",
       "    //this section is from http://www.quirksmode.org/js/events_properties.html\n",
       "    var targ;\n",
       "    if (!e)\n",
       "        e = window.event;\n",
       "    if (e.target)\n",
       "        targ = e.target;\n",
       "    else if (e.srcElement)\n",
       "        targ = e.srcElement;\n",
       "    if (targ.nodeType == 3) // defeat Safari bug\n",
       "        targ = targ.parentNode;\n",
       "\n",
       "    // jQuery normalizes the pageX and pageY\n",
       "    // pageX,Y are the mouse positions relative to the document\n",
       "    // offset() returns the position of the element relative to the document\n",
       "    var x = e.pageX - $(targ).offset().left;\n",
       "    var y = e.pageY - $(targ).offset().top;\n",
       "\n",
       "    return {\"x\": x, \"y\": y};\n",
       "};\n",
       "\n",
       "/*\n",
       " * return a copy of an object with only non-object keys\n",
       " * we need this to avoid circular references\n",
       " * http://stackoverflow.com/a/24161582/3208463\n",
       " */\n",
       "function simpleKeys (original) {\n",
       "  return Object.keys(original).reduce(function (obj, key) {\n",
       "    if (typeof original[key] !== 'object')\n",
       "        obj[key] = original[key]\n",
       "    return obj;\n",
       "  }, {});\n",
       "}\n",
       "\n",
       "mpl.figure.prototype.mouse_event = function(event, name) {\n",
       "    var canvas_pos = mpl.findpos(event)\n",
       "\n",
       "    if (name === 'button_press')\n",
       "    {\n",
       "        this.canvas.focus();\n",
       "        this.canvas_div.focus();\n",
       "    }\n",
       "\n",
       "    var x = canvas_pos.x;\n",
       "    var y = canvas_pos.y;\n",
       "\n",
       "    this.send_message(name, {x: x, y: y, button: event.button,\n",
       "                             step: event.step,\n",
       "                             guiEvent: simpleKeys(event)});\n",
       "\n",
       "    /* This prevents the web browser from automatically changing to\n",
       "     * the text insertion cursor when the button is pressed.  We want\n",
       "     * to control all of the cursor setting manually through the\n",
       "     * 'cursor' event from matplotlib */\n",
       "    event.preventDefault();\n",
       "    return false;\n",
       "}\n",
       "\n",
       "mpl.figure.prototype._key_event_extra = function(event, name) {\n",
       "    // Handle any extra behaviour associated with a key event\n",
       "}\n",
       "\n",
       "mpl.figure.prototype.key_event = function(event, name) {\n",
       "\n",
       "    // Prevent repeat events\n",
       "    if (name == 'key_press')\n",
       "    {\n",
       "        if (event.which === this._key)\n",
       "            return;\n",
       "        else\n",
       "            this._key = event.which;\n",
       "    }\n",
       "    if (name == 'key_release')\n",
       "        this._key = null;\n",
       "\n",
       "    var value = '';\n",
       "    if (event.ctrlKey && event.which != 17)\n",
       "        value += \"ctrl+\";\n",
       "    if (event.altKey && event.which != 18)\n",
       "        value += \"alt+\";\n",
       "    if (event.shiftKey && event.which != 16)\n",
       "        value += \"shift+\";\n",
       "\n",
       "    value += 'k';\n",
       "    value += event.which.toString();\n",
       "\n",
       "    this._key_event_extra(event, name);\n",
       "\n",
       "    this.send_message(name, {key: value,\n",
       "                             guiEvent: simpleKeys(event)});\n",
       "    return false;\n",
       "}\n",
       "\n",
       "mpl.figure.prototype.toolbar_button_onclick = function(name) {\n",
       "    if (name == 'download') {\n",
       "        this.handle_save(this, null);\n",
       "    } else {\n",
       "        this.send_message(\"toolbar_button\", {name: name});\n",
       "    }\n",
       "};\n",
       "\n",
       "mpl.figure.prototype.toolbar_button_onmouseover = function(tooltip) {\n",
       "    this.message.textContent = tooltip;\n",
       "};\n",
       "mpl.toolbar_items = [[\"Home\", \"Reset original view\", \"fa fa-home icon-home\", \"home\"], [\"Back\", \"Back to  previous view\", \"fa fa-arrow-left icon-arrow-left\", \"back\"], [\"Forward\", \"Forward to next view\", \"fa fa-arrow-right icon-arrow-right\", \"forward\"], [\"\", \"\", \"\", \"\"], [\"Pan\", \"Pan axes with left mouse, zoom with right\", \"fa fa-arrows icon-move\", \"pan\"], [\"Zoom\", \"Zoom to rectangle\", \"fa fa-square-o icon-check-empty\", \"zoom\"], [\"\", \"\", \"\", \"\"], [\"Download\", \"Download plot\", \"fa fa-floppy-o icon-save\", \"download\"]];\n",
       "\n",
       "mpl.extensions = [\"eps\", \"pdf\", \"png\", \"ps\", \"raw\", \"svg\"];\n",
       "\n",
       "mpl.default_extension = \"png\";var comm_websocket_adapter = function(comm) {\n",
       "    // Create a \"websocket\"-like object which calls the given IPython comm\n",
       "    // object with the appropriate methods. Currently this is a non binary\n",
       "    // socket, so there is still some room for performance tuning.\n",
       "    var ws = {};\n",
       "\n",
       "    ws.close = function() {\n",
       "        comm.close()\n",
       "    };\n",
       "    ws.send = function(m) {\n",
       "        //console.log('sending', m);\n",
       "        comm.send(m);\n",
       "    };\n",
       "    // Register the callback with on_msg.\n",
       "    comm.on_msg(function(msg) {\n",
       "        //console.log('receiving', msg['content']['data'], msg);\n",
       "        // Pass the mpl event to the overriden (by mpl) onmessage function.\n",
       "        ws.onmessage(msg['content']['data'])\n",
       "    });\n",
       "    return ws;\n",
       "}\n",
       "\n",
       "mpl.mpl_figure_comm = function(comm, msg) {\n",
       "    // This is the function which gets called when the mpl process\n",
       "    // starts-up an IPython Comm through the \"matplotlib\" channel.\n",
       "\n",
       "    var id = msg.content.data.id;\n",
       "    // Get hold of the div created by the display call when the Comm\n",
       "    // socket was opened in Python.\n",
       "    var element = $(\"#\" + id);\n",
       "    var ws_proxy = comm_websocket_adapter(comm)\n",
       "\n",
       "    function ondownload(figure, format) {\n",
       "        window.open(figure.imageObj.src);\n",
       "    }\n",
       "\n",
       "    var fig = new mpl.figure(id, ws_proxy,\n",
       "                           ondownload,\n",
       "                           element.get(0));\n",
       "\n",
       "    // Call onopen now - mpl needs it, as it is assuming we've passed it a real\n",
       "    // web socket which is closed, not our websocket->open comm proxy.\n",
       "    ws_proxy.onopen();\n",
       "\n",
       "    fig.parent_element = element.get(0);\n",
       "    fig.cell_info = mpl.find_output_cell(\"<div id='\" + id + \"'></div>\");\n",
       "    if (!fig.cell_info) {\n",
       "        console.error(\"Failed to find cell for figure\", id, fig);\n",
       "        return;\n",
       "    }\n",
       "\n",
       "    var output_index = fig.cell_info[2]\n",
       "    var cell = fig.cell_info[0];\n",
       "\n",
       "};\n",
       "\n",
       "mpl.figure.prototype.handle_close = function(fig, msg) {\n",
       "    fig.root.unbind('remove')\n",
       "\n",
       "    // Update the output cell to use the data from the current canvas.\n",
       "    fig.push_to_output();\n",
       "    var dataURL = fig.canvas.toDataURL();\n",
       "    // Re-enable the keyboard manager in IPython - without this line, in FF,\n",
       "    // the notebook keyboard shortcuts fail.\n",
       "    IPython.keyboard_manager.enable()\n",
       "    $(fig.parent_element).html('<img src=\"' + dataURL + '\">');\n",
       "    fig.close_ws(fig, msg);\n",
       "}\n",
       "\n",
       "mpl.figure.prototype.close_ws = function(fig, msg){\n",
       "    fig.send_message('closing', msg);\n",
       "    // fig.ws.close()\n",
       "}\n",
       "\n",
       "mpl.figure.prototype.push_to_output = function(remove_interactive) {\n",
       "    // Turn the data on the canvas into data in the output cell.\n",
       "    var dataURL = this.canvas.toDataURL();\n",
       "    this.cell_info[1]['text/html'] = '<img src=\"' + dataURL + '\">';\n",
       "}\n",
       "\n",
       "mpl.figure.prototype.updated_canvas_event = function() {\n",
       "    // Tell IPython that the notebook contents must change.\n",
       "    IPython.notebook.set_dirty(true);\n",
       "    this.send_message(\"ack\", {});\n",
       "    var fig = this;\n",
       "    // Wait a second, then push the new image to the DOM so\n",
       "    // that it is saved nicely (might be nice to debounce this).\n",
       "    setTimeout(function () { fig.push_to_output() }, 1000);\n",
       "}\n",
       "\n",
       "mpl.figure.prototype._init_toolbar = function() {\n",
       "    var fig = this;\n",
       "\n",
       "    var nav_element = $('<div/>')\n",
       "    nav_element.attr('style', 'width: 100%');\n",
       "    this.root.append(nav_element);\n",
       "\n",
       "    // Define a callback function for later on.\n",
       "    function toolbar_event(event) {\n",
       "        return fig.toolbar_button_onclick(event['data']);\n",
       "    }\n",
       "    function toolbar_mouse_event(event) {\n",
       "        return fig.toolbar_button_onmouseover(event['data']);\n",
       "    }\n",
       "\n",
       "    for(var toolbar_ind in mpl.toolbar_items){\n",
       "        var name = mpl.toolbar_items[toolbar_ind][0];\n",
       "        var tooltip = mpl.toolbar_items[toolbar_ind][1];\n",
       "        var image = mpl.toolbar_items[toolbar_ind][2];\n",
       "        var method_name = mpl.toolbar_items[toolbar_ind][3];\n",
       "\n",
       "        if (!name) { continue; };\n",
       "\n",
       "        var button = $('<button class=\"btn btn-default\" href=\"#\" title=\"' + name + '\"><i class=\"fa ' + image + ' fa-lg\"></i></button>');\n",
       "        button.click(method_name, toolbar_event);\n",
       "        button.mouseover(tooltip, toolbar_mouse_event);\n",
       "        nav_element.append(button);\n",
       "    }\n",
       "\n",
       "    // Add the status bar.\n",
       "    var status_bar = $('<span class=\"mpl-message\" style=\"text-align:right; float: right;\"/>');\n",
       "    nav_element.append(status_bar);\n",
       "    this.message = status_bar[0];\n",
       "\n",
       "    // Add the close button to the window.\n",
       "    var buttongrp = $('<div class=\"btn-group inline pull-right\"></div>');\n",
       "    var button = $('<button class=\"btn btn-mini btn-primary\" href=\"#\" title=\"Stop Interaction\"><i class=\"fa fa-power-off icon-remove icon-large\"></i></button>');\n",
       "    button.click(function (evt) { fig.handle_close(fig, {}); } );\n",
       "    button.mouseover('Stop Interaction', toolbar_mouse_event);\n",
       "    buttongrp.append(button);\n",
       "    var titlebar = this.root.find($('.ui-dialog-titlebar'));\n",
       "    titlebar.prepend(buttongrp);\n",
       "}\n",
       "\n",
       "mpl.figure.prototype._root_extra_style = function(el){\n",
       "    var fig = this\n",
       "    el.on(\"remove\", function(){\n",
       "\tfig.close_ws(fig, {});\n",
       "    });\n",
       "}\n",
       "\n",
       "mpl.figure.prototype._canvas_extra_style = function(el){\n",
       "    // this is important to make the div 'focusable\n",
       "    el.attr('tabindex', 0)\n",
       "    // reach out to IPython and tell the keyboard manager to turn it's self\n",
       "    // off when our div gets focus\n",
       "\n",
       "    // location in version 3\n",
       "    if (IPython.notebook.keyboard_manager) {\n",
       "        IPython.notebook.keyboard_manager.register_events(el);\n",
       "    }\n",
       "    else {\n",
       "        // location in version 2\n",
       "        IPython.keyboard_manager.register_events(el);\n",
       "    }\n",
       "\n",
       "}\n",
       "\n",
       "mpl.figure.prototype._key_event_extra = function(event, name) {\n",
       "    var manager = IPython.notebook.keyboard_manager;\n",
       "    if (!manager)\n",
       "        manager = IPython.keyboard_manager;\n",
       "\n",
       "    // Check for shift+enter\n",
       "    if (event.shiftKey && event.which == 13) {\n",
       "        this.canvas_div.blur();\n",
       "        // select the cell after this one\n",
       "        var index = IPython.notebook.find_cell_index(this.cell_info[0]);\n",
       "        IPython.notebook.select(index + 1);\n",
       "    }\n",
       "}\n",
       "\n",
       "mpl.figure.prototype.handle_save = function(fig, msg) {\n",
       "    fig.ondownload(fig, null);\n",
       "}\n",
       "\n",
       "\n",
       "mpl.find_output_cell = function(html_output) {\n",
       "    // Return the cell and output element which can be found *uniquely* in the notebook.\n",
       "    // Note - this is a bit hacky, but it is done because the \"notebook_saving.Notebook\"\n",
       "    // IPython event is triggered only after the cells have been serialised, which for\n",
       "    // our purposes (turning an active figure into a static one), is too late.\n",
       "    var cells = IPython.notebook.get_cells();\n",
       "    var ncells = cells.length;\n",
       "    for (var i=0; i<ncells; i++) {\n",
       "        var cell = cells[i];\n",
       "        if (cell.cell_type === 'code'){\n",
       "            for (var j=0; j<cell.output_area.outputs.length; j++) {\n",
       "                var data = cell.output_area.outputs[j];\n",
       "                if (data.data) {\n",
       "                    // IPython >= 3 moved mimebundle to data attribute of output\n",
       "                    data = data.data;\n",
       "                }\n",
       "                if (data['text/html'] == html_output) {\n",
       "                    return [cell, data, j];\n",
       "                }\n",
       "            }\n",
       "        }\n",
       "    }\n",
       "}\n",
       "\n",
       "// Register the function which deals with the matplotlib target/channel.\n",
       "// The kernel may be null if the page has been refreshed.\n",
       "if (IPython.notebook.kernel != null) {\n",
       "    IPython.notebook.kernel.comm_manager.register_target('matplotlib', mpl.mpl_figure_comm);\n",
       "}\n"
      ],
      "text/plain": [
       "<IPython.core.display.Javascript object>"
      ]
     },
     "metadata": {},
     "output_type": "display_data"
    },
    {
     "data": {
      "text/html": [
       "<img src=\"data:image/png;base64,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\">"
      ],
      "text/plain": [
       "<IPython.core.display.HTML object>"
      ]
     },
     "metadata": {},
     "output_type": "display_data"
    }
   ],
   "source": [
    "%matplotlib notebook\n",
    "import pandas as pd\n",
    "import matplotlib.pyplot as plt\n",
    "from ipywidgets import *\n",
    "from IPython.display import display\n",
    "from IPython.html import widgets\n",
    "plt.style.use('ggplot')\n",
    "\n",
    "NUMBER_OF_PINGS = 4\n",
    "\n",
    "# displaying the text widget\n",
    "text = widgets.Text(description=\"Domain to ping\", width=200)\n",
    "display(text)\n",
    "\n",
    "# preparing the plot \n",
    "data = pd.DataFrame()\n",
    "x = range(1,NUMBER_OF_PINGS+1)\n",
    "plots = dict()\n",
    "fig, ax = plt.subplots()\n",
    "plt.xlabel('iterations')\n",
    "plt.ylabel('ms')\n",
    "plt.xticks(x)\n",
    "plt.show()\n",
    "\n",
    "# preparing a container to put in created checkbox per domain\n",
    "checkboxes = []\n",
    "cb_container = widgets.HBox()\n",
    "display(cb_container)\n",
    "\n",
    "# add button that updates the graph based on the checkboxes\n",
    "button = widgets.Button(description=\"Update the graph\")\n",
    "\n",
    "\n",
    "# function to deal with the added domain name\n",
    "def handle_submit(sender):\n",
    "    # a part of the magic inside python : pinging\n",
    "    res = !ping -c {NUMBER_OF_PINGS} {text.value}\n",
    "    hits = res.grep('64 bytes').fields(-2).s.replace(\"time=\",\"\").split()\n",
    "    if len(hits) == 0:\n",
    "        print('Domain gave error on pinging')\n",
    "    else:\n",
    "         # rebuild plot based on ping result\n",
    "        data[text.value] = hits\n",
    "        data[text.value] = data[text.value].astype(float)\n",
    "        plots[text.value], = ax.plot(x, data[text.value], label=text.value)\n",
    "        plt.legend()\n",
    "        plt.draw()\n",
    "        # add a new checkbox for the new domain\n",
    "        checkboxes.append(widgets.Checkbox(description = text.value, value=True, width=90))\n",
    "        cb_container.children=[i for i in checkboxes]\n",
    "        if len(checkboxes) == 1:\n",
    "            display(button)\n",
    "\n",
    "# function to deal with the checkbox update button       \n",
    "def on_button_clicked(b):\n",
    "    for c in cb_container.children:\n",
    "        if not c.value:\n",
    "            plots[c.description].set_visible(False)\n",
    "        else:\n",
    "            plots[c.description].set_visible(True)\n",
    "    plt.legend()\n",
    "    plt.draw()\n",
    "\n",
    "button.on_click(on_button_clicked)\n",
    "text.on_submit(handle_submit)\n",
    "plt.show()"
   ]
  },
  {
   "cell_type": "code",
   "execution_count": null,
   "metadata": {
    "collapsed": false,
    "extensions": {
     "jupyter_dashboards": {
      "version": 1,
      "views": {
       "grid_default": {
        "hidden": true
       },
       "report_default": {}
      }
     }
    }
   },
   "outputs": [],
   "source": []
  },
  {
   "cell_type": "code",
   "execution_count": 5,
   "metadata": {
    "collapsed": false,
    "extensions": {
     "jupyter_dashboards": {
      "version": 1,
      "views": {
       "grid_default": {
        "col": 4,
        "height": 4,
        "hidden": false,
        "row": 4,
        "width": 5
       },
       "report_default": {}
      }
     }
    }
   },
   "outputs": [],
   "source": [
    "text = widgets.Text(description=\"Domain to ping\", width=200)\n",
    "display(text)"
   ]
  },
  {
   "cell_type": "code",
   "execution_count": 6,
   "metadata": {
    "collapsed": false,
    "extensions": {
     "jupyter_dashboards": {
      "version": 1,
      "views": {
       "grid_default": {
        "col": 8,
        "height": 4,
        "hidden": false,
        "row": 0,
        "width": 4
       },
       "report_default": {}
      }
     }
    }
   },
   "outputs": [
    {
     "data": {
      "text/plain": [
       "[1, 2, 3, 4]"
      ]
     },
     "execution_count": 6,
     "metadata": {},
     "output_type": "execute_result"
    }
   ],
   "source": [
    "NUMBER_OF_PINGS = 4\n",
    "x = range(1,NUMBER_OF_PINGS+1)\n",
    "x"
   ]
  },
  {
   "cell_type": "code",
   "execution_count": 7,
   "metadata": {
    "collapsed": false,
    "extensions": {
     "jupyter_dashboards": {
      "version": 1,
      "views": {
       "grid_default": {
        "col": 0,
        "height": 4,
        "hidden": false,
        "row": 36,
        "width": 4
       },
       "report_default": {}
      }
     }
    }
   },
   "outputs": [
    {
     "data": {
      "text/plain": [
       "[1, 2, 3, 4]"
      ]
     },
     "execution_count": 7,
     "metadata": {},
     "output_type": "execute_result"
    }
   ],
   "source": [
    "range(1,5)"
   ]
  },
  {
   "cell_type": "code",
   "execution_count": 2,
   "metadata": {
    "collapsed": false,
    "extensions": {
     "jupyter_dashboards": {
      "version": 1,
      "views": {
       "grid_default": {
        "hidden": true
       },
       "report_default": {}
      }
     }
    }
   },
   "outputs": [],
   "source": [
    "# import\n",
    "from ipywidgets import *\n",
    "import numpy as np\n",
    "import matplotlib.pyplot as plt\n",
    "from IPython.display import display\n",
    "from numpy import arange, sin, pi\n",
    "%matplotlib inline"
   ]
  },
  {
   "cell_type": "code",
   "execution_count": 9,
   "metadata": {
    "collapsed": false,
    "extensions": {
     "jupyter_dashboards": {
      "version": 1,
      "views": {
       "grid_default": {
        "col": 4,
        "height": 4,
        "hidden": false,
        "row": 36,
        "width": 5
       },
       "report_default": {}
      }
     }
    }
   },
   "outputs": [],
   "source": [
    "# define text box with description and size\n",
    "text = widgets.Text(description = 'test', width = 200)\n",
    "# create function printing value entered into the box\n",
    "def handle_submit(sender):\n",
    "    print(text.value)\n",
    "# define behavior after texts entered into the box\n",
    "text.on_submit(callback=True, remove=True)\n",
    "# show text box\n",
    "display(text)"
   ]
  },
  {
   "cell_type": "code",
   "execution_count": 10,
   "metadata": {
    "collapsed": false,
    "extensions": {
     "jupyter_dashboards": {
      "version": 1,
      "views": {
       "grid_default": {
        "col": 0,
        "height": 4,
        "hidden": false,
        "row": 40,
        "width": 4
       },
       "report_default": {}
      }
     }
    }
   },
   "outputs": [],
   "source": [
    "# define a button with description\n",
    "button = widgets.Button(description='test button')\n",
    "# create function print value\n",
    "def on_button_clicked(b):\n",
    "    print(\"Button clicked.\")\n",
    "# define click behavior\n",
    "button.on_click(on_button_clicked, remove=True)\n",
    "button"
   ]
  },
  {
   "cell_type": "code",
   "execution_count": 3,
   "metadata": {
    "collapsed": false,
    "extensions": {
     "jupyter_dashboards": {
      "version": 1,
      "views": {
       "grid_default": {
        "col": 4,
        "height": 9,
        "hidden": false,
        "row": 40,
        "width": 5
       },
       "report_default": {}
      }
     }
    }
   },
   "outputs": [
    {
     "data": {
      "image/png": "[encoded data removed]",
      "text/plain": [
       "<matplotlib.figure.Figure at 0x10f00c190>"
      ]
     },
     "metadata": {},
     "output_type": "display_data"
    }
   ],
   "source": [
    "# create foo data\n",
    "t = arange(0.0, 1.0, 0.01)\n",
    "# create function that computes and plot\n",
    "def pltsin(f):\n",
    "    plt.plot(t,sin(2*pi*t*f))\n",
    "    plt.show()\n",
    "# call the function with input value\n",
    "interact(pltsin, f=(2))"
   ]
  },
  {
   "cell_type": "code",
   "execution_count": 5,
   "metadata": {
    "collapsed": false,
    "extensions": {
     "jupyter_dashboards": {
      "version": 1,
      "views": {
       "grid_default": {
        "col": 0,
        "height": 9,
        "hidden": false,
        "row": 49,
        "width": 5
       },
       "report_default": {}
      }
     }
    }
   },
   "outputs": [
    {
     "name": "stdout",
     "output_type": "stream",
     "text": [
      "(0.8, 2, 3, 4, 5)\n"
     ]
    }
   ],
   "source": [
    "# create a function\n",
    "def levers(a,b,c,d,e):\n",
    "    print (a,b,c,d,e)\n",
    "interact(levers, a=0.3,b=2,c=3,d=4,e=5)"
   ]
  },
  {
   "cell_type": "code",
   "execution_count": null,
   "metadata": {
    "collapsed": true
   },
   "outputs": [],
   "source": [
    "read"
   ]
  },
  {
   "cell_type": "code",
   "execution_count": 6,
   "metadata": {
    "collapsed": false,
    "extensions": {
     "jupyter_dashboards": {
      "version": 1,
      "views": {
       "grid_default": {
        "col": 5,
        "height": 8,
        "hidden": false,
        "row": 49,
        "width": 5
       },
       "report_default": {}
      }
     }
    }
   },
   "outputs": [
    {
     "ename": "TypeError",
     "evalue": "can't multiply sequence by non-int of type 'float'",
     "output_type": "error",
     "traceback": [
      "\u001b[0;31m---------------------------------------------------------------------------\u001b[0m",
      "\u001b[0;31mTypeError\u001b[0m                                 Traceback (most recent call last)",
      "\u001b[0;32m<ipython-input-6-6a8be91e1257>\u001b[0m in \u001b[0;36mf\u001b[0;34m(a, b, c, e, f)\u001b[0m\n\u001b[1;32m      2\u001b[0m \u001b[0;34m\u001b[0m\u001b[0m\n\u001b[1;32m      3\u001b[0m \u001b[0;32mdef\u001b[0m \u001b[0mf\u001b[0m\u001b[0;34m(\u001b[0m\u001b[0ma\u001b[0m\u001b[0;34m,\u001b[0m\u001b[0mb\u001b[0m\u001b[0;34m,\u001b[0m\u001b[0mc\u001b[0m\u001b[0;34m,\u001b[0m\u001b[0me\u001b[0m\u001b[0;34m,\u001b[0m\u001b[0mf\u001b[0m\u001b[0;34m)\u001b[0m\u001b[0;34m:\u001b[0m\u001b[0;34m\u001b[0m\u001b[0m\n\u001b[0;32m----> 4\u001b[0;31m     \u001b[0mg\u001b[0m \u001b[0;34m=\u001b[0m \u001b[0;36m3\u001b[0m\u001b[0;34m*\u001b[0m\u001b[0ma\u001b[0m \u001b[0;34m+\u001b[0m \u001b[0;36m2\u001b[0m\u001b[0;34m*\u001b[0m\u001b[0mb\u001b[0m \u001b[0;34m+\u001b[0m\u001b[0;36m1.5\u001b[0m\u001b[0;34m*\u001b[0m\u001b[0mc\u001b[0m \u001b[0;34m+\u001b[0m\u001b[0;36m2.5\u001b[0m\u001b[0;34m*\u001b[0m\u001b[0me\u001b[0m \u001b[0;34m+\u001b[0m\u001b[0mf\u001b[0m\u001b[0;34m\u001b[0m\u001b[0m\n\u001b[0m\u001b[1;32m      5\u001b[0m \u001b[0;34m\u001b[0m\u001b[0m\n\u001b[1;32m      6\u001b[0m \u001b[0;34m\u001b[0m\u001b[0m\n",
      "\u001b[0;31mTypeError\u001b[0m: can't multiply sequence by non-int of type 'float'"
     ]
    },
    {
     "data": {
      "text/plain": [
       "<function __main__.f>"
      ]
     },
     "metadata": {},
     "output_type": "display_data"
    }
   ],
   "source": [
    "\n",
    "\n",
    "def f(a,b,c,e,f):\n",
    "    g = 3*a + 2*b +1.5*c +2.5*e +f\n",
    "    \n",
    "\n",
    "test = interact(f, a=widgets.FloatSlider( min=-1.0,max=1.0,step=0.01,value=0.00,\n",
    "                                  description='%Change 2nd week retention'),\n",
    "        b=widgets.FloatSlider(min=-1.0,max=1.0,step=0.01,value=0.00,\n",
    "                              description='%Change WoW retention'),\n",
    "        c=widgets.FloatSlider(min=-1.0,max=1.0,step=0.01,value=0.00,\n",
    "                              description='%Change WoW resurrection'),\n",
    "                              #,__manual=True\n",
    "        e=widgets.Dropdown(options=[str(r) for r in range(1,53,1)],value='1', \n",
    "                           description='start date'),\n",
    "        f=widgets.Dropdown(options=[str(r) for r in range(1,53,1)],value='1', \n",
    "                             description='end date')\n",
    "\n",
    "                             );\n",
    "display(test)\n"
   ]
  },
  {
   "cell_type": "code",
   "execution_count": null,
   "metadata": {
    "collapsed": true
   },
   "outputs": [],
   "source": []
  },
  {
   "cell_type": "code",
   "execution_count": 25,
   "metadata": {
    "collapsed": false,
    "extensions": {
     "jupyter_dashboards": {
      "version": 1,
      "views": {
       "grid_default": {
        "hidden": true
       },
       "report_default": {}
      }
     }
    }
   },
   "outputs": [],
   "source": [
    "x=range(1,52,1)\n",
    "ranger = [str(r) for r in range(1,52,1)]\n",
    "#ranger\n",
    "\n",
    "accordion = widgets.Accordion(text='test',\n",
    "                              #layout=Layout(width='50%', height='80px'),\n",
    "                              children=[widgets.FloatSlider(description='ohlala'), widgets.Text('what')])\n",
    "accordion.set_title(0, 'Activation Rate')\n",
    "accordion.set_title(1, '% of change in Activation Rate')\n",
    "accordion"
   ]
  },
  {
   "cell_type": "code",
   "execution_count": 14,
   "metadata": {
    "collapsed": false
   },
   "outputs": [
    {
     "data": {
      "application/javascript": [
       "IPython.notebook.execute_cells_below()"
      ],
      "text/plain": [
       "<IPython.core.display.Javascript object>"
      ]
     },
     "metadata": {},
     "output_type": "display_data"
    }
   ],
   "source": [
    "from IPython.display import Javascript, display\n",
    "from ipywidgets import widgets\n",
    "\n",
    "def run_all(ev):\n",
    "    display(Javascript('IPython.notebook.execute_cells_below()'))\n",
    "\n",
    "button = widgets.Button(description=\"Create next input\",button_style='danger')\n",
    "button.on_click(run_all)\n",
    "display(button)"
   ]
  },
  {
   "cell_type": "code",
   "execution_count": 15,
   "metadata": {
    "collapsed": false
   },
   "outputs": [],
   "source": [
    "VBox([HBox([Button(), FloatRangeSlider(), Text(), Button()]), \n",
    "      HBox([Button(), FloatText(), Button(description='Button'),\n",
    "            FloatProgress(value=40), Checkbox(description='Check')]), \n",
    "      HBox([ToggleButton(), IntSlider(description='Foobar'),\n",
    "            Dropdown(options=['foo', 'bar']), Valid()]),\n",
    "     ])"
   ]
  },
  {
   "cell_type": "code",
   "execution_count": 16,
   "metadata": {
    "collapsed": false
   },
   "outputs": [
    {
     "data": {
      "image/png": "[encoded data removed]",
      "text/plain": [
       "<matplotlib.figure.Figure at 0x10f643090>"
      ]
     },
     "metadata": {},
     "output_type": "display_data"
    }
   ],
   "source": [
    "# create foo data\n",
    "d = pd.DataFrame(range (21,73,1), columns=['Control'])\n",
    "#a = 1\n",
    "# create function that computes and plot\n",
    "def f(a):\n",
    "    plt.plot(d,d+a)\n",
    "    plt.show()\n",
    "# call the function with input value\n",
    "interact(f, a=widgets.FloatSlider( min=-1.0,max=1.0,step=0.01,value=0.00,\n",
    "                                  description='%Change 2nd week retention'))"
   ]
  },
  {
   "cell_type": "code",
   "execution_count": null,
   "metadata": {
    "collapsed": false
   },
   "outputs": [],
   "source": []
  },
  {
   "cell_type": "code",
   "execution_count": null,
   "metadata": {
    "collapsed": true
   },
   "outputs": [],
   "source": []
  }
 ],
 "metadata": {
  "anaconda-cloud": {},
  "extensions": {
   "jupyter_dashboards": {
    "activeView": "grid_default",
    "version": 1,
    "views": {
     "grid_default": {
      "cellMargin": 10,
      "defaultCellHeight": 20,
      "maxColumns": 12,
      "name": "grid",
      "type": "grid"
     },
     "report_default": {
      "name": "report",
      "type": "report"
     }
    }
   }
  },
  "kernelspec": {
   "display_name": "Python [default]",
   "language": "python",
   "name": "python2"
  },
  "language_info": {
   "codemirror_mode": {
    "name": "ipython",
    "version": 2
   },
   "file_extension": ".py",
   "mimetype": "text/x-python",
   "name": "python",
   "nbconvert_exporter": "python",
   "pygments_lexer": "ipython2",
   "version": "2.7.12"
  },
  "widgets": {
   "state": {
    "06e62dd379d94858af817098e4884e30": {
     "views": [
      {
       "cell_index": 14
      }
     ]
    },
    "275313769ee146ab9c18c8880534bd8e": {
     "views": [
      {
       "cell_index": 12
      }
     ]
    },
    "36e6b87ca81e418d9e12f8af52201e75": {
     "views": [
      {
       "cell_index": 19
      }
     ]
    },
    "46372e2441a54893831c93a1c37b0adf": {
     "views": [
      {
       "cell_index": 3
      }
     ]
    },
    "5529488372fa4072bdc687273f4d7426": {
     "views": [
      {
       "cell_index": 2
      }
     ]
    },
    "6b0d2c291e434e6d9290717219b9d51a": {
     "views": [
      {
       "cell_index": 11
      }
     ]
    },
    "6f53e7c5c4e54e9496c25243b8abbe8f": {
     "views": [
      {
       "cell_index": 3
      }
     ]
    },
    "8e5caf63884b43e28075545700154eb2": {
     "views": [
      {
       "cell_index": 18
      }
     ]
    },
    "abc2ede6b7264cc69c1a1e6a6da35ce8": {
     "views": [
      {
       "cell_index": 17
      }
     ]
    }
   },
   "version": "1.2.0"
  }
 },
 "nbformat": 4,
 "nbformat_minor": 1
}
