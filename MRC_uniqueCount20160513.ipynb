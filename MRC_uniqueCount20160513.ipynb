{
 "cells": [
  {
   "cell_type": "code",
   "execution_count": 2,
   "metadata": {
    "collapsed": true
   },
   "outputs": [],
   "source": [
    "import pandas as pd\n",
    "import numpy as np\n",
    "import matplotlib.pyplot as plt\n",
    "import seaborn as sns\n",
    "# this allows plots to appear directly in the notebook\n",
    "%matplotlib inline\n",
    "plt.rcParams['figure.figsize'] = (8, 6)\n",
    "plt.rcParams['font.size'] = 14\n",
    "# pip install patsy\n",
    "# pip install statsmodels\n",
    "import statsmodels.formula.api as smf\n",
    "# Set ipython's max row display\n",
    "pd.set_option('display.max_row', 1000)\n",
    "\n",
    "# Set iPython's max column width to 50\n",
    "pd.set_option('display.max_columns', 50)\n",
    "\n",
    "from IPython.core.display import display, HTML"
   ]
  },
  {
   "cell_type": "code",
   "execution_count": 7,
   "metadata": {
    "collapsed": false
   },
   "outputs": [
    {
     "data": {
      "text/html": [
       "<div>\n",
       "<table border=\"1\" class=\"dataframe\">\n",
       "  <thead>\n",
       "    <tr style=\"text-align: right;\">\n",
       "      <th></th>\n",
       "      <th>0</th>\n",
       "      <th>1</th>\n",
       "      <th>2</th>\n",
       "      <th>3</th>\n",
       "      <th>4</th>\n",
       "      <th>5</th>\n",
       "      <th>6</th>\n",
       "    </tr>\n",
       "  </thead>\n",
       "  <tbody>\n",
       "    <tr>\n",
       "      <th>0</th>\n",
       "      <td>108198615012</td>\n",
       "      <td>2016-04-16 11:41:47.204</td>\n",
       "      <td>MOBILE_APP</td>\n",
       "      <td>Windows Phone</td>\n",
       "      <td>108198650893</td>\n",
       "      <td>80</td>\n",
       "      <td>9533</td>\n",
       "    </tr>\n",
       "    <tr>\n",
       "      <th>1</th>\n",
       "      <td>108198615012</td>\n",
       "      <td>2016-04-16 11:41:47.204</td>\n",
       "      <td>MOBILE_APP</td>\n",
       "      <td>Windows Phone</td>\n",
       "      <td>108198650893</td>\n",
       "      <td>90</td>\n",
       "      <td>2081</td>\n",
       "    </tr>\n",
       "    <tr>\n",
       "      <th>2</th>\n",
       "      <td>108198615012</td>\n",
       "      <td>2016-04-16 11:41:47.204</td>\n",
       "      <td>MOBILE_APP</td>\n",
       "      <td>Windows Phone</td>\n",
       "      <td>108198650893</td>\n",
       "      <td>100</td>\n",
       "      <td>2593</td>\n",
       "    </tr>\n",
       "    <tr>\n",
       "      <th>3</th>\n",
       "      <td>109904135427</td>\n",
       "      <td>2016-04-27 16:10:32.395</td>\n",
       "      <td>MOBILE_APP</td>\n",
       "      <td>Windows Phone</td>\n",
       "      <td>109904141898</td>\n",
       "      <td>20</td>\n",
       "      <td>21</td>\n",
       "    </tr>\n",
       "    <tr>\n",
       "      <th>4</th>\n",
       "      <td>108193660053</td>\n",
       "      <td>2016-04-16 11:04:16.945</td>\n",
       "      <td>MOBILE_WEB</td>\n",
       "      <td>Windows Phone</td>\n",
       "      <td>108193693000</td>\n",
       "      <td>30</td>\n",
       "      <td>0</td>\n",
       "    </tr>\n",
       "  </tbody>\n",
       "</table>\n",
       "</div>"
      ],
      "text/plain": [
       "              0                        1           2              3  \\\n",
       "0  108198615012  2016-04-16 11:41:47.204  MOBILE_APP  Windows Phone   \n",
       "1  108198615012  2016-04-16 11:41:47.204  MOBILE_APP  Windows Phone   \n",
       "2  108198615012  2016-04-16 11:41:47.204  MOBILE_APP  Windows Phone   \n",
       "3  109904135427  2016-04-27 16:10:32.395  MOBILE_APP  Windows Phone   \n",
       "4  108193660053  2016-04-16 11:04:16.945  MOBILE_WEB  Windows Phone   \n",
       "\n",
       "              4    5     6  \n",
       "0  108198650893   80  9533  \n",
       "1  108198650893   90  2081  \n",
       "2  108198650893  100  2593  \n",
       "3  109904141898   20    21  \n",
       "4  108193693000   30     0  "
      ]
     },
     "execution_count": 7,
     "metadata": {},
     "output_type": "execute_result"
    }
   ],
   "source": [
    "url_click = '/Users/shaokuixing/Desktop/sql_scripts/mrc_raw_click.csv'\n",
    "\n",
    "# read csv file without header\n",
    "click = pd.read_csv(url_click, sep='\\t', thousands = '.', decimal =',', header=None)\n",
    "click.head()"
   ]
  },
  {
   "cell_type": "code",
   "execution_count": 9,
   "metadata": {
    "collapsed": false
   },
   "outputs": [
    {
     "data": {
      "text/plain": [
       "63759"
      ]
     },
     "execution_count": 9,
     "metadata": {},
     "output_type": "execute_result"
    }
   ],
   "source": [
    "click[4].nunique()"
   ]
  },
  {
   "cell_type": "code",
   "execution_count": 10,
   "metadata": {
    "collapsed": false
   },
   "outputs": [
    {
     "data": {
      "text/plain": [
       "56195"
      ]
     },
     "execution_count": 10,
     "metadata": {},
     "output_type": "execute_result"
    }
   ],
   "source": [
    "click[1].nunique()"
   ]
  },
  {
   "cell_type": "code",
   "execution_count": 11,
   "metadata": {
    "collapsed": false
   },
   "outputs": [
    {
     "data": {
      "text/plain": [
       "2"
      ]
     },
     "execution_count": 11,
     "metadata": {},
     "output_type": "execute_result"
    }
   ],
   "source": [
    "click[2].nunique()"
   ]
  },
  {
   "cell_type": "code",
   "execution_count": null,
   "metadata": {
    "collapsed": true
   },
   "outputs": [],
   "source": []
  }
 ],
 "metadata": {
  "kernelspec": {
   "display_name": "Python 2",
   "language": "python",
   "name": "python2"
  },
  "language_info": {
   "codemirror_mode": {
    "name": "ipython",
    "version": 2
   },
   "file_extension": ".py",
   "mimetype": "text/x-python",
   "name": "python",
   "nbconvert_exporter": "python",
   "pygments_lexer": "ipython2",
   "version": "2.7.11"
  }
 },
 "nbformat": 4,
 "nbformat_minor": 0
}
