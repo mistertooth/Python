{
 "cells": [
  {
   "cell_type": "code",
   "execution_count": 1,
   "metadata": {
    "collapsed": true
   },
   "outputs": [],
   "source": [
    "import gcp.bigquery as bq\n",
    "import pandas as pd\n",
    "import statsmodels.api as sm\n",
    "import numpy as np\n",
    "import seaborn as sns\n",
    "import matplotlib.pyplot as plt\n",
    "from sklearn import datasets, linear_model"
   ]
  },
  {
   "cell_type": "code",
   "execution_count": null,
   "metadata": {
    "collapsed": true
   },
   "outputs": [],
   "source": []
  },
  {
   "cell_type": "markdown",
   "metadata": {},
   "source": [
    "# Variables"
   ]
  },
  {
   "cell_type": "markdown",
   "metadata": {},
   "source": [
    "## Levers"
   ]
  },
  {
   "cell_type": "code",
   "execution_count": 178,
   "metadata": {
    "collapsed": true
   },
   "outputs": [],
   "source": [
    "# Registration levers\n",
    "weekly_regs_factor=0.00\n",
    "viral_factor=0.00\n",
    "\n",
    "# Activation\n",
    "newly_activate_rate=0.00\n",
    "act_rate=0.00\n",
    "\n",
    "# Retention new users\n",
    "second_week_retention=0.00\n",
    "# Number of weeks the 2nd day retention is sustained. There is no point having it larger then \"new_tp_weeks\" \n",
    "new_ret_sus_weeks=18\n",
    "\n",
    "# Retention existing user\n",
    "wow_ret=0.00\n",
    "wow_res=0.00\n",
    "wu=0.00 # implement later\n",
    "\n",
    "# include start and end week\n",
    "start=1\n",
    "end=52"
   ]
  },
  {
   "cell_type": "code",
   "execution_count": null,
   "metadata": {
    "collapsed": true
   },
   "outputs": [],
   "source": []
  },
  {
   "cell_type": "markdown",
   "metadata": {},
   "source": [
    "## Other parameters"
   ]
  },
  {
   "cell_type": "code",
   "execution_count": 183,
   "metadata": {
    "collapsed": false
   },
   "outputs": [],
   "source": [
    "# Partition dates\n",
    "current_date = '2016-12-02'\n",
    "current_date_short = 20161202\n",
    "\n",
    "# Number of weeks we use cohort tranition probabilities for new registrations. After this many week the will enheritage existing users TP\n",
    "new_tp_weeks=52\n",
    "\n",
    "#How many weeks old an existing player is required to be. Also the number of weeks we have \"missing hole\" registrations\n",
    "ex_weeks_req=18\n",
    "\n",
    "#The number of weeks to make forecast\n",
    "num_forecast_weeks=52\n",
    "\n",
    "#Number of weeks used for linear forecast of new registrations\n",
    "linear_weeks=26\n",
    "\n",
    "# If hole_flag=1, then new users get the wow_ret etc... in same logic as existing users, if=0 then as in excel cheet\n",
    "hole_flag=1"
   ]
  },
  {
   "cell_type": "code",
   "execution_count": null,
   "metadata": {
    "collapsed": true
   },
   "outputs": [],
   "source": []
  },
  {
   "cell_type": "code",
   "execution_count": null,
   "metadata": {
    "collapsed": true
   },
   "outputs": [],
   "source": []
  },
  {
   "cell_type": "markdown",
   "metadata": {},
   "source": [
    "# Get result"
   ]
  },
  {
   "cell_type": "markdown",
   "metadata": {},
   "source": [
    "##### Test group"
   ]
  },
  {
   "cell_type": "code",
   "execution_count": 184,
   "metadata": {
    "collapsed": false
   },
   "outputs": [],
   "source": [
    "bq_data=[ex_tp,df_ex,ex_matrix_start, df_new_num, df_new_tp]\n",
    "levers=[weekly_regs_factor, viral_factor, newly_activate_rate, act_rate, second_week_retention, new_ret_sus_weeks, wow_ret, wow_res, wu, start, end]\n",
    "parameters=[new_tp_weeks, ex_weeks_req, num_forecast_weeks, linear_weeks, hole_flag]\n",
    "all=levers+parameters+bq_data\n",
    "active_test, resulting_state_test=end_result_MAU(*all)"
   ]
  },
  {
   "cell_type": "markdown",
   "metadata": {},
   "source": [
    "##### Control group"
   ]
  },
  {
   "cell_type": "code",
   "execution_count": 185,
   "metadata": {
    "collapsed": true
   },
   "outputs": [],
   "source": [
    "bq_data_c=[ex_tp,df_ex,ex_matrix_start, df_new_num, df_new_tp]\n",
    "levers_c=[0, 0, 0, 0, 0, 18, 0, 0, 0, 1, 52]\n",
    "parameters_c=[new_tp_weeks*0+18, ex_weeks_req, num_forecast_weeks, linear_weeks, hole_flag]\n",
    "all_c=levers_c+parameters_c+bq_data\n",
    "active_control, resulting_state_control=end_result_MAU(*all_c)"
   ]
  },
  {
   "cell_type": "code",
   "execution_count": null,
   "metadata": {
    "collapsed": true
   },
   "outputs": [],
   "source": []
  },
  {
   "cell_type": "markdown",
   "metadata": {},
   "source": [
    "##### Plot result"
   ]
  },
  {
   "cell_type": "code",
   "execution_count": 186,
   "metadata": {
    "collapsed": false
   },
   "outputs": [
    {
     "data": {
      "text/plain": [
       "52   -0.030465\n",
       "dtype: float64"
      ]
     },
     "execution_count": 186,
     "metadata": {},
     "output_type": "execute_result"
    },
    {
     "data": {
      "image/png": "[encoded data removed]",
      "text/plain": [
       "<matplotlib.figure.Figure at 0x7f92f1d2bed0>"
      ]
     },
     "metadata": {},
     "output_type": "display_data"
    }
   ],
   "source": [
    "active=active_test\n",
    "\n",
    "active['Test']=active_test['Tot']\n",
    "active['Control']=active_control['Tot']\n",
    "active=active[['Test', 'Control']]\n",
    "\n",
    "ax1=active.plot()\n",
    "ax1.set_ylim(0,)\n",
    "diff=((active['Test']-active['Control'])/active['Control'])\n",
    "diff[-1:]"
   ]
  },
  {
   "cell_type": "code",
   "execution_count": null,
   "metadata": {
    "collapsed": false
   },
   "outputs": [],
   "source": []
  },
  {
   "cell_type": "code",
   "execution_count": null,
   "metadata": {
    "collapsed": false
   },
   "outputs": [],
   "source": []
  },
  {
   "cell_type": "code",
   "execution_count": null,
   "metadata": {
    "collapsed": true
   },
   "outputs": [],
   "source": []
  },
  {
   "cell_type": "markdown",
   "metadata": {},
   "source": [
    "# Get data from BigQuery"
   ]
  },
  {
   "cell_type": "markdown",
   "metadata": {},
   "source": [
    "### New users TP (change 18 weeks thing?)"
   ]
  },
  {
   "cell_type": "code",
   "execution_count": 180,
   "metadata": {
    "collapsed": true
   },
   "outputs": [],
   "source": [
    "%%sql -m sql_new_tp\n",
    "SELECT\n",
    "remain_fta / (remain_fta + activate) AS remain_fta,\n",
    "activate / (remain_fta + activate) AS activate,\n",
    "retain / (retain + churn) AS retain,\n",
    "churn / (retain + churn) AS churn,\n",
    "resurrect / (resurrect + remain_dormant) AS resurrect,\n",
    "remain_dormant / (resurrect + remain_dormant) AS remain_dormant FROM (\n",
    "SELECT\n",
    "  first_weeks.weeks_since_registration AS wsr,\n",
    "  SUM(IF(first_weeks.transition = \"Retain\", 1, 0)) AS retain,\n",
    "  SUM(IF(first_weeks.transition = \"Churn\", 1, 0)) AS churn,\n",
    "  SUM(IF(first_weeks.transition = \"Resurrect\", 1, 0)) AS resurrect,\n",
    "  SUM(IF(first_weeks.transition = \"Activate\", 1, 0)) AS activate,\n",
    "  SUM(IF(first_weeks.transition = \"RemainFTA\", 1, 0)) AS remain_fta,\n",
    "  SUM(IF(first_weeks.transition = \"RemainDormant\", 1, 0)) AS remain_dormant\n",
    "FROM\n",
    "  [activation-insights:growth_accounting.user_accounting_$current_date_short]\n",
    "WHERE\n",
    "  TIMESTAMP(registration_date) > DATE_ADD(DATE_ADD(TIMESTAMP($current_date), -1, \"YEAR\"), -18, \"WEEK\")\n",
    "  AND TIMESTAMP(registration_date) < DATE_ADD(TIMESTAMP($current_date), -18, \"WEEK\")\n",
    "  AND weeks_since_registration < 70\n",
    "  AND first_weeks.weeks_since_registration < $new_tp_weeks\n",
    "GROUP BY\n",
    "  wsr\n",
    "ORDER BY\n",
    "  wsr ASC)"
   ]
  },
  {
   "cell_type": "code",
   "execution_count": 181,
   "metadata": {
    "collapsed": false
   },
   "outputs": [],
   "source": [
    "df_raw_new_tp = bq.Query(sql_new_tp, current_date_short=current_date_short, current_date=current_date, new_tp_weeks=new_tp_weeks).to_dataframe()\n",
    "map={'remain_fta':'RemainFTA', 'activate':'Activate', 'retain':'Retain', 'churn':'Churn', \n",
    "     'resurrect':'Resurrect', 'remain_dormant':'RemainDormant'}\n",
    "df_raw_new_tp.rename(columns=map, inplace=True)\n",
    "df_raw_new_tp.index=df_raw_new_tp.index+1"
   ]
  },
  {
   "cell_type": "code",
   "execution_count": 182,
   "metadata": {
    "collapsed": false
   },
   "outputs": [
    {
     "data": {
      "text/html": [
       "<div>\n",
       "<table border=\"1\" class=\"dataframe\">\n",
       "  <thead>\n",
       "    <tr style=\"text-align: right;\">\n",
       "      <th></th>\n",
       "      <th>1</th>\n",
       "      <th>2</th>\n",
       "      <th>3</th>\n",
       "      <th>4</th>\n",
       "      <th>5</th>\n",
       "      <th>6</th>\n",
       "      <th>7</th>\n",
       "      <th>8</th>\n",
       "      <th>9</th>\n",
       "      <th>10</th>\n",
       "      <th>...</th>\n",
       "      <th>43</th>\n",
       "      <th>44</th>\n",
       "      <th>45</th>\n",
       "      <th>46</th>\n",
       "      <th>47</th>\n",
       "      <th>48</th>\n",
       "      <th>49</th>\n",
       "      <th>50</th>\n",
       "      <th>51</th>\n",
       "      <th>52</th>\n",
       "    </tr>\n",
       "  </thead>\n",
       "  <tbody>\n",
       "    <tr>\n",
       "      <th>RemainFTA</th>\n",
       "      <td>0.19872</td>\n",
       "      <td>0.949054</td>\n",
       "      <td>0.973090</td>\n",
       "      <td>0.982582</td>\n",
       "      <td>0.987002</td>\n",
       "      <td>0.989537</td>\n",
       "      <td>0.991027</td>\n",
       "      <td>0.992199</td>\n",
       "      <td>0.993046</td>\n",
       "      <td>0.993824</td>\n",
       "      <td>...</td>\n",
       "      <td>0.997869</td>\n",
       "      <td>0.997905</td>\n",
       "      <td>0.997943</td>\n",
       "      <td>0.997941</td>\n",
       "      <td>0.997967</td>\n",
       "      <td>0.997972</td>\n",
       "      <td>0.998050</td>\n",
       "      <td>0.998039</td>\n",
       "      <td>0.998051</td>\n",
       "      <td>0.998049</td>\n",
       "    </tr>\n",
       "    <tr>\n",
       "      <th>Activate</th>\n",
       "      <td>0.80128</td>\n",
       "      <td>0.050946</td>\n",
       "      <td>0.026910</td>\n",
       "      <td>0.017418</td>\n",
       "      <td>0.012998</td>\n",
       "      <td>0.010463</td>\n",
       "      <td>0.008973</td>\n",
       "      <td>0.007801</td>\n",
       "      <td>0.006954</td>\n",
       "      <td>0.006176</td>\n",
       "      <td>...</td>\n",
       "      <td>0.002131</td>\n",
       "      <td>0.002095</td>\n",
       "      <td>0.002057</td>\n",
       "      <td>0.002059</td>\n",
       "      <td>0.002033</td>\n",
       "      <td>0.002028</td>\n",
       "      <td>0.001950</td>\n",
       "      <td>0.001961</td>\n",
       "      <td>0.001949</td>\n",
       "      <td>0.001951</td>\n",
       "    </tr>\n",
       "    <tr>\n",
       "      <th>Retain</th>\n",
       "      <td>NaN</td>\n",
       "      <td>0.500276</td>\n",
       "      <td>0.663677</td>\n",
       "      <td>0.730404</td>\n",
       "      <td>0.754712</td>\n",
       "      <td>0.762984</td>\n",
       "      <td>0.774623</td>\n",
       "      <td>0.780923</td>\n",
       "      <td>0.787360</td>\n",
       "      <td>0.788678</td>\n",
       "      <td>...</td>\n",
       "      <td>0.839086</td>\n",
       "      <td>0.840043</td>\n",
       "      <td>0.841289</td>\n",
       "      <td>0.842288</td>\n",
       "      <td>0.844115</td>\n",
       "      <td>0.845204</td>\n",
       "      <td>0.846940</td>\n",
       "      <td>0.848727</td>\n",
       "      <td>0.849936</td>\n",
       "      <td>0.851627</td>\n",
       "    </tr>\n",
       "    <tr>\n",
       "      <th>Churn</th>\n",
       "      <td>NaN</td>\n",
       "      <td>0.499724</td>\n",
       "      <td>0.336323</td>\n",
       "      <td>0.269596</td>\n",
       "      <td>0.245288</td>\n",
       "      <td>0.237016</td>\n",
       "      <td>0.225377</td>\n",
       "      <td>0.219077</td>\n",
       "      <td>0.212640</td>\n",
       "      <td>0.211322</td>\n",
       "      <td>...</td>\n",
       "      <td>0.160914</td>\n",
       "      <td>0.159957</td>\n",
       "      <td>0.158711</td>\n",
       "      <td>0.157712</td>\n",
       "      <td>0.155885</td>\n",
       "      <td>0.154796</td>\n",
       "      <td>0.153060</td>\n",
       "      <td>0.151273</td>\n",
       "      <td>0.150064</td>\n",
       "      <td>0.148373</td>\n",
       "    </tr>\n",
       "    <tr>\n",
       "      <th>Resurrect</th>\n",
       "      <td>NaN</td>\n",
       "      <td>NaN</td>\n",
       "      <td>0.107918</td>\n",
       "      <td>0.095188</td>\n",
       "      <td>0.084576</td>\n",
       "      <td>0.075970</td>\n",
       "      <td>0.070567</td>\n",
       "      <td>0.066246</td>\n",
       "      <td>0.062651</td>\n",
       "      <td>0.059257</td>\n",
       "      <td>...</td>\n",
       "      <td>0.030941</td>\n",
       "      <td>0.030600</td>\n",
       "      <td>0.030414</td>\n",
       "      <td>0.030129</td>\n",
       "      <td>0.029953</td>\n",
       "      <td>0.029680</td>\n",
       "      <td>0.029217</td>\n",
       "      <td>0.028855</td>\n",
       "      <td>0.028598</td>\n",
       "      <td>0.028451</td>\n",
       "    </tr>\n",
       "    <tr>\n",
       "      <th>RemainDormant</th>\n",
       "      <td>NaN</td>\n",
       "      <td>NaN</td>\n",
       "      <td>0.892082</td>\n",
       "      <td>0.904812</td>\n",
       "      <td>0.915424</td>\n",
       "      <td>0.924030</td>\n",
       "      <td>0.929433</td>\n",
       "      <td>0.933754</td>\n",
       "      <td>0.937349</td>\n",
       "      <td>0.940743</td>\n",
       "      <td>...</td>\n",
       "      <td>0.969059</td>\n",
       "      <td>0.969400</td>\n",
       "      <td>0.969586</td>\n",
       "      <td>0.969871</td>\n",
       "      <td>0.970047</td>\n",
       "      <td>0.970320</td>\n",
       "      <td>0.970783</td>\n",
       "      <td>0.971145</td>\n",
       "      <td>0.971402</td>\n",
       "      <td>0.971549</td>\n",
       "    </tr>\n",
       "  </tbody>\n",
       "</table>\n",
       "<p>6 rows × 52 columns</p>\n",
       "</div>"
      ],
      "text/plain": [
       "                    1         2         3         4         5         6   \\\n",
       "RemainFTA      0.19872  0.949054  0.973090  0.982582  0.987002  0.989537   \n",
       "Activate       0.80128  0.050946  0.026910  0.017418  0.012998  0.010463   \n",
       "Retain             NaN  0.500276  0.663677  0.730404  0.754712  0.762984   \n",
       "Churn              NaN  0.499724  0.336323  0.269596  0.245288  0.237016   \n",
       "Resurrect          NaN       NaN  0.107918  0.095188  0.084576  0.075970   \n",
       "RemainDormant      NaN       NaN  0.892082  0.904812  0.915424  0.924030   \n",
       "\n",
       "                     7         8         9         10    ...           43  \\\n",
       "RemainFTA      0.991027  0.992199  0.993046  0.993824    ...     0.997869   \n",
       "Activate       0.008973  0.007801  0.006954  0.006176    ...     0.002131   \n",
       "Retain         0.774623  0.780923  0.787360  0.788678    ...     0.839086   \n",
       "Churn          0.225377  0.219077  0.212640  0.211322    ...     0.160914   \n",
       "Resurrect      0.070567  0.066246  0.062651  0.059257    ...     0.030941   \n",
       "RemainDormant  0.929433  0.933754  0.937349  0.940743    ...     0.969059   \n",
       "\n",
       "                     44        45        46        47        48        49  \\\n",
       "RemainFTA      0.997905  0.997943  0.997941  0.997967  0.997972  0.998050   \n",
       "Activate       0.002095  0.002057  0.002059  0.002033  0.002028  0.001950   \n",
       "Retain         0.840043  0.841289  0.842288  0.844115  0.845204  0.846940   \n",
       "Churn          0.159957  0.158711  0.157712  0.155885  0.154796  0.153060   \n",
       "Resurrect      0.030600  0.030414  0.030129  0.029953  0.029680  0.029217   \n",
       "RemainDormant  0.969400  0.969586  0.969871  0.970047  0.970320  0.970783   \n",
       "\n",
       "                     50        51        52  \n",
       "RemainFTA      0.998039  0.998051  0.998049  \n",
       "Activate       0.001961  0.001949  0.001951  \n",
       "Retain         0.848727  0.849936  0.851627  \n",
       "Churn          0.151273  0.150064  0.148373  \n",
       "Resurrect      0.028855  0.028598  0.028451  \n",
       "RemainDormant  0.971145  0.971402  0.971549  \n",
       "\n",
       "[6 rows x 52 columns]"
      ]
     },
     "execution_count": 182,
     "metadata": {},
     "output_type": "execute_result"
    }
   ],
   "source": [
    "df_new_tp=df_raw_new_tp.copy().T\n",
    "df_new_tp"
   ]
  },
  {
   "cell_type": "code",
   "execution_count": null,
   "metadata": {
    "collapsed": false
   },
   "outputs": [],
   "source": []
  },
  {
   "cell_type": "code",
   "execution_count": null,
   "metadata": {
    "collapsed": true
   },
   "outputs": [],
   "source": []
  },
  {
   "cell_type": "markdown",
   "metadata": {},
   "source": [
    "### New users number"
   ]
  },
  {
   "cell_type": "code",
   "execution_count": 8,
   "metadata": {
    "collapsed": true
   },
   "outputs": [],
   "source": [
    "%%sql -m sql_new_num\n",
    "SELECT\n",
    " floor(datediff(registration_date, DATE_ADD(TIMESTAMP($current_date), -369, \"DAY\"))/7)+1 as week_since_start,\n",
    " sum(IF(total_active_days_d7>0,1,0)) as newly_active,\n",
    " sum(IF(total_active_days_d7=0,1,0)) as newly_fta, \n",
    " count(distinct registration_date) as num_days_test,\n",
    " min(DATE(registration_date)) as min_reg_date,\n",
    " max(DATE(registration_date)) as max_reg_date,\n",
    "FROM\n",
    " [activation-insights:activation_metrics.activation_metrics_$current_date_short]\n",
    "WHERE TIMESTAMP(registration_date) >= DATE_ADD(TIMESTAMP($current_date), -369, \"DAY\")\n",
    "   AND TIMESTAMP(registration_date) < TIMESTAMP($current_date)\n",
    "group by week_since_start\n",
    "order by week_since_start"
   ]
  },
  {
   "cell_type": "code",
   "execution_count": 9,
   "metadata": {
    "collapsed": false
   },
   "outputs": [],
   "source": [
    "df_raw_new_num = bq.Query(sql_new_num,current_date_short=current_date_short, current_date=current_date).to_dataframe()"
   ]
  },
  {
   "cell_type": "code",
   "execution_count": null,
   "metadata": {
    "collapsed": false
   },
   "outputs": [],
   "source": []
  },
  {
   "cell_type": "code",
   "execution_count": 10,
   "metadata": {
    "collapsed": false
   },
   "outputs": [
    {
     "data": {
      "text/html": [
       "<div>\n",
       "<table border=\"1\" class=\"dataframe\">\n",
       "  <thead>\n",
       "    <tr style=\"text-align: right;\">\n",
       "      <th></th>\n",
       "      <th>week_since_start</th>\n",
       "      <th>newly_active</th>\n",
       "      <th>newly_fta</th>\n",
       "      <th>num_days_test</th>\n",
       "      <th>min_reg_date</th>\n",
       "      <th>max_reg_date</th>\n",
       "    </tr>\n",
       "  </thead>\n",
       "  <tbody>\n",
       "    <tr>\n",
       "      <th>0</th>\n",
       "      <td>1.0</td>\n",
       "      <td>2264209</td>\n",
       "      <td>529851</td>\n",
       "      <td>7</td>\n",
       "      <td>2015-11-29</td>\n",
       "      <td>2015-12-05</td>\n",
       "    </tr>\n",
       "    <tr>\n",
       "      <th>1</th>\n",
       "      <td>2.0</td>\n",
       "      <td>2231069</td>\n",
       "      <td>562871</td>\n",
       "      <td>7</td>\n",
       "      <td>2015-12-06</td>\n",
       "      <td>2015-12-12</td>\n",
       "    </tr>\n",
       "    <tr>\n",
       "      <th>2</th>\n",
       "      <td>3.0</td>\n",
       "      <td>2267434</td>\n",
       "      <td>541590</td>\n",
       "      <td>7</td>\n",
       "      <td>2015-12-13</td>\n",
       "      <td>2015-12-19</td>\n",
       "    </tr>\n",
       "    <tr>\n",
       "      <th>3</th>\n",
       "      <td>4.0</td>\n",
       "      <td>3054628</td>\n",
       "      <td>657095</td>\n",
       "      <td>7</td>\n",
       "      <td>2015-12-20</td>\n",
       "      <td>2015-12-26</td>\n",
       "    </tr>\n",
       "    <tr>\n",
       "      <th>4</th>\n",
       "      <td>5.0</td>\n",
       "      <td>2694150</td>\n",
       "      <td>625940</td>\n",
       "      <td>7</td>\n",
       "      <td>2015-12-27</td>\n",
       "      <td>2016-01-02</td>\n",
       "    </tr>\n",
       "  </tbody>\n",
       "</table>\n",
       "</div>"
      ],
      "text/plain": [
       "   week_since_start  newly_active  newly_fta  num_days_test min_reg_date  \\\n",
       "0               1.0       2264209     529851              7   2015-11-29   \n",
       "1               2.0       2231069     562871              7   2015-12-06   \n",
       "2               3.0       2267434     541590              7   2015-12-13   \n",
       "3               4.0       3054628     657095              7   2015-12-20   \n",
       "4               5.0       2694150     625940              7   2015-12-27   \n",
       "\n",
       "  max_reg_date  \n",
       "0   2015-12-05  \n",
       "1   2015-12-12  \n",
       "2   2015-12-19  \n",
       "3   2015-12-26  \n",
       "4   2016-01-02  "
      ]
     },
     "execution_count": 10,
     "metadata": {},
     "output_type": "execute_result"
    }
   ],
   "source": [
    "df_new_num=df_raw_new_num.copy()[0:52]\n",
    "df_new_num.head()"
   ]
  },
  {
   "cell_type": "markdown",
   "metadata": {},
   "source": [
    "### Existing users TP and numbers"
   ]
  },
  {
   "cell_type": "code",
   "execution_count": 11,
   "metadata": {
    "collapsed": true
   },
   "outputs": [],
   "source": [
    "%%sql -m sql_ex\n",
    "SELECT\n",
    "  sum(IF(transition = \"RemainFTA\", 1, 0)) as RemainFTA,\n",
    "  sum(IF(transition = \"Activate\", 1, 0)) as Activate,\n",
    "  sum(IF(transition = \"Retain\", 1, 0)) as Retain,\n",
    "  sum(IF(transition = \"Churn\", 1, 0)) as Churn,\n",
    "  sum(IF(transition = \"Resurrect\", 1, 0)) as Resurrect,\n",
    "  sum(IF(transition = \"RemainDormant\", 1, 0)) as RemainDormant\n",
    "\n",
    "FROM\n",
    "  [activation-insights:growth_accounting.user_accounting_$current_date_short]\n",
    "WHERE\n",
    "  weeks_since_registration >= $ex_weeks_req"
   ]
  },
  {
   "cell_type": "code",
   "execution_count": 12,
   "metadata": {
    "collapsed": false
   },
   "outputs": [],
   "source": [
    "df_raw_ex = bq.Query(sql_ex, current_date_short=current_date_short, ex_weeks_req=ex_weeks_req).to_dataframe()"
   ]
  },
  {
   "cell_type": "code",
   "execution_count": 13,
   "metadata": {
    "collapsed": false
   },
   "outputs": [
    {
     "data": {
      "text/html": [
       "<div>\n",
       "<table border=\"1\" class=\"dataframe\">\n",
       "  <thead>\n",
       "    <tr style=\"text-align: right;\">\n",
       "      <th></th>\n",
       "      <th>RemainFTA</th>\n",
       "      <th>Activate</th>\n",
       "      <th>Retain</th>\n",
       "      <th>Churn</th>\n",
       "      <th>Resurrect</th>\n",
       "      <th>RemainDormant</th>\n",
       "    </tr>\n",
       "  </thead>\n",
       "  <tbody>\n",
       "    <tr>\n",
       "      <th>0</th>\n",
       "      <td>140419700</td>\n",
       "      <td>224453</td>\n",
       "      <td>63276215</td>\n",
       "      <td>9462564</td>\n",
       "      <td>9572236</td>\n",
       "      <td>269348549</td>\n",
       "    </tr>\n",
       "  </tbody>\n",
       "</table>\n",
       "</div>"
      ],
      "text/plain": [
       "   RemainFTA  Activate    Retain    Churn  Resurrect  RemainDormant\n",
       "0  140419700    224453  63276215  9462564    9572236      269348549"
      ]
     },
     "execution_count": 13,
     "metadata": {},
     "output_type": "execute_result"
    }
   ],
   "source": [
    "df_ex=df_raw_ex.copy()\n",
    "df_ex"
   ]
  },
  {
   "cell_type": "code",
   "execution_count": null,
   "metadata": {
    "collapsed": false
   },
   "outputs": [],
   "source": []
  },
  {
   "cell_type": "markdown",
   "metadata": {},
   "source": [
    "# Transform data"
   ]
  },
  {
   "cell_type": "code",
   "execution_count": 14,
   "metadata": {
    "collapsed": false
   },
   "outputs": [
    {
     "data": {
      "text/html": [
       "<div>\n",
       "<table border=\"1\" class=\"dataframe\">\n",
       "  <thead>\n",
       "    <tr style=\"text-align: right;\">\n",
       "      <th></th>\n",
       "      <th>to_FTA</th>\n",
       "      <th>to_Active</th>\n",
       "      <th>to_Dormant</th>\n",
       "    </tr>\n",
       "  </thead>\n",
       "  <tbody>\n",
       "    <tr>\n",
       "      <th>from_FTA</th>\n",
       "      <td>140419700.0</td>\n",
       "      <td>224453.0</td>\n",
       "      <td>0.0</td>\n",
       "    </tr>\n",
       "    <tr>\n",
       "      <th>from_Active</th>\n",
       "      <td>0.0</td>\n",
       "      <td>63276215.0</td>\n",
       "      <td>9462564.0</td>\n",
       "    </tr>\n",
       "    <tr>\n",
       "      <th>from_Dormant</th>\n",
       "      <td>0.0</td>\n",
       "      <td>9572236.0</td>\n",
       "      <td>269348549.0</td>\n",
       "    </tr>\n",
       "  </tbody>\n",
       "</table>\n",
       "</div>"
      ],
      "text/plain": [
       "                   to_FTA   to_Active   to_Dormant\n",
       "from_FTA      140419700.0    224453.0          0.0\n",
       "from_Active           0.0  63276215.0    9462564.0\n",
       "from_Dormant          0.0   9572236.0  269348549.0"
      ]
     },
     "execution_count": 14,
     "metadata": {},
     "output_type": "execute_result"
    }
   ],
   "source": [
    "from_FTA_start=pd.Series(np.float64([df_ex.RemainFTA, df_ex.Activate, 0.0]), index=['to_FTA', 'to_Active', 'to_Dormant'])\n",
    "from_FTA_explain=pd.Series(['RemainFTA', 'Activate', '-'], index=['to_FTA', 'to_Active', 'to_Dormant'])\n",
    "\n",
    "from_Active_start=pd.Series(np.float64([0.0, df_ex.Retain, df_ex.Churn]), index=['to_FTA', 'to_Active', 'to_Dormant'])\n",
    "from_Active_explain=pd.Series(['-', 'Retain', 'Churn'], index=['to_FTA', 'to_Active', 'to_Dormant'])\n",
    "\n",
    "from_Dormant_start=pd.Series(np.float64([0.0, df_ex.Resurrect, df_ex.RemainDormant]), index=['to_FTA', 'to_Active', 'to_Dormant'])\n",
    "from_Dormant_explain=pd.Series(['-', 'Resurrect', 'RemainDormant'], index=['to_FTA', 'to_Active', 'to_Dormant'])\n",
    "\n",
    "ex_matrix_start=pd.DataFrame([from_FTA_start, from_Active_start, from_Dormant_start], index=['from_FTA', 'from_Active', 'from_Dormant'])\n",
    "ex_tp_explain=pd.DataFrame([from_FTA_explain, from_Active_explain, from_Dormant_explain], index=['from_FTA', 'from_Active', 'from_Dormant'])\n",
    "\n",
    "ex_tp=ex_matrix_start.div(ex_matrix_start.sum(axis=1),axis=0)\n",
    "\n",
    "ex_matrix_start"
   ]
  },
  {
   "cell_type": "code",
   "execution_count": 15,
   "metadata": {
    "collapsed": false
   },
   "outputs": [
    {
     "data": {
      "text/html": [
       "<div>\n",
       "<table border=\"1\" class=\"dataframe\">\n",
       "  <thead>\n",
       "    <tr style=\"text-align: right;\">\n",
       "      <th></th>\n",
       "      <th>to_FTA</th>\n",
       "      <th>to_Active</th>\n",
       "      <th>to_Dormant</th>\n",
       "    </tr>\n",
       "  </thead>\n",
       "  <tbody>\n",
       "    <tr>\n",
       "      <th>from_FTA</th>\n",
       "      <td>0.998404</td>\n",
       "      <td>0.001596</td>\n",
       "      <td>0.000000</td>\n",
       "    </tr>\n",
       "    <tr>\n",
       "      <th>from_Active</th>\n",
       "      <td>0.000000</td>\n",
       "      <td>0.869910</td>\n",
       "      <td>0.130090</td>\n",
       "    </tr>\n",
       "    <tr>\n",
       "      <th>from_Dormant</th>\n",
       "      <td>0.000000</td>\n",
       "      <td>0.034319</td>\n",
       "      <td>0.965681</td>\n",
       "    </tr>\n",
       "  </tbody>\n",
       "</table>\n",
       "</div>"
      ],
      "text/plain": [
       "                to_FTA  to_Active  to_Dormant\n",
       "from_FTA      0.998404   0.001596    0.000000\n",
       "from_Active   0.000000   0.869910    0.130090\n",
       "from_Dormant  0.000000   0.034319    0.965681"
      ]
     },
     "execution_count": 15,
     "metadata": {},
     "output_type": "execute_result"
    }
   ],
   "source": [
    "ex_tp"
   ]
  },
  {
   "cell_type": "code",
   "execution_count": 16,
   "metadata": {
    "collapsed": false
   },
   "outputs": [
    {
     "data": {
      "text/html": [
       "<div>\n",
       "<table border=\"1\" class=\"dataframe\">\n",
       "  <thead>\n",
       "    <tr style=\"text-align: right;\">\n",
       "      <th></th>\n",
       "      <th>to_FTA</th>\n",
       "      <th>to_Active</th>\n",
       "      <th>to_Dormant</th>\n",
       "    </tr>\n",
       "  </thead>\n",
       "  <tbody>\n",
       "    <tr>\n",
       "      <th>from_FTA</th>\n",
       "      <td>RemainFTA</td>\n",
       "      <td>Activate</td>\n",
       "      <td>-</td>\n",
       "    </tr>\n",
       "    <tr>\n",
       "      <th>from_Active</th>\n",
       "      <td>-</td>\n",
       "      <td>Retain</td>\n",
       "      <td>Churn</td>\n",
       "    </tr>\n",
       "    <tr>\n",
       "      <th>from_Dormant</th>\n",
       "      <td>-</td>\n",
       "      <td>Resurrect</td>\n",
       "      <td>RemainDormant</td>\n",
       "    </tr>\n",
       "  </tbody>\n",
       "</table>\n",
       "</div>"
      ],
      "text/plain": [
       "                 to_FTA  to_Active     to_Dormant\n",
       "from_FTA      RemainFTA   Activate              -\n",
       "from_Active           -     Retain          Churn\n",
       "from_Dormant          -  Resurrect  RemainDormant"
      ]
     },
     "execution_count": 16,
     "metadata": {},
     "output_type": "execute_result"
    }
   ],
   "source": [
    "ex_tp_explain"
   ]
  },
  {
   "cell_type": "code",
   "execution_count": null,
   "metadata": {
    "collapsed": true
   },
   "outputs": [],
   "source": []
  },
  {
   "cell_type": "markdown",
   "metadata": {},
   "source": [
    "# Help functions"
   ]
  },
  {
   "cell_type": "code",
   "execution_count": 17,
   "metadata": {
    "collapsed": true
   },
   "outputs": [],
   "source": [
    "def flat_matrix(df, i):\n",
    "  out={'RemainFTA':df.ix['from_FTA', 'to_FTA'], \n",
    "      'Activate':df.ix['from_FTA', 'to_Active'],\n",
    "      'Retain':df.ix['from_Active', 'to_Active'],\n",
    "      'Churn':df.ix['from_Active', 'to_Dormant'], \n",
    "      'Resurrect':df.ix['from_Dormant', 'to_Active'], \n",
    "      'RemainDormant':df.ix['from_Dormant', 'to_Dormant']}\n",
    "  return pd.DataFrame(out, index=[i])"
   ]
  },
  {
   "cell_type": "markdown",
   "metadata": {},
   "source": [
    "# Function for calculaling evolvment for existing users"
   ]
  },
  {
   "cell_type": "code",
   "execution_count": null,
   "metadata": {
    "collapsed": true
   },
   "outputs": [],
   "source": []
  },
  {
   "cell_type": "markdown",
   "metadata": {},
   "source": [
    "### Calculate modified TP"
   ]
  },
  {
   "cell_type": "code",
   "execution_count": 18,
   "metadata": {
    "collapsed": true
   },
   "outputs": [],
   "source": [
    "def calculate_modified_tp_ex(ex_tp, act_rate, wow_ret, wow_res):\n",
    "  ex_tp_mod=ex_tp.copy()\n",
    "  \n",
    "  ex_tp_mod.ix['from_FTA','to_FTA']=ex_tp.ix['from_FTA','to_FTA']-act_rate\n",
    "  ex_tp_mod.ix['from_FTA','to_Active']=ex_tp.ix['from_FTA','to_Active']+act_rate\n",
    "  ex_tp_mod.ix['from_Active','to_Active']=ex_tp.ix['from_Active','to_Active']+wow_ret\n",
    "  ex_tp_mod.ix['from_Active','to_Dormant']=ex_tp.ix['from_Active','to_Dormant']-wow_ret\n",
    "  ex_tp_mod.ix['from_Dormant','to_Active']=ex_tp.ix['from_Dormant','to_Active']+wow_res\n",
    "  ex_tp_mod.ix['from_Dormant','to_Dormant']=ex_tp.ix['from_Dormant','to_Dormant']-wow_res\n",
    "\n",
    "  return ex_tp_mod\n",
    "  "
   ]
  },
  {
   "cell_type": "code",
   "execution_count": 19,
   "metadata": {
    "collapsed": false
   },
   "outputs": [
    {
     "data": {
      "text/html": [
       "<div>\n",
       "<table border=\"1\" class=\"dataframe\">\n",
       "  <thead>\n",
       "    <tr style=\"text-align: right;\">\n",
       "      <th></th>\n",
       "      <th>to_FTA</th>\n",
       "      <th>to_Active</th>\n",
       "      <th>to_Dormant</th>\n",
       "    </tr>\n",
       "  </thead>\n",
       "  <tbody>\n",
       "    <tr>\n",
       "      <th>from_FTA</th>\n",
       "      <td>0.998404</td>\n",
       "      <td>0.001596</td>\n",
       "      <td>0.000000</td>\n",
       "    </tr>\n",
       "    <tr>\n",
       "      <th>from_Active</th>\n",
       "      <td>0.000000</td>\n",
       "      <td>0.869910</td>\n",
       "      <td>0.130090</td>\n",
       "    </tr>\n",
       "    <tr>\n",
       "      <th>from_Dormant</th>\n",
       "      <td>0.000000</td>\n",
       "      <td>0.034319</td>\n",
       "      <td>0.965681</td>\n",
       "    </tr>\n",
       "  </tbody>\n",
       "</table>\n",
       "</div>"
      ],
      "text/plain": [
       "                to_FTA  to_Active  to_Dormant\n",
       "from_FTA      0.998404   0.001596    0.000000\n",
       "from_Active   0.000000   0.869910    0.130090\n",
       "from_Dormant  0.000000   0.034319    0.965681"
      ]
     },
     "execution_count": 19,
     "metadata": {},
     "output_type": "execute_result"
    }
   ],
   "source": [
    "ex_tp_mod=calculate_modified_tp_ex(ex_tp, act_rate, wow_ret, wow_res)\n",
    "ex_tp_mod"
   ]
  },
  {
   "cell_type": "markdown",
   "metadata": {},
   "source": [
    "### Calculate existing users"
   ]
  },
  {
   "cell_type": "code",
   "execution_count": 20,
   "metadata": {
    "collapsed": false
   },
   "outputs": [],
   "source": [
    "def calculate_existing_users(df_ex, ex_matrix_start, ex_tp,ex_tp_mod, num_forecast_weeks, start, end):\n",
    "  \n",
    "  df_ex_evolve=df_ex.copy()\n",
    "  ex_matrix_new=ex_matrix_start.copy()\n",
    "  \n",
    "  for i in range(1,num_forecast_weeks+1):\n",
    "    ex_sum=ex_matrix_new.sum(axis=0)\n",
    "    ex_sum.index=ex_matrix_new.index\n",
    "    \n",
    "    if i>=start and i<=end: ex_matrix_new=ex_tp_mod.T.multiply(ex_sum, axis=1).T \n",
    "    else: ex_matrix_new=ex_tp.T.multiply(ex_sum, axis=1).T\n",
    "      \n",
    "    to_add=flat_matrix(ex_matrix_new, i)\n",
    "\n",
    "    df_ex_evolve=pd.concat([df_ex_evolve, to_add])\n",
    "  \n",
    "  df_ex_evolve=df_ex_evolve[['RemainFTA','Activate','Retain','Churn','Resurrect','RemainDormant']]\n",
    "  return ex_matrix_new, df_ex_evolve\n",
    "  \n",
    "  "
   ]
  },
  {
   "cell_type": "code",
   "execution_count": 21,
   "metadata": {
    "collapsed": false
   },
   "outputs": [],
   "source": [
    "a,b=calculate_existing_users(df_ex, ex_matrix_start, ex_tp,ex_tp_mod, num_forecast_weeks, 5, 10)"
   ]
  },
  {
   "cell_type": "code",
   "execution_count": null,
   "metadata": {
    "collapsed": false
   },
   "outputs": [],
   "source": []
  },
  {
   "cell_type": "code",
   "execution_count": null,
   "metadata": {
    "collapsed": false
   },
   "outputs": [],
   "source": []
  },
  {
   "cell_type": "code",
   "execution_count": null,
   "metadata": {
    "collapsed": true
   },
   "outputs": [],
   "source": []
  },
  {
   "cell_type": "markdown",
   "metadata": {},
   "source": [
    "#  Function for forecast number of new registrations"
   ]
  },
  {
   "cell_type": "code",
   "execution_count": 22,
   "metadata": {
    "collapsed": true
   },
   "outputs": [],
   "source": [
    "def new_registrations(df_new_num, linear_weeks,weekly_regs_factor, viral_factor, start, end, ex_weeks_req):\n",
    "  df_reg=df_new_num['newly_active']+df_new_num['newly_fta']\n",
    "  df_reg_used=df_reg[-linear_weeks:]\n",
    "  x = df_reg_used.index.values.reshape(linear_weeks, 1)\n",
    "  y = df_reg_used.values.reshape(linear_weeks, 1)\n",
    "  \n",
    "  regr = linear_model.LinearRegression()\n",
    "  regr.fit(x, y)\n",
    "  regs_forecast=[]\n",
    "  for i in range(52,52+52):\n",
    "    regs_forecast.append(regr.predict(i)[0][0])\n",
    "  \n",
    "  df_regs=pd.DataFrame(regs_forecast, index=range(1,53), columns=['registrations'])\n",
    "  df_regs['regs']=df_regs['registrations']*(1+weekly_regs_factor)*((1+viral_factor)**(df_regs.index.values-start+1))\n",
    "  \n",
    "  df_regs=((df_regs.index>=start) & (df_regs.index<=end))*df_regs['regs']+((df_regs.index<start) | (df_regs.index>end))*df_regs['registrations']\n",
    "  \n",
    "\n",
    "  df_reg_hole=df_reg[-ex_weeks_req:]\n",
    "  df_reg_hole.index=range(-ex_weeks_req+1,1)\n",
    "  df_regs=pd.concat([df_reg_hole,df_regs])\n",
    "  \n",
    "  return df_regs"
   ]
  },
  {
   "cell_type": "code",
   "execution_count": 23,
   "metadata": {
    "collapsed": false
   },
   "outputs": [],
   "source": [
    "a=new_registrations(df_new_num, linear_weeks,weekly_regs_factor, viral_factor, 52, 52, ex_weeks_req)"
   ]
  },
  {
   "cell_type": "code",
   "execution_count": null,
   "metadata": {
    "collapsed": false
   },
   "outputs": [],
   "source": []
  },
  {
   "cell_type": "markdown",
   "metadata": {},
   "source": [
    "# Function for calculaling evolvment for new users"
   ]
  },
  {
   "cell_type": "markdown",
   "metadata": {},
   "source": [
    "### Function for transforming tp to state"
   ]
  },
  {
   "cell_type": "code",
   "execution_count": 175,
   "metadata": {
    "collapsed": false
   },
   "outputs": [],
   "source": [
    "# calculate state from transition probability for first weeks of new reistered user\n",
    "def calculate_state_from_tp_new_regs(df_new_tp):\n",
    "  df_new_tp=df_new_tp.fillna(0.0)\n",
    "  df_new_state=df_new_tp*0\n",
    "  df_new_state[1]=pd.DataFrame(df_new_tp.ix[:,1])\n",
    "  \n",
    "  for i in range(2,len(df_new_tp.T)+1):\n",
    "    df_new_state.ix['RemainFTA',i]=df_new_state.ix['RemainFTA', i-1]*df_new_tp.ix['RemainFTA', i]\n",
    "    df_new_state.ix['Activate',i]=df_new_state.ix['RemainFTA', i-1]*df_new_tp.ix['Activate', i]\n",
    "    df_new_state.ix['Retain',i]=(df_new_state.ix['Activate', i-1]+df_new_state.ix['Retain', i-1]+df_new_state.ix['Resurrect', i-1])*df_new_tp.ix['Retain', i]\n",
    "    df_new_state.ix['Churn',i]=(df_new_state.ix['Activate', i-1]+df_new_state.ix['Retain', i-1]+df_new_state.ix['Resurrect', i-1])*df_new_tp.ix['Churn', i]\n",
    "    df_new_state.ix['Resurrect',i]=(df_new_state.ix['Churn', i-1]+df_new_state.ix['RemainDormant', i-1])*df_new_tp.ix['Resurrect', i]\n",
    "    df_new_state.ix['RemainDormant',i]=(df_new_state.ix['Churn', i-1]+df_new_state.ix['RemainDormant', i-1])*df_new_tp.ix['RemainDormant', i]\n",
    "\n",
    "  return df_new_state"
   ]
  },
  {
   "cell_type": "code",
   "execution_count": 176,
   "metadata": {
    "collapsed": false
   },
   "outputs": [],
   "source": [
    "a=calculate_state_from_tp_new_regs(df_new_tp)"
   ]
  },
  {
   "cell_type": "markdown",
   "metadata": {},
   "source": [
    "### Function for calculating modyfied cohort curve first weeks for users reg inside interval"
   ]
  },
  {
   "cell_type": "code",
   "execution_count": 26,
   "metadata": {
    "collapsed": false
   },
   "outputs": [],
   "source": [
    "# create modified retention tp for first weeks, length decided by \"new_tp_weeks\"\n",
    "def calculate_modified_retention(new_tp_weeks, new_ret_sus_weeks, df_new_tp, newly_activate_rate, second_week_retention):\n",
    "  # first 2nd week retention\n",
    "\n",
    "  df_new_tp_mod=df_new_tp.copy().fillna(0.0)\n",
    "  df_new_state=calculate_state_from_tp_new_regs(df_new_tp)\n",
    "\n",
    "  #calculate multiplying factor\n",
    "  original_2nd=df_new_state.ix['Activate', 2]+df_new_state.ix['Retain', 2]\n",
    "  new_2nd=original_2nd+second_week_retention\n",
    "  f=new_2nd/original_2nd\n",
    "\n",
    "  #\n",
    "  FTA=1\n",
    "  Active=1\n",
    "  Dormant=1\n",
    "\n",
    "  for i in range(2, new_ret_sus_weeks+1):\n",
    "\n",
    "  # calculate last states\n",
    "    FTA_tmp=FTA*df_new_tp_mod.ix['RemainFTA', i-1]\n",
    "    Active_tmp=FTA*df_new_tp_mod.ix['Activate', i-1]+Active*df_new_tp_mod.ix['Retain', i-1]+Dormant*df_new_tp_mod.ix['Resurrect', i-1]\n",
    "    Dormant_tmp=Active*df_new_tp_mod.ix['Churn', i-1]+Dormant*df_new_tp_mod.ix['RemainDormant', i-1]\n",
    "\n",
    "    FTA=FTA_tmp; Active=Active_tmp; Dormant=Dormant_tmp\n",
    "    # new active state\n",
    "    original_ret=df_new_state.ix['Activate', i]+df_new_state.ix['Retain', i]+df_new_state.ix['Resurrect', i]\n",
    "\n",
    "\n",
    "    retain_mod=(original_ret*f-Dormant*df_new_tp_mod.ix['Resurrect',i]-FTA*df_new_tp_mod.ix['Activate',i])/Active\n",
    "    df_new_tp_mod.ix['Retain', i]=retain_mod\n",
    "    df_new_tp_mod.ix['Churn', i]=1-retain_mod\n",
    "\n",
    "  # add extra newly_activate\n",
    "  df_new_tp_mod.ix['Activate', 1]+=newly_activate_rate\n",
    "  df_new_tp_mod.ix['RemainFTA', 1]-=newly_activate_rate\n",
    "  return df_new_tp_mod\n",
    "  "
   ]
  },
  {
   "cell_type": "code",
   "execution_count": 27,
   "metadata": {
    "collapsed": false
   },
   "outputs": [],
   "source": [
    "a=calculate_modified_retention(new_tp_weeks, new_ret_sus_weeks, df_new_tp, newly_activate_rate, second_week_retention)"
   ]
  },
  {
   "cell_type": "code",
   "execution_count": null,
   "metadata": {
    "collapsed": true
   },
   "outputs": [],
   "source": []
  },
  {
   "cell_type": "code",
   "execution_count": null,
   "metadata": {
    "collapsed": true
   },
   "outputs": [],
   "source": []
  },
  {
   "cell_type": "markdown",
   "metadata": {},
   "source": [
    "### create tp for particular registration cohort"
   ]
  },
  {
   "cell_type": "code",
   "execution_count": 145,
   "metadata": {
    "collapsed": false
   },
   "outputs": [],
   "source": [
    "# create tp for particular registration cohort\n",
    "def calculate_new_cohort_tp(reg_week, start, end, df_new_tp, df_new_tp_mod, ex_tp, ex_tp_mod, new_tp_weeks, num_forecast_weeks, ex_weeks_req, hole_flag=1):\n",
    "  \n",
    "  if reg_week>=start and reg_week<=end:\n",
    "    df_new_cohort_tp=df_new_tp_mod.copy()\n",
    "  else:\n",
    "    df_new_cohort_tp=df_new_tp.copy()\n",
    "\n",
    "  ex_tp_flat=flat_matrix(ex_tp, -1)\n",
    "  ex_tp_mod_flat=flat_matrix(ex_tp_mod, -1)\n",
    "  \n",
    "  \n",
    "  if hole_flag==1: # as we would like it\n",
    "    for i in range(new_tp_weeks+1,num_forecast_weeks+1+ex_weeks_req):\n",
    "        if reg_week+i-1>=start and reg_week+i-1<=end:\n",
    "          df_new_cohort_tp[i]=ex_tp_mod_flat.T\n",
    "        else:\n",
    "          df_new_cohort_tp[i]=ex_tp_flat.T\n",
    "  else:\n",
    "    for i in range(new_tp_weeks+1,num_forecast_weeks+1+ex_weeks_req):\n",
    "        if reg_week>=start and reg_week<=end:\n",
    "          df_new_cohort_tp[i]=ex_tp_mod_flat.T\n",
    "        else:\n",
    "          df_new_cohort_tp[i]=ex_tp_flat.T   \n",
    "      \n",
    "  \n",
    "  return df_new_cohort_tp"
   ]
  },
  {
   "cell_type": "code",
   "execution_count": 149,
   "metadata": {
    "collapsed": false
   },
   "outputs": [],
   "source": [
    "a=calculate_new_cohort_tp(5, start, end, df_new_tp, df_new_tp, ex_tp, ex_tp, 36, num_forecast_weeks, ex_weeks_req)"
   ]
  },
  {
   "cell_type": "code",
   "execution_count": null,
   "metadata": {
    "collapsed": false
   },
   "outputs": [],
   "source": []
  },
  {
   "cell_type": "code",
   "execution_count": null,
   "metadata": {
    "collapsed": true
   },
   "outputs": [],
   "source": []
  },
  {
   "cell_type": "code",
   "execution_count": null,
   "metadata": {
    "collapsed": false
   },
   "outputs": [],
   "source": []
  },
  {
   "cell_type": "markdown",
   "metadata": {},
   "source": [
    "# Use New Users functions to get result"
   ]
  },
  {
   "cell_type": "code",
   "execution_count": 61,
   "metadata": {
    "collapsed": false
   },
   "outputs": [],
   "source": [
    "def return_new_users_one_cohort(week, new_regs, start, end, df_new_tp, df_new_tp_mod, ex_tp, ex_tp_mod, new_tp_weeks, num_forecast_weeks, ex_weeks_req, hole_flag):\n",
    "  tp=calculate_new_cohort_tp(week, start, end, df_new_tp, df_new_tp_mod, ex_tp, ex_tp_mod, new_tp_weeks, num_forecast_weeks, ex_weeks_req, hole_flag)\n",
    "  state=calculate_state_from_tp_new_regs(tp)*new_regs[week]\n",
    "  state.columns+=week-1\n",
    "  return state.T"
   ]
  },
  {
   "cell_type": "code",
   "execution_count": 62,
   "metadata": {
    "collapsed": false
   },
   "outputs": [],
   "source": [
    "def return_all_new_users(new_regs, start, end, df_new_tp, df_new_tp_mod, ex_tp, ex_tp_mod, new_tp_weeks, num_forecast_weeks, ex_weeks_req, hole_flag):\n",
    "  tot_new_users=pd.DataFrame([])\n",
    "  active_new_users_per_cohort=pd.DataFrame([])\n",
    "  for week in range(-ex_weeks_req+1,num_forecast_weeks+1): \n",
    "    adding=return_new_users_one_cohort(week, new_regs, start, end, df_new_tp, df_new_tp_mod, ex_tp, ex_tp_mod, \n",
    "                                       new_tp_weeks, num_forecast_weeks, ex_weeks_req, hole_flag)\n",
    "    tot_new_users=tot_new_users.add(adding, fill_value=0)\n",
    "\n",
    "    active_cohort=adding['Activate']+adding['Retain']+adding['Resurrect']\n",
    "    active_cohort=pd.DataFrame(active_cohort, columns=['w'+str(week)])\n",
    "    active_new_users_per_cohort=pd.concat([active_new_users_per_cohort, active_cohort], axis=1)\n",
    "  return tot_new_users, active_new_users_per_cohort\n"
   ]
  },
  {
   "cell_type": "code",
   "execution_count": null,
   "metadata": {
    "collapsed": false
   },
   "outputs": [],
   "source": []
  },
  {
   "cell_type": "markdown",
   "metadata": {},
   "source": [
    "# Calculate MAU end result"
   ]
  },
  {
   "cell_type": "code",
   "execution_count": 118,
   "metadata": {
    "collapsed": false
   },
   "outputs": [],
   "source": [
    "def end_result_MAU(weekly_regs_factor, viral_factor, newly_activate_rate, act_rate, second_week_retention, new_ret_sus_weeks, wow_ret, wow_res,\n",
    "                   wu, start, end, new_tp_weeks, ex_weeks_req, num_forecast_weeks, linear_weeks, hole_flag,\n",
    "                  ex_tp,df_ex,ex_matrix_start, df_new_num, df_new_tp):\n",
    "  # gather existing users data\n",
    "  ex_tp_mod=calculate_modified_tp_ex(ex_tp, act_rate, wow_ret, wow_res)\n",
    "  ex_matrix_new, df_ex_evolve=calculate_existing_users(df_ex, ex_matrix_start, ex_tp, ex_tp_mod, num_forecast_weeks, start, end)\n",
    "  \n",
    "\n",
    "  # gather new users data\n",
    "  new_regs=new_registrations(df_new_num, linear_weeks,weekly_regs_factor, viral_factor, start, end, ex_weeks_req)\n",
    "  df_new_tp_mod=calculate_modified_retention(new_tp_weeks, new_ret_sus_weeks, df_new_tp, newly_activate_rate, second_week_retention)\n",
    "  \n",
    "  tot_new_users, active_new_users_per_cohort=return_all_new_users(new_regs, start, end, df_new_tp, df_new_tp_mod, \n",
    "                                                                ex_tp, ex_tp_mod, new_tp_weeks,num_forecast_weeks, ex_weeks_req, hole_flag)\n",
    "  \n",
    "  # Some calculations and concatinations\n",
    "  active_existing=df_ex_evolve['Activate']+df_ex_evolve['Retain']+df_ex_evolve['Resurrect']\n",
    "  active_existing=pd.DataFrame(active_existing, columns=['Existing'])\n",
    "  active=pd.concat([active_new_users_per_cohort, active_existing], axis=1).ix[0:num_forecast_weeks]\n",
    "  active['Tot']=active.sum(axis=1)\n",
    "  active['Hole']=active.ix[:,:'w0'].sum(axis=1)\n",
    "  active['New']=active['Tot']-active['Hole']-active['Existing']\n",
    "  active=active/0.7383\n",
    "  \n",
    "  resulting_state=tot_new_users.ix[0:num_forecast_weeks]+df_ex_evolve\n",
    "  \n",
    "  return active, resulting_state\n",
    "  "
   ]
  },
  {
   "cell_type": "code",
   "execution_count": 159,
   "metadata": {
    "collapsed": true
   },
   "outputs": [],
   "source": [
    "ex_tp_mod=calculate_modified_tp_ex(ex_tp, act_rate, wow_ret, wow_res)\n",
    "ex_matrix_new, df_ex_evolve=calculate_existing_users(df_ex, ex_matrix_start, ex_tp, ex_tp_mod, num_forecast_weeks, start, end)"
   ]
  },
  {
   "cell_type": "code",
   "execution_count": null,
   "metadata": {
    "collapsed": false
   },
   "outputs": [],
   "source": []
  },
  {
   "cell_type": "code",
   "execution_count": null,
   "metadata": {
    "collapsed": true
   },
   "outputs": [],
   "source": []
  },
  {
   "cell_type": "markdown",
   "metadata": {},
   "source": [
    "# Some charts for the result"
   ]
  },
  {
   "cell_type": "code",
   "execution_count": 167,
   "metadata": {
    "collapsed": false
   },
   "outputs": [
    {
     "data": {
      "text/plain": [
       "<matplotlib.axes._subplots.AxesSubplot at 0x7f44e10b0a90>"
      ]
     },
     "execution_count": 167,
     "metadata": {},
     "output_type": "execute_result"
    },
    {
     "data": {
      "image/png": "[encoded data removed]",
      "text/plain": [
       "<matplotlib.figure.Figure at 0x7f44e1786110>"
      ]
     },
     "metadata": {},
     "output_type": "display_data"
    }
   ],
   "source": [
    "tot_new_users, active_new_users_per_cohort=return_all_new_users(new_regs, start, end, df_new_tp, \n",
    "                                                                df_new_tp_mod, ex_tp, ex_tp_mod, new_tp_weeks, num_forecast_weeks, ex_weeks_req)\n",
    "active_new_users_per_cohort[0:52].plot(kind='area', figsize=(26,18), title='New registration contribution')"
   ]
  },
  {
   "cell_type": "code",
   "execution_count": 95,
   "metadata": {
    "collapsed": false
   },
   "outputs": [],
   "source": [
    "active_cohort=adding['Activate']+adding['Retain']+adding['Resurrect']"
   ]
  },
  {
   "cell_type": "code",
   "execution_count": 97,
   "metadata": {
    "collapsed": false
   },
   "outputs": [
    {
     "data": {
      "text/html": [
       "<div>\n",
       "<table border=\"1\" class=\"dataframe\">\n",
       "  <thead>\n",
       "    <tr style=\"text-align: right;\">\n",
       "      <th></th>\n",
       "      <th>52</th>\n",
       "    </tr>\n",
       "  </thead>\n",
       "  <tbody>\n",
       "    <tr>\n",
       "      <th>52</th>\n",
       "      <td>2.447499e+06</td>\n",
       "    </tr>\n",
       "    <tr>\n",
       "      <th>53</th>\n",
       "      <td>1.255350e+06</td>\n",
       "    </tr>\n",
       "    <tr>\n",
       "      <th>54</th>\n",
       "      <td>9.806406e+05</td>\n",
       "    </tr>\n",
       "    <tr>\n",
       "      <th>55</th>\n",
       "      <td>8.700742e+05</td>\n",
       "    </tr>\n",
       "    <tr>\n",
       "      <th>56</th>\n",
       "      <td>8.019790e+05</td>\n",
       "    </tr>\n",
       "    <tr>\n",
       "      <th>57</th>\n",
       "      <td>7.474068e+05</td>\n",
       "    </tr>\n",
       "    <tr>\n",
       "      <th>58</th>\n",
       "      <td>7.086267e+05</td>\n",
       "    </tr>\n",
       "    <tr>\n",
       "      <th>59</th>\n",
       "      <td>6.776289e+05</td>\n",
       "    </tr>\n",
       "    <tr>\n",
       "      <th>60</th>\n",
       "      <td>6.529892e+05</td>\n",
       "    </tr>\n",
       "    <tr>\n",
       "      <th>61</th>\n",
       "      <td>6.294199e+05</td>\n",
       "    </tr>\n",
       "    <tr>\n",
       "      <th>62</th>\n",
       "      <td>6.104941e+05</td>\n",
       "    </tr>\n",
       "    <tr>\n",
       "      <th>63</th>\n",
       "      <td>5.939202e+05</td>\n",
       "    </tr>\n",
       "    <tr>\n",
       "      <th>64</th>\n",
       "      <td>5.800807e+05</td>\n",
       "    </tr>\n",
       "    <tr>\n",
       "      <th>65</th>\n",
       "      <td>5.665578e+05</td>\n",
       "    </tr>\n",
       "    <tr>\n",
       "      <th>66</th>\n",
       "      <td>5.528452e+05</td>\n",
       "    </tr>\n",
       "    <tr>\n",
       "      <th>67</th>\n",
       "      <td>5.406260e+05</td>\n",
       "    </tr>\n",
       "    <tr>\n",
       "      <th>68</th>\n",
       "      <td>5.307044e+05</td>\n",
       "    </tr>\n",
       "    <tr>\n",
       "      <th>69</th>\n",
       "      <td>5.221255e+05</td>\n",
       "    </tr>\n",
       "    <tr>\n",
       "      <th>70</th>\n",
       "      <td>5.246334e+05</td>\n",
       "    </tr>\n",
       "    <tr>\n",
       "      <th>71</th>\n",
       "      <td>5.267552e+05</td>\n",
       "    </tr>\n",
       "    <tr>\n",
       "      <th>72</th>\n",
       "      <td>5.285544e+05</td>\n",
       "    </tr>\n",
       "    <tr>\n",
       "      <th>73</th>\n",
       "      <td>5.300841e+05</td>\n",
       "    </tr>\n",
       "    <tr>\n",
       "      <th>74</th>\n",
       "      <td>5.313884e+05</td>\n",
       "    </tr>\n",
       "    <tr>\n",
       "      <th>75</th>\n",
       "      <td>5.325044e+05</td>\n",
       "    </tr>\n",
       "    <tr>\n",
       "      <th>76</th>\n",
       "      <td>5.334630e+05</td>\n",
       "    </tr>\n",
       "    <tr>\n",
       "      <th>77</th>\n",
       "      <td>5.342900e+05</td>\n",
       "    </tr>\n",
       "    <tr>\n",
       "      <th>78</th>\n",
       "      <td>5.350071e+05</td>\n",
       "    </tr>\n",
       "    <tr>\n",
       "      <th>79</th>\n",
       "      <td>5.356323e+05</td>\n",
       "    </tr>\n",
       "    <tr>\n",
       "      <th>80</th>\n",
       "      <td>5.361806e+05</td>\n",
       "    </tr>\n",
       "    <tr>\n",
       "      <th>81</th>\n",
       "      <td>5.366646e+05</td>\n",
       "    </tr>\n",
       "    <tr>\n",
       "      <th>...</th>\n",
       "      <td>...</td>\n",
       "    </tr>\n",
       "    <tr>\n",
       "      <th>92</th>\n",
       "      <td>5.398178e+05</td>\n",
       "    </tr>\n",
       "    <tr>\n",
       "      <th>93</th>\n",
       "      <td>5.400111e+05</td>\n",
       "    </tr>\n",
       "    <tr>\n",
       "      <th>94</th>\n",
       "      <td>5.401981e+05</td>\n",
       "    </tr>\n",
       "    <tr>\n",
       "      <th>95</th>\n",
       "      <td>5.403796e+05</td>\n",
       "    </tr>\n",
       "    <tr>\n",
       "      <th>96</th>\n",
       "      <td>5.405565e+05</td>\n",
       "    </tr>\n",
       "    <tr>\n",
       "      <th>97</th>\n",
       "      <td>5.407295e+05</td>\n",
       "    </tr>\n",
       "    <tr>\n",
       "      <th>98</th>\n",
       "      <td>5.408993e+05</td>\n",
       "    </tr>\n",
       "    <tr>\n",
       "      <th>99</th>\n",
       "      <td>5.410664e+05</td>\n",
       "    </tr>\n",
       "    <tr>\n",
       "      <th>100</th>\n",
       "      <td>5.412310e+05</td>\n",
       "    </tr>\n",
       "    <tr>\n",
       "      <th>101</th>\n",
       "      <td>5.413937e+05</td>\n",
       "    </tr>\n",
       "    <tr>\n",
       "      <th>102</th>\n",
       "      <td>5.415546e+05</td>\n",
       "    </tr>\n",
       "    <tr>\n",
       "      <th>103</th>\n",
       "      <td>5.417141e+05</td>\n",
       "    </tr>\n",
       "    <tr>\n",
       "      <th>104</th>\n",
       "      <td>5.418723e+05</td>\n",
       "    </tr>\n",
       "    <tr>\n",
       "      <th>105</th>\n",
       "      <td>5.420294e+05</td>\n",
       "    </tr>\n",
       "    <tr>\n",
       "      <th>106</th>\n",
       "      <td>5.421855e+05</td>\n",
       "    </tr>\n",
       "    <tr>\n",
       "      <th>107</th>\n",
       "      <td>5.423408e+05</td>\n",
       "    </tr>\n",
       "    <tr>\n",
       "      <th>108</th>\n",
       "      <td>5.424953e+05</td>\n",
       "    </tr>\n",
       "    <tr>\n",
       "      <th>109</th>\n",
       "      <td>5.426492e+05</td>\n",
       "    </tr>\n",
       "    <tr>\n",
       "      <th>110</th>\n",
       "      <td>5.428025e+05</td>\n",
       "    </tr>\n",
       "    <tr>\n",
       "      <th>111</th>\n",
       "      <td>5.429553e+05</td>\n",
       "    </tr>\n",
       "    <tr>\n",
       "      <th>112</th>\n",
       "      <td>5.431075e+05</td>\n",
       "    </tr>\n",
       "    <tr>\n",
       "      <th>113</th>\n",
       "      <td>5.432594e+05</td>\n",
       "    </tr>\n",
       "    <tr>\n",
       "      <th>114</th>\n",
       "      <td>5.434108e+05</td>\n",
       "    </tr>\n",
       "    <tr>\n",
       "      <th>115</th>\n",
       "      <td>5.435618e+05</td>\n",
       "    </tr>\n",
       "    <tr>\n",
       "      <th>116</th>\n",
       "      <td>5.437125e+05</td>\n",
       "    </tr>\n",
       "    <tr>\n",
       "      <th>117</th>\n",
       "      <td>5.438628e+05</td>\n",
       "    </tr>\n",
       "    <tr>\n",
       "      <th>118</th>\n",
       "      <td>5.440128e+05</td>\n",
       "    </tr>\n",
       "    <tr>\n",
       "      <th>119</th>\n",
       "      <td>5.441625e+05</td>\n",
       "    </tr>\n",
       "    <tr>\n",
       "      <th>120</th>\n",
       "      <td>5.443119e+05</td>\n",
       "    </tr>\n",
       "    <tr>\n",
       "      <th>121</th>\n",
       "      <td>5.444610e+05</td>\n",
       "    </tr>\n",
       "  </tbody>\n",
       "</table>\n",
       "<p>70 rows × 1 columns</p>\n",
       "</div>"
      ],
      "text/plain": [
       "               52\n",
       "52   2.447499e+06\n",
       "53   1.255350e+06\n",
       "54   9.806406e+05\n",
       "55   8.700742e+05\n",
       "56   8.019790e+05\n",
       "57   7.474068e+05\n",
       "58   7.086267e+05\n",
       "59   6.776289e+05\n",
       "60   6.529892e+05\n",
       "61   6.294199e+05\n",
       "62   6.104941e+05\n",
       "63   5.939202e+05\n",
       "64   5.800807e+05\n",
       "65   5.665578e+05\n",
       "66   5.528452e+05\n",
       "67   5.406260e+05\n",
       "68   5.307044e+05\n",
       "69   5.221255e+05\n",
       "70   5.246334e+05\n",
       "71   5.267552e+05\n",
       "72   5.285544e+05\n",
       "73   5.300841e+05\n",
       "74   5.313884e+05\n",
       "75   5.325044e+05\n",
       "76   5.334630e+05\n",
       "77   5.342900e+05\n",
       "78   5.350071e+05\n",
       "79   5.356323e+05\n",
       "80   5.361806e+05\n",
       "81   5.366646e+05\n",
       "..            ...\n",
       "92   5.398178e+05\n",
       "93   5.400111e+05\n",
       "94   5.401981e+05\n",
       "95   5.403796e+05\n",
       "96   5.405565e+05\n",
       "97   5.407295e+05\n",
       "98   5.408993e+05\n",
       "99   5.410664e+05\n",
       "100  5.412310e+05\n",
       "101  5.413937e+05\n",
       "102  5.415546e+05\n",
       "103  5.417141e+05\n",
       "104  5.418723e+05\n",
       "105  5.420294e+05\n",
       "106  5.421855e+05\n",
       "107  5.423408e+05\n",
       "108  5.424953e+05\n",
       "109  5.426492e+05\n",
       "110  5.428025e+05\n",
       "111  5.429553e+05\n",
       "112  5.431075e+05\n",
       "113  5.432594e+05\n",
       "114  5.434108e+05\n",
       "115  5.435618e+05\n",
       "116  5.437125e+05\n",
       "117  5.438628e+05\n",
       "118  5.440128e+05\n",
       "119  5.441625e+05\n",
       "120  5.443119e+05\n",
       "121  5.444610e+05\n",
       "\n",
       "[70 rows x 1 columns]"
      ]
     },
     "execution_count": 97,
     "metadata": {},
     "output_type": "execute_result"
    }
   ],
   "source": [
    "pd.DataFrame(active_cohort, columns=[52])"
   ]
  },
  {
   "cell_type": "code",
   "execution_count": 89,
   "metadata": {
    "collapsed": false
   },
   "outputs": [
    {
     "data": {
      "text/html": [
       "<div>\n",
       "<table border=\"1\" class=\"dataframe\">\n",
       "  <thead>\n",
       "    <tr style=\"text-align: right;\">\n",
       "      <th></th>\n",
       "      <th>RemainFTA</th>\n",
       "      <th>Activate</th>\n",
       "      <th>Retain</th>\n",
       "      <th>Churn</th>\n",
       "      <th>Resurrect</th>\n",
       "      <th>RemainDormant</th>\n",
       "    </tr>\n",
       "  </thead>\n",
       "  <tbody>\n",
       "    <tr>\n",
       "      <th>5</th>\n",
       "      <td>633764.210552</td>\n",
       "      <td>2.912371e+06</td>\n",
       "      <td>0.000000e+00</td>\n",
       "      <td>0.000000e+00</td>\n",
       "      <td>0.000000</td>\n",
       "      <td>0.000000e+00</td>\n",
       "    </tr>\n",
       "    <tr>\n",
       "      <th>6</th>\n",
       "      <td>601476.403042</td>\n",
       "      <td>3.228781e+04</td>\n",
       "      <td>1.820456e+06</td>\n",
       "      <td>1.091916e+06</td>\n",
       "      <td>0.000000</td>\n",
       "      <td>0.000000e+00</td>\n",
       "    </tr>\n",
       "    <tr>\n",
       "      <th>7</th>\n",
       "      <td>585290.521920</td>\n",
       "      <td>1.618588e+04</td>\n",
       "      <td>1.311353e+06</td>\n",
       "      <td>5.413904e+05</td>\n",
       "      <td>117837.772873</td>\n",
       "      <td>9.740779e+05</td>\n",
       "    </tr>\n",
       "    <tr>\n",
       "      <th>8</th>\n",
       "      <td>575095.955795</td>\n",
       "      <td>1.019457e+04</td>\n",
       "      <td>1.126999e+06</td>\n",
       "      <td>3.183773e+05</td>\n",
       "      <td>144254.828226</td>\n",
       "      <td>1.371213e+06</td>\n",
       "    </tr>\n",
       "    <tr>\n",
       "      <th>9</th>\n",
       "      <td>567621.028161</td>\n",
       "      <td>7.474928e+03</td>\n",
       "      <td>1.030221e+06</td>\n",
       "      <td>2.512275e+05</td>\n",
       "      <td>142898.555069</td>\n",
       "      <td>1.546692e+06</td>\n",
       "    </tr>\n",
       "    <tr>\n",
       "      <th>10</th>\n",
       "      <td>561682.174389</td>\n",
       "      <td>5.938854e+03</td>\n",
       "      <td>9.573658e+05</td>\n",
       "      <td>2.232288e+05</td>\n",
       "      <td>136587.196367</td>\n",
       "      <td>1.661333e+06</td>\n",
       "    </tr>\n",
       "    <tr>\n",
       "      <th>11</th>\n",
       "      <td>556642.248512</td>\n",
       "      <td>5.039926e+03</td>\n",
       "      <td>9.045346e+05</td>\n",
       "      <td>1.953572e+05</td>\n",
       "      <td>132986.933422</td>\n",
       "      <td>1.751574e+06</td>\n",
       "    </tr>\n",
       "    <tr>\n",
       "      <th>12</th>\n",
       "      <td>552299.855622</td>\n",
       "      <td>4.342393e+03</td>\n",
       "      <td>8.634499e+05</td>\n",
       "      <td>1.791116e+05</td>\n",
       "      <td>128976.856768</td>\n",
       "      <td>1.817955e+06</td>\n",
       "    </tr>\n",
       "    <tr>\n",
       "      <th>13</th>\n",
       "      <td>548459.010485</td>\n",
       "      <td>3.840845e+03</td>\n",
       "      <td>8.314236e+05</td>\n",
       "      <td>1.653456e+05</td>\n",
       "      <td>125118.706594</td>\n",
       "      <td>1.871948e+06</td>\n",
       "    </tr>\n",
       "    <tr>\n",
       "      <th>14</th>\n",
       "      <td>545071.885741</td>\n",
       "      <td>3.387125e+03</td>\n",
       "      <td>8.015037e+05</td>\n",
       "      <td>1.588794e+05</td>\n",
       "      <td>120722.883506</td>\n",
       "      <td>1.916570e+06</td>\n",
       "    </tr>\n",
       "    <tr>\n",
       "      <th>15</th>\n",
       "      <td>541986.402550</td>\n",
       "      <td>3.085483e+03</td>\n",
       "      <td>7.771054e+05</td>\n",
       "      <td>1.485084e+05</td>\n",
       "      <td>117504.732728</td>\n",
       "      <td>1.957945e+06</td>\n",
       "    </tr>\n",
       "    <tr>\n",
       "      <th>16</th>\n",
       "      <td>539136.722287</td>\n",
       "      <td>2.849680e+03</td>\n",
       "      <td>7.560227e+05</td>\n",
       "      <td>1.416729e+05</td>\n",
       "      <td>114378.014186</td>\n",
       "      <td>1.992075e+06</td>\n",
       "    </tr>\n",
       "    <tr>\n",
       "      <th>17</th>\n",
       "      <td>536503.156266</td>\n",
       "      <td>2.633566e+03</td>\n",
       "      <td>7.383827e+05</td>\n",
       "      <td>1.348677e+05</td>\n",
       "      <td>111823.277994</td>\n",
       "      <td>2.021925e+06</td>\n",
       "    </tr>\n",
       "    <tr>\n",
       "      <th>18</th>\n",
       "      <td>534054.714205</td>\n",
       "      <td>2.448442e+03</td>\n",
       "      <td>7.218120e+05</td>\n",
       "      <td>1.310275e+05</td>\n",
       "      <td>108642.259570</td>\n",
       "      <td>2.048150e+06</td>\n",
       "    </tr>\n",
       "    <tr>\n",
       "      <th>19</th>\n",
       "      <td>531760.091303</td>\n",
       "      <td>2.294623e+03</td>\n",
       "      <td>7.045005e+05</td>\n",
       "      <td>1.284022e+05</td>\n",
       "      <td>105898.185570</td>\n",
       "      <td>2.073280e+06</td>\n",
       "    </tr>\n",
       "    <tr>\n",
       "      <th>20</th>\n",
       "      <td>529647.614946</td>\n",
       "      <td>2.112476e+03</td>\n",
       "      <td>6.889826e+05</td>\n",
       "      <td>1.237107e+05</td>\n",
       "      <td>103596.130453</td>\n",
       "      <td>2.098086e+06</td>\n",
       "    </tr>\n",
       "    <tr>\n",
       "      <th>21</th>\n",
       "      <td>527635.720718</td>\n",
       "      <td>2.011894e+03</td>\n",
       "      <td>6.760979e+05</td>\n",
       "      <td>1.185933e+05</td>\n",
       "      <td>101959.167833</td>\n",
       "      <td>2.119837e+06</td>\n",
       "    </tr>\n",
       "    <tr>\n",
       "      <th>22</th>\n",
       "      <td>525732.921514</td>\n",
       "      <td>1.902799e+03</td>\n",
       "      <td>6.655017e+05</td>\n",
       "      <td>1.145673e+05</td>\n",
       "      <td>100019.679901</td>\n",
       "      <td>2.138411e+06</td>\n",
       "    </tr>\n",
       "    <tr>\n",
       "      <th>23</th>\n",
       "      <td>524893.908097</td>\n",
       "      <td>8.390134e+02</td>\n",
       "      <td>6.675902e+05</td>\n",
       "      <td>9.983396e+04</td>\n",
       "      <td>77319.588261</td>\n",
       "      <td>2.175659e+06</td>\n",
       "    </tr>\n",
       "    <tr>\n",
       "      <th>24</th>\n",
       "      <td>524056.233655</td>\n",
       "      <td>8.376744e+02</td>\n",
       "      <td>6.487346e+05</td>\n",
       "      <td>9.701422e+04</td>\n",
       "      <td>78092.255117</td>\n",
       "      <td>2.197400e+06</td>\n",
       "    </tr>\n",
       "    <tr>\n",
       "      <th>25</th>\n",
       "      <td>523219.896052</td>\n",
       "      <td>8.363376e+02</td>\n",
       "      <td>6.330029e+05</td>\n",
       "      <td>9.466164e+04</td>\n",
       "      <td>78741.634765</td>\n",
       "      <td>2.215673e+06</td>\n",
       "    </tr>\n",
       "    <tr>\n",
       "      <th>26</th>\n",
       "      <td>522384.893154</td>\n",
       "      <td>8.350029e+02</td>\n",
       "      <td>6.198814e+05</td>\n",
       "      <td>9.269941e+04</td>\n",
       "      <td>79287.990694</td>\n",
       "      <td>2.231047e+06</td>\n",
       "    </tr>\n",
       "    <tr>\n",
       "      <th>27</th>\n",
       "      <td>521551.222832</td>\n",
       "      <td>8.336703e+02</td>\n",
       "      <td>6.089411e+05</td>\n",
       "      <td>9.106335e+04</td>\n",
       "      <td>79748.254912</td>\n",
       "      <td>2.243998e+06</td>\n",
       "    </tr>\n",
       "    <tr>\n",
       "      <th>28</th>\n",
       "      <td>520718.882957</td>\n",
       "      <td>8.323399e+02</td>\n",
       "      <td>5.998232e+05</td>\n",
       "      <td>8.969982e+04</td>\n",
       "      <td>80136.575668</td>\n",
       "      <td>2.254925e+06</td>\n",
       "    </tr>\n",
       "    <tr>\n",
       "      <th>29</th>\n",
       "      <td>519887.871408</td>\n",
       "      <td>8.310115e+02</td>\n",
       "      <td>5.922281e+05</td>\n",
       "      <td>8.856402e+04</td>\n",
       "      <td>80464.775132</td>\n",
       "      <td>2.264160e+06</td>\n",
       "    </tr>\n",
       "    <tr>\n",
       "      <th>30</th>\n",
       "      <td>519058.186065</td>\n",
       "      <td>8.296853e+02</td>\n",
       "      <td>5.859054e+05</td>\n",
       "      <td>8.761850e+04</td>\n",
       "      <td>80742.731815</td>\n",
       "      <td>2.271981e+06</td>\n",
       "    </tr>\n",
       "    <tr>\n",
       "      <th>31</th>\n",
       "      <td>518229.824810</td>\n",
       "      <td>8.283613e+02</td>\n",
       "      <td>5.806458e+05</td>\n",
       "      <td>8.683197e+04</td>\n",
       "      <td>80978.700127</td>\n",
       "      <td>2.278621e+06</td>\n",
       "    </tr>\n",
       "    <tr>\n",
       "      <th>32</th>\n",
       "      <td>517402.785531</td>\n",
       "      <td>8.270393e+02</td>\n",
       "      <td>5.762746e+05</td>\n",
       "      <td>8.617828e+04</td>\n",
       "      <td>81179.577393</td>\n",
       "      <td>2.284273e+06</td>\n",
       "    </tr>\n",
       "    <tr>\n",
       "      <th>33</th>\n",
       "      <td>516577.066119</td>\n",
       "      <td>8.257194e+02</td>\n",
       "      <td>5.726456e+05</td>\n",
       "      <td>8.563559e+04</td>\n",
       "      <td>81351.126967</td>\n",
       "      <td>2.289100e+06</td>\n",
       "    </tr>\n",
       "    <tr>\n",
       "      <th>34</th>\n",
       "      <td>515752.664466</td>\n",
       "      <td>8.244017e+02</td>\n",
       "      <td>5.696368e+05</td>\n",
       "      <td>8.518564e+04</td>\n",
       "      <td>81498.164671</td>\n",
       "      <td>2.293238e+06</td>\n",
       "    </tr>\n",
       "    <tr>\n",
       "      <th>...</th>\n",
       "      <td>...</td>\n",
       "      <td>...</td>\n",
       "      <td>...</td>\n",
       "      <td>...</td>\n",
       "      <td>...</td>\n",
       "      <td>...</td>\n",
       "    </tr>\n",
       "    <tr>\n",
       "      <th>45</th>\n",
       "      <td>506770.619358</td>\n",
       "      <td>8.100444e+02</td>\n",
       "      <td>5.574061e+05</td>\n",
       "      <td>8.335661e+04</td>\n",
       "      <td>82289.424598</td>\n",
       "      <td>2.315503e+06</td>\n",
       "    </tr>\n",
       "    <tr>\n",
       "      <th>46</th>\n",
       "      <td>505961.867743</td>\n",
       "      <td>8.087516e+02</td>\n",
       "      <td>5.571824e+05</td>\n",
       "      <td>8.332316e+04</td>\n",
       "      <td>82326.049306</td>\n",
       "      <td>2.316533e+06</td>\n",
       "    </tr>\n",
       "    <tr>\n",
       "      <th>47</th>\n",
       "      <td>505154.406809</td>\n",
       "      <td>8.074609e+02</td>\n",
       "      <td>5.570186e+05</td>\n",
       "      <td>8.329866e+04</td>\n",
       "      <td>82360.269064</td>\n",
       "      <td>2.317496e+06</td>\n",
       "    </tr>\n",
       "    <tr>\n",
       "      <th>48</th>\n",
       "      <td>504348.234497</td>\n",
       "      <td>8.061723e+02</td>\n",
       "      <td>5.569047e+05</td>\n",
       "      <td>8.328163e+04</td>\n",
       "      <td>82392.473495</td>\n",
       "      <td>2.318402e+06</td>\n",
       "    </tr>\n",
       "    <tr>\n",
       "      <th>49</th>\n",
       "      <td>503543.348749</td>\n",
       "      <td>8.048857e+02</td>\n",
       "      <td>5.568325e+05</td>\n",
       "      <td>8.327083e+04</td>\n",
       "      <td>82422.988174</td>\n",
       "      <td>2.319261e+06</td>\n",
       "    </tr>\n",
       "    <tr>\n",
       "      <th>50</th>\n",
       "      <td>502739.747512</td>\n",
       "      <td>8.036012e+02</td>\n",
       "      <td>5.567951e+05</td>\n",
       "      <td>8.326524e+04</td>\n",
       "      <td>82452.085158</td>\n",
       "      <td>2.320080e+06</td>\n",
       "    </tr>\n",
       "    <tr>\n",
       "      <th>51</th>\n",
       "      <td>501937.428737</td>\n",
       "      <td>8.023188e+02</td>\n",
       "      <td>5.567868e+05</td>\n",
       "      <td>8.326400e+04</td>\n",
       "      <td>82479.991783</td>\n",
       "      <td>2.320865e+06</td>\n",
       "    </tr>\n",
       "    <tr>\n",
       "      <th>52</th>\n",
       "      <td>501136.390377</td>\n",
       "      <td>8.010384e+02</td>\n",
       "      <td>5.568027e+05</td>\n",
       "      <td>8.326638e+04</td>\n",
       "      <td>82506.898020</td>\n",
       "      <td>2.321622e+06</td>\n",
       "    </tr>\n",
       "    <tr>\n",
       "      <th>53</th>\n",
       "      <td>500336.630388</td>\n",
       "      <td>7.997600e+02</td>\n",
       "      <td>5.568389e+05</td>\n",
       "      <td>8.327179e+04</td>\n",
       "      <td>82532.962615</td>\n",
       "      <td>2.322355e+06</td>\n",
       "    </tr>\n",
       "    <tr>\n",
       "      <th>54</th>\n",
       "      <td>499538.146731</td>\n",
       "      <td>7.984837e+02</td>\n",
       "      <td>5.568919e+05</td>\n",
       "      <td>8.327971e+04</td>\n",
       "      <td>82558.318226</td>\n",
       "      <td>2.323069e+06</td>\n",
       "    </tr>\n",
       "    <tr>\n",
       "      <th>55</th>\n",
       "      <td>498740.937367</td>\n",
       "      <td>7.972094e+02</td>\n",
       "      <td>5.569589e+05</td>\n",
       "      <td>8.328974e+04</td>\n",
       "      <td>82583.075708</td>\n",
       "      <td>2.323765e+06</td>\n",
       "    </tr>\n",
       "    <tr>\n",
       "      <th>56</th>\n",
       "      <td>497945.000265</td>\n",
       "      <td>7.959371e+02</td>\n",
       "      <td>5.570377e+05</td>\n",
       "      <td>8.330152e+04</td>\n",
       "      <td>82607.327700</td>\n",
       "      <td>2.324448e+06</td>\n",
       "    </tr>\n",
       "    <tr>\n",
       "      <th>57</th>\n",
       "      <td>497150.333393</td>\n",
       "      <td>7.946669e+02</td>\n",
       "      <td>5.571262e+05</td>\n",
       "      <td>8.331476e+04</td>\n",
       "      <td>82631.151620</td>\n",
       "      <td>2.325118e+06</td>\n",
       "    </tr>\n",
       "    <tr>\n",
       "      <th>58</th>\n",
       "      <td>496356.934724</td>\n",
       "      <td>7.933987e+02</td>\n",
       "      <td>5.572228e+05</td>\n",
       "      <td>8.332921e+04</td>\n",
       "      <td>82654.612167</td>\n",
       "      <td>2.325778e+06</td>\n",
       "    </tr>\n",
       "    <tr>\n",
       "      <th>59</th>\n",
       "      <td>495564.802234</td>\n",
       "      <td>7.921325e+02</td>\n",
       "      <td>5.573262e+05</td>\n",
       "      <td>8.334466e+04</td>\n",
       "      <td>82677.763411</td>\n",
       "      <td>2.326430e+06</td>\n",
       "    </tr>\n",
       "    <tr>\n",
       "      <th>60</th>\n",
       "      <td>494773.933903</td>\n",
       "      <td>7.908683e+02</td>\n",
       "      <td>5.574351e+05</td>\n",
       "      <td>8.336095e+04</td>\n",
       "      <td>82700.650543</td>\n",
       "      <td>2.327074e+06</td>\n",
       "    </tr>\n",
       "    <tr>\n",
       "      <th>61</th>\n",
       "      <td>493984.327713</td>\n",
       "      <td>7.896062e+02</td>\n",
       "      <td>5.575487e+05</td>\n",
       "      <td>8.337794e+04</td>\n",
       "      <td>82723.311331</td>\n",
       "      <td>2.327712e+06</td>\n",
       "    </tr>\n",
       "    <tr>\n",
       "      <th>62</th>\n",
       "      <td>493195.981650</td>\n",
       "      <td>7.883461e+02</td>\n",
       "      <td>5.576661e+05</td>\n",
       "      <td>8.339550e+04</td>\n",
       "      <td>82745.777345</td>\n",
       "      <td>2.328344e+06</td>\n",
       "    </tr>\n",
       "    <tr>\n",
       "      <th>63</th>\n",
       "      <td>492408.893703</td>\n",
       "      <td>7.870879e+02</td>\n",
       "      <td>5.577867e+05</td>\n",
       "      <td>8.341353e+04</td>\n",
       "      <td>82768.074973</td>\n",
       "      <td>2.328971e+06</td>\n",
       "    </tr>\n",
       "    <tr>\n",
       "      <th>64</th>\n",
       "      <td>491623.061864</td>\n",
       "      <td>7.858318e+02</td>\n",
       "      <td>5.579099e+05</td>\n",
       "      <td>8.343196e+04</td>\n",
       "      <td>82790.226272</td>\n",
       "      <td>2.329594e+06</td>\n",
       "    </tr>\n",
       "    <tr>\n",
       "      <th>65</th>\n",
       "      <td>490838.484128</td>\n",
       "      <td>7.845777e+02</td>\n",
       "      <td>5.580353e+05</td>\n",
       "      <td>8.345070e+04</td>\n",
       "      <td>82812.249684</td>\n",
       "      <td>2.330214e+06</td>\n",
       "    </tr>\n",
       "    <tr>\n",
       "      <th>66</th>\n",
       "      <td>490055.158495</td>\n",
       "      <td>7.833256e+02</td>\n",
       "      <td>5.581624e+05</td>\n",
       "      <td>8.346971e+04</td>\n",
       "      <td>82834.160626</td>\n",
       "      <td>2.330831e+06</td>\n",
       "    </tr>\n",
       "    <tr>\n",
       "      <th>67</th>\n",
       "      <td>489273.082965</td>\n",
       "      <td>7.820755e+02</td>\n",
       "      <td>5.582909e+05</td>\n",
       "      <td>8.348894e+04</td>\n",
       "      <td>82855.971990</td>\n",
       "      <td>2.331444e+06</td>\n",
       "    </tr>\n",
       "    <tr>\n",
       "      <th>68</th>\n",
       "      <td>488492.255543</td>\n",
       "      <td>7.808274e+02</td>\n",
       "      <td>5.584207e+05</td>\n",
       "      <td>8.350833e+04</td>\n",
       "      <td>82877.694558</td>\n",
       "      <td>2.332056e+06</td>\n",
       "    </tr>\n",
       "    <tr>\n",
       "      <th>69</th>\n",
       "      <td>487712.674239</td>\n",
       "      <td>7.795813e+02</td>\n",
       "      <td>5.585513e+05</td>\n",
       "      <td>8.352787e+04</td>\n",
       "      <td>82899.337347</td>\n",
       "      <td>2.332665e+06</td>\n",
       "    </tr>\n",
       "    <tr>\n",
       "      <th>70</th>\n",
       "      <td>486934.337063</td>\n",
       "      <td>7.783372e+02</td>\n",
       "      <td>5.586827e+05</td>\n",
       "      <td>8.354752e+04</td>\n",
       "      <td>82920.907902</td>\n",
       "      <td>2.333272e+06</td>\n",
       "    </tr>\n",
       "    <tr>\n",
       "      <th>71</th>\n",
       "      <td>486157.242030</td>\n",
       "      <td>7.770950e+02</td>\n",
       "      <td>5.588147e+05</td>\n",
       "      <td>8.356726e+04</td>\n",
       "      <td>82942.412535</td>\n",
       "      <td>2.333877e+06</td>\n",
       "    </tr>\n",
       "    <tr>\n",
       "      <th>72</th>\n",
       "      <td>485381.387157</td>\n",
       "      <td>7.758549e+02</td>\n",
       "      <td>5.589471e+05</td>\n",
       "      <td>8.358706e+04</td>\n",
       "      <td>82963.856530</td>\n",
       "      <td>2.334480e+06</td>\n",
       "    </tr>\n",
       "    <tr>\n",
       "      <th>73</th>\n",
       "      <td>484606.770465</td>\n",
       "      <td>7.746167e+02</td>\n",
       "      <td>5.590799e+05</td>\n",
       "      <td>8.360692e+04</td>\n",
       "      <td>82985.244311</td>\n",
       "      <td>2.335082e+06</td>\n",
       "    </tr>\n",
       "    <tr>\n",
       "      <th>74</th>\n",
       "      <td>483833.389979</td>\n",
       "      <td>7.733805e+02</td>\n",
       "      <td>5.592130e+05</td>\n",
       "      <td>8.362682e+04</td>\n",
       "      <td>83006.579583</td>\n",
       "      <td>2.335682e+06</td>\n",
       "    </tr>\n",
       "  </tbody>\n",
       "</table>\n",
       "<p>70 rows × 6 columns</p>\n",
       "</div>"
      ],
      "text/plain": [
       "        RemainFTA      Activate        Retain         Churn      Resurrect  \\\n",
       "5   633764.210552  2.912371e+06  0.000000e+00  0.000000e+00       0.000000   \n",
       "6   601476.403042  3.228781e+04  1.820456e+06  1.091916e+06       0.000000   \n",
       "7   585290.521920  1.618588e+04  1.311353e+06  5.413904e+05  117837.772873   \n",
       "8   575095.955795  1.019457e+04  1.126999e+06  3.183773e+05  144254.828226   \n",
       "9   567621.028161  7.474928e+03  1.030221e+06  2.512275e+05  142898.555069   \n",
       "10  561682.174389  5.938854e+03  9.573658e+05  2.232288e+05  136587.196367   \n",
       "11  556642.248512  5.039926e+03  9.045346e+05  1.953572e+05  132986.933422   \n",
       "12  552299.855622  4.342393e+03  8.634499e+05  1.791116e+05  128976.856768   \n",
       "13  548459.010485  3.840845e+03  8.314236e+05  1.653456e+05  125118.706594   \n",
       "14  545071.885741  3.387125e+03  8.015037e+05  1.588794e+05  120722.883506   \n",
       "15  541986.402550  3.085483e+03  7.771054e+05  1.485084e+05  117504.732728   \n",
       "16  539136.722287  2.849680e+03  7.560227e+05  1.416729e+05  114378.014186   \n",
       "17  536503.156266  2.633566e+03  7.383827e+05  1.348677e+05  111823.277994   \n",
       "18  534054.714205  2.448442e+03  7.218120e+05  1.310275e+05  108642.259570   \n",
       "19  531760.091303  2.294623e+03  7.045005e+05  1.284022e+05  105898.185570   \n",
       "20  529647.614946  2.112476e+03  6.889826e+05  1.237107e+05  103596.130453   \n",
       "21  527635.720718  2.011894e+03  6.760979e+05  1.185933e+05  101959.167833   \n",
       "22  525732.921514  1.902799e+03  6.655017e+05  1.145673e+05  100019.679901   \n",
       "23  524893.908097  8.390134e+02  6.675902e+05  9.983396e+04   77319.588261   \n",
       "24  524056.233655  8.376744e+02  6.487346e+05  9.701422e+04   78092.255117   \n",
       "25  523219.896052  8.363376e+02  6.330029e+05  9.466164e+04   78741.634765   \n",
       "26  522384.893154  8.350029e+02  6.198814e+05  9.269941e+04   79287.990694   \n",
       "27  521551.222832  8.336703e+02  6.089411e+05  9.106335e+04   79748.254912   \n",
       "28  520718.882957  8.323399e+02  5.998232e+05  8.969982e+04   80136.575668   \n",
       "29  519887.871408  8.310115e+02  5.922281e+05  8.856402e+04   80464.775132   \n",
       "30  519058.186065  8.296853e+02  5.859054e+05  8.761850e+04   80742.731815   \n",
       "31  518229.824810  8.283613e+02  5.806458e+05  8.683197e+04   80978.700127   \n",
       "32  517402.785531  8.270393e+02  5.762746e+05  8.617828e+04   81179.577393   \n",
       "33  516577.066119  8.257194e+02  5.726456e+05  8.563559e+04   81351.126967   \n",
       "34  515752.664466  8.244017e+02  5.696368e+05  8.518564e+04   81498.164671   \n",
       "..            ...           ...           ...           ...            ...   \n",
       "45  506770.619358  8.100444e+02  5.574061e+05  8.335661e+04   82289.424598   \n",
       "46  505961.867743  8.087516e+02  5.571824e+05  8.332316e+04   82326.049306   \n",
       "47  505154.406809  8.074609e+02  5.570186e+05  8.329866e+04   82360.269064   \n",
       "48  504348.234497  8.061723e+02  5.569047e+05  8.328163e+04   82392.473495   \n",
       "49  503543.348749  8.048857e+02  5.568325e+05  8.327083e+04   82422.988174   \n",
       "50  502739.747512  8.036012e+02  5.567951e+05  8.326524e+04   82452.085158   \n",
       "51  501937.428737  8.023188e+02  5.567868e+05  8.326400e+04   82479.991783   \n",
       "52  501136.390377  8.010384e+02  5.568027e+05  8.326638e+04   82506.898020   \n",
       "53  500336.630388  7.997600e+02  5.568389e+05  8.327179e+04   82532.962615   \n",
       "54  499538.146731  7.984837e+02  5.568919e+05  8.327971e+04   82558.318226   \n",
       "55  498740.937367  7.972094e+02  5.569589e+05  8.328974e+04   82583.075708   \n",
       "56  497945.000265  7.959371e+02  5.570377e+05  8.330152e+04   82607.327700   \n",
       "57  497150.333393  7.946669e+02  5.571262e+05  8.331476e+04   82631.151620   \n",
       "58  496356.934724  7.933987e+02  5.572228e+05  8.332921e+04   82654.612167   \n",
       "59  495564.802234  7.921325e+02  5.573262e+05  8.334466e+04   82677.763411   \n",
       "60  494773.933903  7.908683e+02  5.574351e+05  8.336095e+04   82700.650543   \n",
       "61  493984.327713  7.896062e+02  5.575487e+05  8.337794e+04   82723.311331   \n",
       "62  493195.981650  7.883461e+02  5.576661e+05  8.339550e+04   82745.777345   \n",
       "63  492408.893703  7.870879e+02  5.577867e+05  8.341353e+04   82768.074973   \n",
       "64  491623.061864  7.858318e+02  5.579099e+05  8.343196e+04   82790.226272   \n",
       "65  490838.484128  7.845777e+02  5.580353e+05  8.345070e+04   82812.249684   \n",
       "66  490055.158495  7.833256e+02  5.581624e+05  8.346971e+04   82834.160626   \n",
       "67  489273.082965  7.820755e+02  5.582909e+05  8.348894e+04   82855.971990   \n",
       "68  488492.255543  7.808274e+02  5.584207e+05  8.350833e+04   82877.694558   \n",
       "69  487712.674239  7.795813e+02  5.585513e+05  8.352787e+04   82899.337347   \n",
       "70  486934.337063  7.783372e+02  5.586827e+05  8.354752e+04   82920.907902   \n",
       "71  486157.242030  7.770950e+02  5.588147e+05  8.356726e+04   82942.412535   \n",
       "72  485381.387157  7.758549e+02  5.589471e+05  8.358706e+04   82963.856530   \n",
       "73  484606.770465  7.746167e+02  5.590799e+05  8.360692e+04   82985.244311   \n",
       "74  483833.389979  7.733805e+02  5.592130e+05  8.362682e+04   83006.579583   \n",
       "\n",
       "    RemainDormant  \n",
       "5    0.000000e+00  \n",
       "6    0.000000e+00  \n",
       "7    9.740779e+05  \n",
       "8    1.371213e+06  \n",
       "9    1.546692e+06  \n",
       "10   1.661333e+06  \n",
       "11   1.751574e+06  \n",
       "12   1.817955e+06  \n",
       "13   1.871948e+06  \n",
       "14   1.916570e+06  \n",
       "15   1.957945e+06  \n",
       "16   1.992075e+06  \n",
       "17   2.021925e+06  \n",
       "18   2.048150e+06  \n",
       "19   2.073280e+06  \n",
       "20   2.098086e+06  \n",
       "21   2.119837e+06  \n",
       "22   2.138411e+06  \n",
       "23   2.175659e+06  \n",
       "24   2.197400e+06  \n",
       "25   2.215673e+06  \n",
       "26   2.231047e+06  \n",
       "27   2.243998e+06  \n",
       "28   2.254925e+06  \n",
       "29   2.264160e+06  \n",
       "30   2.271981e+06  \n",
       "31   2.278621e+06  \n",
       "32   2.284273e+06  \n",
       "33   2.289100e+06  \n",
       "34   2.293238e+06  \n",
       "..            ...  \n",
       "45   2.315503e+06  \n",
       "46   2.316533e+06  \n",
       "47   2.317496e+06  \n",
       "48   2.318402e+06  \n",
       "49   2.319261e+06  \n",
       "50   2.320080e+06  \n",
       "51   2.320865e+06  \n",
       "52   2.321622e+06  \n",
       "53   2.322355e+06  \n",
       "54   2.323069e+06  \n",
       "55   2.323765e+06  \n",
       "56   2.324448e+06  \n",
       "57   2.325118e+06  \n",
       "58   2.325778e+06  \n",
       "59   2.326430e+06  \n",
       "60   2.327074e+06  \n",
       "61   2.327712e+06  \n",
       "62   2.328344e+06  \n",
       "63   2.328971e+06  \n",
       "64   2.329594e+06  \n",
       "65   2.330214e+06  \n",
       "66   2.330831e+06  \n",
       "67   2.331444e+06  \n",
       "68   2.332056e+06  \n",
       "69   2.332665e+06  \n",
       "70   2.333272e+06  \n",
       "71   2.333877e+06  \n",
       "72   2.334480e+06  \n",
       "73   2.335082e+06  \n",
       "74   2.335682e+06  \n",
       "\n",
       "[70 rows x 6 columns]"
      ]
     },
     "execution_count": 89,
     "metadata": {},
     "output_type": "execute_result"
    }
   ],
   "source": [
    "a.add(pd.DataFrame([]), fill_value=0)"
   ]
  },
  {
   "cell_type": "code",
   "execution_count": null,
   "metadata": {
    "collapsed": true
   },
   "outputs": [],
   "source": []
  }
 ],
 "metadata": {
  "anaconda-cloud": {},
  "kernelspec": {
   "display_name": "Python [default]",
   "language": "python",
   "name": "python2"
  },
  "language_info": {
   "codemirror_mode": {
    "name": "ipython",
    "version": 2
   },
   "file_extension": ".py",
   "mimetype": "text/x-python",
   "name": "python",
   "nbconvert_exporter": "python",
   "pygments_lexer": "ipython2",
   "version": "2.7.12"
  }
 },
 "nbformat": 4,
 "nbformat_minor": 0
}
